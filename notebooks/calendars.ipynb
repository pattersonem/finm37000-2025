{
 "cells": [
  {
   "cell_type": "markdown",
   "id": "87f7dadc-c3ab-462d-b65e-af5316509b5c",
   "metadata": {},
   "source": [
    "# Expiration Calendar and Calendar Spreads\n",
    "\n",
    "Different futures expirations provide ability to match timing of risks with hedges, but not all expirations have similar liquidity."
   ]
  },
  {
   "cell_type": "code",
   "execution_count": 1,
   "id": "2d77c0ebb5ba5995",
   "metadata": {
    "ExecuteTime": {
     "end_time": "2025-10-22T00:04:58.334498Z",
     "start_time": "2025-10-22T00:04:55.625848Z"
    }
   },
   "outputs": [
    {
     "data": {
      "text/plain": [
       "'/Users/ericpatterson/.venv/finm37000-2025-09-17/bin/python'"
      ]
     },
     "execution_count": 1,
     "metadata": {},
     "output_type": "execute_result"
    }
   ],
   "source": [
    "import datetime\n",
    "import sys\n",
    "from functools import reduce\n",
    "from itertools import cycle\n",
    "from zoneinfo import ZoneInfo\n",
    "\n",
    "import databento as db\n",
    "import pandas as pd\n",
    "import plotly.express as px\n",
    "import plotly.graph_objects as go\n",
    "from pandas.tseries.holiday import USFederalHolidayCalendar\n",
    "from pandas.tseries.offsets import CustomBusinessDay\n",
    "from plotly.subplots import make_subplots\n",
    "\n",
    "from finm37000 import (\n",
    "    as_ct,\n",
    "    get_all_legs_on,\n",
    "    get_cme_session_end,\n",
    "    get_databento_api_key,\n",
    "    get_official_stats,\n",
    "    make_ohlcv,\n",
    "    temp_env,\n",
    ")\n",
    "\n",
    "# Example with US Federal Holidays\n",
    "us_business = CustomBusinessDay(calendar=USFederalHolidayCalendar())\n",
    "\n",
    "px.defaults.color_discrete_sequence = px.colors.qualitative.Set3\n",
    "color_palette = cycle(px.defaults.color_discrete_sequence)\n",
    "\n",
    "tz_chicago = ZoneInfo(\"America/Chicago\")\n",
    "now = datetime.datetime.now(tz=tz_chicago)\n",
    "today = now.date()\n",
    "\n",
    "sys.executable"
   ]
  },
  {
   "cell_type": "code",
   "execution_count": 2,
   "id": "affc1438262940f8",
   "metadata": {
    "ExecuteTime": {
     "end_time": "2025-10-22T00:04:58.353789Z",
     "start_time": "2025-10-22T00:04:58.351330Z"
    }
   },
   "outputs": [],
   "source": [
    "with temp_env(DATABENTO_API_KEY=get_databento_api_key()):\n",
    "    client = db.Historical()"
   ]
  },
  {
   "cell_type": "markdown",
   "id": "88d219a9-f43e-450c-9996-e2301abb5ca1",
   "metadata": {},
   "source": "## Cleared Volume Across Time and Expiration"
  },
  {
   "cell_type": "code",
   "execution_count": 3,
   "id": "1e00ab2b9a5b9415",
   "metadata": {
    "ExecuteTime": {
     "end_time": "2025-10-22T00:04:58.365653Z",
     "start_time": "2025-10-22T00:04:58.363702Z"
    }
   },
   "outputs": [],
   "source": [
    "start_of_this_year = (datetime.date(2025, 1, 1) + us_business).date()\n",
    "start_of_next_year = (datetime.date(2026, 1, 1) + us_business).date()\n",
    "yesterday = today - 2 * us_business\n",
    "cme = \"GLBX.MDP3\"\n",
    "products = (\n",
    "    \"CL\",\n",
    "    \"GC\",\n",
    ")"
   ]
  },
  {
   "cell_type": "code",
   "execution_count": 4,
   "id": "5c439691751f7320",
   "metadata": {
    "ExecuteTime": {
     "end_time": "2025-10-22T00:05:13.012519Z",
     "start_time": "2025-10-22T00:04:58.369846Z"
    }
   },
   "outputs": [],
   "source": [
    "futures_data = {\n",
    "    product: get_all_legs_on(client, start_of_this_year, parent=f\"{product}.FUT\")\n",
    "    for product in products\n",
    "}"
   ]
  },
  {
   "cell_type": "code",
   "execution_count": 5,
   "id": "7d38810f977ab5a2",
   "metadata": {
    "ExecuteTime": {
     "end_time": "2025-10-22T00:05:15.694056Z",
     "start_time": "2025-10-22T00:05:15.689174Z"
    }
   },
   "outputs": [
    {
     "data": {
      "text/plain": [
       "{'CL': ('CLG5',\n",
       "  'CLH5',\n",
       "  'CLJ5',\n",
       "  'CLK5',\n",
       "  'CLM5',\n",
       "  'CLN5',\n",
       "  'CLQ5',\n",
       "  'CLU5',\n",
       "  'CLV5',\n",
       "  'CLX5',\n",
       "  'CLZ5',\n",
       "  'CLF6'),\n",
       " 'GC': ('GCF5', 'GCG5', 'GCH5', 'GCJ5', 'GCM5', 'GCQ5', 'GCV5', 'GCZ5')}"
      ]
     },
     "execution_count": 5,
     "metadata": {},
     "output_type": "execute_result"
    }
   ],
   "source": [
    "futures_groups = {\n",
    "    product: tuple(\n",
    "        df[df[\"expiration\"].dt.date < start_of_next_year]\n",
    "        .reset_index()[\"Symbol\"]\n",
    "        .unique(),\n",
    "    )\n",
    "    for product, (df, _) in futures_data.items()\n",
    "}\n",
    "futures_groups"
   ]
  },
  {
   "cell_type": "markdown",
   "id": "ca6cc5f71c034988",
   "metadata": {},
   "source": "Where are the other gold futures?"
  },
  {
   "cell_type": "code",
   "execution_count": 6,
   "id": "1f5b9a86658a7a03",
   "metadata": {
    "ExecuteTime": {
     "end_time": "2025-10-22T00:07:37.383271Z",
     "start_time": "2025-10-22T00:05:15.739409Z"
    }
   },
   "outputs": [
    {
     "name": "stderr",
     "output_type": "stream",
     "text": [
      "/var/folders/8y/2f_yzjcd2tz12vswl92n4vpw0000gp/T/ipykernel_6611/4153287623.py:2: BentoWarning: The streaming request contained one or more days which have reduced quality: 2025-09-17 (degraded), 2025-09-24 (degraded). See: https://databento.com/docs/api-reference-historical/metadata/metadata-get-dataset-condition\n",
      "  raw_stats = client.timeseries.get_range(\n"
     ]
    }
   ],
   "source": [
    "symbols = reduce(lambda x, y: x + y, futures_groups.values())\n",
    "raw_stats = client.timeseries.get_range(\n",
    "    dataset=cme,\n",
    "    schema=\"statistics\",\n",
    "    symbols=symbols,\n",
    "    start=start_of_this_year,\n",
    "    end=get_cme_session_end(yesterday),\n",
    ")"
   ]
  },
  {
   "cell_type": "code",
   "execution_count": 7,
   "id": "86d54e33bdb662e1",
   "metadata": {
    "ExecuteTime": {
     "end_time": "2025-10-22T00:07:40.596285Z",
     "start_time": "2025-10-22T00:07:37.436635Z"
    }
   },
   "outputs": [],
   "source": [
    "instrument_defs = pd.concat(\n",
    "    [df.reset_index() for _, df in futures_data.values()],\n",
    "    ignore_index=True,\n",
    ")\n",
    "stats = get_official_stats(raw_stats.to_df(), instrument_defs)"
   ]
  },
  {
   "cell_type": "code",
   "execution_count": 8,
   "id": "e5f43c1790906cec",
   "metadata": {
    "ExecuteTime": {
     "end_time": "2025-10-22T00:07:41.510923Z",
     "start_time": "2025-10-22T00:07:40.612815Z"
    }
   },
   "outputs": [
    {
     "data": {
      "application/vnd.plotly.v1+json": {
       "config": {
        "plotlyServerURL": "https://plot.ly"
       },
       "data": [
        {
         "line": {
          "color": "rgb(255,255,179)"
         },
         "name": "CLG5",
         "type": "scatter",
         "x": [
          "2024-12-31",
          "2025-01-02",
          "2025-01-03",
          "2025-01-06",
          "2025-01-07",
          "2025-01-08",
          "2025-01-09",
          "2025-01-10",
          "2025-01-13",
          "2025-01-14",
          "2025-01-15",
          "2025-01-16",
          "2025-01-17",
          "2025-01-21"
         ],
         "xaxis": "x",
         "y": {
          "bdata": "AAAAAJhzAkEAAAAACLUSQQAAAACgERJBAAAAAOitEkEAAAAAQO0QQQAAAACkDhRBAAAAAGgNCkEAAAAAgDMdQQAAAAA4IhxBAAAAACTxE0EAAAAAOJ4TQQAAAABghgNBAAAAAJBx+0AAAAAAQL/bQA==",
          "dtype": "f8"
         },
         "yaxis": "y"
        },
        {
         "line": {
          "color": "rgb(255,255,179)"
         },
         "name": "CLG5",
         "showlegend": false,
         "type": "scatter",
         "x": [
          "2024-12-31",
          "2025-01-02",
          "2025-01-03",
          "2025-01-06",
          "2025-01-07",
          "2025-01-08",
          "2025-01-09",
          "2025-01-10",
          "2025-01-13",
          "2025-01-14",
          "2025-01-15",
          "2025-01-16",
          "2025-01-17",
          "2025-01-21"
         ],
         "xaxis": "x2",
         "y": {
          "bdata": "AAAAAFjKFEEAAAAAAOUTQQAAAAAE+hJBAAAAAKg0EUEAAAAAkIcQQQAAAAAI1A1BAAAAALhGDEEAAAAAKMkIQQAAAADwGwJBAAAAABAs/EAAAAAAwHPzQAAAAAAAvOhAAAAAAIC00kAAAAAAAMq/QA==",
          "dtype": "f8"
         },
         "yaxis": "y2"
        },
        {
         "line": {
          "color": "rgb(190,186,218)"
         },
         "name": "CLH5",
         "type": "scatter",
         "x": [
          "2024-12-31",
          "2025-01-02",
          "2025-01-03",
          "2025-01-06",
          "2025-01-07",
          "2025-01-08",
          "2025-01-09",
          "2025-01-10",
          "2025-01-13",
          "2025-01-14",
          "2025-01-15",
          "2025-01-16",
          "2025-01-17",
          "2025-01-21",
          "2025-01-22",
          "2025-01-23",
          "2025-01-24",
          "2025-01-27",
          "2025-01-28",
          "2025-01-29",
          "2025-01-30",
          "2025-01-31",
          "2025-02-03",
          "2025-02-04",
          "2025-02-05",
          "2025-02-06",
          "2025-02-07",
          "2025-02-10",
          "2025-02-11",
          "2025-02-12",
          "2025-02-13",
          "2025-02-14",
          "2025-02-18",
          "2025-02-19",
          "2025-02-20"
         ],
         "xaxis": "x",
         "y": {
          "bdata": "AAAAAIAR70AAAAAAsEYGQQAAAACo7wpBAAAAAKAUC0EAAAAAQAoHQQAAAABA6w9BAAAAAFjGA0EAAAAAkFwbQQAAAADwHR5BAAAAAFykFEEAAAAAWLUVQQAAAAAoeB1BAAAAAEh6FUEAAAAAzlshQQAAAAAUPxNBAAAAAIBnFUEAAAAA/IITQQAAAABIaRRBAAAAAOzmE0EAAAAAdBYTQQAAAABsiRRBAAAAADz4FkEAAAAAdJsfQQAAAACEpRtBAAAAALixEUEAAAAAdEASQQAAAACYtRBBAAAAACg+D0EAAAAADEkQQQAAAACsahNBAAAAANT6EEEAAAAAOFsJQQAAAACQ9/9AAAAAAEDZ8EAAAAAAwBTaQA==",
          "dtype": "f8"
         },
         "yaxis": "y"
        },
        {
         "line": {
          "color": "rgb(190,186,218)"
         },
         "name": "CLH5",
         "showlegend": false,
         "type": "scatter",
         "x": [
          "2024-12-31",
          "2025-01-02",
          "2025-01-03",
          "2025-01-06",
          "2025-01-07",
          "2025-01-08",
          "2025-01-09",
          "2025-01-10",
          "2025-01-13",
          "2025-01-14",
          "2025-01-15",
          "2025-01-16",
          "2025-01-17",
          "2025-01-21",
          "2025-01-22",
          "2025-01-23",
          "2025-01-24",
          "2025-01-27",
          "2025-01-28",
          "2025-01-29",
          "2025-01-30",
          "2025-01-31",
          "2025-02-03",
          "2025-02-04",
          "2025-02-05",
          "2025-02-06",
          "2025-02-07",
          "2025-02-10",
          "2025-02-11",
          "2025-02-12",
          "2025-02-13",
          "2025-02-14",
          "2025-02-18",
          "2025-02-19",
          "2025-02-20"
         ],
         "xaxis": "x2",
         "y": {
          "bdata": "AAAAAHBlDUEAAAAA2MUOQQAAAADIvBBBAAAAALhZEUEAAAAA1EsSQQAAAAAcpBNBAAAAABDIE0EAAAAAQEcVQQAAAADwHxVBAAAAAMj+FUEAAAAA9E4XQQAAAAAgkhZBAAAAAMzLFkEAAAAA5GwWQQAAAACoFhZBAAAAAOQbFUEAAAAAZG0UQQAAAADYLBRBAAAAAHgOFEEAAAAAlH4TQQAAAAD8CBNBAAAAAIi2EkEAAAAARNURQQAAAAA03RBBAAAAACRwEEEAAAAA6EoQQQAAAABwOg1BAAAAAFDQCUEAAAAAgOwFQQAAAABoGwJBAAAAANAU+0AAAAAAkDP0QAAAAABASuhAAAAAAID61EAAAAAAANq0QA==",
          "dtype": "f8"
         },
         "yaxis": "y2"
        },
        {
         "line": {
          "color": "rgb(251,128,114)"
         },
         "name": "CLJ5",
         "type": "scatter",
         "x": [
          "2024-12-31",
          "2025-01-02",
          "2025-01-03",
          "2025-01-06",
          "2025-01-07",
          "2025-01-08",
          "2025-01-09",
          "2025-01-10",
          "2025-01-13",
          "2025-01-14",
          "2025-01-15",
          "2025-01-16",
          "2025-01-17",
          "2025-01-21",
          "2025-01-22",
          "2025-01-23",
          "2025-01-24",
          "2025-01-27",
          "2025-01-28",
          "2025-01-29",
          "2025-01-30",
          "2025-01-31",
          "2025-02-03",
          "2025-02-04",
          "2025-02-05",
          "2025-02-06",
          "2025-02-07",
          "2025-02-10",
          "2025-02-11",
          "2025-02-12",
          "2025-02-13",
          "2025-02-14",
          "2025-02-18",
          "2025-02-19",
          "2025-02-20",
          "2025-02-21",
          "2025-02-24",
          "2025-02-25",
          "2025-02-26",
          "2025-02-27",
          "2025-02-28",
          "2025-03-03",
          "2025-03-04",
          "2025-03-05",
          "2025-03-06",
          "2025-03-07",
          "2025-03-10",
          "2025-03-11",
          "2025-03-12",
          "2025-03-13",
          "2025-03-14",
          "2025-03-17",
          "2025-03-18",
          "2025-03-19",
          "2025-03-20"
         ],
         "xaxis": "x",
         "y": {
          "bdata": "AAAAAIBh20AAAAAA4Kn3QAAAAAAgBf1AAAAAAPisAEEAAAAAgCf5QAAAAABg1f1AAAAAAHCh9EAAAAAAOBgQQQAAAABwzRRBAAAAANBQBkEAAAAAqBEHQQAAAAAIlgtBAAAAADhaAkEAAAAAiEcQQQAAAAAY/wNBAAAAACgyA0EAAAAAqMIBQQAAAADYKwNBAAAAANBXAkEAAAAA2DEDQQAAAACoJAZBAAAAAJiVB0EAAAAAiHESQQAAAAAI0A5BAAAAAIDuAkEAAAAAmBwFQQAAAABgQgNBAAAAALCVA0EAAAAAMN0HQQAAAABQEgtBAAAAAJjbCkEAAAAA+A4KQQAAAAD8exRBAAAAAOhPD0EAAAAA4E0NQQAAAADYYhBBAAAAAOAUCUEAAAAAuFAQQQAAAACIMw9BAAAAADQ7EEEAAAAA0IYOQQAAAAA8TxRBAAAAAPiaF0EAAAAAdFgXQQAAAAAA2hRBAAAAALgfFEEAAAAACHkOQQAAAAB4KQtBAAAAAJgcDkEAAAAAuGQQQQAAAAB4CAZBAAAAAJCwA0EAAAAAIPD6QAAAAABQ1/FAAAAAAECH2EA=",
          "dtype": "f8"
         },
         "yaxis": "y"
        },
        {
         "line": {
          "color": "rgb(251,128,114)"
         },
         "name": "CLJ5",
         "showlegend": false,
         "type": "scatter",
         "x": [
          "2024-12-31",
          "2025-01-02",
          "2025-01-03",
          "2025-01-06",
          "2025-01-07",
          "2025-01-08",
          "2025-01-09",
          "2025-01-10",
          "2025-01-13",
          "2025-01-14",
          "2025-01-15",
          "2025-01-16",
          "2025-01-17",
          "2025-01-21",
          "2025-01-22",
          "2025-01-23",
          "2025-01-24",
          "2025-01-27",
          "2025-01-28",
          "2025-01-29",
          "2025-01-30",
          "2025-01-31",
          "2025-02-03",
          "2025-02-04",
          "2025-02-05",
          "2025-02-06",
          "2025-02-07",
          "2025-02-10",
          "2025-02-11",
          "2025-02-12",
          "2025-02-13",
          "2025-02-14",
          "2025-02-18",
          "2025-02-19",
          "2025-02-20",
          "2025-02-21",
          "2025-02-24",
          "2025-02-25",
          "2025-02-26",
          "2025-02-27",
          "2025-02-28",
          "2025-03-03",
          "2025-03-04",
          "2025-03-05",
          "2025-03-06",
          "2025-03-07",
          "2025-03-10",
          "2025-03-11",
          "2025-03-12",
          "2025-03-13",
          "2025-03-14",
          "2025-03-17",
          "2025-03-18",
          "2025-03-19",
          "2025-03-20"
         ],
         "xaxis": "x2",
         "y": {
          "bdata": "AAAAAGDN/UAAAAAAABv/QAAAAAB4kQFBAAAAANgWAkEAAAAAOOkBQQAAAAD4+QJBAAAAAGC0A0EAAAAAyKoEQQAAAABQ7wJBAAAAADArAkEAAAAAmNADQQAAAACQvANBAAAAALB+BEEAAAAAUIwEQQAAAAAouwRBAAAAAEjVA0EAAAAAyAgFQQAAAABQvwRBAAAAAHADBEEAAAAAIMoCQQAAAAAwaANBAAAAANhMBEEAAAAASOwDQQAAAABgrQRBAAAAAPiLBUEAAAAAwKcGQQAAAADIaghBAAAAANChCkEAAAAAsD4NQQAAAACYXw9BAAAAAHy8EEEAAAAA0KoRQQAAAACgNhJBAAAAABhzEkEAAAAAnBkTQQAAAAC0XBNBAAAAABDuEkEAAAAAJLISQQAAAACcpxJBAAAAAMTAEUEAAAAAaLQQQQAAAAAsiBBBAAAAAICbEEEAAAAAGP8OQQAAAAAwMA1BAAAAAKDECkEAAAAAgGIJQQAAAABgmQZBAAAAADhgA0EAAAAAMGgAQQAAAAAQVfxAAAAAAPDB8kAAAAAAoOHlQAAAAABArNJAAAAAAACsqEA=",
          "dtype": "f8"
         },
         "yaxis": "y2"
        },
        {
         "line": {
          "color": "rgb(128,177,211)"
         },
         "name": "CLK5",
         "type": "scatter",
         "x": [
          "2024-12-31",
          "2025-01-02",
          "2025-01-03",
          "2025-01-06",
          "2025-01-07",
          "2025-01-08",
          "2025-01-09",
          "2025-01-10",
          "2025-01-13",
          "2025-01-14",
          "2025-01-15",
          "2025-01-16",
          "2025-01-17",
          "2025-01-21",
          "2025-01-22",
          "2025-01-23",
          "2025-01-24",
          "2025-01-27",
          "2025-01-28",
          "2025-01-29",
          "2025-01-30",
          "2025-01-31",
          "2025-02-03",
          "2025-02-04",
          "2025-02-05",
          "2025-02-06",
          "2025-02-07",
          "2025-02-10",
          "2025-02-11",
          "2025-02-12",
          "2025-02-13",
          "2025-02-14",
          "2025-02-18",
          "2025-02-19",
          "2025-02-20",
          "2025-02-21",
          "2025-02-24",
          "2025-02-25",
          "2025-02-26",
          "2025-02-27",
          "2025-02-28",
          "2025-03-03",
          "2025-03-04",
          "2025-03-05",
          "2025-03-06",
          "2025-03-07",
          "2025-03-10",
          "2025-03-11",
          "2025-03-12",
          "2025-03-13",
          "2025-03-14",
          "2025-03-17",
          "2025-03-18",
          "2025-03-19",
          "2025-03-20",
          "2025-03-21",
          "2025-03-24",
          "2025-03-25",
          "2025-03-26",
          "2025-03-27",
          "2025-03-28",
          "2025-03-31",
          "2025-04-01",
          "2025-04-02",
          "2025-04-03",
          "2025-04-04",
          "2025-04-07",
          "2025-04-08",
          "2025-04-09",
          "2025-04-10",
          "2025-04-11",
          "2025-04-14",
          "2025-04-15",
          "2025-04-16",
          "2025-04-17",
          "2025-04-18",
          "2025-04-21",
          "2025-04-22"
         ],
         "xaxis": "x",
         "y": {
          "bdata": "AAAAAECe0kAAAAAAYFbmQAAAAAAAQO1AAAAAAEB48UAAAAAA4BfvQAAAAAAg3uxAAAAAAGCl4kAAAAAA2CIDQQAAAACIWgpBAAAAAGCb+UAAAAAAIN37QAAAAAAYeABBAAAAAJAb9UAAAAAAKFoDQQAAAAAAz/dAAAAAADAY+EAAAAAAAEH0QAAAAAAwHfdAAAAAAHB9+UAAAAAA4An4QAAAAACAnPhAAAAAADCd+0AAAAAAcGYEQQAAAAB4YgFBAAAAAPDB8kAAAAAAwO71QAAAAADA3PRAAAAAAIDV80AAAAAAANf3QAAAAABgRPpAAAAAAJBc9kAAAAAAIFv4QAAAAABgTf1AAAAAALCn9UAAAAAAsLf6QAAAAABAQ/xAAAAAAHBa9UAAAAAAcH78QAAAAABQO/5AAAAAAECg/0AAAAAAAE39QAAAAAD4yAZBAAAAAJDrDEEAAAAACOkGQQAAAACI/gtBAAAAAPDzBkEAAAAAmCwFQQAAAADAcQBBAAAAAEheBUEAAAAASOEJQQAAAABwwQNBAAAAAIioCUEAAAAAcFQSQQAAAADUDxFBAAAAAMBLEUEAAAAAoEkIQQAAAACAJw5BAAAAAFiLD0EAAAAANAQQQQAAAACI2wlBAAAAANAbDkEAAAAA/BsTQQAAAAAApxBBAAAAAJR8EUEAAAAAmAccQQAAAAAsFCFBAAAAAOI8IkEAAAAArgQhQQAAAAD0EiJBAAAAAEjqF0EAAAAA3LASQQAAAACgDw1BAAAAAOAYCEEAAAAAUAYKQQAAAABwN/tAAAAAAAAAAAAAAAAA8C70QAAAAACAEOFA",
          "dtype": "f8"
         },
         "yaxis": "y"
        },
        {
         "line": {
          "color": "rgb(128,177,211)"
         },
         "name": "CLK5",
         "showlegend": false,
         "type": "scatter",
         "x": [
          "2024-12-31",
          "2025-01-02",
          "2025-01-03",
          "2025-01-06",
          "2025-01-07",
          "2025-01-08",
          "2025-01-09",
          "2025-01-10",
          "2025-01-13",
          "2025-01-14",
          "2025-01-15",
          "2025-01-16",
          "2025-01-17",
          "2025-01-21",
          "2025-01-22",
          "2025-01-23",
          "2025-01-24",
          "2025-01-27",
          "2025-01-28",
          "2025-01-29",
          "2025-01-30",
          "2025-01-31",
          "2025-02-03",
          "2025-02-04",
          "2025-02-05",
          "2025-02-06",
          "2025-02-07",
          "2025-02-10",
          "2025-02-11",
          "2025-02-12",
          "2025-02-13",
          "2025-02-14",
          "2025-02-18",
          "2025-02-19",
          "2025-02-20",
          "2025-02-21",
          "2025-02-24",
          "2025-02-25",
          "2025-02-26",
          "2025-02-27",
          "2025-02-28",
          "2025-03-03",
          "2025-03-04",
          "2025-03-05",
          "2025-03-06",
          "2025-03-07",
          "2025-03-10",
          "2025-03-11",
          "2025-03-12",
          "2025-03-13",
          "2025-03-14",
          "2025-03-17",
          "2025-03-18",
          "2025-03-19",
          "2025-03-20",
          "2025-03-21",
          "2025-03-24",
          "2025-03-25",
          "2025-03-26",
          "2025-03-27",
          "2025-03-28",
          "2025-03-31",
          "2025-04-01",
          "2025-04-02",
          "2025-04-03",
          "2025-04-04",
          "2025-04-07",
          "2025-04-08",
          "2025-04-09",
          "2025-04-10",
          "2025-04-11",
          "2025-04-14",
          "2025-04-15",
          "2025-04-16",
          "2025-04-17",
          "2025-04-18",
          "2025-04-21",
          "2025-04-22"
         ],
         "xaxis": "x2",
         "y": {
          "bdata": "AAAAAFAM9UAAAAAA4Dn2QAAAAACAjPZAAAAAAMAq90AAAAAAMIr2QAAAAACA1fZAAAAAANCh90AAAAAAcE75QAAAAACQVvlAAAAAAIAT+0AAAAAAABT8QAAAAABw4/tAAAAAAFBJ/UAAAAAAoKb/QAAAAADoGwBBAAAAALAy/kAAAAAAoHIAQQAAAADgb/9AAAAAACBl/UAAAAAAUCIAQQAAAABwAAFBAAAAABAPAUEAAAAAgB0AQQAAAAAAU/9AAAAAACgMAEEAAAAAsJQAQQAAAAAoagBBAAAAADizAEEAAAAAoCEAQQAAAAAIigBBAAAAADgUAUEAAAAA8DkCQQAAAACQrgJBAAAAAKhjA0EAAAAAQMQEQQAAAADoIQVBAAAAAFBoBUEAAAAAeN8FQQAAAACgRAZBAAAAALj8BkEAAAAA2AUIQQAAAACYGAlBAAAAALj7CEEAAAAAyOIJQQAAAACAvgtBAAAAALCkC0EAAAAAOLAMQQAAAABQEg1BAAAAAGAZD0EAAAAA5EURQQAAAAD0DBJBAAAAAJQRE0EAAAAAfDETQQAAAAAEmRNBAAAAAMiUFEEAAAAARB0UQQAAAADENhRBAAAAADz/E0EAAAAAfDkUQQAAAAAAKBRBAAAAAPgvFEEAAAAAoKQTQQAAAABMvRJBAAAAAMgtEkEAAAAApNwRQQAAAACATRFBAAAAAJiFD0EAAAAA2IcNQQAAAABgtAlBAAAAALjWBkEAAAAAGL8EQQAAAAAwyAFBAAAAAOBO/EAAAAAAwL/xQAAAAABA4eZAAAAAAEDh5kAAAAAAwEnTQAAAAAAAKbRA",
          "dtype": "f8"
         },
         "yaxis": "y2"
        },
        {
         "line": {
          "color": "rgb(253,180,98)"
         },
         "name": "CLM5",
         "type": "scatter",
         "x": [
          "2024-12-31",
          "2025-01-02",
          "2025-01-03",
          "2025-01-06",
          "2025-01-07",
          "2025-01-08",
          "2025-01-09",
          "2025-01-10",
          "2025-01-13",
          "2025-01-14",
          "2025-01-15",
          "2025-01-16",
          "2025-01-17",
          "2025-01-21",
          "2025-01-22",
          "2025-01-23",
          "2025-01-24",
          "2025-01-27",
          "2025-01-28",
          "2025-01-29",
          "2025-01-30",
          "2025-01-31",
          "2025-02-03",
          "2025-02-04",
          "2025-02-05",
          "2025-02-06",
          "2025-02-07",
          "2025-02-10",
          "2025-02-11",
          "2025-02-12",
          "2025-02-13",
          "2025-02-14",
          "2025-02-18",
          "2025-02-19",
          "2025-02-20",
          "2025-02-21",
          "2025-02-24",
          "2025-02-25",
          "2025-02-26",
          "2025-02-27",
          "2025-02-28",
          "2025-03-03",
          "2025-03-04",
          "2025-03-05",
          "2025-03-06",
          "2025-03-07",
          "2025-03-10",
          "2025-03-11",
          "2025-03-12",
          "2025-03-13",
          "2025-03-14",
          "2025-03-17",
          "2025-03-18",
          "2025-03-19",
          "2025-03-20",
          "2025-03-21",
          "2025-03-24",
          "2025-03-25",
          "2025-03-26",
          "2025-03-27",
          "2025-03-28",
          "2025-03-31",
          "2025-04-01",
          "2025-04-02",
          "2025-04-03",
          "2025-04-04",
          "2025-04-07",
          "2025-04-08",
          "2025-04-09",
          "2025-04-10",
          "2025-04-11",
          "2025-04-14",
          "2025-04-15",
          "2025-04-16",
          "2025-04-17",
          "2025-04-18",
          "2025-04-21",
          "2025-04-22",
          "2025-04-23",
          "2025-04-24",
          "2025-04-25",
          "2025-04-28",
          "2025-04-29",
          "2025-04-30",
          "2025-05-01",
          "2025-05-02",
          "2025-05-05",
          "2025-05-06",
          "2025-05-07",
          "2025-05-08",
          "2025-05-09",
          "2025-05-12",
          "2025-05-13",
          "2025-05-14",
          "2025-05-15",
          "2025-05-16",
          "2025-05-19",
          "2025-05-20"
         ],
         "xaxis": "x",
         "y": {
          "bdata": "AAAAAAAu20AAAAAAYJH0QAAAAACAIvRAAAAAALBM+0AAAAAAgNjzQAAAAAAQ1fZAAAAAAMAG60AAAAAA+DMNQQAAAABM6BBBAAAAADhHAkEAAAAAyB8EQQAAAADgdgdBAAAAACAB90AAAAAAEIIHQQAAAADgh/dAAAAAAEjVA0EAAAAAMKH3QAAAAAAgTfVAAAAAACBP90AAAAAAoHb4QAAAAAAgF/lAAAAAAIitAEEAAAAAQK4FQQAAAACQ6QNBAAAAALAG80AAAAAAYMv3QAAAAACw3fNAAAAAAGC28kAAAAAA4Nj0QAAAAABQG/dAAAAAADDO80AAAAAAANPyQAAAAAAQTPhAAAAAAIBO8kAAAAAAkBz1QAAAAADQgfVAAAAAAOA18UAAAAAAoGH1QAAAAACQOPZAAAAAABDZ+UAAAAAAYIz5QAAAAAAYTwNBAAAAACgWCkEAAAAAkAUCQQAAAAAolwVBAAAAAOAl/0AAAAAAYKv5QAAAAABQvfRAAAAAAKAs+0AAAAAAUMr6QAAAAAAg5fVAAAAAACA1/EAAAAAAMPIBQQAAAADwjP5AAAAAAHgFBUEAAAAAUAH8QAAAAADIOgRBAAAAANiOA0EAAAAA0HEEQQAAAACAOP5AAAAAAAi1AUEAAAAAQCIKQQAAAAC4JglBAAAAAJjhBkEAAAAAkFEUQQAAAADQwRZBAAAAAMS/GEEAAAAA9PgdQQAAAACsLxxBAAAAAIzhEkEAAAAAoDwOQQAAAADoWgtBAAAAAFg0CUEAAAAA+HwRQQAAAABgCRJBAAAAAAAAAAAAAAAAFPAQQQAAAAAgLxJBAAAAAERIGEEAAAAAMCsQQQAAAAC4URFBAAAAAFDaEEEAAAAA1BATQQAAAAB0mxlBAAAAAOA6FkEAAAAAwKgTQQAAAACM0hJBAAAAAFT9FEEAAAAAGAUSQQAAAACgJhFBAAAAAMBADUEAAAAApOMTQQAAAABYlw9BAAAAANCKC0EAAAAAIIsPQQAAAABArf1AAAAAACBV90AAAAAAwAXZQA==",
          "dtype": "f8"
         },
         "yaxis": "y"
        },
        {
         "line": {
          "color": "rgb(253,180,98)"
         },
         "name": "CLM5",
         "showlegend": false,
         "type": "scatter",
         "x": [
          "2024-12-31",
          "2025-01-02",
          "2025-01-03",
          "2025-01-06",
          "2025-01-07",
          "2025-01-08",
          "2025-01-09",
          "2025-01-10",
          "2025-01-13",
          "2025-01-14",
          "2025-01-15",
          "2025-01-16",
          "2025-01-17",
          "2025-01-21",
          "2025-01-22",
          "2025-01-23",
          "2025-01-24",
          "2025-01-27",
          "2025-01-28",
          "2025-01-29",
          "2025-01-30",
          "2025-01-31",
          "2025-02-03",
          "2025-02-04",
          "2025-02-05",
          "2025-02-06",
          "2025-02-07",
          "2025-02-10",
          "2025-02-11",
          "2025-02-12",
          "2025-02-13",
          "2025-02-14",
          "2025-02-18",
          "2025-02-19",
          "2025-02-20",
          "2025-02-21",
          "2025-02-24",
          "2025-02-25",
          "2025-02-26",
          "2025-02-27",
          "2025-02-28",
          "2025-03-03",
          "2025-03-04",
          "2025-03-05",
          "2025-03-06",
          "2025-03-07",
          "2025-03-10",
          "2025-03-11",
          "2025-03-12",
          "2025-03-13",
          "2025-03-14",
          "2025-03-17",
          "2025-03-18",
          "2025-03-19",
          "2025-03-20",
          "2025-03-21",
          "2025-03-24",
          "2025-03-25",
          "2025-03-26",
          "2025-03-27",
          "2025-03-28",
          "2025-03-31",
          "2025-04-01",
          "2025-04-02",
          "2025-04-03",
          "2025-04-04",
          "2025-04-07",
          "2025-04-08",
          "2025-04-09",
          "2025-04-10",
          "2025-04-11",
          "2025-04-14",
          "2025-04-15",
          "2025-04-16",
          "2025-04-17",
          "2025-04-18",
          "2025-04-21",
          "2025-04-22",
          "2025-04-23",
          "2025-04-24",
          "2025-04-25",
          "2025-04-28",
          "2025-04-29",
          "2025-04-30",
          "2025-05-01",
          "2025-05-02",
          "2025-05-05",
          "2025-05-06",
          "2025-05-07",
          "2025-05-08",
          "2025-05-09",
          "2025-05-12",
          "2025-05-13",
          "2025-05-14",
          "2025-05-15",
          "2025-05-16",
          "2025-05-19",
          "2025-05-20"
         ],
         "xaxis": "x2",
         "y": {
          "bdata": "AAAAAFBCBUEAAAAAaKoFQQAAAACQhgVBAAAAALg0BkEAAAAA0JgGQQAAAACoeAdBAAAAANgFB0EAAAAAcI0GQQAAAAAIEAVBAAAAACCOBUEAAAAAYK4FQQAAAACYOAVBAAAAAHD6BEEAAAAAwIgFQQAAAACoYQVBAAAAALhPBEEAAAAAKJYEQQAAAADwRwRBAAAAAMBABEEAAAAAYJgEQQAAAAAAdwVBAAAAAJDKBUEAAAAAuFEFQQAAAAB4LgVBAAAAAFj5BEEAAAAAkPQEQQAAAADoPQVBAAAAADBrBUEAAAAAAFUFQQAAAACY3wRBAAAAAHjoBEEAAAAAIGUFQQAAAACIgwVBAAAAANgHBkEAAAAA8B4GQQAAAAC4QgZBAAAAAMCTBkEAAAAAgLEGQQAAAABANwdBAAAAAGAIB0EAAAAAkDQHQQAAAAAAqwdBAAAAAPDMB0EAAAAAAIQIQQAAAACAvghBAAAAAMg6CEEAAAAAKKYIQQAAAAB4PAhBAAAAANjSB0EAAAAAyMkHQQAAAAA4jwhBAAAAAMgUCEEAAAAAgNcIQQAAAADYQAlBAAAAABAACEEAAAAA0FMIQQAAAAAYsghBAAAAAKCqCEEAAAAAAFoJQQAAAAD4DApBAAAAAAjICkEAAAAACCQMQQAAAADQSAxBAAAAAJgdDUEAAAAAWGINQQAAAACgmQ5BAAAAAGhvEEEAAAAAKEARQQAAAABcIhFBAAAAAOBfEUEAAAAAhL8RQQAAAACsOxJBAAAAAPCtEkEAAAAAFFoTQQAAAAD0whNBAAAAAPTCE0EAAAAAPDwTQQAAAACIyRJBAAAAAEhWEkEAAAAAVDgSQQAAAADgAhJBAAAAAJzKEUEAAAAAELYRQQAAAADYghJBAAAAAJAjEkEAAAAAiE0RQQAAAABsZRBBAAAAAGBrD0EAAAAAkPYLQQAAAADYyApBAAAAAOB3CEEAAAAAwC0GQQAAAABAwwJBAAAAAPiZAEEAAAAA8DjzQAAAAACApOdAAAAAAMA11EAAAAAAACixQA==",
          "dtype": "f8"
         },
         "yaxis": "y2"
        },
        {
         "line": {
          "color": "rgb(179,222,105)"
         },
         "name": "CLN5",
         "type": "scatter",
         "x": [
          "2024-12-31",
          "2025-01-02",
          "2025-01-03",
          "2025-01-06",
          "2025-01-07",
          "2025-01-08",
          "2025-01-09",
          "2025-01-10",
          "2025-01-13",
          "2025-01-14",
          "2025-01-15",
          "2025-01-16",
          "2025-01-17",
          "2025-01-21",
          "2025-01-22",
          "2025-01-23",
          "2025-01-24",
          "2025-01-27",
          "2025-01-28",
          "2025-01-29",
          "2025-01-30",
          "2025-01-31",
          "2025-02-03",
          "2025-02-04",
          "2025-02-05",
          "2025-02-06",
          "2025-02-07",
          "2025-02-10",
          "2025-02-11",
          "2025-02-12",
          "2025-02-13",
          "2025-02-14",
          "2025-02-18",
          "2025-02-19",
          "2025-02-20",
          "2025-02-21",
          "2025-02-24",
          "2025-02-25",
          "2025-02-26",
          "2025-02-27",
          "2025-02-28",
          "2025-03-03",
          "2025-03-04",
          "2025-03-05",
          "2025-03-06",
          "2025-03-07",
          "2025-03-10",
          "2025-03-11",
          "2025-03-12",
          "2025-03-13",
          "2025-03-14",
          "2025-03-17",
          "2025-03-18",
          "2025-03-19",
          "2025-03-20",
          "2025-03-21",
          "2025-03-24",
          "2025-03-25",
          "2025-03-26",
          "2025-03-27",
          "2025-03-28",
          "2025-03-31",
          "2025-04-01",
          "2025-04-02",
          "2025-04-03",
          "2025-04-04",
          "2025-04-07",
          "2025-04-08",
          "2025-04-09",
          "2025-04-10",
          "2025-04-11",
          "2025-04-14",
          "2025-04-15",
          "2025-04-16",
          "2025-04-17",
          "2025-04-18",
          "2025-04-21",
          "2025-04-22",
          "2025-04-23",
          "2025-04-24",
          "2025-04-25",
          "2025-04-28",
          "2025-04-29",
          "2025-04-30",
          "2025-05-01",
          "2025-05-02",
          "2025-05-05",
          "2025-05-06",
          "2025-05-07",
          "2025-05-08",
          "2025-05-09",
          "2025-05-12",
          "2025-05-13",
          "2025-05-14",
          "2025-05-15",
          "2025-05-16",
          "2025-05-19",
          "2025-05-20",
          "2025-05-21",
          "2025-05-22",
          "2025-05-23",
          "2025-05-27",
          "2025-05-28",
          "2025-05-29",
          "2025-05-30",
          "2025-06-02",
          "2025-06-03",
          "2025-06-04",
          "2025-06-05",
          "2025-06-06",
          "2025-06-09",
          "2025-06-10",
          "2025-06-11",
          "2025-06-12",
          "2025-06-13",
          "2025-06-16",
          "2025-06-17",
          "2025-06-18",
          "2025-06-19",
          "2025-06-20"
         ],
         "xaxis": "x",
         "y": {
          "bdata": "AAAAAIBxx0AAAAAAwP/YQAAAAACAfdlAAAAAAGAI40AAAAAAQDXaQAAAAABARd5AAAAAAADg0kAAAAAAcAr1QAAAAAAQOvRAAAAAAGB740AAAAAAYATjQAAAAAAABeZAAAAAAMCB3kAAAAAA4G/vQAAAAABAl+JAAAAAAODN7UAAAAAAQC3mQAAAAAAgNuBAAAAAAAAr5kAAAAAAoKXnQAAAAAAgVOVAAAAAAOAb7UAAAAAAoCnvQAAAAABARutAAAAAAADt3EAAAAAAgCXgQAAAAAAA091AAAAAAEBV2kAAAAAAQELcQAAAAAAAr+NAAAAAAMAZ2EAAAAAAgEbeQAAAAADgkeJAAAAAAIBg1kAAAAAAAN/aQAAAAADACNxAAAAAAMCJ10AAAAAA4JrgQAAAAABAleRAAAAAAMCH40AAAAAAQEvoQAAAAADgqe1AAAAAADCG9EAAAAAAYFDnQAAAAACgMuxAAAAAAIBp6EAAAAAAAPDlQAAAAADAl9xAAAAAAAB350AAAAAAoF/mQAAAAADAiOdAAAAAACCs6EAAAAAAANLvQAAAAACgRulAAAAAAHBS80AAAAAAwPHuQAAAAACQw/RAAAAAAIAq80AAAAAA4AD0QAAAAACg5u1AAAAAAPA+8UAAAAAA4D/4QAAAAADg8PxAAAAAAHCM+EAAAAAAKHUDQQAAAABYAAhBAAAAACBrCEEAAAAADLgRQQAAAAAIDQ1BAAAAABghAkEAAAAAIOH9QAAAAABQL/xAAAAAAID5+EAAAAAA8Gf+QAAAAABw9vxAAAAAAAAAAAAAAAAA4Gf3QAAAAAAQzQRBAAAAAIDpB0EAAAAAcLQAQQAAAAAQ7AJBAAAAALAZBEEAAAAAaFwGQQAAAABIHgxBAAAAABBVB0EAAAAA2JEGQQAAAAAo+gVBAAAAAGi0CUEAAAAAAIoGQQAAAACQcAZBAAAAAKgnBkEAAAAA8LINQQAAAAD4zghBAAAAABjiCEEAAAAALB4QQQAAAACQjg5BAAAAAKBvEkEAAAAAcJEOQQAAAAC4eRJBAAAAAKiPD0EAAAAAwK8QQQAAAADUxxFBAAAAALDID0EAAAAATE0SQQAAAAB8fhdBAAAAAPChGEEAAAAA8MYRQQAAAACgmRNBAAAAADhfDEEAAAAA1O0SQQAAAADgywxBAAAAALQHEUEAAAAApBkXQQAAAAAIKBdBAAAAAAjXJUEAAAAAQGsWQQAAAADA1AJBAAAAAIAv+UAAAAAAAAAAAAAAAAAAAPh/",
          "dtype": "f8"
         },
         "yaxis": "y"
        },
        {
         "line": {
          "color": "rgb(179,222,105)"
         },
         "name": "CLN5",
         "showlegend": false,
         "type": "scatter",
         "x": [
          "2024-12-31",
          "2025-01-02",
          "2025-01-03",
          "2025-01-06",
          "2025-01-07",
          "2025-01-08",
          "2025-01-09",
          "2025-01-10",
          "2025-01-13",
          "2025-01-14",
          "2025-01-15",
          "2025-01-16",
          "2025-01-17",
          "2025-01-21",
          "2025-01-22",
          "2025-01-23",
          "2025-01-24",
          "2025-01-27",
          "2025-01-28",
          "2025-01-29",
          "2025-01-30",
          "2025-01-31",
          "2025-02-03",
          "2025-02-04",
          "2025-02-05",
          "2025-02-06",
          "2025-02-07",
          "2025-02-10",
          "2025-02-11",
          "2025-02-12",
          "2025-02-13",
          "2025-02-14",
          "2025-02-18",
          "2025-02-19",
          "2025-02-20",
          "2025-02-21",
          "2025-02-24",
          "2025-02-25",
          "2025-02-26",
          "2025-02-27",
          "2025-02-28",
          "2025-03-03",
          "2025-03-04",
          "2025-03-05",
          "2025-03-06",
          "2025-03-07",
          "2025-03-10",
          "2025-03-11",
          "2025-03-12",
          "2025-03-13",
          "2025-03-14",
          "2025-03-17",
          "2025-03-18",
          "2025-03-19",
          "2025-03-20",
          "2025-03-21",
          "2025-03-24",
          "2025-03-25",
          "2025-03-26",
          "2025-03-27",
          "2025-03-28",
          "2025-03-31",
          "2025-04-01",
          "2025-04-02",
          "2025-04-03",
          "2025-04-04",
          "2025-04-07",
          "2025-04-08",
          "2025-04-09",
          "2025-04-10",
          "2025-04-11",
          "2025-04-14",
          "2025-04-15",
          "2025-04-16",
          "2025-04-17",
          "2025-04-18",
          "2025-04-21",
          "2025-04-22",
          "2025-04-23",
          "2025-04-24",
          "2025-04-25",
          "2025-04-28",
          "2025-04-29",
          "2025-04-30",
          "2025-05-01",
          "2025-05-02",
          "2025-05-05",
          "2025-05-06",
          "2025-05-07",
          "2025-05-08",
          "2025-05-09",
          "2025-05-12",
          "2025-05-13",
          "2025-05-14",
          "2025-05-15",
          "2025-05-16",
          "2025-05-19",
          "2025-05-20",
          "2025-05-21",
          "2025-05-22",
          "2025-05-23",
          "2025-05-27",
          "2025-05-28",
          "2025-05-29",
          "2025-05-30",
          "2025-06-02",
          "2025-06-03",
          "2025-06-04",
          "2025-06-05",
          "2025-06-06",
          "2025-06-09",
          "2025-06-10",
          "2025-06-11",
          "2025-06-12",
          "2025-06-13",
          "2025-06-16",
          "2025-06-17",
          "2025-06-18",
          "2025-06-19",
          "2025-06-20"
         ],
         "xaxis": "x2",
         "y": {
          "bdata": "AAAAAACH9UAAAAAAkIz2QAAAAADA6/ZAAAAAAPAK9kAAAAAAMJr2QAAAAADQDvdAAAAAAHDz9kAAAAAAkIz3QAAAAABgrfVAAAAAAPA39UAAAAAAMC72QAAAAADQTfZAAAAAAFCY9kAAAAAAwEn3QAAAAACgKvdAAAAAANAe90AAAAAA4H71QAAAAACA5PRAAAAAAHCg80AAAAAAUI/1QAAAAADw7PVAAAAAAMCo9kAAAAAAAB32QAAAAAAwVfVAAAAAAID99EAAAAAA8C31QAAAAADgJfVAAAAAAODr9EAAAAAAwDP1QAAAAACQW/VAAAAAAHCK9UAAAAAAYLr1QAAAAAAglPVAAAAAAIA19kAAAAAAUFL2QAAAAACQ0fZAAAAAAEA490AAAAAAoFr3QAAAAACguvZAAAAAAPCP9kAAAAAA4Pn3QAAAAABg3fhAAAAAACCf+EAAAAAAEFP5QAAAAADgg/lAAAAAADAO+kAAAAAAgC77QAAAAADgE/tAAAAAADCf+kAAAAAAkJn6QAAAAACQQvtAAAAAAJCL/EAAAAAA4Fz+QAAAAACAcP9AAAAAAADC/kAAAAAAYEP/QAAAAAAAMgBBAAAAAFjjAEEAAAAAYLoAQQAAAABQ4ABBAAAAAPCZAUEAAAAAAPAAQQAAAABgUABBAAAAAIDhAEEAAAAAKBsBQQAAAACYOgFBAAAAAJhsAUEAAAAAwOkCQQAAAAAIswNBAAAAAKD/AkEAAAAAGN0CQQAAAAAAiQNBAAAAACigBEEAAAAAaKYFQQAAAAAwsgVBAAAAADCyBUEAAAAA8J8GQQAAAACAWwdBAAAAAOBECEEAAAAAcLwJQQAAAADgXglBAAAAAGCyCEEAAAAACDYJQQAAAABoKwtBAAAAAOCuC0EAAAAA2HILQQAAAAAQXw1BAAAAANA+D0EAAAAA5B4QQQAAAAAQhRBBAAAAAEwhEUEAAAAA/GQRQQAAAAAcwxFBAAAAAPS3EUEAAAAAtO4RQQAAAAAIsxJBAAAAAPw3E0EAAAAAxO0SQQAAAAA8UhNBAAAAAMT1EkEAAAAAhOUSQQAAAACYdxJBAAAAANTIEUEAAAAA9CoSQQAAAAAQihFBAAAAALiWEEEAAAAAGCoQQQAAAADg6Q9BAAAAADAjDkEAAAAAaNoMQQAAAADo7AlBAAAAALjOBkEAAAAAqDYEQQAAAABoowFBAAAAABDi/kAAAAAAwO/zQAAAAABAnepAAAAAAABv1UAAAAAAgF3RQAAAAAAAAPh/",
          "dtype": "f8"
         },
         "yaxis": "y2"
        },
        {
         "line": {
          "color": "rgb(252,205,229)"
         },
         "name": "CLQ5",
         "type": "scatter",
         "x": [
          "2024-12-31",
          "2025-01-02",
          "2025-01-03",
          "2025-01-06",
          "2025-01-07",
          "2025-01-08",
          "2025-01-09",
          "2025-01-10",
          "2025-01-13",
          "2025-01-14",
          "2025-01-15",
          "2025-01-16",
          "2025-01-17",
          "2025-01-21",
          "2025-01-22",
          "2025-01-23",
          "2025-01-24",
          "2025-01-27",
          "2025-01-28",
          "2025-01-29",
          "2025-01-30",
          "2025-01-31",
          "2025-02-03",
          "2025-02-04",
          "2025-02-05",
          "2025-02-06",
          "2025-02-07",
          "2025-02-10",
          "2025-02-11",
          "2025-02-12",
          "2025-02-13",
          "2025-02-14",
          "2025-02-18",
          "2025-02-19",
          "2025-02-20",
          "2025-02-21",
          "2025-02-24",
          "2025-02-25",
          "2025-02-26",
          "2025-02-27",
          "2025-02-28",
          "2025-03-03",
          "2025-03-04",
          "2025-03-05",
          "2025-03-06",
          "2025-03-07",
          "2025-03-10",
          "2025-03-11",
          "2025-03-12",
          "2025-03-13",
          "2025-03-14",
          "2025-03-17",
          "2025-03-18",
          "2025-03-19",
          "2025-03-20",
          "2025-03-21",
          "2025-03-24",
          "2025-03-25",
          "2025-03-26",
          "2025-03-27",
          "2025-03-28",
          "2025-03-31",
          "2025-04-01",
          "2025-04-02",
          "2025-04-03",
          "2025-04-04",
          "2025-04-07",
          "2025-04-08",
          "2025-04-09",
          "2025-04-10",
          "2025-04-11",
          "2025-04-14",
          "2025-04-15",
          "2025-04-16",
          "2025-04-17",
          "2025-04-18",
          "2025-04-21",
          "2025-04-22",
          "2025-04-23",
          "2025-04-24",
          "2025-04-25",
          "2025-04-28",
          "2025-04-29",
          "2025-04-30",
          "2025-05-01",
          "2025-05-02",
          "2025-05-05",
          "2025-05-06",
          "2025-05-07",
          "2025-05-08",
          "2025-05-09",
          "2025-05-12",
          "2025-05-13",
          "2025-05-14",
          "2025-05-15",
          "2025-05-16",
          "2025-05-19",
          "2025-05-20",
          "2025-05-21",
          "2025-05-22",
          "2025-05-23",
          "2025-05-27",
          "2025-05-28",
          "2025-05-29",
          "2025-05-30",
          "2025-06-02",
          "2025-06-03",
          "2025-06-04",
          "2025-06-05",
          "2025-06-06",
          "2025-06-09",
          "2025-06-10",
          "2025-06-11",
          "2025-06-12",
          "2025-06-13",
          "2025-06-16",
          "2025-06-17",
          "2025-06-18",
          "2025-06-19",
          "2025-06-20",
          "2025-06-23",
          "2025-06-24",
          "2025-06-25",
          "2025-06-26",
          "2025-06-27",
          "2025-06-30",
          "2025-07-01",
          "2025-07-02",
          "2025-07-03",
          "2025-07-04",
          "2025-07-07",
          "2025-07-08",
          "2025-07-09",
          "2025-07-10",
          "2025-07-11",
          "2025-07-14",
          "2025-07-15",
          "2025-07-16",
          "2025-07-17",
          "2025-07-18",
          "2025-07-21",
          "2025-07-22",
          "2025-07-23",
          "2025-07-24"
         ],
         "xaxis": "x",
         "y": {
          "bdata": "AAAAAIBCwEAAAAAAAMrHQAAAAAAAbMRAAAAAAIDa1kAAAAAAgFTIQAAAAAAAwsZAAAAAAIBbwkAAAAAAwCLhQAAAAADAJOdAAAAAAAAu2UAAAAAAgE/XQAAAAACAuNxAAAAAAIA3zkAAAAAA4NXlQAAAAAAAYtJAAAAAAMBn4EAAAAAAgM3WQAAAAAAAesxAAAAAAIDo1EAAAAAAwJzTQAAAAAAAr9hAAAAAAMBQ3EAAAAAAAG3eQAAAAACAEOBAAAAAAMC92UAAAAAAgNnVQAAAAABAidJAAAAAAAC3ykAAAAAAAJTXQAAAAABA4NZAAAAAAACpzkAAAAAAgJ/UQAAAAACAutlAAAAAAIBnykAAAAAAgLfSQAAAAACAUc9AAAAAAABWyUAAAAAAgJvQQAAAAAAAGddAAAAAAMAg20AAAAAAALzYQAAAAADAkt9AAAAAAAB750AAAAAAoKHhQAAAAADAlt1AAAAAAIAX3EAAAAAAgBzUQAAAAADAXNFAAAAAAIAA2EAAAAAAQITYQAAAAABAhNFAAAAAAABy3UAAAAAAAPzkQAAAAACAudNAAAAAAACY6EAAAAAAQBXmQAAAAABA5+hAAAAAAOCz4kAAAAAAAErjQAAAAABgIOJAAAAAAKBX40AAAAAAoP3oQAAAAADgne9AAAAAAKBo60AAAAAAQOX3QAAAAABAUPxAAAAAABBP+UAAAAAACNYAQQAAAACgaAJBAAAAAOCZ80AAAAAAwBTtQAAAAABANuhAAAAAAAD64kAAAAAAADrrQAAAAABAEOpAAAAAAAAAAAAAAAAAoJvqQAAAAAAA9PdAAAAAAIjeAUEAAAAAkJH0QAAAAACgCvZAAAAAAOBZ90AAAAAAgEL8QAAAAAAgvf9AAAAAAGCc+UAAAAAAYMX2QAAAAACgO/ZAAAAAAECl+0AAAAAAAHj4QAAAAACwlvhAAAAAAIA7+EAAAAAAcJ37QAAAAAAQkPlAAAAAABBF9UAAAAAAkGD/QAAAAACQzfdAAAAAADDv/UAAAAAA4A36QAAAAAA4swJBAAAAADAj+0AAAAAAQDT9QAAAAACw+PxAAAAAAJA//EAAAAAA2OIDQQAAAAC4YA9BAAAAAID3C0EAAAAAuM0FQQAAAABINQhBAAAAAKCxBEEAAAAAaD8IQQAAAABwxgBBAAAAAPhbCUEAAAAAmNIPQQAAAAB8KxJBAAAAAEzYJUEAAAAA5N8bQQAAAAAMPR9BAAAAAP4BIEEAAAAAAAAAAAAAAADSsyRBAAAAAEg+JkEAAAAARoYgQQAAAACg/xBBAAAAAFiJDEEAAAAA4NcMQQAAAABImAdBAAAAAFCUB0EAAAAAwC8QQQAAAADA6ApBAAAAAAAAAAAAAAAAVFIUQQAAAABQ1wpBAAAAAEhWC0EAAAAA8JIPQQAAAADInwtBAAAAABQbEEEAAAAAoNkOQQAAAADQUA5BAAAAABAMB0EAAAAAwEb6QAAAAACg0vNAAAAAAIAt0kAAAAAAAGCDQAAAAAAAAAAA",
          "dtype": "f8"
         },
         "yaxis": "y"
        },
        {
         "line": {
          "color": "rgb(252,205,229)"
         },
         "name": "CLQ5",
         "showlegend": false,
         "type": "scatter",
         "x": [
          "2024-12-31",
          "2025-01-02",
          "2025-01-03",
          "2025-01-06",
          "2025-01-07",
          "2025-01-08",
          "2025-01-09",
          "2025-01-10",
          "2025-01-13",
          "2025-01-14",
          "2025-01-15",
          "2025-01-16",
          "2025-01-17",
          "2025-01-21",
          "2025-01-22",
          "2025-01-23",
          "2025-01-24",
          "2025-01-27",
          "2025-01-28",
          "2025-01-29",
          "2025-01-30",
          "2025-01-31",
          "2025-02-03",
          "2025-02-04",
          "2025-02-05",
          "2025-02-06",
          "2025-02-07",
          "2025-02-10",
          "2025-02-11",
          "2025-02-12",
          "2025-02-13",
          "2025-02-14",
          "2025-02-18",
          "2025-02-19",
          "2025-02-20",
          "2025-02-21",
          "2025-02-24",
          "2025-02-25",
          "2025-02-26",
          "2025-02-27",
          "2025-02-28",
          "2025-03-03",
          "2025-03-04",
          "2025-03-05",
          "2025-03-06",
          "2025-03-07",
          "2025-03-10",
          "2025-03-11",
          "2025-03-12",
          "2025-03-13",
          "2025-03-14",
          "2025-03-17",
          "2025-03-18",
          "2025-03-19",
          "2025-03-20",
          "2025-03-21",
          "2025-03-24",
          "2025-03-25",
          "2025-03-26",
          "2025-03-27",
          "2025-03-28",
          "2025-03-31",
          "2025-04-01",
          "2025-04-02",
          "2025-04-03",
          "2025-04-04",
          "2025-04-07",
          "2025-04-08",
          "2025-04-09",
          "2025-04-10",
          "2025-04-11",
          "2025-04-14",
          "2025-04-15",
          "2025-04-16",
          "2025-04-17",
          "2025-04-18",
          "2025-04-21",
          "2025-04-22",
          "2025-04-23",
          "2025-04-24",
          "2025-04-25",
          "2025-04-28",
          "2025-04-29",
          "2025-04-30",
          "2025-05-01",
          "2025-05-02",
          "2025-05-05",
          "2025-05-06",
          "2025-05-07",
          "2025-05-08",
          "2025-05-09",
          "2025-05-12",
          "2025-05-13",
          "2025-05-14",
          "2025-05-15",
          "2025-05-16",
          "2025-05-19",
          "2025-05-20",
          "2025-05-21",
          "2025-05-22",
          "2025-05-23",
          "2025-05-27",
          "2025-05-28",
          "2025-05-29",
          "2025-05-30",
          "2025-06-02",
          "2025-06-03",
          "2025-06-04",
          "2025-06-05",
          "2025-06-06",
          "2025-06-09",
          "2025-06-10",
          "2025-06-11",
          "2025-06-12",
          "2025-06-13",
          "2025-06-16",
          "2025-06-17",
          "2025-06-18",
          "2025-06-19",
          "2025-06-20",
          "2025-06-23",
          "2025-06-24",
          "2025-06-25",
          "2025-06-26",
          "2025-06-27",
          "2025-06-30",
          "2025-07-01",
          "2025-07-02",
          "2025-07-03",
          "2025-07-04",
          "2025-07-07",
          "2025-07-08",
          "2025-07-09",
          "2025-07-10",
          "2025-07-11",
          "2025-07-14",
          "2025-07-15",
          "2025-07-16",
          "2025-07-17",
          "2025-07-18",
          "2025-07-21",
          "2025-07-22",
          "2025-07-23",
          "2025-07-24"
         ],
         "xaxis": "x2",
         "y": {
          "bdata": "AAAAAABw5kAAAAAAgCrnQAAAAADAFedAAAAAAODx6UAAAAAAgHPqQAAAAAAg8OpAAAAAAMAm60AAAAAA4BnrQAAAAABgsOlAAAAAAKDM50AAAAAAgGDoQAAAAAAALuhAAAAAAOBX6EAAAAAAQDPpQAAAAABAaOlAAAAAACBL6UAAAAAAwGrpQAAAAADAnulAAAAAAACo6UAAAAAA4J/qQAAAAADgNulAAAAAAMAZ6UAAAAAAQDzpQAAAAAAAWOlAAAAAACBz6kAAAAAAAK/rQAAAAABAPOtAAAAAAMDg60AAAAAAIA7sQAAAAAAAp+tAAAAAAECj60AAAAAAADjsQAAAAAAA/uxAAAAAACBU7UAAAAAAQGPtQAAAAADglO1AAAAAACA/7UAAAAAAIDbtQAAAAAAgY+1AAAAAAEDV7UAAAAAAYFHuQAAAAABAI+5AAAAAAAAr8EAAAAAAsKPwQAAAAAAgzPBAAAAAADAU8UAAAAAAsJTxQAAAAACwaPFAAAAAAKAt8kAAAAAAYP/xQAAAAACA5/FAAAAAAOAW8kAAAAAAAL3yQAAAAABQF/NAAAAAAND+80AAAAAA8P31QAAAAAAw9PdAAAAAAND690AAAAAA0F73QAAAAAAwsPdAAAAAADC990AAAAAAYOn3QAAAAABAXvlAAAAAAPCd+UAAAAAAQAL6QAAAAACAPftAAAAAANBR+0AAAAAAMCH7QAAAAADwjftAAAAAACCf+0AAAAAAQIv7QAAAAABQV/tAAAAAAFCz+0AAAAAAcMn7QAAAAADggfxAAAAAAOCB/EAAAAAAsLn9QAAAAAAgPP1AAAAAAHDG/UAAAAAAMBz+QAAAAAAwfv5AAAAAAMDI/0AAAAAAUPH+QAAAAADQnP9AAAAAABCf/UAAAAAAYCT+QAAAAADQ8P9AAAAAACBzAEEAAAAA2GYAQQAAAAAI8QBBAAAAAND7AEEAAAAASKoBQQAAAAAgEwFBAAAAAIA0AUEAAAAAcOwBQQAAAADQxgNBAAAAAJCtBEEAAAAAyL0EQQAAAAAYxAVBAAAAABAYBkEAAAAA0HwGQQAAAABo5wZBAAAAANiCB0EAAAAAOGYHQQAAAABIMghBAAAAACDbCEEAAAAAYBkKQQAAAACIYwxBAAAAAJgEDUEAAAAACFwOQQAAAADo/g5BAAAAADxgEEEAAAAAvLEQQQAAAABwXRFBAAAAADxZEEEAAAAArPwQQQAAAAC07xFBAAAAAAiLEkEAAAAAdIYSQQAAAAAYURNBAAAAAES9EkEAAAAAwNQRQQAAAAAgbxJBAAAAALAvEkEAAAAA6McRQQAAAAAEyxBBAAAAAHzVEEEAAAAAPHIQQQAAAABQdg9BAAAAABh3D0EAAAAAYJANQQAAAACIewtBAAAAAAA4CkEAAAAAoNgHQQAAAABwdwdBAAAAAKhdBUEAAAAA6JQBQQAAAACgUv5AAAAAAJCx9EAAAAAAwDfrQAAAAACAZtBAAAAAAAAMtUAAAAAAAKCyQAAAAAAAAAAA",
          "dtype": "f8"
         },
         "yaxis": "y2"
        },
        {
         "line": {
          "color": "rgb(217,217,217)"
         },
         "name": "CLU5",
         "type": "scatter",
         "x": [
          "2024-12-31",
          "2025-01-02",
          "2025-01-03",
          "2025-01-06",
          "2025-01-07",
          "2025-01-08",
          "2025-01-09",
          "2025-01-10",
          "2025-01-13",
          "2025-01-14",
          "2025-01-15",
          "2025-01-16",
          "2025-01-17",
          "2025-01-21",
          "2025-01-22",
          "2025-01-23",
          "2025-01-24",
          "2025-01-27",
          "2025-01-28",
          "2025-01-29",
          "2025-01-30",
          "2025-01-31",
          "2025-02-03",
          "2025-02-04",
          "2025-02-05",
          "2025-02-06",
          "2025-02-07",
          "2025-02-10",
          "2025-02-11",
          "2025-02-12",
          "2025-02-13",
          "2025-02-14",
          "2025-02-18",
          "2025-02-19",
          "2025-02-20",
          "2025-02-21",
          "2025-02-24",
          "2025-02-25",
          "2025-02-26",
          "2025-02-27",
          "2025-02-28",
          "2025-03-03",
          "2025-03-04",
          "2025-03-05",
          "2025-03-06",
          "2025-03-07",
          "2025-03-10",
          "2025-03-11",
          "2025-03-12",
          "2025-03-13",
          "2025-03-14",
          "2025-03-17",
          "2025-03-18",
          "2025-03-19",
          "2025-03-20",
          "2025-03-21",
          "2025-03-24",
          "2025-03-25",
          "2025-03-26",
          "2025-03-27",
          "2025-03-28",
          "2025-03-31",
          "2025-04-01",
          "2025-04-02",
          "2025-04-03",
          "2025-04-04",
          "2025-04-07",
          "2025-04-08",
          "2025-04-09",
          "2025-04-10",
          "2025-04-11",
          "2025-04-14",
          "2025-04-15",
          "2025-04-16",
          "2025-04-17",
          "2025-04-18",
          "2025-04-21",
          "2025-04-22",
          "2025-04-23",
          "2025-04-24",
          "2025-04-25",
          "2025-04-28",
          "2025-04-29",
          "2025-04-30",
          "2025-05-01",
          "2025-05-02",
          "2025-05-05",
          "2025-05-06",
          "2025-05-07",
          "2025-05-08",
          "2025-05-09",
          "2025-05-12",
          "2025-05-13",
          "2025-05-14",
          "2025-05-15",
          "2025-05-16",
          "2025-05-19",
          "2025-05-20",
          "2025-05-21",
          "2025-05-22",
          "2025-05-23",
          "2025-05-27",
          "2025-05-28",
          "2025-05-29",
          "2025-05-30",
          "2025-06-02",
          "2025-06-03",
          "2025-06-04",
          "2025-06-05",
          "2025-06-06",
          "2025-06-09",
          "2025-06-10",
          "2025-06-11",
          "2025-06-12",
          "2025-06-13",
          "2025-06-16",
          "2025-06-17",
          "2025-06-18",
          "2025-06-19",
          "2025-06-20",
          "2025-06-23",
          "2025-06-24",
          "2025-06-25",
          "2025-06-26",
          "2025-06-27",
          "2025-06-30",
          "2025-07-01",
          "2025-07-02",
          "2025-07-03",
          "2025-07-04",
          "2025-07-07",
          "2025-07-08",
          "2025-07-09",
          "2025-07-10",
          "2025-07-11",
          "2025-07-14",
          "2025-07-15",
          "2025-07-16",
          "2025-07-17",
          "2025-07-18",
          "2025-07-21",
          "2025-07-22",
          "2025-07-23",
          "2025-07-24",
          "2025-07-25",
          "2025-07-28",
          "2025-07-29",
          "2025-07-30",
          "2025-07-31",
          "2025-08-01",
          "2025-08-04",
          "2025-08-05",
          "2025-08-06",
          "2025-08-07",
          "2025-08-08",
          "2025-08-11",
          "2025-08-12",
          "2025-08-13",
          "2025-08-14",
          "2025-08-15",
          "2025-08-18",
          "2025-08-19",
          "2025-08-20",
          "2025-08-21"
         ],
         "xaxis": "x",
         "y": {
          "bdata": "AAAAAICawEAAAAAAAKnWQAAAAABAuddAAAAAAIBW30AAAAAAAKTXQAAAAAAANthAAAAAAEAW0UAAAAAAgCTyQAAAAAAAw/RAAAAAAOC26UAAAAAAAMvoQAAAAADAvO1AAAAAAABa3kAAAAAA8JbwQAAAAAAgveJAAAAAAMDg60AAAAAAQEzhQAAAAADg0uBAAAAAAGBl4EAAAAAAQK3gQAAAAAAAf91AAAAAAKBA5EAAAAAAoH/mQAAAAADg5eVAAAAAAMCs10AAAAAAQJLfQAAAAACg9OFAAAAAAIAo2EAAAAAAQEbkQAAAAABgW+pAAAAAACBX4EAAAAAAoFTgQAAAAACATOVAAAAAAICc10AAAAAAgIjcQAAAAABARNxAAAAAAIAb1kAAAAAAwFvYQAAAAABAuuJAAAAAAMC46UAAAAAAoL3hQAAAAACA1O1AAAAAAPCM80AAAAAA4FDrQAAAAAAgqe9AAAAAAODY5UAAAAAAQFreQAAAAACAZNpAAAAAAKBF5EAAAAAAQA3jQAAAAACAbdxAAAAAACAj4kAAAAAA4CjmQAAAAABAB99AAAAAAKCb6kAAAAAAoHDhQAAAAAAA9ONAAAAAAKBv4kAAAAAA4KzhQAAAAACAdt1AAAAAAKCM5EAAAAAAYG/sQAAAAAAgEvBAAAAAAKD+6kAAAAAAoI/1QAAAAAAQnv9AAAAAAHBC/UAAAAAA6OEAQQAAAAAohAVBAAAAAOCb8UAAAAAAIKnwQAAAAADgO+pAAAAAAOCu5EAAAAAA4KPrQAAAAABgAeZAAAAAAAAAAAAAAAAAYF7oQAAAAAAADPRAAAAAAPDt/UAAAAAAIDbxQAAAAADQxvJAAAAAAJAM9kAAAAAAAKj3QAAAAAB4nQBBAAAAANDp9UAAAAAAcNH0QAAAAABQ3PZAAAAAANBv9EAAAAAAQF/zQAAAAACgiPRAAAAAAFAO8kAAAAAAMI72QAAAAAAAO/RAAAAAAMBu7kAAAAAA8C74QAAAAAAQO/BAAAAAAEDn+kAAAAAAoO/0QAAAAAAAq/lAAAAAACAd+EAAAAAA8Ov2QAAAAAAQ7/ZAAAAAAOAo+UAAAAAAcCEAQQAAAACg+gdBAAAAAFCxBUEAAAAA4EMAQQAAAABg4QFBAAAAAIDo/EAAAAAA4OIAQQAAAACwf/tAAAAAAGBZA0EAAAAA+IkIQQAAAABAHwdBAAAAAOgNHUEAAAAAcBAKQQAAAAAw5QlBAAAAAFj2BkEAAAAAAAAAAAAAAAA4QBRBAAAAAKDLE0EAAAAAUI0NQQAAAAAI4gBBAAAAALCb/kAAAAAAOK8AQQAAAAAAs/xAAAAAAACr+0AAAAAAaC8EQQAAAADYzgNBAAAAAAAAAAAAAAAAgAsIQQAAAADgtwFBAAAAAAg0BUEAAAAA6BUIQQAAAAB4BgVBAAAAAOgLDEEAAAAA6NAMQQAAAAC4pA9BAAAAAPw0EEEAAAAACBkSQQAAAACg9g5BAAAAAJx6EEEAAAAAiL0OQQAAAADkKRFBAAAAAFiZDEEAAAAAsPwPQQAAAABgFhRBAAAAAOATFUEAAAAAuCcOQQAAAACstxVBAAAAAPztEEEAAAAA2AcRQQAAAACMmBVBAAAAAJhXEkEAAAAA7LUTQQAAAAC4qQxBAAAAAOSUEkEAAAAA7D4SQQAAAAAguA5BAAAAAHAYCEEAAAAAkDj3QAAAAADASfhAAAAAAACF2kAAAAAAAAA7QA==",
          "dtype": "f8"
         },
         "yaxis": "y"
        },
        {
         "line": {
          "color": "rgb(217,217,217)"
         },
         "name": "CLU5",
         "showlegend": false,
         "type": "scatter",
         "x": [
          "2024-12-31",
          "2025-01-02",
          "2025-01-03",
          "2025-01-06",
          "2025-01-07",
          "2025-01-08",
          "2025-01-09",
          "2025-01-10",
          "2025-01-13",
          "2025-01-14",
          "2025-01-15",
          "2025-01-16",
          "2025-01-17",
          "2025-01-21",
          "2025-01-22",
          "2025-01-23",
          "2025-01-24",
          "2025-01-27",
          "2025-01-28",
          "2025-01-29",
          "2025-01-30",
          "2025-01-31",
          "2025-02-03",
          "2025-02-04",
          "2025-02-05",
          "2025-02-06",
          "2025-02-07",
          "2025-02-10",
          "2025-02-11",
          "2025-02-12",
          "2025-02-13",
          "2025-02-14",
          "2025-02-18",
          "2025-02-19",
          "2025-02-20",
          "2025-02-21",
          "2025-02-24",
          "2025-02-25",
          "2025-02-26",
          "2025-02-27",
          "2025-02-28",
          "2025-03-03",
          "2025-03-04",
          "2025-03-05",
          "2025-03-06",
          "2025-03-07",
          "2025-03-10",
          "2025-03-11",
          "2025-03-12",
          "2025-03-13",
          "2025-03-14",
          "2025-03-17",
          "2025-03-18",
          "2025-03-19",
          "2025-03-20",
          "2025-03-21",
          "2025-03-24",
          "2025-03-25",
          "2025-03-26",
          "2025-03-27",
          "2025-03-28",
          "2025-03-31",
          "2025-04-01",
          "2025-04-02",
          "2025-04-03",
          "2025-04-04",
          "2025-04-07",
          "2025-04-08",
          "2025-04-09",
          "2025-04-10",
          "2025-04-11",
          "2025-04-14",
          "2025-04-15",
          "2025-04-16",
          "2025-04-17",
          "2025-04-18",
          "2025-04-21",
          "2025-04-22",
          "2025-04-23",
          "2025-04-24",
          "2025-04-25",
          "2025-04-28",
          "2025-04-29",
          "2025-04-30",
          "2025-05-01",
          "2025-05-02",
          "2025-05-05",
          "2025-05-06",
          "2025-05-07",
          "2025-05-08",
          "2025-05-09",
          "2025-05-12",
          "2025-05-13",
          "2025-05-14",
          "2025-05-15",
          "2025-05-16",
          "2025-05-19",
          "2025-05-20",
          "2025-05-21",
          "2025-05-22",
          "2025-05-23",
          "2025-05-27",
          "2025-05-28",
          "2025-05-29",
          "2025-05-30",
          "2025-06-02",
          "2025-06-03",
          "2025-06-04",
          "2025-06-05",
          "2025-06-06",
          "2025-06-09",
          "2025-06-10",
          "2025-06-11",
          "2025-06-12",
          "2025-06-13",
          "2025-06-16",
          "2025-06-17",
          "2025-06-18",
          "2025-06-19",
          "2025-06-20",
          "2025-06-23",
          "2025-06-24",
          "2025-06-25",
          "2025-06-26",
          "2025-06-27",
          "2025-06-30",
          "2025-07-01",
          "2025-07-02",
          "2025-07-03",
          "2025-07-04",
          "2025-07-07",
          "2025-07-08",
          "2025-07-09",
          "2025-07-10",
          "2025-07-11",
          "2025-07-14",
          "2025-07-15",
          "2025-07-16",
          "2025-07-17",
          "2025-07-18",
          "2025-07-21",
          "2025-07-22",
          "2025-07-23",
          "2025-07-24",
          "2025-07-25",
          "2025-07-28",
          "2025-07-29",
          "2025-07-30",
          "2025-07-31",
          "2025-08-01",
          "2025-08-04",
          "2025-08-05",
          "2025-08-06",
          "2025-08-07",
          "2025-08-08",
          "2025-08-11",
          "2025-08-12",
          "2025-08-13",
          "2025-08-14",
          "2025-08-15",
          "2025-08-18",
          "2025-08-19",
          "2025-08-20",
          "2025-08-21"
         ],
         "xaxis": "x2",
         "y": {
          "bdata": "AAAAABC790AAAAAA4I34QAAAAACApPhAAAAAAFCr+kAAAAAAkBD7QAAAAABQNPtAAAAAAHAY+0AAAAAAYGH6QAAAAAAwB/lAAAAAAGAe+kAAAAAAIKf6QAAAAAAgxvpAAAAAAND0+kAAAAAAoI77QAAAAACwb/tAAAAAAEBT+0AAAAAAwP36QAAAAACgnfpAAAAAAODl+kAAAAAAoH36QAAAAADQePpAAAAAABAL+kAAAAAAcLH5QAAAAABQ1/hAAAAAAPDz+EAAAAAAUJj5QAAAAACAWflAAAAAAEDE+UAAAAAAQBH6QAAAAAAQ+fhAAAAAAKA3+UAAAAAAoEP5QAAAAAAwaPlAAAAAAPAk+UAAAAAA0Of4QAAAAAAgHPlAAAAAAJBU+UAAAAAAoDT5QAAAAAAAQflAAAAAACBc+kAAAAAA8Fz6QAAAAAAQl/tAAAAAAPAi/EAAAAAAMA38QAAAAACwP/xAAAAAAFC6+0AAAAAAUPj7QAAAAACwEPxAAAAAAIAJ/EAAAAAAEHb8QAAAAAAAQf1AAAAAAHDz/EAAAAAAQLH8QAAAAADA8PxAAAAAAIAS/EAAAAAA0MP8QAAAAADANv1AAAAAAOAp/UAAAAAA0Kv9QAAAAADAR/1AAAAAAIBf/UAAAAAA8GD8QAAAAAAgq/1AAAAAAFDV/UAAAAAAwFf8QAAAAACgzf5AAAAAAJAKAEEAAAAAwJsBQQAAAACw6QBBAAAAAGjaAEEAAAAAaNsAQQAAAADgywBBAAAAAFj5AEEAAAAAIFcBQQAAAAB4RwFBAAAAAHhHAUEAAAAAEEcBQQAAAABgnQBBAAAAACBSAUEAAAAACCsBQQAAAADAMgFBAAAAABj4AEEAAAAA2CIBQQAAAADA0wFBAAAAAHhVAkEAAAAASA0CQQAAAAAw7AJBAAAAAPCgA0EAAAAAYMEDQQAAAAAw9QNBAAAAAGiOBEEAAAAACMYEQQAAAACYoARBAAAAALgLBEEAAAAAEE4EQQAAAAAAuQRBAAAAABhXBUEAAAAAeAwFQQAAAAC4uwVBAAAAAEAQBkEAAAAAqF4GQQAAAACQTgZBAAAAADgMB0EAAAAAWMQHQQAAAACQUwhBAAAAAAgQCEEAAAAASCQIQQAAAACYkAlBAAAAABC7CkEAAAAAIK4KQQAAAADwRwpBAAAAAJgeCkEAAAAA+BIKQQAAAACwswtBAAAAABhaC0EAAAAAYBULQQAAAAD4QgtBAAAAAGBCC0EAAAAAeFkLQQAAAADQ/AxBAAAAABhoDUEAAAAAcMsMQQAAAACQ7w1BAAAAAIhQDkEAAAAAeP8OQQAAAABAKg5BAAAAAAiGD0EAAAAA/D0QQQAAAAAsNxBBAAAAAMw2EEEAAAAAiC0QQQAAAACAhBBBAAAAAJR3EUEAAAAAoCUSQQAAAAAQAxNBAAAAAFzxE0EAAAAA/JcUQQAAAAAQiBVBAAAAAMykFUEAAAAAJMgWQQAAAACENhdBAAAAAAzIFkEAAAAAwG4WQQAAAAC8xhVBAAAAAAzsFUEAAAAALHkVQQAAAAAUjxVBAAAAAFi8FUEAAAAAsJEVQQAAAAB4rRRBAAAAAGxLFEEAAAAApHUTQQAAAAAoChNBAAAAAFC+EUEAAAAAlOMQQQAAAACIlA1BAAAAACBOCUEAAAAA8O0DQQAAAAAQsv9AAAAAAHCP9EAAAAAAMBDwQAAAAABAKNJAAAAAAAAJvUAAAAAAAO68QA==",
          "dtype": "f8"
         },
         "yaxis": "y2"
        },
        {
         "line": {
          "color": "rgb(188,128,189)"
         },
         "name": "CLV5",
         "type": "scatter",
         "x": [
          "2024-12-31",
          "2025-01-02",
          "2025-01-03",
          "2025-01-06",
          "2025-01-07",
          "2025-01-08",
          "2025-01-09",
          "2025-01-10",
          "2025-01-13",
          "2025-01-14",
          "2025-01-15",
          "2025-01-16",
          "2025-01-17",
          "2025-01-21",
          "2025-01-22",
          "2025-01-23",
          "2025-01-24",
          "2025-01-27",
          "2025-01-28",
          "2025-01-29",
          "2025-01-30",
          "2025-01-31",
          "2025-02-03",
          "2025-02-04",
          "2025-02-05",
          "2025-02-06",
          "2025-02-07",
          "2025-02-10",
          "2025-02-11",
          "2025-02-12",
          "2025-02-13",
          "2025-02-14",
          "2025-02-18",
          "2025-02-19",
          "2025-02-20",
          "2025-02-21",
          "2025-02-24",
          "2025-02-25",
          "2025-02-26",
          "2025-02-27",
          "2025-02-28",
          "2025-03-03",
          "2025-03-04",
          "2025-03-05",
          "2025-03-06",
          "2025-03-07",
          "2025-03-10",
          "2025-03-11",
          "2025-03-12",
          "2025-03-13",
          "2025-03-14",
          "2025-03-17",
          "2025-03-18",
          "2025-03-19",
          "2025-03-20",
          "2025-03-21",
          "2025-03-24",
          "2025-03-25",
          "2025-03-26",
          "2025-03-27",
          "2025-03-28",
          "2025-03-31",
          "2025-04-01",
          "2025-04-02",
          "2025-04-03",
          "2025-04-04",
          "2025-04-07",
          "2025-04-08",
          "2025-04-09",
          "2025-04-10",
          "2025-04-11",
          "2025-04-14",
          "2025-04-15",
          "2025-04-16",
          "2025-04-17",
          "2025-04-18",
          "2025-04-21",
          "2025-04-22",
          "2025-04-23",
          "2025-04-24",
          "2025-04-25",
          "2025-04-28",
          "2025-04-29",
          "2025-04-30",
          "2025-05-01",
          "2025-05-02",
          "2025-05-05",
          "2025-05-06",
          "2025-05-07",
          "2025-05-08",
          "2025-05-09",
          "2025-05-12",
          "2025-05-13",
          "2025-05-14",
          "2025-05-15",
          "2025-05-16",
          "2025-05-19",
          "2025-05-20",
          "2025-05-21",
          "2025-05-22",
          "2025-05-23",
          "2025-05-27",
          "2025-05-28",
          "2025-05-29",
          "2025-05-30",
          "2025-06-02",
          "2025-06-03",
          "2025-06-04",
          "2025-06-05",
          "2025-06-06",
          "2025-06-09",
          "2025-06-10",
          "2025-06-11",
          "2025-06-12",
          "2025-06-13",
          "2025-06-16",
          "2025-06-17",
          "2025-06-18",
          "2025-06-19",
          "2025-06-20",
          "2025-06-23",
          "2025-06-24",
          "2025-06-25",
          "2025-06-26",
          "2025-06-27",
          "2025-06-30",
          "2025-07-01",
          "2025-07-02",
          "2025-07-03",
          "2025-07-04",
          "2025-07-07",
          "2025-07-08",
          "2025-07-09",
          "2025-07-10",
          "2025-07-11",
          "2025-07-14",
          "2025-07-15",
          "2025-07-16",
          "2025-07-17",
          "2025-07-18",
          "2025-07-21",
          "2025-07-22",
          "2025-07-23",
          "2025-07-24",
          "2025-07-25",
          "2025-07-28",
          "2025-07-29",
          "2025-07-30",
          "2025-07-31",
          "2025-08-01",
          "2025-08-04",
          "2025-08-05",
          "2025-08-06",
          "2025-08-07",
          "2025-08-08",
          "2025-08-11",
          "2025-08-12",
          "2025-08-13",
          "2025-08-14",
          "2025-08-15",
          "2025-08-18",
          "2025-08-19",
          "2025-08-20",
          "2025-08-21",
          "2025-08-22",
          "2025-08-25",
          "2025-08-26",
          "2025-08-27",
          "2025-08-28",
          "2025-08-29",
          "2025-09-01",
          "2025-09-02",
          "2025-09-03",
          "2025-09-04",
          "2025-09-05",
          "2025-09-08",
          "2025-09-09",
          "2025-09-10",
          "2025-09-11",
          "2025-09-12",
          "2025-09-15",
          "2025-09-16",
          "2025-09-17",
          "2025-09-18",
          "2025-09-19",
          "2025-09-22",
          "2025-09-23",
          "2025-09-24",
          "2025-09-25"
         ],
         "xaxis": "x",
         "y": {
          "bdata": "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",
          "dtype": "f8"
         },
         "yaxis": "y"
        },
        {
         "line": {
          "color": "rgb(188,128,189)"
         },
         "name": "CLV5",
         "showlegend": false,
         "type": "scatter",
         "x": [
          "2024-12-31",
          "2025-01-02",
          "2025-01-03",
          "2025-01-06",
          "2025-01-07",
          "2025-01-08",
          "2025-01-09",
          "2025-01-10",
          "2025-01-13",
          "2025-01-14",
          "2025-01-15",
          "2025-01-16",
          "2025-01-17",
          "2025-01-21",
          "2025-01-22",
          "2025-01-23",
          "2025-01-24",
          "2025-01-27",
          "2025-01-28",
          "2025-01-29",
          "2025-01-30",
          "2025-01-31",
          "2025-02-03",
          "2025-02-04",
          "2025-02-05",
          "2025-02-06",
          "2025-02-07",
          "2025-02-10",
          "2025-02-11",
          "2025-02-12",
          "2025-02-13",
          "2025-02-14",
          "2025-02-18",
          "2025-02-19",
          "2025-02-20",
          "2025-02-21",
          "2025-02-24",
          "2025-02-25",
          "2025-02-26",
          "2025-02-27",
          "2025-02-28",
          "2025-03-03",
          "2025-03-04",
          "2025-03-05",
          "2025-03-06",
          "2025-03-07",
          "2025-03-10",
          "2025-03-11",
          "2025-03-12",
          "2025-03-13",
          "2025-03-14",
          "2025-03-17",
          "2025-03-18",
          "2025-03-19",
          "2025-03-20",
          "2025-03-21",
          "2025-03-24",
          "2025-03-25",
          "2025-03-26",
          "2025-03-27",
          "2025-03-28",
          "2025-03-31",
          "2025-04-01",
          "2025-04-02",
          "2025-04-03",
          "2025-04-04",
          "2025-04-07",
          "2025-04-08",
          "2025-04-09",
          "2025-04-10",
          "2025-04-11",
          "2025-04-14",
          "2025-04-15",
          "2025-04-16",
          "2025-04-17",
          "2025-04-18",
          "2025-04-21",
          "2025-04-22",
          "2025-04-23",
          "2025-04-24",
          "2025-04-25",
          "2025-04-28",
          "2025-04-29",
          "2025-04-30",
          "2025-05-01",
          "2025-05-02",
          "2025-05-05",
          "2025-05-06",
          "2025-05-07",
          "2025-05-08",
          "2025-05-09",
          "2025-05-12",
          "2025-05-13",
          "2025-05-14",
          "2025-05-15",
          "2025-05-16",
          "2025-05-19",
          "2025-05-20",
          "2025-05-21",
          "2025-05-22",
          "2025-05-23",
          "2025-05-27",
          "2025-05-28",
          "2025-05-29",
          "2025-05-30",
          "2025-06-02",
          "2025-06-03",
          "2025-06-04",
          "2025-06-05",
          "2025-06-06",
          "2025-06-09",
          "2025-06-10",
          "2025-06-11",
          "2025-06-12",
          "2025-06-13",
          "2025-06-16",
          "2025-06-17",
          "2025-06-18",
          "2025-06-19",
          "2025-06-20",
          "2025-06-23",
          "2025-06-24",
          "2025-06-25",
          "2025-06-26",
          "2025-06-27",
          "2025-06-30",
          "2025-07-01",
          "2025-07-02",
          "2025-07-03",
          "2025-07-04",
          "2025-07-07",
          "2025-07-08",
          "2025-07-09",
          "2025-07-10",
          "2025-07-11",
          "2025-07-14",
          "2025-07-15",
          "2025-07-16",
          "2025-07-17",
          "2025-07-18",
          "2025-07-21",
          "2025-07-22",
          "2025-07-23",
          "2025-07-24",
          "2025-07-25",
          "2025-07-28",
          "2025-07-29",
          "2025-07-30",
          "2025-07-31",
          "2025-08-01",
          "2025-08-04",
          "2025-08-05",
          "2025-08-06",
          "2025-08-07",
          "2025-08-08",
          "2025-08-11",
          "2025-08-12",
          "2025-08-13",
          "2025-08-14",
          "2025-08-15",
          "2025-08-18",
          "2025-08-19",
          "2025-08-20",
          "2025-08-21",
          "2025-08-22",
          "2025-08-25",
          "2025-08-26",
          "2025-08-27",
          "2025-08-28",
          "2025-08-29",
          "2025-09-01",
          "2025-09-02",
          "2025-09-03",
          "2025-09-04",
          "2025-09-05",
          "2025-09-08",
          "2025-09-09",
          "2025-09-10",
          "2025-09-11",
          "2025-09-12",
          "2025-09-15",
          "2025-09-16",
          "2025-09-17",
          "2025-09-18",
          "2025-09-19",
          "2025-09-22",
          "2025-09-23",
          "2025-09-24",
          "2025-09-25"
         ],
         "xaxis": "x2",
         "y": {
          "bdata": "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",
          "dtype": "f8"
         },
         "yaxis": "y2"
        },
        {
         "line": {
          "color": "rgb(204,235,197)"
         },
         "name": "CLX5",
         "type": "scatter",
         "x": [
          "2024-12-31",
          "2025-01-02",
          "2025-01-03",
          "2025-01-06",
          "2025-01-07",
          "2025-01-08",
          "2025-01-09",
          "2025-01-10",
          "2025-01-13",
          "2025-01-14",
          "2025-01-15",
          "2025-01-16",
          "2025-01-17",
          "2025-01-21",
          "2025-01-22",
          "2025-01-23",
          "2025-01-24",
          "2025-01-27",
          "2025-01-28",
          "2025-01-29",
          "2025-01-30",
          "2025-01-31",
          "2025-02-03",
          "2025-02-04",
          "2025-02-05",
          "2025-02-06",
          "2025-02-07",
          "2025-02-10",
          "2025-02-11",
          "2025-02-12",
          "2025-02-13",
          "2025-02-14",
          "2025-02-18",
          "2025-02-19",
          "2025-02-20",
          "2025-02-21",
          "2025-02-24",
          "2025-02-25",
          "2025-02-26",
          "2025-02-27",
          "2025-02-28",
          "2025-03-03",
          "2025-03-04",
          "2025-03-05",
          "2025-03-06",
          "2025-03-07",
          "2025-03-10",
          "2025-03-11",
          "2025-03-12",
          "2025-03-13",
          "2025-03-14",
          "2025-03-17",
          "2025-03-18",
          "2025-03-19",
          "2025-03-20",
          "2025-03-21",
          "2025-03-24",
          "2025-03-25",
          "2025-03-26",
          "2025-03-27",
          "2025-03-28",
          "2025-03-31",
          "2025-04-01",
          "2025-04-02",
          "2025-04-03",
          "2025-04-04",
          "2025-04-07",
          "2025-04-08",
          "2025-04-09",
          "2025-04-10",
          "2025-04-11",
          "2025-04-14",
          "2025-04-15",
          "2025-04-16",
          "2025-04-17",
          "2025-04-18",
          "2025-04-21",
          "2025-04-22",
          "2025-04-23",
          "2025-04-24",
          "2025-04-25",
          "2025-04-28",
          "2025-04-29",
          "2025-04-30",
          "2025-05-01",
          "2025-05-02",
          "2025-05-05",
          "2025-05-06",
          "2025-05-07",
          "2025-05-08",
          "2025-05-09",
          "2025-05-12",
          "2025-05-13",
          "2025-05-14",
          "2025-05-15",
          "2025-05-16",
          "2025-05-19",
          "2025-05-20",
          "2025-05-21",
          "2025-05-22",
          "2025-05-23",
          "2025-05-27",
          "2025-05-28",
          "2025-05-29",
          "2025-05-30",
          "2025-06-02",
          "2025-06-03",
          "2025-06-04",
          "2025-06-05",
          "2025-06-06",
          "2025-06-09",
          "2025-06-10",
          "2025-06-11",
          "2025-06-12",
          "2025-06-13",
          "2025-06-16",
          "2025-06-17",
          "2025-06-18",
          "2025-06-19",
          "2025-06-20",
          "2025-06-23",
          "2025-06-24",
          "2025-06-25",
          "2025-06-26",
          "2025-06-27",
          "2025-06-30",
          "2025-07-01",
          "2025-07-02",
          "2025-07-03",
          "2025-07-04",
          "2025-07-07",
          "2025-07-08",
          "2025-07-09",
          "2025-07-10",
          "2025-07-11",
          "2025-07-14",
          "2025-07-15",
          "2025-07-16",
          "2025-07-17",
          "2025-07-18",
          "2025-07-21",
          "2025-07-22",
          "2025-07-23",
          "2025-07-24",
          "2025-07-25",
          "2025-07-28",
          "2025-07-29",
          "2025-07-30",
          "2025-07-31",
          "2025-08-01",
          "2025-08-04",
          "2025-08-05",
          "2025-08-06",
          "2025-08-07",
          "2025-08-08",
          "2025-08-11",
          "2025-08-12",
          "2025-08-13",
          "2025-08-14",
          "2025-08-15",
          "2025-08-18",
          "2025-08-19",
          "2025-08-20",
          "2025-08-21",
          "2025-08-22",
          "2025-08-25",
          "2025-08-26",
          "2025-08-27",
          "2025-08-28",
          "2025-08-29",
          "2025-09-01",
          "2025-09-02",
          "2025-09-03",
          "2025-09-04",
          "2025-09-05",
          "2025-09-08",
          "2025-09-09",
          "2025-09-10",
          "2025-09-11",
          "2025-09-12",
          "2025-09-15",
          "2025-09-16",
          "2025-09-17",
          "2025-09-18",
          "2025-09-19",
          "2025-09-22",
          "2025-09-23",
          "2025-09-24",
          "2025-09-25",
          "2025-09-26",
          "2025-09-29",
          "2025-09-30",
          "2025-10-01",
          "2025-10-02",
          "2025-10-03",
          "2025-10-06",
          "2025-10-07",
          "2025-10-08",
          "2025-10-09",
          "2025-10-10",
          "2025-10-13",
          "2025-10-14",
          "2025-10-15",
          "2025-10-16",
          "2025-10-17"
         ],
         "xaxis": "x",
         "y": {
          "bdata": "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",
          "dtype": "f8"
         },
         "yaxis": "y"
        },
        {
         "line": {
          "color": "rgb(204,235,197)"
         },
         "name": "CLX5",
         "showlegend": false,
         "type": "scatter",
         "x": [
          "2024-12-31",
          "2025-01-02",
          "2025-01-03",
          "2025-01-06",
          "2025-01-07",
          "2025-01-08",
          "2025-01-09",
          "2025-01-10",
          "2025-01-13",
          "2025-01-14",
          "2025-01-15",
          "2025-01-16",
          "2025-01-17",
          "2025-01-21",
          "2025-01-22",
          "2025-01-23",
          "2025-01-24",
          "2025-01-27",
          "2025-01-28",
          "2025-01-29",
          "2025-01-30",
          "2025-01-31",
          "2025-02-03",
          "2025-02-04",
          "2025-02-05",
          "2025-02-06",
          "2025-02-07",
          "2025-02-10",
          "2025-02-11",
          "2025-02-12",
          "2025-02-13",
          "2025-02-14",
          "2025-02-18",
          "2025-02-19",
          "2025-02-20",
          "2025-02-21",
          "2025-02-24",
          "2025-02-25",
          "2025-02-26",
          "2025-02-27",
          "2025-02-28",
          "2025-03-03",
          "2025-03-04",
          "2025-03-05",
          "2025-03-06",
          "2025-03-07",
          "2025-03-10",
          "2025-03-11",
          "2025-03-12",
          "2025-03-13",
          "2025-03-14",
          "2025-03-17",
          "2025-03-18",
          "2025-03-19",
          "2025-03-20",
          "2025-03-21",
          "2025-03-24",
          "2025-03-25",
          "2025-03-26",
          "2025-03-27",
          "2025-03-28",
          "2025-03-31",
          "2025-04-01",
          "2025-04-02",
          "2025-04-03",
          "2025-04-04",
          "2025-04-07",
          "2025-04-08",
          "2025-04-09",
          "2025-04-10",
          "2025-04-11",
          "2025-04-14",
          "2025-04-15",
          "2025-04-16",
          "2025-04-17",
          "2025-04-18",
          "2025-04-21",
          "2025-04-22",
          "2025-04-23",
          "2025-04-24",
          "2025-04-25",
          "2025-04-28",
          "2025-04-29",
          "2025-04-30",
          "2025-05-01",
          "2025-05-02",
          "2025-05-05",
          "2025-05-06",
          "2025-05-07",
          "2025-05-08",
          "2025-05-09",
          "2025-05-12",
          "2025-05-13",
          "2025-05-14",
          "2025-05-15",
          "2025-05-16",
          "2025-05-19",
          "2025-05-20",
          "2025-05-21",
          "2025-05-22",
          "2025-05-23",
          "2025-05-27",
          "2025-05-28",
          "2025-05-29",
          "2025-05-30",
          "2025-06-02",
          "2025-06-03",
          "2025-06-04",
          "2025-06-05",
          "2025-06-06",
          "2025-06-09",
          "2025-06-10",
          "2025-06-11",
          "2025-06-12",
          "2025-06-13",
          "2025-06-16",
          "2025-06-17",
          "2025-06-18",
          "2025-06-19",
          "2025-06-20",
          "2025-06-23",
          "2025-06-24",
          "2025-06-25",
          "2025-06-26",
          "2025-06-27",
          "2025-06-30",
          "2025-07-01",
          "2025-07-02",
          "2025-07-03",
          "2025-07-04",
          "2025-07-07",
          "2025-07-08",
          "2025-07-09",
          "2025-07-10",
          "2025-07-11",
          "2025-07-14",
          "2025-07-15",
          "2025-07-16",
          "2025-07-17",
          "2025-07-18",
          "2025-07-21",
          "2025-07-22",
          "2025-07-23",
          "2025-07-24",
          "2025-07-25",
          "2025-07-28",
          "2025-07-29",
          "2025-07-30",
          "2025-07-31",
          "2025-08-01",
          "2025-08-04",
          "2025-08-05",
          "2025-08-06",
          "2025-08-07",
          "2025-08-08",
          "2025-08-11",
          "2025-08-12",
          "2025-08-13",
          "2025-08-14",
          "2025-08-15",
          "2025-08-18",
          "2025-08-19",
          "2025-08-20",
          "2025-08-21",
          "2025-08-22",
          "2025-08-25",
          "2025-08-26",
          "2025-08-27",
          "2025-08-28",
          "2025-08-29",
          "2025-09-01",
          "2025-09-02",
          "2025-09-03",
          "2025-09-04",
          "2025-09-05",
          "2025-09-08",
          "2025-09-09",
          "2025-09-10",
          "2025-09-11",
          "2025-09-12",
          "2025-09-15",
          "2025-09-16",
          "2025-09-17",
          "2025-09-18",
          "2025-09-19",
          "2025-09-22",
          "2025-09-23",
          "2025-09-24",
          "2025-09-25",
          "2025-09-26",
          "2025-09-29",
          "2025-09-30",
          "2025-10-01",
          "2025-10-02",
          "2025-10-03",
          "2025-10-06",
          "2025-10-07",
          "2025-10-08",
          "2025-10-09",
          "2025-10-10",
          "2025-10-13",
          "2025-10-14",
          "2025-10-15",
          "2025-10-16",
          "2025-10-17"
         ],
         "xaxis": "x2",
         "y": {
          "bdata": "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",
          "dtype": "f8"
         },
         "yaxis": "y2"
        },
        {
         "line": {
          "color": "rgb(255,237,111)"
         },
         "name": "CLZ5",
         "type": "scatter",
         "x": [
          "2024-12-31",
          "2025-01-02",
          "2025-01-03",
          "2025-01-06",
          "2025-01-07",
          "2025-01-08",
          "2025-01-09",
          "2025-01-10",
          "2025-01-13",
          "2025-01-14",
          "2025-01-15",
          "2025-01-16",
          "2025-01-17",
          "2025-01-21",
          "2025-01-22",
          "2025-01-23",
          "2025-01-24",
          "2025-01-27",
          "2025-01-28",
          "2025-01-29",
          "2025-01-30",
          "2025-01-31",
          "2025-02-03",
          "2025-02-04",
          "2025-02-05",
          "2025-02-06",
          "2025-02-07",
          "2025-02-10",
          "2025-02-11",
          "2025-02-12",
          "2025-02-13",
          "2025-02-14",
          "2025-02-18",
          "2025-02-19",
          "2025-02-20",
          "2025-02-21",
          "2025-02-24",
          "2025-02-25",
          "2025-02-26",
          "2025-02-27",
          "2025-02-28",
          "2025-03-03",
          "2025-03-04",
          "2025-03-05",
          "2025-03-06",
          "2025-03-07",
          "2025-03-10",
          "2025-03-11",
          "2025-03-12",
          "2025-03-13",
          "2025-03-14",
          "2025-03-17",
          "2025-03-18",
          "2025-03-19",
          "2025-03-20",
          "2025-03-21",
          "2025-03-24",
          "2025-03-25",
          "2025-03-26",
          "2025-03-27",
          "2025-03-28",
          "2025-03-31",
          "2025-04-01",
          "2025-04-02",
          "2025-04-03",
          "2025-04-04",
          "2025-04-07",
          "2025-04-08",
          "2025-04-09",
          "2025-04-10",
          "2025-04-11",
          "2025-04-14",
          "2025-04-15",
          "2025-04-16",
          "2025-04-17",
          "2025-04-18",
          "2025-04-21",
          "2025-04-22",
          "2025-04-23",
          "2025-04-24",
          "2025-04-25",
          "2025-04-28",
          "2025-04-29",
          "2025-04-30",
          "2025-05-01",
          "2025-05-02",
          "2025-05-05",
          "2025-05-06",
          "2025-05-07",
          "2025-05-08",
          "2025-05-09",
          "2025-05-12",
          "2025-05-13",
          "2025-05-14",
          "2025-05-15",
          "2025-05-16",
          "2025-05-19",
          "2025-05-20",
          "2025-05-21",
          "2025-05-22",
          "2025-05-23",
          "2025-05-27",
          "2025-05-28",
          "2025-05-29",
          "2025-05-30",
          "2025-06-02",
          "2025-06-03",
          "2025-06-04",
          "2025-06-05",
          "2025-06-06",
          "2025-06-09",
          "2025-06-10",
          "2025-06-11",
          "2025-06-12",
          "2025-06-13",
          "2025-06-16",
          "2025-06-17",
          "2025-06-18",
          "2025-06-19",
          "2025-06-20",
          "2025-06-23",
          "2025-06-24",
          "2025-06-25",
          "2025-06-26",
          "2025-06-27",
          "2025-06-30",
          "2025-07-01",
          "2025-07-02",
          "2025-07-03",
          "2025-07-04",
          "2025-07-07",
          "2025-07-08",
          "2025-07-09",
          "2025-07-10",
          "2025-07-11",
          "2025-07-14",
          "2025-07-15",
          "2025-07-16",
          "2025-07-17",
          "2025-07-18",
          "2025-07-21",
          "2025-07-22",
          "2025-07-23",
          "2025-07-24",
          "2025-07-25",
          "2025-07-28",
          "2025-07-29",
          "2025-07-30",
          "2025-07-31",
          "2025-08-01",
          "2025-08-04",
          "2025-08-05",
          "2025-08-06",
          "2025-08-07",
          "2025-08-08",
          "2025-08-11",
          "2025-08-12",
          "2025-08-13",
          "2025-08-14",
          "2025-08-15",
          "2025-08-18",
          "2025-08-19",
          "2025-08-20",
          "2025-08-21",
          "2025-08-22",
          "2025-08-25",
          "2025-08-26",
          "2025-08-27",
          "2025-08-28",
          "2025-08-29",
          "2025-09-01",
          "2025-09-02",
          "2025-09-03",
          "2025-09-04",
          "2025-09-05",
          "2025-09-08",
          "2025-09-09",
          "2025-09-10",
          "2025-09-11",
          "2025-09-12",
          "2025-09-15",
          "2025-09-16",
          "2025-09-17",
          "2025-09-18",
          "2025-09-19",
          "2025-09-22",
          "2025-09-23",
          "2025-09-24",
          "2025-09-25",
          "2025-09-26",
          "2025-09-29",
          "2025-09-30",
          "2025-10-01",
          "2025-10-02",
          "2025-10-03",
          "2025-10-06",
          "2025-10-07",
          "2025-10-08",
          "2025-10-09",
          "2025-10-10",
          "2025-10-13",
          "2025-10-14",
          "2025-10-15",
          "2025-10-16",
          "2025-10-17"
         ],
         "xaxis": "x",
         "y": {
          "bdata": "AAAAAIAP1kAAAAAAIELrQAAAAABAC+pAAAAAAKAj60AAAAAAgOLlQAAAAADgAuxAAAAAAKAZ5EAAAAAAcPcAQQAAAADAngNBAAAAAOCx+EAAAAAAEKP5QAAAAABwpvhAAAAAACDv6kAAAAAAMA35QAAAAABgs+xAAAAAABA29EAAAAAAwDHqQAAAAADAhulAAAAAAEBw6kAAAAAA4DrnQAAAAABgfulAAAAAACCd60AAAAAAkKPzQAAAAAAQnvVAAAAAAAD75UAAAAAA4LTrQAAAAADgluVAAAAAAGB640AAAAAAIOnnQAAAAADAk+pAAAAAAEAp5kAAAAAAAMPkQAAAAADgDO9AAAAAAGDb5EAAAAAAgIjgQAAAAACAb+ZAAAAAAADf3kAAAAAA4CHnQAAAAAAgOutAAAAAAKDd7EAAAAAAAGnnQAAAAABAdfRAAAAAAEBk9UAAAAAA4I7yQAAAAADQUPZAAAAAAMCF8UAAAAAAYEDlQAAAAAAAPeZAAAAAAAD16kAAAAAA4FTqQAAAAACgVuJAAAAAAGCT5UAAAAAAMLjwQAAAAAAgD+dAAAAAAMD57kAAAAAAgJrmQAAAAAAAi+pAAAAAAADL7kAAAAAAwMLoQAAAAABAk+VAAAAAAOCf60AAAAAA0If3QAAAAADAcfJAAAAAAICN7EAAAAAAKGYAQQAAAABozwtBAAAAAPBhDEEAAAAAsLsGQQAAAAB8UhBBAAAAAHAp+kAAAAAA4Bv1QAAAAADghO1AAAAAAGDW6kAAAAAAIILxQAAAAADQd/JAAAAAAAAAAAAAAAAAwHbmQAAAAAAwvvFAAAAAAGiVAEEAAAAAYJbxQAAAAAAQFfFAAAAAAHBc9UAAAAAAAJb8QAAAAAD4EAFBAAAAAIAZ+UAAAAAA0P7zQAAAAADQLfZAAAAAAGCM90AAAAAAAFXzQAAAAACgN/ZAAAAAAGAG8kAAAAAAsGb5QAAAAACgXPdAAAAAAKAg7kAAAAAAYDX3QAAAAACAFuxAAAAAALAP9UAAAAAAUDvwQAAAAACwhfNAAAAAAEBu7kAAAAAAsAXxQAAAAACA7/RAAAAAANBS8UAAAAAAQJr0QAAAAAAA1/5AAAAAAICN/0AAAAAAsATyQAAAAAAw8PhAAAAAAOA+8kAAAAAA8H/2QAAAAABAAvBAAAAAALAU+0AAAAAAgPsBQQAAAACYBgRBAAAAAFD5GkEAAAAAwIYIQQAAAAA4KghBAAAAADCwBkEAAAAAAAAAAAAAAACgeApBAAAAABjkC0EAAAAA8GwGQQAAAADwR/pAAAAAAPDh8UAAAAAAcKjwQAAAAADgXuZAAAAAAEB270AAAAAAkOf1QAAAAACQSPBAAAAAAAAAAAAAAAAAkE72QAAAAACg4O9AAAAAAMCy8UAAAAAAIBr1QAAAAACAlfRAAAAAAPB0+0AAAAAAsF71QAAAAADwZ/lAAAAAAIAf8kAAAAAAYAz3QAAAAACwUvBAAAAAAJCI+UAAAAAAUBb1QAAAAADQPfhAAAAAAKCF70AAAAAAAD3yQAAAAAAI0gNBAAAAAGg9A0EAAAAAIGv1QAAAAADoUABBAAAAAJDa9kAAAAAAgG/3QAAAAABQvvtAAAAAAPDZ90AAAAAAELn9QAAAAABAFfJAAAAAAODK9UAAAAAAYPn4QAAAAABwavVAAAAAANDv9UAAAAAAgJz2QAAAAAAgqvZAAAAAADDb/EAAAAAAAEj/QAAAAABQZvhAAAAAAPA78EAAAAAAQEfzQAAAAACgWPhAAAAAAMCs+EAAAAAAQOvxQAAAAAAAAAAAAAAAALBYA0EAAAAAAKMCQQAAAADwIf1AAAAAALAdAkEAAAAAwDH8QAAAAAAAEQBBAAAAAPBd/kAAAAAAMKz5QAAAAAAIrQFBAAAAANDN9EAAAAAASBwAQQAAAACg4QBBAAAAAKAH/UAAAAAAwB//QAAAAABQPv1AAAAAAJjvAEEAAAAAkKoIQQAAAAAI9gNBAAAAAAjOBUEAAAAAUK4FQQAAAAAAIQRBAAAAALiIAkEAAAAAoO4HQQAAAACwFAJBAAAAAGCPAEEAAAAA4AwEQQAAAACIyQdBAAAAAMjmB0EAAAAACL8PQQAAAAAIaAxBAAAAABhgDEEAAAAAMAMMQQAAAAD43BBBAAAAAAAA+H8=",
          "dtype": "f8"
         },
         "yaxis": "y"
        },
        {
         "line": {
          "color": "rgb(255,237,111)"
         },
         "name": "CLZ5",
         "showlegend": false,
         "type": "scatter",
         "x": [
          "2024-12-31",
          "2025-01-02",
          "2025-01-03",
          "2025-01-06",
          "2025-01-07",
          "2025-01-08",
          "2025-01-09",
          "2025-01-10",
          "2025-01-13",
          "2025-01-14",
          "2025-01-15",
          "2025-01-16",
          "2025-01-17",
          "2025-01-21",
          "2025-01-22",
          "2025-01-23",
          "2025-01-24",
          "2025-01-27",
          "2025-01-28",
          "2025-01-29",
          "2025-01-30",
          "2025-01-31",
          "2025-02-03",
          "2025-02-04",
          "2025-02-05",
          "2025-02-06",
          "2025-02-07",
          "2025-02-10",
          "2025-02-11",
          "2025-02-12",
          "2025-02-13",
          "2025-02-14",
          "2025-02-18",
          "2025-02-19",
          "2025-02-20",
          "2025-02-21",
          "2025-02-24",
          "2025-02-25",
          "2025-02-26",
          "2025-02-27",
          "2025-02-28",
          "2025-03-03",
          "2025-03-04",
          "2025-03-05",
          "2025-03-06",
          "2025-03-07",
          "2025-03-10",
          "2025-03-11",
          "2025-03-12",
          "2025-03-13",
          "2025-03-14",
          "2025-03-17",
          "2025-03-18",
          "2025-03-19",
          "2025-03-20",
          "2025-03-21",
          "2025-03-24",
          "2025-03-25",
          "2025-03-26",
          "2025-03-27",
          "2025-03-28",
          "2025-03-31",
          "2025-04-01",
          "2025-04-02",
          "2025-04-03",
          "2025-04-04",
          "2025-04-07",
          "2025-04-08",
          "2025-04-09",
          "2025-04-10",
          "2025-04-11",
          "2025-04-14",
          "2025-04-15",
          "2025-04-16",
          "2025-04-17",
          "2025-04-18",
          "2025-04-21",
          "2025-04-22",
          "2025-04-23",
          "2025-04-24",
          "2025-04-25",
          "2025-04-28",
          "2025-04-29",
          "2025-04-30",
          "2025-05-01",
          "2025-05-02",
          "2025-05-05",
          "2025-05-06",
          "2025-05-07",
          "2025-05-08",
          "2025-05-09",
          "2025-05-12",
          "2025-05-13",
          "2025-05-14",
          "2025-05-15",
          "2025-05-16",
          "2025-05-19",
          "2025-05-20",
          "2025-05-21",
          "2025-05-22",
          "2025-05-23",
          "2025-05-27",
          "2025-05-28",
          "2025-05-29",
          "2025-05-30",
          "2025-06-02",
          "2025-06-03",
          "2025-06-04",
          "2025-06-05",
          "2025-06-06",
          "2025-06-09",
          "2025-06-10",
          "2025-06-11",
          "2025-06-12",
          "2025-06-13",
          "2025-06-16",
          "2025-06-17",
          "2025-06-18",
          "2025-06-19",
          "2025-06-20",
          "2025-06-23",
          "2025-06-24",
          "2025-06-25",
          "2025-06-26",
          "2025-06-27",
          "2025-06-30",
          "2025-07-01",
          "2025-07-02",
          "2025-07-03",
          "2025-07-04",
          "2025-07-07",
          "2025-07-08",
          "2025-07-09",
          "2025-07-10",
          "2025-07-11",
          "2025-07-14",
          "2025-07-15",
          "2025-07-16",
          "2025-07-17",
          "2025-07-18",
          "2025-07-21",
          "2025-07-22",
          "2025-07-23",
          "2025-07-24",
          "2025-07-25",
          "2025-07-28",
          "2025-07-29",
          "2025-07-30",
          "2025-07-31",
          "2025-08-01",
          "2025-08-04",
          "2025-08-05",
          "2025-08-06",
          "2025-08-07",
          "2025-08-08",
          "2025-08-11",
          "2025-08-12",
          "2025-08-13",
          "2025-08-14",
          "2025-08-15",
          "2025-08-18",
          "2025-08-19",
          "2025-08-20",
          "2025-08-21",
          "2025-08-22",
          "2025-08-25",
          "2025-08-26",
          "2025-08-27",
          "2025-08-28",
          "2025-08-29",
          "2025-09-01",
          "2025-09-02",
          "2025-09-03",
          "2025-09-04",
          "2025-09-05",
          "2025-09-08",
          "2025-09-09",
          "2025-09-10",
          "2025-09-11",
          "2025-09-12",
          "2025-09-15",
          "2025-09-16",
          "2025-09-17",
          "2025-09-18",
          "2025-09-19",
          "2025-09-22",
          "2025-09-23",
          "2025-09-24",
          "2025-09-25",
          "2025-09-26",
          "2025-09-29",
          "2025-09-30",
          "2025-10-01",
          "2025-10-02",
          "2025-10-03",
          "2025-10-06",
          "2025-10-07",
          "2025-10-08",
          "2025-10-09",
          "2025-10-10",
          "2025-10-13",
          "2025-10-14",
          "2025-10-15",
          "2025-10-16",
          "2025-10-17"
         ],
         "xaxis": "x2",
         "y": {
          "bdata": "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",
          "dtype": "f8"
         },
         "yaxis": "y2"
        },
        {
         "line": {
          "color": "rgb(141,211,199)"
         },
         "name": "CLF6",
         "type": "scatter",
         "x": [
          "2024-12-31",
          "2025-01-02",
          "2025-01-03",
          "2025-01-06",
          "2025-01-07",
          "2025-01-08",
          "2025-01-09",
          "2025-01-10",
          "2025-01-13",
          "2025-01-14",
          "2025-01-15",
          "2025-01-16",
          "2025-01-17",
          "2025-01-21",
          "2025-01-22",
          "2025-01-23",
          "2025-01-24",
          "2025-01-27",
          "2025-01-28",
          "2025-01-29",
          "2025-01-30",
          "2025-01-31",
          "2025-02-03",
          "2025-02-04",
          "2025-02-05",
          "2025-02-06",
          "2025-02-07",
          "2025-02-10",
          "2025-02-11",
          "2025-02-12",
          "2025-02-13",
          "2025-02-14",
          "2025-02-18",
          "2025-02-19",
          "2025-02-20",
          "2025-02-21",
          "2025-02-24",
          "2025-02-25",
          "2025-02-26",
          "2025-02-27",
          "2025-02-28",
          "2025-03-03",
          "2025-03-04",
          "2025-03-05",
          "2025-03-06",
          "2025-03-07",
          "2025-03-10",
          "2025-03-11",
          "2025-03-12",
          "2025-03-13",
          "2025-03-14",
          "2025-03-17",
          "2025-03-18",
          "2025-03-19",
          "2025-03-20",
          "2025-03-21",
          "2025-03-24",
          "2025-03-25",
          "2025-03-26",
          "2025-03-27",
          "2025-03-28",
          "2025-03-31",
          "2025-04-01",
          "2025-04-02",
          "2025-04-03",
          "2025-04-04",
          "2025-04-07",
          "2025-04-08",
          "2025-04-09",
          "2025-04-10",
          "2025-04-11",
          "2025-04-14",
          "2025-04-15",
          "2025-04-16",
          "2025-04-17",
          "2025-04-18",
          "2025-04-21",
          "2025-04-22",
          "2025-04-23",
          "2025-04-24",
          "2025-04-25",
          "2025-04-28",
          "2025-04-29",
          "2025-04-30",
          "2025-05-01",
          "2025-05-02",
          "2025-05-05",
          "2025-05-06",
          "2025-05-07",
          "2025-05-08",
          "2025-05-09",
          "2025-05-12",
          "2025-05-13",
          "2025-05-14",
          "2025-05-15",
          "2025-05-16",
          "2025-05-19",
          "2025-05-20",
          "2025-05-21",
          "2025-05-22",
          "2025-05-23",
          "2025-05-27",
          "2025-05-28",
          "2025-05-29",
          "2025-05-30",
          "2025-06-02",
          "2025-06-03",
          "2025-06-04",
          "2025-06-05",
          "2025-06-06",
          "2025-06-09",
          "2025-06-10",
          "2025-06-11",
          "2025-06-12",
          "2025-06-13",
          "2025-06-16",
          "2025-06-17",
          "2025-06-18",
          "2025-06-19",
          "2025-06-20",
          "2025-06-23",
          "2025-06-24",
          "2025-06-25",
          "2025-06-26",
          "2025-06-27",
          "2025-06-30",
          "2025-07-01",
          "2025-07-02",
          "2025-07-03",
          "2025-07-04",
          "2025-07-07",
          "2025-07-08",
          "2025-07-09",
          "2025-07-10",
          "2025-07-11",
          "2025-07-14",
          "2025-07-15",
          "2025-07-16",
          "2025-07-17",
          "2025-07-18",
          "2025-07-21",
          "2025-07-22",
          "2025-07-23",
          "2025-07-24",
          "2025-07-25",
          "2025-07-28",
          "2025-07-29",
          "2025-07-30",
          "2025-07-31",
          "2025-08-01",
          "2025-08-04",
          "2025-08-05",
          "2025-08-06",
          "2025-08-07",
          "2025-08-08",
          "2025-08-11",
          "2025-08-12",
          "2025-08-13",
          "2025-08-14",
          "2025-08-15",
          "2025-08-18",
          "2025-08-19",
          "2025-08-20",
          "2025-08-21",
          "2025-08-22",
          "2025-08-25",
          "2025-08-26",
          "2025-08-27",
          "2025-08-28",
          "2025-08-29",
          "2025-09-01",
          "2025-09-02",
          "2025-09-03",
          "2025-09-04",
          "2025-09-05",
          "2025-09-08",
          "2025-09-09",
          "2025-09-10",
          "2025-09-11",
          "2025-09-12",
          "2025-09-15",
          "2025-09-16",
          "2025-09-17",
          "2025-09-18",
          "2025-09-19",
          "2025-09-22",
          "2025-09-23",
          "2025-09-24",
          "2025-09-25",
          "2025-09-26",
          "2025-09-29",
          "2025-09-30",
          "2025-10-01",
          "2025-10-02",
          "2025-10-03",
          "2025-10-06",
          "2025-10-07",
          "2025-10-08",
          "2025-10-09",
          "2025-10-10",
          "2025-10-13",
          "2025-10-14",
          "2025-10-15",
          "2025-10-16",
          "2025-10-17"
         ],
         "xaxis": "x",
         "y": {
          "bdata": "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",
          "dtype": "f8"
         },
         "yaxis": "y"
        },
        {
         "line": {
          "color": "rgb(141,211,199)"
         },
         "name": "CLF6",
         "showlegend": false,
         "type": "scatter",
         "x": [
          "2024-12-31",
          "2025-01-02",
          "2025-01-03",
          "2025-01-06",
          "2025-01-07",
          "2025-01-08",
          "2025-01-09",
          "2025-01-10",
          "2025-01-13",
          "2025-01-14",
          "2025-01-15",
          "2025-01-16",
          "2025-01-17",
          "2025-01-21",
          "2025-01-22",
          "2025-01-23",
          "2025-01-24",
          "2025-01-27",
          "2025-01-28",
          "2025-01-29",
          "2025-01-30",
          "2025-01-31",
          "2025-02-03",
          "2025-02-04",
          "2025-02-05",
          "2025-02-06",
          "2025-02-07",
          "2025-02-10",
          "2025-02-11",
          "2025-02-12",
          "2025-02-13",
          "2025-02-14",
          "2025-02-18",
          "2025-02-19",
          "2025-02-20",
          "2025-02-21",
          "2025-02-24",
          "2025-02-25",
          "2025-02-26",
          "2025-02-27",
          "2025-02-28",
          "2025-03-03",
          "2025-03-04",
          "2025-03-05",
          "2025-03-06",
          "2025-03-07",
          "2025-03-10",
          "2025-03-11",
          "2025-03-12",
          "2025-03-13",
          "2025-03-14",
          "2025-03-17",
          "2025-03-18",
          "2025-03-19",
          "2025-03-20",
          "2025-03-21",
          "2025-03-24",
          "2025-03-25",
          "2025-03-26",
          "2025-03-27",
          "2025-03-28",
          "2025-03-31",
          "2025-04-01",
          "2025-04-02",
          "2025-04-03",
          "2025-04-04",
          "2025-04-07",
          "2025-04-08",
          "2025-04-09",
          "2025-04-10",
          "2025-04-11",
          "2025-04-14",
          "2025-04-15",
          "2025-04-16",
          "2025-04-17",
          "2025-04-18",
          "2025-04-21",
          "2025-04-22",
          "2025-04-23",
          "2025-04-24",
          "2025-04-25",
          "2025-04-28",
          "2025-04-29",
          "2025-04-30",
          "2025-05-01",
          "2025-05-02",
          "2025-05-05",
          "2025-05-06",
          "2025-05-07",
          "2025-05-08",
          "2025-05-09",
          "2025-05-12",
          "2025-05-13",
          "2025-05-14",
          "2025-05-15",
          "2025-05-16",
          "2025-05-19",
          "2025-05-20",
          "2025-05-21",
          "2025-05-22",
          "2025-05-23",
          "2025-05-27",
          "2025-05-28",
          "2025-05-29",
          "2025-05-30",
          "2025-06-02",
          "2025-06-03",
          "2025-06-04",
          "2025-06-05",
          "2025-06-06",
          "2025-06-09",
          "2025-06-10",
          "2025-06-11",
          "2025-06-12",
          "2025-06-13",
          "2025-06-16",
          "2025-06-17",
          "2025-06-18",
          "2025-06-19",
          "2025-06-20",
          "2025-06-23",
          "2025-06-24",
          "2025-06-25",
          "2025-06-26",
          "2025-06-27",
          "2025-06-30",
          "2025-07-01",
          "2025-07-02",
          "2025-07-03",
          "2025-07-04",
          "2025-07-07",
          "2025-07-08",
          "2025-07-09",
          "2025-07-10",
          "2025-07-11",
          "2025-07-14",
          "2025-07-15",
          "2025-07-16",
          "2025-07-17",
          "2025-07-18",
          "2025-07-21",
          "2025-07-22",
          "2025-07-23",
          "2025-07-24",
          "2025-07-25",
          "2025-07-28",
          "2025-07-29",
          "2025-07-30",
          "2025-07-31",
          "2025-08-01",
          "2025-08-04",
          "2025-08-05",
          "2025-08-06",
          "2025-08-07",
          "2025-08-08",
          "2025-08-11",
          "2025-08-12",
          "2025-08-13",
          "2025-08-14",
          "2025-08-15",
          "2025-08-18",
          "2025-08-19",
          "2025-08-20",
          "2025-08-21",
          "2025-08-22",
          "2025-08-25",
          "2025-08-26",
          "2025-08-27",
          "2025-08-28",
          "2025-08-29",
          "2025-09-01",
          "2025-09-02",
          "2025-09-03",
          "2025-09-04",
          "2025-09-05",
          "2025-09-08",
          "2025-09-09",
          "2025-09-10",
          "2025-09-11",
          "2025-09-12",
          "2025-09-15",
          "2025-09-16",
          "2025-09-17",
          "2025-09-18",
          "2025-09-19",
          "2025-09-22",
          "2025-09-23",
          "2025-09-24",
          "2025-09-25",
          "2025-09-26",
          "2025-09-29",
          "2025-09-30",
          "2025-10-01",
          "2025-10-02",
          "2025-10-03",
          "2025-10-06",
          "2025-10-07",
          "2025-10-08",
          "2025-10-09",
          "2025-10-10",
          "2025-10-13",
          "2025-10-14",
          "2025-10-15",
          "2025-10-16",
          "2025-10-17"
         ],
         "xaxis": "x2",
         "y": {
          "bdata": "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",
          "dtype": "f8"
         },
         "yaxis": "y2"
        },
        {
         "line": {
          "color": "rgb(141,211,199)"
         },
         "name": "GCF5",
         "type": "scatter",
         "x": [
          "2024-12-31",
          "2025-01-02",
          "2025-01-03",
          "2025-01-06",
          "2025-01-07",
          "2025-01-08",
          "2025-01-09",
          "2025-01-10",
          "2025-01-13",
          "2025-01-14",
          "2025-01-15",
          "2025-01-16",
          "2025-01-17",
          "2025-01-21",
          "2025-01-22",
          "2025-01-23",
          "2025-01-24",
          "2025-01-27",
          "2025-01-28",
          "2025-01-29"
         ],
         "xaxis": "x3",
         "y": {
          "bdata": "AAAAAAAQeUAAAAAAAACbQAAAAAAAeIJAAAAAAAAAjkAAAAAAABiEQAAAAAAAOI9AAAAAAADMkUAAAAAAADB5QAAAAAAA6IdAAAAAAADQiEAAAAAAABCNQAAAAAAA5JpAAAAAAAD4kkAAAAAAAHyWQAAAAAAAPqBAAAAAAAAyoUAAAAAAAOSYQAAAAAAAwI5AAAAAAAAGokAAAAAAADCDQA==",
          "dtype": "f8"
         },
         "yaxis": "y3"
        },
        {
         "line": {
          "color": "rgb(141,211,199)"
         },
         "name": "GCF5",
         "showlegend": false,
         "type": "scatter",
         "x": [
          "2024-12-31",
          "2025-01-02",
          "2025-01-03",
          "2025-01-06",
          "2025-01-07",
          "2025-01-08",
          "2025-01-09",
          "2025-01-10",
          "2025-01-13",
          "2025-01-14",
          "2025-01-15",
          "2025-01-16",
          "2025-01-17",
          "2025-01-21",
          "2025-01-22",
          "2025-01-23",
          "2025-01-24",
          "2025-01-27",
          "2025-01-28",
          "2025-01-29"
         ],
         "xaxis": "x4",
         "y": {
          "bdata": "AAAAAAAQlkAAAAAAAMakQAAAAAAADJpAAAAAAACgnkAAAAAAAPSiQAAAAAAAVJpAAAAAAAA4mkAAAAAAAAyXQAAAAAAAiJlAAAAAAADMnUAAAAAAAIiXQAAAAAAAoJlAAAAAAAC0k0AAAAAAAISYQAAAAAAAdJ1AAAAAAAA8m0AAAAAAACqgQAAAAAAACJtAAAAAAADWpkAAAAAAADCDQA==",
          "dtype": "f8"
         },
         "yaxis": "y4"
        },
        {
         "line": {
          "color": "rgb(255,255,179)"
         },
         "name": "GCG5",
         "type": "scatter",
         "x": [
          "2024-12-31",
          "2025-01-02",
          "2025-01-03",
          "2025-01-06",
          "2025-01-07",
          "2025-01-08",
          "2025-01-09",
          "2025-01-10",
          "2025-01-13",
          "2025-01-14",
          "2025-01-15",
          "2025-01-16",
          "2025-01-17",
          "2025-01-21",
          "2025-01-22",
          "2025-01-23",
          "2025-01-24",
          "2025-01-27",
          "2025-01-28",
          "2025-01-29",
          "2025-01-30",
          "2025-01-31",
          "2025-02-03",
          "2025-02-04",
          "2025-02-05",
          "2025-02-06",
          "2025-02-07",
          "2025-02-10",
          "2025-02-11",
          "2025-02-12",
          "2025-02-13",
          "2025-02-14",
          "2025-02-18",
          "2025-02-19",
          "2025-02-20",
          "2025-02-21",
          "2025-02-24",
          "2025-02-25",
          "2025-02-26"
         ],
         "xaxis": "x3",
         "y": {
          "bdata": "AAAAAEAR9UAAAAAAKKQBQQAAAABQlf1AAAAAABi+BEEAAAAAiLoDQQAAAADQFwhBAAAAACgfA0EAAAAAoDYSQQAAAACwxAlBAAAAALDmBUEAAAAAwKUHQQAAAAB4xQZBAAAAACAmA0EAAAAApPMRQQAAAADoTQNBAAAAALDFB0EAAAAAUFwIQQAAAADQTgpBAAAAAPjqBEEAAAAAwK/+QAAAAACgmeNAAAAAAADmqkAAAAAAALKkQAAAAAAAFqFAAAAAAACnsUAAAAAAAFioQAAAAAAAeJxAAAAAAAB6oUAAAAAAAPSjQAAAAAAAkKNAAAAAAAA+skAAAAAAACCfQAAAAAAAVK9AAAAAAACMpEAAAAAAAICEQAAAAAAA0IFAAAAAAADweUAAAAAAAPicQAAAAAAAwINA",
          "dtype": "f8"
         },
         "yaxis": "y3"
        },
        {
         "line": {
          "color": "rgb(255,255,179)"
         },
         "name": "GCG5",
         "showlegend": false,
         "type": "scatter",
         "x": [
          "2024-12-31",
          "2025-01-02",
          "2025-01-03",
          "2025-01-06",
          "2025-01-07",
          "2025-01-08",
          "2025-01-09",
          "2025-01-10",
          "2025-01-13",
          "2025-01-14",
          "2025-01-15",
          "2025-01-16",
          "2025-01-17",
          "2025-01-21",
          "2025-01-22",
          "2025-01-23",
          "2025-01-24",
          "2025-01-27",
          "2025-01-28",
          "2025-01-29",
          "2025-01-30",
          "2025-01-31",
          "2025-02-03",
          "2025-02-04",
          "2025-02-05",
          "2025-02-06",
          "2025-02-07",
          "2025-02-10",
          "2025-02-11",
          "2025-02-12",
          "2025-02-13",
          "2025-02-14",
          "2025-02-18",
          "2025-02-19",
          "2025-02-20",
          "2025-02-21",
          "2025-02-24",
          "2025-02-25",
          "2025-02-26"
         ],
         "xaxis": "x4",
         "y": {
          "bdata": "AAAAAEgPFEEAAAAAPE8UQQAAAAC4IxRBAAAAALirE0EAAAAApNkTQQAAAABIYRNBAAAAAAQXE0EAAAAAsIoSQQAAAAAUlxFBAAAAAEA9EUEAAAAASDkRQQAAAABQiBFBAAAAAEgEEUEAAAAAkKQQQQAAAACQQRBBAAAAALjkDUEAAAAAyKMKQQAAAADYDgVBAAAAAEBS/0AAAAAAEPvyQAAAAAAA9OxAAAAAAMAE3UAAAAAAgHPTQAAAAACAIM9AAAAAAICqyEAAAAAAgEPEQAAAAACA4sBAAAAAAAClvkAAAAAAAI67QAAAAAAA0bZAAAAAAADbtkAAAAAAAFSjQAAAAAAAzqdAAAAAAACCokAAAAAAABiLQAAAAAAAKIhAAAAAAABIhEAAAAAAAJSTQAAAAAAAoH1A",
          "dtype": "f8"
         },
         "yaxis": "y4"
        },
        {
         "line": {
          "color": "rgb(190,186,218)"
         },
         "name": "GCH5",
         "type": "scatter",
         "x": [
          "2024-12-31",
          "2025-01-02",
          "2025-01-03",
          "2025-01-06",
          "2025-01-07",
          "2025-01-08",
          "2025-01-09",
          "2025-01-10",
          "2025-01-13",
          "2025-01-14",
          "2025-01-15",
          "2025-01-16",
          "2025-01-17",
          "2025-01-21",
          "2025-01-22",
          "2025-01-23",
          "2025-01-24",
          "2025-01-27",
          "2025-01-28",
          "2025-01-29",
          "2025-01-30",
          "2025-01-31",
          "2025-02-03",
          "2025-02-04",
          "2025-02-05",
          "2025-02-06",
          "2025-02-07",
          "2025-02-10",
          "2025-02-11",
          "2025-02-12",
          "2025-02-13",
          "2025-02-14",
          "2025-02-18",
          "2025-02-19",
          "2025-02-20",
          "2025-02-21",
          "2025-02-24",
          "2025-02-25",
          "2025-02-26",
          "2025-02-27",
          "2025-02-28",
          "2025-03-03",
          "2025-03-04",
          "2025-03-05",
          "2025-03-06",
          "2025-03-07",
          "2025-03-10",
          "2025-03-11",
          "2025-03-12",
          "2025-03-13",
          "2025-03-14",
          "2025-03-17",
          "2025-03-18",
          "2025-03-19",
          "2025-03-20",
          "2025-03-21",
          "2025-03-24",
          "2025-03-25",
          "2025-03-26",
          "2025-03-27"
         ],
         "xaxis": "x3",
         "y": {
          "bdata": "AAAAAAAASEAAAAAAAIBTQAAAAAAAwFdAAAAAAACgakAAAAAAAMBqQAAAAAAAMJJAAAAAAAAGpkAAAAAAADKjQAAAAAAABqdAAAAAAAAUsEAAAAAAAJiBQAAAAAAAMIpAAAAAAAB4iEAAAAAAABSWQAAAAAAAsIRAAAAAAACYnEAAAAAAACSRQAAAAAAAwK5AAAAAAAC4qkAAAAAAACCvQAAAAAAASKhAAAAAAACAm0AAAAAAAGiaQAAAAAAAOqJAAAAAAAAdskAAAAAAAIWwQAAAAAAA+KBAAAAAAACMoEAAAAAAAFanQAAAAAAArqBAAAAAAAAIrkAAAAAAAJirQAAAAAAAGbNAAAAAAADcoUAAAAAAAPiQQAAAAAAALJFAAAAAAAAwn0AAAAAAANS1QAAAAAAABKBAAAAAAAAeqUAAAAAAAPCOQAAAAAAAcHpAAAAAAACoi0AAAAAAADiBQAAAAAAAMItAAAAAAACYgEAAAAAAAIBLQAAAAAAAoGhAAAAAAACgakAAAAAAAHyiQAAAAAAAIJxAAAAAAADAakAAAAAAAMB6QAAAAAAA4GVAAAAAAAAgZ0AAAAAAAOBiQAAAAAAAIGFAAAAAAACAUkAAAAAAAMBUQAAAAAAAUIBA",
          "dtype": "f8"
         },
         "yaxis": "y3"
        },
        {
         "line": {
          "color": "rgb(190,186,218)"
         },
         "name": "GCH5",
         "showlegend": false,
         "type": "scatter",
         "x": [
          "2024-12-31",
          "2025-01-02",
          "2025-01-03",
          "2025-01-06",
          "2025-01-07",
          "2025-01-08",
          "2025-01-09",
          "2025-01-10",
          "2025-01-13",
          "2025-01-14",
          "2025-01-15",
          "2025-01-16",
          "2025-01-17",
          "2025-01-21",
          "2025-01-22",
          "2025-01-23",
          "2025-01-24",
          "2025-01-27",
          "2025-01-28",
          "2025-01-29",
          "2025-01-30",
          "2025-01-31",
          "2025-02-03",
          "2025-02-04",
          "2025-02-05",
          "2025-02-06",
          "2025-02-07",
          "2025-02-10",
          "2025-02-11",
          "2025-02-12",
          "2025-02-13",
          "2025-02-14",
          "2025-02-18",
          "2025-02-19",
          "2025-02-20",
          "2025-02-21",
          "2025-02-24",
          "2025-02-25",
          "2025-02-26",
          "2025-02-27",
          "2025-02-28",
          "2025-03-03",
          "2025-03-04",
          "2025-03-05",
          "2025-03-06",
          "2025-03-07",
          "2025-03-10",
          "2025-03-11",
          "2025-03-12",
          "2025-03-13",
          "2025-03-14",
          "2025-03-17",
          "2025-03-18",
          "2025-03-19",
          "2025-03-20",
          "2025-03-21",
          "2025-03-24",
          "2025-03-25",
          "2025-03-26",
          "2025-03-27"
         ],
         "xaxis": "x4",
         "y": {
          "bdata": "AAAAAAAAMkAAAAAAAABPQAAAAAAAQFBAAAAAAAAAYUAAAAAAAMBnQAAAAAAAyIFAAAAAAACIoUAAAAAAAA6pQAAAAAAArLFAAAAAAABzuUAAAAAAAHu5QAAAAAAAXrlAAAAAAAAouUAAAAAAAMW5QAAAAAAA7rlAAAAAAADLukAAAAAAABW8QAAAAACAZcBAAAAAAAD8w0AAAAAAAHTFQAAAAAAAAcdAAAAAAACyxkAAAAAAAJ3GQAAAAAAAe8dAAAAAAIDXyUAAAAAAgMTMQAAAAAAAxMxAAAAAAADDzEAAAAAAgI/NQAAAAACAr81AAAAAAADezkAAAAAAgFLNQAAAAACA8cxAAAAAAACXzUAAAAAAgKLNQAAAAACAa81AAAAAAIAozEAAAAAAgI7JQAAAAACAksdAAAAAAADxw0AAAAAAABySQAAAAAAACIxAAAAAAACEkEAAAAAAAEyXQAAAAAAAYIlAAAAAAAAIhUAAAAAAAABnQAAAAAAA4GtAAAAAAABgbUAAAAAAADihQAAAAAAADJtAAAAAAACojEAAAAAAAIiPQAAAAAAA0IxAAAAAAABghkAAAAAAAPiEQAAAAAAA0HhAAAAAAACAU0AAAAAAAABUQAAAAAAASIBA",
          "dtype": "f8"
         },
         "yaxis": "y4"
        },
        {
         "line": {
          "color": "rgb(251,128,114)"
         },
         "name": "GCJ5",
         "type": "scatter",
         "x": [
          "2024-12-31",
          "2025-01-02",
          "2025-01-03",
          "2025-01-06",
          "2025-01-07",
          "2025-01-08",
          "2025-01-09",
          "2025-01-10",
          "2025-01-13",
          "2025-01-14",
          "2025-01-15",
          "2025-01-16",
          "2025-01-17",
          "2025-01-21",
          "2025-01-22",
          "2025-01-23",
          "2025-01-24",
          "2025-01-27",
          "2025-01-28",
          "2025-01-29",
          "2025-01-30",
          "2025-01-31",
          "2025-02-03",
          "2025-02-04",
          "2025-02-05",
          "2025-02-06",
          "2025-02-07",
          "2025-02-10",
          "2025-02-11",
          "2025-02-12",
          "2025-02-13",
          "2025-02-14",
          "2025-02-18",
          "2025-02-19",
          "2025-02-20",
          "2025-02-21",
          "2025-02-24",
          "2025-02-25",
          "2025-02-26",
          "2025-02-27",
          "2025-02-28",
          "2025-03-03",
          "2025-03-04",
          "2025-03-05",
          "2025-03-06",
          "2025-03-07",
          "2025-03-10",
          "2025-03-11",
          "2025-03-12",
          "2025-03-13",
          "2025-03-14",
          "2025-03-17",
          "2025-03-18",
          "2025-03-19",
          "2025-03-20",
          "2025-03-21",
          "2025-03-24",
          "2025-03-25",
          "2025-03-26",
          "2025-03-27",
          "2025-03-28",
          "2025-03-31",
          "2025-04-01",
          "2025-04-02",
          "2025-04-03",
          "2025-04-04",
          "2025-04-07",
          "2025-04-08",
          "2025-04-09",
          "2025-04-10",
          "2025-04-11",
          "2025-04-14",
          "2025-04-15",
          "2025-04-16",
          "2025-04-17",
          "2025-04-18",
          "2025-04-21",
          "2025-04-22",
          "2025-04-23",
          "2025-04-24",
          "2025-04-25",
          "2025-04-28"
         ],
         "xaxis": "x3",
         "y": {
          "bdata": "AAAAAACmz0AAAAAAgNzKQAAAAACAas1AAAAAAED30EAAAAAAwALXQAAAAACg7+xAAAAAAED450AAAAAAoIX0QAAAAACAVOtAAAAAAGBA70AAAAAAgFnWQAAAAABAu9tAAAAAAMDT2kAAAAAAQLzrQAAAAABAVONAAAAAAMCA6kAAAAAAwEXzQAAAAAAAiPpAAAAAAOBz/0AAAAAAoFQDQQAAAACo/QZBAAAAAGA5BEEAAAAAACMGQQAAAAAwzgFBAAAAALhuBEEAAAAAqHgEQQAAAAA4gQdBAAAAAABqBEEAAAAAcKsKQQAAAACI+ghBAAAAAMCwBEEAAAAAcNcLQQAAAAAotApBAAAAAGhzA0EAAAAAKAUFQQAAAAAw+wNBAAAAALjeA0EAAAAAEKsMQQAAAABY8QNBAAAAABBZCUEAAAAAALQJQQAAAADQmwVBAAAAABgDB0EAAAAAQFcGQQAAAADgTgRBAAAAAEgADUEAAAAASA0LQQAAAAA4sgdBAAAAAPicCUEAAAAAoFEPQQAAAACgJwZBAAAAAFhaAUEAAAAAUJ4FQQAAAADgvwFBAAAAAHg9AUEAAAAAMEAHQQAAAAAwwghBAAAAAIARBUEAAAAAEP8EQQAAAABwXP5AAAAAAIB53kAAAAAAANyqQAAAAAAA5JpAAAAAAAA6t0AAAAAAAIy1QAAAAAAAXqlAAAAAAABIsUAAAAAAABqpQAAAAAAA/qBAAAAAAAAAq0AAAAAAAPCKQAAAAAAAcHBAAAAAAABgeEAAAAAAAEidQAAAAAAAwIlAAAAAAAAAAAAAAAAAAIBTQAAAAAAAiIhAAAAAAACwdEAAAAAAAICBQAAAAAAAQGRAAAAAAAAASUA=",
          "dtype": "f8"
         },
         "yaxis": "y3"
        },
        {
         "line": {
          "color": "rgb(251,128,114)"
         },
         "name": "GCJ5",
         "showlegend": false,
         "type": "scatter",
         "x": [
          "2024-12-31",
          "2025-01-02",
          "2025-01-03",
          "2025-01-06",
          "2025-01-07",
          "2025-01-08",
          "2025-01-09",
          "2025-01-10",
          "2025-01-13",
          "2025-01-14",
          "2025-01-15",
          "2025-01-16",
          "2025-01-17",
          "2025-01-21",
          "2025-01-22",
          "2025-01-23",
          "2025-01-24",
          "2025-01-27",
          "2025-01-28",
          "2025-01-29",
          "2025-01-30",
          "2025-01-31",
          "2025-02-03",
          "2025-02-04",
          "2025-02-05",
          "2025-02-06",
          "2025-02-07",
          "2025-02-10",
          "2025-02-11",
          "2025-02-12",
          "2025-02-13",
          "2025-02-14",
          "2025-02-18",
          "2025-02-19",
          "2025-02-20",
          "2025-02-21",
          "2025-02-24",
          "2025-02-25",
          "2025-02-26",
          "2025-02-27",
          "2025-02-28",
          "2025-03-03",
          "2025-03-04",
          "2025-03-05",
          "2025-03-06",
          "2025-03-07",
          "2025-03-10",
          "2025-03-11",
          "2025-03-12",
          "2025-03-13",
          "2025-03-14",
          "2025-03-17",
          "2025-03-18",
          "2025-03-19",
          "2025-03-20",
          "2025-03-21",
          "2025-03-24",
          "2025-03-25",
          "2025-03-26",
          "2025-03-27",
          "2025-03-28",
          "2025-03-31",
          "2025-04-01",
          "2025-04-02",
          "2025-04-03",
          "2025-04-04",
          "2025-04-07",
          "2025-04-08",
          "2025-04-09",
          "2025-04-10",
          "2025-04-11",
          "2025-04-14",
          "2025-04-15",
          "2025-04-16",
          "2025-04-17",
          "2025-04-18",
          "2025-04-21",
          "2025-04-22",
          "2025-04-23",
          "2025-04-24",
          "2025-04-25",
          "2025-04-28"
         ],
         "xaxis": "x4",
         "y": {
          "bdata": "AAAAAMCk8EAAAAAAcPrwQAAAAAAQkPFAAAAAAMBJ8kAAAAAAEFX0QAAAAABAdfdAAAAAADAh+kAAAAAAIFz+QAAAAAA4dwFBAAAAALACBEEAAAAAyP4EQQAAAADQJQZBAAAAALCyB0EAAAAA+KoJQQAAAADYbgtBAAAAAPBqDkEAAAAAdEQRQQAAAADUBhNBAAAAAIQgFUEAAAAA7DgXQQAAAAA0hBhBAAAAAOiwGEEAAAAANMwYQQAAAADQ4hhBAAAAAIDVGEEAAAAAaH0YQQAAAABkTxhBAAAAAASRGEEAAAAAJCAYQQAAAAAgFBhBAAAAAAwIGEEAAAAABLkXQQAAAAAYsRdBAAAAANiMF0EAAAAAJK8XQQAAAACcjhdBAAAAAPDNF0EAAAAATJ8WQQAAAACwnhZBAAAAANRIFkEAAAAA+JAVQQAAAACAGRVBAAAAABS/FEEAAAAAOH0UQQAAAACUGhRBAAAAAMRFE0EAAAAAHFQSQQAAAADslRFBAAAAAFieEEEAAAAArIwQQQAAAADEKhBBAAAAAABrD0EAAAAAGOYOQQAAAAAw0A5BAAAAAGCiDUEAAAAA8O0KQQAAAAA4HgRBAAAAAHjFAEEAAAAAwB73QAAAAABA5+1AAAAAAGAK+kAAAAAAgF/SQAAAAAAAA9BAAAAAAIDCw0AAAAAAAIW0QAAAAAAAeK1AAAAAAABHsEAAAAAAAJqnQAAAAAAAsJ1AAAAAAACsoUAAAAAAAKiSQAAAAAAA3JBAAAAAAABojEAAAAAAAFSgQAAAAAAAuJFAAAAAAAC4kUAAAAAAAOCEQAAAAAAACIJAAAAAAADgbEAAAAAAAFB7QAAAAAAAQG9AAAAAAAAASkA=",
          "dtype": "f8"
         },
         "yaxis": "y4"
        },
        {
         "line": {
          "color": "rgb(128,177,211)"
         },
         "name": "GCM5",
         "type": "scatter",
         "x": [
          "2024-12-31",
          "2025-01-02",
          "2025-01-03",
          "2025-01-06",
          "2025-01-07",
          "2025-01-08",
          "2025-01-09",
          "2025-01-10",
          "2025-01-13",
          "2025-01-14",
          "2025-01-15",
          "2025-01-16",
          "2025-01-17",
          "2025-01-21",
          "2025-01-22",
          "2025-01-23",
          "2025-01-24",
          "2025-01-27",
          "2025-01-28",
          "2025-01-29",
          "2025-01-30",
          "2025-01-31",
          "2025-02-03",
          "2025-02-04",
          "2025-02-05",
          "2025-02-06",
          "2025-02-07",
          "2025-02-10",
          "2025-02-11",
          "2025-02-12",
          "2025-02-13",
          "2025-02-14",
          "2025-02-18",
          "2025-02-19",
          "2025-02-20",
          "2025-02-21",
          "2025-02-24",
          "2025-02-25",
          "2025-02-26",
          "2025-02-27",
          "2025-02-28",
          "2025-03-03",
          "2025-03-04",
          "2025-03-05",
          "2025-03-06",
          "2025-03-07",
          "2025-03-10",
          "2025-03-11",
          "2025-03-12",
          "2025-03-13",
          "2025-03-14",
          "2025-03-17",
          "2025-03-18",
          "2025-03-19",
          "2025-03-20",
          "2025-03-21",
          "2025-03-24",
          "2025-03-25",
          "2025-03-26",
          "2025-03-27",
          "2025-03-28",
          "2025-03-31",
          "2025-04-01",
          "2025-04-02",
          "2025-04-03",
          "2025-04-04",
          "2025-04-07",
          "2025-04-08",
          "2025-04-09",
          "2025-04-10",
          "2025-04-11",
          "2025-04-14",
          "2025-04-15",
          "2025-04-16",
          "2025-04-17",
          "2025-04-18",
          "2025-04-21",
          "2025-04-22",
          "2025-04-23",
          "2025-04-24",
          "2025-04-25",
          "2025-04-28",
          "2025-04-29",
          "2025-04-30",
          "2025-05-01",
          "2025-05-02",
          "2025-05-05",
          "2025-05-06",
          "2025-05-07",
          "2025-05-08",
          "2025-05-09",
          "2025-05-12",
          "2025-05-13",
          "2025-05-14",
          "2025-05-15",
          "2025-05-16",
          "2025-05-19",
          "2025-05-20",
          "2025-05-21",
          "2025-05-22",
          "2025-05-23",
          "2025-05-27",
          "2025-05-28",
          "2025-05-29",
          "2025-05-30",
          "2025-06-02",
          "2025-06-03",
          "2025-06-04",
          "2025-06-05",
          "2025-06-06",
          "2025-06-09",
          "2025-06-10",
          "2025-06-11",
          "2025-06-12",
          "2025-06-13",
          "2025-06-16",
          "2025-06-17",
          "2025-06-18",
          "2025-06-19",
          "2025-06-20",
          "2025-06-23",
          "2025-06-24",
          "2025-06-25",
          "2025-06-26"
         ],
         "xaxis": "x3",
         "y": {
          "bdata": "AAAAAAC/skAAAAAAAN+yQAAAAAAA0LlAAAAAAACss0AAAAAAAAitQAAAAAAACLNAAAAAAAAMrkAAAAAAAHS3QAAAAACALs1AAAAAAAA0u0AAAAAAANS2QAAAAAAABrZAAAAAAIDnwEAAAAAAAILDQAAAAAAAM7NAAAAAAACPtkAAAAAAAC28QAAAAAAA1rdAAAAAAACGvEAAAAAAQGzQQAAAAACAq8VAAAAAAAAPt0AAAAAAAN69QAAAAAAAirtAAAAAAAB0vUAAAAAAAO+8QAAAAACAxMRAAAAAAIDExkAAAAAAAOHPQAAAAAAAvLhAAAAAAIB6w0AAAAAAAI+9QAAAAAAAnb1AAAAAAICyw0AAAAAAADGyQAAAAAAAFrlAAAAAAABIt0AAAAAAgFXFQAAAAAAAm7pAAAAAAIB1wEAAAAAAgN7GQAAAAACAx9BAAAAAAIAY0EAAAAAAALjQQAAAAABA/tBAAAAAALAM8EAAAAAAQE7uQAAAAAAgcOtAAAAAAMBD70AAAAAAAKzxQAAAAAAAHt1AAAAAAADz0EAAAAAAwO3bQAAAAAAAftNAAAAAAEAi3EAAAAAAYObmQAAAAAAgjvdAAAAAALDk9UAAAAAAUKP7QAAAAAAg7wZBAAAAANixCUEAAAAASOELQQAAAAAQFghBAAAAAKA8C0EAAAAAMF4XQQAAAAB40hRBAAAAAAwNFEEAAAAASB4IQQAAAABUNRJBAAAAAOiuDEEAAAAAqDAOQQAAAACYJQdBAAAAACAl/kAAAAAAQIoPQQAAAACIjA1BAAAAAAAAAAAAAAAACLgNQQAAAACY0hlBAAAAAAwJF0EAAAAAmD8NQQAAAAAIcw1BAAAAAFicCkEAAAAAQMUEQQAAAABQWwlBAAAAABg1CkEAAAAAkMEJQQAAAABAkgZBAAAAAAhdEEEAAAAA0JESQQAAAABY9xNBAAAAAIBgDEEAAAAA2NQSQQAAAAC4LApBAAAAAEiODEEAAAAAQOQOQQAAAABw9w1BAAAAAHiZBkEAAAAAwFoLQQAAAAD4AwxBAAAAABClDEEAAAAAAC0OQQAAAAB0JRJBAAAAAOAw/0AAAAAAgMzXQAAAAAAASqFAAAAAAACAjkAAAAAAAAq5QAAAAAAA4GlAAAAAAADYhkAAAAAAAEBUQAAAAAAAfJ1AAAAAAABAUEAAAAAAAHSgQAAAAAAAaJxAAAAAAAAwf0AAAAAAAAB+QAAAAAAAFJdAAAAAAACwfkAAAAAAAAAAAAAAAAAAKIZAAAAAAAAAPkAAAAAAANCAQAAAAAAAUHdAAAAAAADAU0A=",
          "dtype": "f8"
         },
         "yaxis": "y3"
        },
        {
         "line": {
          "color": "rgb(128,177,211)"
         },
         "name": "GCM5",
         "showlegend": false,
         "type": "scatter",
         "x": [
          "2024-12-31",
          "2025-01-02",
          "2025-01-03",
          "2025-01-06",
          "2025-01-07",
          "2025-01-08",
          "2025-01-09",
          "2025-01-10",
          "2025-01-13",
          "2025-01-14",
          "2025-01-15",
          "2025-01-16",
          "2025-01-17",
          "2025-01-21",
          "2025-01-22",
          "2025-01-23",
          "2025-01-24",
          "2025-01-27",
          "2025-01-28",
          "2025-01-29",
          "2025-01-30",
          "2025-01-31",
          "2025-02-03",
          "2025-02-04",
          "2025-02-05",
          "2025-02-06",
          "2025-02-07",
          "2025-02-10",
          "2025-02-11",
          "2025-02-12",
          "2025-02-13",
          "2025-02-14",
          "2025-02-18",
          "2025-02-19",
          "2025-02-20",
          "2025-02-21",
          "2025-02-24",
          "2025-02-25",
          "2025-02-26",
          "2025-02-27",
          "2025-02-28",
          "2025-03-03",
          "2025-03-04",
          "2025-03-05",
          "2025-03-06",
          "2025-03-07",
          "2025-03-10",
          "2025-03-11",
          "2025-03-12",
          "2025-03-13",
          "2025-03-14",
          "2025-03-17",
          "2025-03-18",
          "2025-03-19",
          "2025-03-20",
          "2025-03-21",
          "2025-03-24",
          "2025-03-25",
          "2025-03-26",
          "2025-03-27",
          "2025-03-28",
          "2025-03-31",
          "2025-04-01",
          "2025-04-02",
          "2025-04-03",
          "2025-04-04",
          "2025-04-07",
          "2025-04-08",
          "2025-04-09",
          "2025-04-10",
          "2025-04-11",
          "2025-04-14",
          "2025-04-15",
          "2025-04-16",
          "2025-04-17",
          "2025-04-18",
          "2025-04-21",
          "2025-04-22",
          "2025-04-23",
          "2025-04-24",
          "2025-04-25",
          "2025-04-28",
          "2025-04-29",
          "2025-04-30",
          "2025-05-01",
          "2025-05-02",
          "2025-05-05",
          "2025-05-06",
          "2025-05-07",
          "2025-05-08",
          "2025-05-09",
          "2025-05-12",
          "2025-05-13",
          "2025-05-14",
          "2025-05-15",
          "2025-05-16",
          "2025-05-19",
          "2025-05-20",
          "2025-05-21",
          "2025-05-22",
          "2025-05-23",
          "2025-05-27",
          "2025-05-28",
          "2025-05-29",
          "2025-05-30",
          "2025-06-02",
          "2025-06-03",
          "2025-06-04",
          "2025-06-05",
          "2025-06-06",
          "2025-06-09",
          "2025-06-10",
          "2025-06-11",
          "2025-06-12",
          "2025-06-13",
          "2025-06-16",
          "2025-06-17",
          "2025-06-18",
          "2025-06-19",
          "2025-06-20",
          "2025-06-23",
          "2025-06-24",
          "2025-06-25",
          "2025-06-26"
         ],
         "xaxis": "x4",
         "y": {
          "bdata": "AAAAAKDQ4EAAAAAAoFzhQAAAAAAA6+FAAAAAAAA/4kAAAAAAIKTiQAAAAADAquJAAAAAAACQ4kAAAAAA4DniQAAAAAAAoeBAAAAAAEDd4UAAAAAAIM7iQAAAAADgouNAAAAAAGCX5EAAAAAAQPLlQAAAAACAn+ZAAAAAAIBA50AAAAAAYA7oQAAAAADglOhAAAAAAKCN6UAAAAAAYBDtQAAAAABAIe9AAAAAAKBo70AAAAAAgEjwQAAAAABwcvBAAAAAAGCP8EAAAAAAsHvwQAAAAACQyPBAAAAAAOA88UAAAAAAkB/xQAAAAAAgT/FAAAAAAAC98UAAAAAAoOvxQAAAAABQ1vFAAAAAAHB68kAAAAAAMN3yQAAAAACwEPNAAAAAADBU80AAAAAA4N3zQAAAAAAQgfRAAAAAALAf9UAAAAAAkM71QAAAAACgWvdAAAAAACC9+EAAAAAAACj6QAAAAABAEPxAAAAAAKhfAEEAAAAA8LUCQQAAAADA0QRBAAAAAFgoBkEAAAAAkOgHQQAAAADgSAlBAAAAAHAXCkEAAAAAQMkKQQAAAADISwtBAAAAALjSC0EAAAAAoK0MQQAAAAD06xBBAAAAANy5EkEAAAAAJOwUQQAAAAAgCBdBAAAAANAKGEEAAAAAlOgYQQAAAAColBhBAAAAANiEGEEAAAAAsNUXQQAAAABEfxZBAAAAAFClFkEAAAAAKPQUQQAAAABgExVBAAAAAHhyFUEAAAAA7FkVQQAAAAAYHhVBAAAAAKRAFUEAAAAAnJUVQQAAAACIWxVBAAAAAIhbFUEAAAAA8KUVQQAAAAA8YhVBAAAAAJzmFEEAAAAAiP8TQQAAAAAYyxNBAAAAAJy/E0EAAAAAqL8TQQAAAABQshNBAAAAANQ5E0EAAAAA3OASQQAAAABszxJBAAAAACyqEkEAAAAAhE4RQQAAAAAY4Q9BAAAAAFAZDkEAAAAAeGgLQQAAAACg8whBAAAAAGgFCEEAAAAAmCMHQQAAAACArAZBAAAAAFAYBkEAAAAAYJYFQQAAAAAApQNBAAAAADiPAUEAAAAA8OD+QAAAAABAIPJAAAAAAGD74EAAAAAAAKDTQAAAAAAAPLZAAAAAAACksUAAAAAAAHK0QAAAAAAAeLBAAAAAAAD8n0AAAAAAAKCeQAAAAAAAYJxAAAAAAACwfEAAAAAAAJCcQAAAAAAAKKBAAAAAAABggkAAAAAAABCPQAAAAAAAKJ1AAAAAAAAknEAAAAAAACScQAAAAAAAyIpAAAAAAACgYkAAAAAAAEB0QAAAAAAAYHZAAAAAAADAUUA=",
          "dtype": "f8"
         },
         "yaxis": "y4"
        },
        {
         "line": {
          "color": "rgb(253,180,98)"
         },
         "name": "GCQ5",
         "type": "scatter",
         "x": [
          "2024-12-31",
          "2025-01-02",
          "2025-01-03",
          "2025-01-06",
          "2025-01-07",
          "2025-01-08",
          "2025-01-09",
          "2025-01-10",
          "2025-01-13",
          "2025-01-14",
          "2025-01-15",
          "2025-01-16",
          "2025-01-17",
          "2025-01-21",
          "2025-01-22",
          "2025-01-23",
          "2025-01-24",
          "2025-01-27",
          "2025-01-28",
          "2025-01-29",
          "2025-01-30",
          "2025-01-31",
          "2025-02-03",
          "2025-02-04",
          "2025-02-05",
          "2025-02-06",
          "2025-02-07",
          "2025-02-10",
          "2025-02-11",
          "2025-02-12",
          "2025-02-13",
          "2025-02-14",
          "2025-02-18",
          "2025-02-19",
          "2025-02-20",
          "2025-02-21",
          "2025-02-24",
          "2025-02-25",
          "2025-02-26",
          "2025-02-27",
          "2025-02-28",
          "2025-03-03",
          "2025-03-04",
          "2025-03-05",
          "2025-03-06",
          "2025-03-07",
          "2025-03-10",
          "2025-03-11",
          "2025-03-12",
          "2025-03-13",
          "2025-03-14",
          "2025-03-17",
          "2025-03-18",
          "2025-03-19",
          "2025-03-20",
          "2025-03-21",
          "2025-03-24",
          "2025-03-25",
          "2025-03-26",
          "2025-03-27",
          "2025-03-28",
          "2025-03-31",
          "2025-04-01",
          "2025-04-02",
          "2025-04-03",
          "2025-04-04",
          "2025-04-07",
          "2025-04-08",
          "2025-04-09",
          "2025-04-10",
          "2025-04-11",
          "2025-04-14",
          "2025-04-15",
          "2025-04-16",
          "2025-04-17",
          "2025-04-18",
          "2025-04-21",
          "2025-04-22",
          "2025-04-23",
          "2025-04-24",
          "2025-04-25",
          "2025-04-28",
          "2025-04-29",
          "2025-04-30",
          "2025-05-01",
          "2025-05-02",
          "2025-05-05",
          "2025-05-06",
          "2025-05-07",
          "2025-05-08",
          "2025-05-09",
          "2025-05-12",
          "2025-05-13",
          "2025-05-14",
          "2025-05-15",
          "2025-05-16",
          "2025-05-19",
          "2025-05-20",
          "2025-05-21",
          "2025-05-22",
          "2025-05-23",
          "2025-05-27",
          "2025-05-28",
          "2025-05-29",
          "2025-05-30",
          "2025-06-02",
          "2025-06-03",
          "2025-06-04",
          "2025-06-05",
          "2025-06-06",
          "2025-06-09",
          "2025-06-10",
          "2025-06-11",
          "2025-06-12",
          "2025-06-13",
          "2025-06-16",
          "2025-06-17",
          "2025-06-18",
          "2025-06-19",
          "2025-06-20",
          "2025-06-23",
          "2025-06-24",
          "2025-06-25",
          "2025-06-26",
          "2025-06-27",
          "2025-06-30",
          "2025-07-01",
          "2025-07-02",
          "2025-07-03",
          "2025-07-04",
          "2025-07-07",
          "2025-07-08",
          "2025-07-09",
          "2025-07-10",
          "2025-07-11",
          "2025-07-14",
          "2025-07-15",
          "2025-07-16",
          "2025-07-17",
          "2025-07-18",
          "2025-07-21",
          "2025-07-22",
          "2025-07-23",
          "2025-07-24",
          "2025-07-25",
          "2025-07-28",
          "2025-07-29",
          "2025-07-30",
          "2025-07-31",
          "2025-08-01",
          "2025-08-04",
          "2025-08-05",
          "2025-08-06",
          "2025-08-07",
          "2025-08-08",
          "2025-08-11",
          "2025-08-12",
          "2025-08-13",
          "2025-08-14",
          "2025-08-15",
          "2025-08-18",
          "2025-08-19",
          "2025-08-20",
          "2025-08-21",
          "2025-08-22",
          "2025-08-25",
          "2025-08-26",
          "2025-08-27",
          "2025-08-28"
         ],
         "xaxis": "x3",
         "y": {
          "bdata": "AAAAAABQokAAAAAAAOSQQAAAAAAAtqJAAAAAAABMnEAAAAAAAISUQAAAAAAATKBAAAAAAADsp0AAAAAAAGO5QAAAAAAAPMBAAAAAAACKqEAAAAAAAOimQAAAAAAAOqFAAAAAAACIp0AAAAAAAGKgQAAAAAAAGKNAAAAAAACKo0AAAAAAAFilQAAAAAAAVJhAAAAAAAAuqUAAAAAAAO61QAAAAAAAMqtAAAAAAAAgnEAAAAAAADCgQAAAAAAAvqBAAAAAAAAclUAAAAAAAEicQAAAAAAAdK1AAAAAAACcqkAAAAAAAC20QAAAAAAAKKNAAAAAAADesUAAAAAAAKqpQAAAAAAA2qZAAAAAAAA+qkAAAAAAACyeQAAAAAAApJxAAAAAAAAsnEAAAAAAABCYQAAAAAAA0JhAAAAAAADElEAAAAAAABKiQAAAAAAANKhAAAAAAACuoUAAAAAAAJSjQAAAAAAAmKtAAAAAAAAmr0AAAAAAAGC8QAAAAAAA+7VAAAAAAAC8uUAAAAAAAEKvQAAAAAAAwK9AAAAAAABEmUAAAAAAABSnQAAAAAAA/KVAAAAAAAB+p0AAAAAAANqwQAAAAAAAsqxAAAAAAACotkAAAAAAAOi2QAAAAAAAyr9AAAAAAADKrEAAAAAAAPXBQAAAAACA7cBAAAAAAAAUxUAAAAAAQLDVQAAAAABAhtBAAAAAAIBxykAAAAAAACXEQAAAAACAkMpAAAAAAIDKxEAAAAAAAFrGQAAAAAAALbVAAAAAAACVtkAAAAAAAKLDQAAAAACAn8JAAAAAAAAAAAAAAAAAgB3FQAAAAACAac5AAAAAAABzxkAAAAAAANS9QAAAAACAkcNAAAAAAIAJwEAAAAAAAIe6QAAAAAAA1L5AAAAAAADpyEAAAAAAgEXJQAAAAAAAo81AAAAAAAB82UAAAAAAsNrxQAAAAAAABPBAAAAAAGCh5UAAAAAAYFvtQAAAAAAA1uZAAAAAAMB/10AAAAAAADDcQAAAAADAotNAAAAAAICN1EAAAAAAQLrdQAAAAACgtOhAAAAAAAB16UAAAAAAkFrxQAAAAABgNQBBAAAAAOCRBkEAAAAAONMLQQAAAAAQjgZBAAAAABgYBkEAAAAA4IgEQQAAAACgaQRBAAAAANhyC0EAAAAAsKAGQQAAAACoVQFBAAAAAIhlA0EAAAAA8JkIQQAAAACwGAxBAAAAAIyEEEEAAAAAyH8HQQAAAADYhQlBAAAAAFDDBUEAAAAAAAAAAAAAAAAEJBFBAAAAAICqB0EAAAAAKMMLQQAAAACgvf9AAAAAAAD+AkEAAAAAqLcKQQAAAABImgFBAAAAALCcBEEAAAAA2CIAQQAAAACAtAJBAAAAAAAAAAAAAAAAkMcMQQAAAABonQpBAAAAAACBBEEAAAAA8IcEQQAAAACYeQpBAAAAAEDYB0EAAAAAYPUFQQAAAADAtAxBAAAAAGC+A0EAAAAAUC38QAAAAADYVgdBAAAAAGDBC0EAAAAAxA0QQQAAAAA4RwpBAAAAAOD4B0EAAAAAuP8FQQAAAACAn/tAAAAAAADN0kAAAAAAAPCsQAAAAAAAuKpAAAAAAADwdUAAAAAAAJiMQAAAAAAAUJdAAAAAAABYtUAAAAAAAOm9QAAAAAAAQJdAAAAAAAAsmUAAAAAAAJiPQAAAAAAAgIJAAAAAAACEkkAAAAAAADCEQAAAAAAA3JlAAAAAAAD0kkAAAAAAAMBhQAAAAAAAYJNAAAAAAABQkEAAAAAAAEiMQAAAAAAA4IFAAAAAAAAAAAA=",
          "dtype": "f8"
         },
         "yaxis": "y3"
        },
        {
         "line": {
          "color": "rgb(253,180,98)"
         },
         "name": "GCQ5",
         "showlegend": false,
         "type": "scatter",
         "x": [
          "2024-12-31",
          "2025-01-02",
          "2025-01-03",
          "2025-01-06",
          "2025-01-07",
          "2025-01-08",
          "2025-01-09",
          "2025-01-10",
          "2025-01-13",
          "2025-01-14",
          "2025-01-15",
          "2025-01-16",
          "2025-01-17",
          "2025-01-21",
          "2025-01-22",
          "2025-01-23",
          "2025-01-24",
          "2025-01-27",
          "2025-01-28",
          "2025-01-29",
          "2025-01-30",
          "2025-01-31",
          "2025-02-03",
          "2025-02-04",
          "2025-02-05",
          "2025-02-06",
          "2025-02-07",
          "2025-02-10",
          "2025-02-11",
          "2025-02-12",
          "2025-02-13",
          "2025-02-14",
          "2025-02-18",
          "2025-02-19",
          "2025-02-20",
          "2025-02-21",
          "2025-02-24",
          "2025-02-25",
          "2025-02-26",
          "2025-02-27",
          "2025-02-28",
          "2025-03-03",
          "2025-03-04",
          "2025-03-05",
          "2025-03-06",
          "2025-03-07",
          "2025-03-10",
          "2025-03-11",
          "2025-03-12",
          "2025-03-13",
          "2025-03-14",
          "2025-03-17",
          "2025-03-18",
          "2025-03-19",
          "2025-03-20",
          "2025-03-21",
          "2025-03-24",
          "2025-03-25",
          "2025-03-26",
          "2025-03-27",
          "2025-03-28",
          "2025-03-31",
          "2025-04-01",
          "2025-04-02",
          "2025-04-03",
          "2025-04-04",
          "2025-04-07",
          "2025-04-08",
          "2025-04-09",
          "2025-04-10",
          "2025-04-11",
          "2025-04-14",
          "2025-04-15",
          "2025-04-16",
          "2025-04-17",
          "2025-04-18",
          "2025-04-21",
          "2025-04-22",
          "2025-04-23",
          "2025-04-24",
          "2025-04-25",
          "2025-04-28",
          "2025-04-29",
          "2025-04-30",
          "2025-05-01",
          "2025-05-02",
          "2025-05-05",
          "2025-05-06",
          "2025-05-07",
          "2025-05-08",
          "2025-05-09",
          "2025-05-12",
          "2025-05-13",
          "2025-05-14",
          "2025-05-15",
          "2025-05-16",
          "2025-05-19",
          "2025-05-20",
          "2025-05-21",
          "2025-05-22",
          "2025-05-23",
          "2025-05-27",
          "2025-05-28",
          "2025-05-29",
          "2025-05-30",
          "2025-06-02",
          "2025-06-03",
          "2025-06-04",
          "2025-06-05",
          "2025-06-06",
          "2025-06-09",
          "2025-06-10",
          "2025-06-11",
          "2025-06-12",
          "2025-06-13",
          "2025-06-16",
          "2025-06-17",
          "2025-06-18",
          "2025-06-19",
          "2025-06-20",
          "2025-06-23",
          "2025-06-24",
          "2025-06-25",
          "2025-06-26",
          "2025-06-27",
          "2025-06-30",
          "2025-07-01",
          "2025-07-02",
          "2025-07-03",
          "2025-07-04",
          "2025-07-07",
          "2025-07-08",
          "2025-07-09",
          "2025-07-10",
          "2025-07-11",
          "2025-07-14",
          "2025-07-15",
          "2025-07-16",
          "2025-07-17",
          "2025-07-18",
          "2025-07-21",
          "2025-07-22",
          "2025-07-23",
          "2025-07-24",
          "2025-07-25",
          "2025-07-28",
          "2025-07-29",
          "2025-07-30",
          "2025-07-31",
          "2025-08-01",
          "2025-08-04",
          "2025-08-05",
          "2025-08-06",
          "2025-08-07",
          "2025-08-08",
          "2025-08-11",
          "2025-08-12",
          "2025-08-13",
          "2025-08-14",
          "2025-08-15",
          "2025-08-18",
          "2025-08-19",
          "2025-08-20",
          "2025-08-21",
          "2025-08-22",
          "2025-08-25",
          "2025-08-26",
          "2025-08-27",
          "2025-08-28"
         ],
         "xaxis": "x4",
         "y": {
          "bdata": "AAAAAADczEAAAAAAANjMQAAAAACA4cxAAAAAAIDdzUAAAAAAgAfOQAAAAACA4s1AAAAAAIBXzUAAAAAAAL7NQAAAAAAAF9FAAAAAAACp0UAAAAAAAInRQAAAAACAc9FAAAAAAEAZ0UAAAAAAAEjRQAAAAAAAJNJAAAAAAEBb0kAAAAAAwGnTQAAAAACA2tNAAAAAAACZ00AAAAAAQDDTQAAAAAAAL9RAAAAAAMBw1EAAAAAAQObUQAAAAACAsdRAAAAAAECt1EAAAAAAwOXUQAAAAACAudRAAAAAAED81EAAAAAAAJ3VQAAAAAAAEtZAAAAAAIBX1kAAAAAAwIvWQAAAAADAe9ZAAAAAAECO10AAAAAAwLbXQAAAAABA99dAAAAAAIAQ2EAAAAAAAEjYQAAAAABAQdhAAAAAAMBB2EAAAAAAwCvYQAAAAACAc9hAAAAAAMCg2EAAAAAAAD/ZQAAAAAAAp9lAAAAAAIAi2kAAAAAAQHnbQAAAAAAAIdxAAAAAAEBD3kAAAAAAQBzfQAAAAACgPeBAAAAAAKB64EAAAAAAoF3gQAAAAACAsOBAAAAAAKDe4EAAAAAA4EvhQAAAAABAfuFAAAAAAGBP4kAAAAAAoB/jQAAAAACAJ+RAAAAAAABv5EAAAAAAgA7mQAAAAABA3OVAAAAAAMCk5kAAAAAAwB3pQAAAAABArepAAAAAACDE60AAAAAAoK7rQAAAAACA3etAAAAAAACP7EAAAAAA4KnsQAAAAAAA6OxAAAAAAGAI7UAAAAAA4MnsQAAAAABgXe1AAAAAAGBd7UAAAAAAQDXtQAAAAACAX+5AAAAAAODk7kAAAAAA4EzvQAAAAAAwAvBAAAAAAPCW8EAAAAAAYFnxQAAAAADAZPFAAAAAAIDZ8UAAAAAA4MfyQAAAAAAQ3PNAAAAAAPBH9kAAAAAAkCb5QAAAAACAjvxAAAAAABC1/0AAAAAAEEMCQQAAAAAoZARBAAAAACgrBUEAAAAAcBwGQQAAAABAowZBAAAAAJgvB0EAAAAAYA0IQQAAAABwXgpBAAAAAAAyDEEAAAAAoMoOQQAAAADoNBFBAAAAAMT6EkEAAAAA7FoTQQAAAADgSxNBAAAAACC5E0EAAAAAmJMTQQAAAABM5xNBAAAAAADWE0EAAAAAcH8TQQAAAAC0SxNBAAAAAJRVE0EAAAAAqH8TQQAAAACI7BNBAAAAAGBiFEEAAAAA9FQUQQAAAAAoXxRBAAAAACSOFEEAAAAA3GoUQQAAAADEOxRBAAAAAERGFEEAAAAATL0TQQAAAAAAkRNBAAAAALiAE0EAAAAAcFsTQQAAAAAsZRNBAAAAAJRZE0EAAAAAeDcTQQAAAADECRNBAAAAAJQGE0EAAAAAfO4SQQAAAACs3BFBAAAAAFTNEEEAAAAAcO8OQQAAAAAwGg9BAAAAAPiIDUEAAAAAcDAMQQAAAAAwsgtBAAAAALgJCkEAAAAAUO0JQQAAAADQVQpBAAAAAABiCUEAAAAAkJ8FQQAAAABI/wBBAAAAAOCv+kAAAAAAkE7wQAAAAABA4NlAAAAAAEAD00AAAAAAALC0QAAAAAAAlqhAAAAAAABYhEAAAAAAAJiQQAAAAAAATJRAAAAAAAAYrkAAAAAAANS0QAAAAAAA4J1AAAAAAAAKpUAAAAAAALClQAAAAAAAQJhAAAAAAADYnEAAAAAAAJCbQAAAAAAAKqJAAAAAAAD4p0AAAAAAAHB+QAAAAAAAKI1AAAAAAACYlEAAAAAAAPSQQAAAAAAAuIZAAAAAAAAAAAA=",
          "dtype": "f8"
         },
         "yaxis": "y4"
        },
        {
         "line": {
          "color": "rgb(179,222,105)"
         },
         "name": "GCV5",
         "type": "scatter",
         "x": [
          "2024-12-31",
          "2025-01-02",
          "2025-01-03",
          "2025-01-06",
          "2025-01-07",
          "2025-01-08",
          "2025-01-09",
          "2025-01-10",
          "2025-01-13",
          "2025-01-14",
          "2025-01-15",
          "2025-01-16",
          "2025-01-17",
          "2025-01-21",
          "2025-01-22",
          "2025-01-23",
          "2025-01-24",
          "2025-01-27",
          "2025-01-28",
          "2025-01-29",
          "2025-01-30",
          "2025-01-31",
          "2025-02-03",
          "2025-02-04",
          "2025-02-05",
          "2025-02-06",
          "2025-02-07",
          "2025-02-10",
          "2025-02-11",
          "2025-02-12",
          "2025-02-13",
          "2025-02-14",
          "2025-02-18",
          "2025-02-19",
          "2025-02-20",
          "2025-02-21",
          "2025-02-24",
          "2025-02-25",
          "2025-02-26",
          "2025-02-27",
          "2025-02-28",
          "2025-03-03",
          "2025-03-04",
          "2025-03-05",
          "2025-03-06",
          "2025-03-07",
          "2025-03-10",
          "2025-03-11",
          "2025-03-12",
          "2025-03-13",
          "2025-03-14",
          "2025-03-17",
          "2025-03-18",
          "2025-03-19",
          "2025-03-20",
          "2025-03-21",
          "2025-03-24",
          "2025-03-25",
          "2025-03-26",
          "2025-03-27",
          "2025-03-28",
          "2025-03-31",
          "2025-04-01",
          "2025-04-02",
          "2025-04-03",
          "2025-04-04",
          "2025-04-07",
          "2025-04-08",
          "2025-04-09",
          "2025-04-10",
          "2025-04-11",
          "2025-04-14",
          "2025-04-15",
          "2025-04-16",
          "2025-04-17",
          "2025-04-18",
          "2025-04-21",
          "2025-04-22",
          "2025-04-23",
          "2025-04-24",
          "2025-04-25",
          "2025-04-28",
          "2025-04-29",
          "2025-04-30",
          "2025-05-01",
          "2025-05-02",
          "2025-05-05",
          "2025-05-06",
          "2025-05-07",
          "2025-05-08",
          "2025-05-09",
          "2025-05-12",
          "2025-05-13",
          "2025-05-14",
          "2025-05-15",
          "2025-05-16",
          "2025-05-19",
          "2025-05-20",
          "2025-05-21",
          "2025-05-22",
          "2025-05-23",
          "2025-05-27",
          "2025-05-28",
          "2025-05-29",
          "2025-05-30",
          "2025-06-02",
          "2025-06-03",
          "2025-06-04",
          "2025-06-05",
          "2025-06-06",
          "2025-06-09",
          "2025-06-10",
          "2025-06-11",
          "2025-06-12",
          "2025-06-13",
          "2025-06-16",
          "2025-06-17",
          "2025-06-18",
          "2025-06-19",
          "2025-06-20",
          "2025-06-23",
          "2025-06-24",
          "2025-06-25",
          "2025-06-26",
          "2025-06-27",
          "2025-06-30",
          "2025-07-01",
          "2025-07-02",
          "2025-07-03",
          "2025-07-04",
          "2025-07-07",
          "2025-07-08",
          "2025-07-09",
          "2025-07-10",
          "2025-07-11",
          "2025-07-14",
          "2025-07-15",
          "2025-07-16",
          "2025-07-17",
          "2025-07-18",
          "2025-07-21",
          "2025-07-22",
          "2025-07-23",
          "2025-07-24",
          "2025-07-25",
          "2025-07-28",
          "2025-07-29",
          "2025-07-30",
          "2025-07-31",
          "2025-08-01",
          "2025-08-04",
          "2025-08-05",
          "2025-08-06",
          "2025-08-07",
          "2025-08-08",
          "2025-08-11",
          "2025-08-12",
          "2025-08-13",
          "2025-08-14",
          "2025-08-15",
          "2025-08-18",
          "2025-08-19",
          "2025-08-20",
          "2025-08-21",
          "2025-08-22",
          "2025-08-25",
          "2025-08-26",
          "2025-08-27",
          "2025-08-28",
          "2025-08-29",
          "2025-09-01",
          "2025-09-02",
          "2025-09-03",
          "2025-09-04",
          "2025-09-05",
          "2025-09-08",
          "2025-09-09",
          "2025-09-10",
          "2025-09-11",
          "2025-09-12",
          "2025-09-15",
          "2025-09-16",
          "2025-09-17",
          "2025-09-18",
          "2025-09-19",
          "2025-09-22",
          "2025-09-23",
          "2025-09-24",
          "2025-09-25",
          "2025-09-26",
          "2025-09-29",
          "2025-09-30",
          "2025-10-01",
          "2025-10-02",
          "2025-10-03",
          "2025-10-06",
          "2025-10-07",
          "2025-10-08",
          "2025-10-09",
          "2025-10-10",
          "2025-10-13",
          "2025-10-14",
          "2025-10-15",
          "2025-10-16",
          "2025-10-17"
         ],
         "xaxis": "x3",
         "y": {
          "bdata": "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",
          "dtype": "f8"
         },
         "yaxis": "y3"
        },
        {
         "line": {
          "color": "rgb(179,222,105)"
         },
         "name": "GCV5",
         "showlegend": false,
         "type": "scatter",
         "x": [
          "2024-12-31",
          "2025-01-02",
          "2025-01-03",
          "2025-01-06",
          "2025-01-07",
          "2025-01-08",
          "2025-01-09",
          "2025-01-10",
          "2025-01-13",
          "2025-01-14",
          "2025-01-15",
          "2025-01-16",
          "2025-01-17",
          "2025-01-21",
          "2025-01-22",
          "2025-01-23",
          "2025-01-24",
          "2025-01-27",
          "2025-01-28",
          "2025-01-29",
          "2025-01-30",
          "2025-01-31",
          "2025-02-03",
          "2025-02-04",
          "2025-02-05",
          "2025-02-06",
          "2025-02-07",
          "2025-02-10",
          "2025-02-11",
          "2025-02-12",
          "2025-02-13",
          "2025-02-14",
          "2025-02-18",
          "2025-02-19",
          "2025-02-20",
          "2025-02-21",
          "2025-02-24",
          "2025-02-25",
          "2025-02-26",
          "2025-02-27",
          "2025-02-28",
          "2025-03-03",
          "2025-03-04",
          "2025-03-05",
          "2025-03-06",
          "2025-03-07",
          "2025-03-10",
          "2025-03-11",
          "2025-03-12",
          "2025-03-13",
          "2025-03-14",
          "2025-03-17",
          "2025-03-18",
          "2025-03-19",
          "2025-03-20",
          "2025-03-21",
          "2025-03-24",
          "2025-03-25",
          "2025-03-26",
          "2025-03-27",
          "2025-03-28",
          "2025-03-31",
          "2025-04-01",
          "2025-04-02",
          "2025-04-03",
          "2025-04-04",
          "2025-04-07",
          "2025-04-08",
          "2025-04-09",
          "2025-04-10",
          "2025-04-11",
          "2025-04-14",
          "2025-04-15",
          "2025-04-16",
          "2025-04-17",
          "2025-04-18",
          "2025-04-21",
          "2025-04-22",
          "2025-04-23",
          "2025-04-24",
          "2025-04-25",
          "2025-04-28",
          "2025-04-29",
          "2025-04-30",
          "2025-05-01",
          "2025-05-02",
          "2025-05-05",
          "2025-05-06",
          "2025-05-07",
          "2025-05-08",
          "2025-05-09",
          "2025-05-12",
          "2025-05-13",
          "2025-05-14",
          "2025-05-15",
          "2025-05-16",
          "2025-05-19",
          "2025-05-20",
          "2025-05-21",
          "2025-05-22",
          "2025-05-23",
          "2025-05-27",
          "2025-05-28",
          "2025-05-29",
          "2025-05-30",
          "2025-06-02",
          "2025-06-03",
          "2025-06-04",
          "2025-06-05",
          "2025-06-06",
          "2025-06-09",
          "2025-06-10",
          "2025-06-11",
          "2025-06-12",
          "2025-06-13",
          "2025-06-16",
          "2025-06-17",
          "2025-06-18",
          "2025-06-19",
          "2025-06-20",
          "2025-06-23",
          "2025-06-24",
          "2025-06-25",
          "2025-06-26",
          "2025-06-27",
          "2025-06-30",
          "2025-07-01",
          "2025-07-02",
          "2025-07-03",
          "2025-07-04",
          "2025-07-07",
          "2025-07-08",
          "2025-07-09",
          "2025-07-10",
          "2025-07-11",
          "2025-07-14",
          "2025-07-15",
          "2025-07-16",
          "2025-07-17",
          "2025-07-18",
          "2025-07-21",
          "2025-07-22",
          "2025-07-23",
          "2025-07-24",
          "2025-07-25",
          "2025-07-28",
          "2025-07-29",
          "2025-07-30",
          "2025-07-31",
          "2025-08-01",
          "2025-08-04",
          "2025-08-05",
          "2025-08-06",
          "2025-08-07",
          "2025-08-08",
          "2025-08-11",
          "2025-08-12",
          "2025-08-13",
          "2025-08-14",
          "2025-08-15",
          "2025-08-18",
          "2025-08-19",
          "2025-08-20",
          "2025-08-21",
          "2025-08-22",
          "2025-08-25",
          "2025-08-26",
          "2025-08-27",
          "2025-08-28",
          "2025-08-29",
          "2025-09-01",
          "2025-09-02",
          "2025-09-03",
          "2025-09-04",
          "2025-09-05",
          "2025-09-08",
          "2025-09-09",
          "2025-09-10",
          "2025-09-11",
          "2025-09-12",
          "2025-09-15",
          "2025-09-16",
          "2025-09-17",
          "2025-09-18",
          "2025-09-19",
          "2025-09-22",
          "2025-09-23",
          "2025-09-24",
          "2025-09-25",
          "2025-09-26",
          "2025-09-29",
          "2025-09-30",
          "2025-10-01",
          "2025-10-02",
          "2025-10-03",
          "2025-10-06",
          "2025-10-07",
          "2025-10-08",
          "2025-10-09",
          "2025-10-10",
          "2025-10-13",
          "2025-10-14",
          "2025-10-15",
          "2025-10-16",
          "2025-10-17"
         ],
         "xaxis": "x4",
         "y": {
          "bdata": "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",
          "dtype": "f8"
         },
         "yaxis": "y4"
        },
        {
         "line": {
          "color": "rgb(252,205,229)"
         },
         "name": "GCZ5",
         "type": "scatter",
         "x": [
          "2024-12-31",
          "2025-01-02",
          "2025-01-03",
          "2025-01-06",
          "2025-01-07",
          "2025-01-08",
          "2025-01-09",
          "2025-01-10",
          "2025-01-13",
          "2025-01-14",
          "2025-01-15",
          "2025-01-16",
          "2025-01-17",
          "2025-01-21",
          "2025-01-22",
          "2025-01-23",
          "2025-01-24",
          "2025-01-27",
          "2025-01-28",
          "2025-01-29",
          "2025-01-30",
          "2025-01-31",
          "2025-02-03",
          "2025-02-04",
          "2025-02-05",
          "2025-02-06",
          "2025-02-07",
          "2025-02-10",
          "2025-02-11",
          "2025-02-12",
          "2025-02-13",
          "2025-02-14",
          "2025-02-18",
          "2025-02-19",
          "2025-02-20",
          "2025-02-21",
          "2025-02-24",
          "2025-02-25",
          "2025-02-26",
          "2025-02-27",
          "2025-02-28",
          "2025-03-03",
          "2025-03-04",
          "2025-03-05",
          "2025-03-06",
          "2025-03-07",
          "2025-03-10",
          "2025-03-11",
          "2025-03-12",
          "2025-03-13",
          "2025-03-14",
          "2025-03-17",
          "2025-03-18",
          "2025-03-19",
          "2025-03-20",
          "2025-03-21",
          "2025-03-24",
          "2025-03-25",
          "2025-03-26",
          "2025-03-27",
          "2025-03-28",
          "2025-03-31",
          "2025-04-01",
          "2025-04-02",
          "2025-04-03",
          "2025-04-04",
          "2025-04-07",
          "2025-04-08",
          "2025-04-09",
          "2025-04-10",
          "2025-04-11",
          "2025-04-14",
          "2025-04-15",
          "2025-04-16",
          "2025-04-17",
          "2025-04-18",
          "2025-04-21",
          "2025-04-22",
          "2025-04-23",
          "2025-04-24",
          "2025-04-25",
          "2025-04-28",
          "2025-04-29",
          "2025-04-30",
          "2025-05-01",
          "2025-05-02",
          "2025-05-05",
          "2025-05-06",
          "2025-05-07",
          "2025-05-08",
          "2025-05-09",
          "2025-05-12",
          "2025-05-13",
          "2025-05-14",
          "2025-05-15",
          "2025-05-16",
          "2025-05-19",
          "2025-05-20",
          "2025-05-21",
          "2025-05-22",
          "2025-05-23",
          "2025-05-27",
          "2025-05-28",
          "2025-05-29",
          "2025-05-30",
          "2025-06-02",
          "2025-06-03",
          "2025-06-04",
          "2025-06-05",
          "2025-06-06",
          "2025-06-09",
          "2025-06-10",
          "2025-06-11",
          "2025-06-12",
          "2025-06-13",
          "2025-06-16",
          "2025-06-17",
          "2025-06-18",
          "2025-06-19",
          "2025-06-20",
          "2025-06-23",
          "2025-06-24",
          "2025-06-25",
          "2025-06-26",
          "2025-06-27",
          "2025-06-30",
          "2025-07-01",
          "2025-07-02",
          "2025-07-03",
          "2025-07-04",
          "2025-07-07",
          "2025-07-08",
          "2025-07-09",
          "2025-07-10",
          "2025-07-11",
          "2025-07-14",
          "2025-07-15",
          "2025-07-16",
          "2025-07-17",
          "2025-07-18",
          "2025-07-21",
          "2025-07-22",
          "2025-07-23",
          "2025-07-24",
          "2025-07-25",
          "2025-07-28",
          "2025-07-29",
          "2025-07-30",
          "2025-07-31",
          "2025-08-01",
          "2025-08-04",
          "2025-08-05",
          "2025-08-06",
          "2025-08-07",
          "2025-08-08",
          "2025-08-11",
          "2025-08-12",
          "2025-08-13",
          "2025-08-14",
          "2025-08-15",
          "2025-08-18",
          "2025-08-19",
          "2025-08-20",
          "2025-08-21",
          "2025-08-22",
          "2025-08-25",
          "2025-08-26",
          "2025-08-27",
          "2025-08-28",
          "2025-08-29",
          "2025-09-01",
          "2025-09-02",
          "2025-09-03",
          "2025-09-04",
          "2025-09-05",
          "2025-09-08",
          "2025-09-09",
          "2025-09-10",
          "2025-09-11",
          "2025-09-12",
          "2025-09-15",
          "2025-09-16",
          "2025-09-17",
          "2025-09-18",
          "2025-09-19",
          "2025-09-22",
          "2025-09-23",
          "2025-09-24",
          "2025-09-25",
          "2025-09-26",
          "2025-09-29",
          "2025-09-30",
          "2025-10-01",
          "2025-10-02",
          "2025-10-03",
          "2025-10-06",
          "2025-10-07",
          "2025-10-08",
          "2025-10-09",
          "2025-10-10",
          "2025-10-13",
          "2025-10-14",
          "2025-10-15",
          "2025-10-16",
          "2025-10-17"
         ],
         "xaxis": "x3",
         "y": {
          "bdata": "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",
          "dtype": "f8"
         },
         "yaxis": "y3"
        },
        {
         "line": {
          "color": "rgb(252,205,229)"
         },
         "name": "GCZ5",
         "showlegend": false,
         "type": "scatter",
         "x": [
          "2024-12-31",
          "2025-01-02",
          "2025-01-03",
          "2025-01-06",
          "2025-01-07",
          "2025-01-08",
          "2025-01-09",
          "2025-01-10",
          "2025-01-13",
          "2025-01-14",
          "2025-01-15",
          "2025-01-16",
          "2025-01-17",
          "2025-01-21",
          "2025-01-22",
          "2025-01-23",
          "2025-01-24",
          "2025-01-27",
          "2025-01-28",
          "2025-01-29",
          "2025-01-30",
          "2025-01-31",
          "2025-02-03",
          "2025-02-04",
          "2025-02-05",
          "2025-02-06",
          "2025-02-07",
          "2025-02-10",
          "2025-02-11",
          "2025-02-12",
          "2025-02-13",
          "2025-02-14",
          "2025-02-18",
          "2025-02-19",
          "2025-02-20",
          "2025-02-21",
          "2025-02-24",
          "2025-02-25",
          "2025-02-26",
          "2025-02-27",
          "2025-02-28",
          "2025-03-03",
          "2025-03-04",
          "2025-03-05",
          "2025-03-06",
          "2025-03-07",
          "2025-03-10",
          "2025-03-11",
          "2025-03-12",
          "2025-03-13",
          "2025-03-14",
          "2025-03-17",
          "2025-03-18",
          "2025-03-19",
          "2025-03-20",
          "2025-03-21",
          "2025-03-24",
          "2025-03-25",
          "2025-03-26",
          "2025-03-27",
          "2025-03-28",
          "2025-03-31",
          "2025-04-01",
          "2025-04-02",
          "2025-04-03",
          "2025-04-04",
          "2025-04-07",
          "2025-04-08",
          "2025-04-09",
          "2025-04-10",
          "2025-04-11",
          "2025-04-14",
          "2025-04-15",
          "2025-04-16",
          "2025-04-17",
          "2025-04-18",
          "2025-04-21",
          "2025-04-22",
          "2025-04-23",
          "2025-04-24",
          "2025-04-25",
          "2025-04-28",
          "2025-04-29",
          "2025-04-30",
          "2025-05-01",
          "2025-05-02",
          "2025-05-05",
          "2025-05-06",
          "2025-05-07",
          "2025-05-08",
          "2025-05-09",
          "2025-05-12",
          "2025-05-13",
          "2025-05-14",
          "2025-05-15",
          "2025-05-16",
          "2025-05-19",
          "2025-05-20",
          "2025-05-21",
          "2025-05-22",
          "2025-05-23",
          "2025-05-27",
          "2025-05-28",
          "2025-05-29",
          "2025-05-30",
          "2025-06-02",
          "2025-06-03",
          "2025-06-04",
          "2025-06-05",
          "2025-06-06",
          "2025-06-09",
          "2025-06-10",
          "2025-06-11",
          "2025-06-12",
          "2025-06-13",
          "2025-06-16",
          "2025-06-17",
          "2025-06-18",
          "2025-06-19",
          "2025-06-20",
          "2025-06-23",
          "2025-06-24",
          "2025-06-25",
          "2025-06-26",
          "2025-06-27",
          "2025-06-30",
          "2025-07-01",
          "2025-07-02",
          "2025-07-03",
          "2025-07-04",
          "2025-07-07",
          "2025-07-08",
          "2025-07-09",
          "2025-07-10",
          "2025-07-11",
          "2025-07-14",
          "2025-07-15",
          "2025-07-16",
          "2025-07-17",
          "2025-07-18",
          "2025-07-21",
          "2025-07-22",
          "2025-07-23",
          "2025-07-24",
          "2025-07-25",
          "2025-07-28",
          "2025-07-29",
          "2025-07-30",
          "2025-07-31",
          "2025-08-01",
          "2025-08-04",
          "2025-08-05",
          "2025-08-06",
          "2025-08-07",
          "2025-08-08",
          "2025-08-11",
          "2025-08-12",
          "2025-08-13",
          "2025-08-14",
          "2025-08-15",
          "2025-08-18",
          "2025-08-19",
          "2025-08-20",
          "2025-08-21",
          "2025-08-22",
          "2025-08-25",
          "2025-08-26",
          "2025-08-27",
          "2025-08-28",
          "2025-08-29",
          "2025-09-01",
          "2025-09-02",
          "2025-09-03",
          "2025-09-04",
          "2025-09-05",
          "2025-09-08",
          "2025-09-09",
          "2025-09-10",
          "2025-09-11",
          "2025-09-12",
          "2025-09-15",
          "2025-09-16",
          "2025-09-17",
          "2025-09-18",
          "2025-09-19",
          "2025-09-22",
          "2025-09-23",
          "2025-09-24",
          "2025-09-25",
          "2025-09-26",
          "2025-09-29",
          "2025-09-30",
          "2025-10-01",
          "2025-10-02",
          "2025-10-03",
          "2025-10-06",
          "2025-10-07",
          "2025-10-08",
          "2025-10-09",
          "2025-10-10",
          "2025-10-13",
          "2025-10-14",
          "2025-10-15",
          "2025-10-16",
          "2025-10-17"
         ],
         "xaxis": "x4",
         "y": {
          "bdata": "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",
          "dtype": "f8"
         },
         "yaxis": "y4"
        }
       ],
       "layout": {
        "annotations": [
         {
          "font": {
           "size": 16
          },
          "showarrow": false,
          "text": "CL Cleared volume",
          "x": 0.225,
          "xanchor": "center",
          "xref": "paper",
          "y": 1.0,
          "yanchor": "bottom",
          "yref": "paper"
         },
         {
          "font": {
           "size": 16
          },
          "showarrow": false,
          "text": "CL Open interest",
          "x": 0.775,
          "xanchor": "center",
          "xref": "paper",
          "y": 1.0,
          "yanchor": "bottom",
          "yref": "paper"
         },
         {
          "font": {
           "size": 16
          },
          "showarrow": false,
          "text": "GC Cleared volume",
          "x": 0.225,
          "xanchor": "center",
          "xref": "paper",
          "y": 0.375,
          "yanchor": "bottom",
          "yref": "paper"
         },
         {
          "font": {
           "size": 16
          },
          "showarrow": false,
          "text": "GC Open interest",
          "x": 0.775,
          "xanchor": "center",
          "xref": "paper",
          "y": 0.375,
          "yanchor": "bottom",
          "yref": "paper"
         }
        ],
        "height": 600,
        "template": {
         "data": {
          "bar": [
           {
            "error_x": {
             "color": "#f2f5fa"
            },
            "error_y": {
             "color": "#f2f5fa"
            },
            "marker": {
             "line": {
              "color": "rgb(17,17,17)",
              "width": 0.5
             },
             "pattern": {
              "fillmode": "overlay",
              "size": 10,
              "solidity": 0.2
             }
            },
            "type": "bar"
           }
          ],
          "barpolar": [
           {
            "marker": {
             "line": {
              "color": "rgb(17,17,17)",
              "width": 0.5
             },
             "pattern": {
              "fillmode": "overlay",
              "size": 10,
              "solidity": 0.2
             }
            },
            "type": "barpolar"
           }
          ],
          "carpet": [
           {
            "aaxis": {
             "endlinecolor": "#A2B1C6",
             "gridcolor": "#506784",
             "linecolor": "#506784",
             "minorgridcolor": "#506784",
             "startlinecolor": "#A2B1C6"
            },
            "baxis": {
             "endlinecolor": "#A2B1C6",
             "gridcolor": "#506784",
             "linecolor": "#506784",
             "minorgridcolor": "#506784",
             "startlinecolor": "#A2B1C6"
            },
            "type": "carpet"
           }
          ],
          "choropleth": [
           {
            "colorbar": {
             "outlinewidth": 0,
             "ticks": ""
            },
            "type": "choropleth"
           }
          ],
          "contour": [
           {
            "colorbar": {
             "outlinewidth": 0,
             "ticks": ""
            },
            "colorscale": [
             [
              0.0,
              "#0d0887"
             ],
             [
              0.1111111111111111,
              "#46039f"
             ],
             [
              0.2222222222222222,
              "#7201a8"
             ],
             [
              0.3333333333333333,
              "#9c179e"
             ],
             [
              0.4444444444444444,
              "#bd3786"
             ],
             [
              0.5555555555555556,
              "#d8576b"
             ],
             [
              0.6666666666666666,
              "#ed7953"
             ],
             [
              0.7777777777777778,
              "#fb9f3a"
             ],
             [
              0.8888888888888888,
              "#fdca26"
             ],
             [
              1.0,
              "#f0f921"
             ]
            ],
            "type": "contour"
           }
          ],
          "contourcarpet": [
           {
            "colorbar": {
             "outlinewidth": 0,
             "ticks": ""
            },
            "type": "contourcarpet"
           }
          ],
          "heatmap": [
           {
            "colorbar": {
             "outlinewidth": 0,
             "ticks": ""
            },
            "colorscale": [
             [
              0.0,
              "#0d0887"
             ],
             [
              0.1111111111111111,
              "#46039f"
             ],
             [
              0.2222222222222222,
              "#7201a8"
             ],
             [
              0.3333333333333333,
              "#9c179e"
             ],
             [
              0.4444444444444444,
              "#bd3786"
             ],
             [
              0.5555555555555556,
              "#d8576b"
             ],
             [
              0.6666666666666666,
              "#ed7953"
             ],
             [
              0.7777777777777778,
              "#fb9f3a"
             ],
             [
              0.8888888888888888,
              "#fdca26"
             ],
             [
              1.0,
              "#f0f921"
             ]
            ],
            "type": "heatmap"
           }
          ],
          "histogram": [
           {
            "marker": {
             "pattern": {
              "fillmode": "overlay",
              "size": 10,
              "solidity": 0.2
             }
            },
            "type": "histogram"
           }
          ],
          "histogram2d": [
           {
            "colorbar": {
             "outlinewidth": 0,
             "ticks": ""
            },
            "colorscale": [
             [
              0.0,
              "#0d0887"
             ],
             [
              0.1111111111111111,
              "#46039f"
             ],
             [
              0.2222222222222222,
              "#7201a8"
             ],
             [
              0.3333333333333333,
              "#9c179e"
             ],
             [
              0.4444444444444444,
              "#bd3786"
             ],
             [
              0.5555555555555556,
              "#d8576b"
             ],
             [
              0.6666666666666666,
              "#ed7953"
             ],
             [
              0.7777777777777778,
              "#fb9f3a"
             ],
             [
              0.8888888888888888,
              "#fdca26"
             ],
             [
              1.0,
              "#f0f921"
             ]
            ],
            "type": "histogram2d"
           }
          ],
          "histogram2dcontour": [
           {
            "colorbar": {
             "outlinewidth": 0,
             "ticks": ""
            },
            "colorscale": [
             [
              0.0,
              "#0d0887"
             ],
             [
              0.1111111111111111,
              "#46039f"
             ],
             [
              0.2222222222222222,
              "#7201a8"
             ],
             [
              0.3333333333333333,
              "#9c179e"
             ],
             [
              0.4444444444444444,
              "#bd3786"
             ],
             [
              0.5555555555555556,
              "#d8576b"
             ],
             [
              0.6666666666666666,
              "#ed7953"
             ],
             [
              0.7777777777777778,
              "#fb9f3a"
             ],
             [
              0.8888888888888888,
              "#fdca26"
             ],
             [
              1.0,
              "#f0f921"
             ]
            ],
            "type": "histogram2dcontour"
           }
          ],
          "mesh3d": [
           {
            "colorbar": {
             "outlinewidth": 0,
             "ticks": ""
            },
            "type": "mesh3d"
           }
          ],
          "parcoords": [
           {
            "line": {
             "colorbar": {
              "outlinewidth": 0,
              "ticks": ""
             }
            },
            "type": "parcoords"
           }
          ],
          "pie": [
           {
            "automargin": true,
            "type": "pie"
           }
          ],
          "scatter": [
           {
            "marker": {
             "line": {
              "color": "#283442"
             }
            },
            "type": "scatter"
           }
          ],
          "scatter3d": [
           {
            "line": {
             "colorbar": {
              "outlinewidth": 0,
              "ticks": ""
             }
            },
            "marker": {
             "colorbar": {
              "outlinewidth": 0,
              "ticks": ""
             }
            },
            "type": "scatter3d"
           }
          ],
          "scattercarpet": [
           {
            "marker": {
             "colorbar": {
              "outlinewidth": 0,
              "ticks": ""
             }
            },
            "type": "scattercarpet"
           }
          ],
          "scattergeo": [
           {
            "marker": {
             "colorbar": {
              "outlinewidth": 0,
              "ticks": ""
             }
            },
            "type": "scattergeo"
           }
          ],
          "scattergl": [
           {
            "marker": {
             "line": {
              "color": "#283442"
             }
            },
            "type": "scattergl"
           }
          ],
          "scattermap": [
           {
            "marker": {
             "colorbar": {
              "outlinewidth": 0,
              "ticks": ""
             }
            },
            "type": "scattermap"
           }
          ],
          "scattermapbox": [
           {
            "marker": {
             "colorbar": {
              "outlinewidth": 0,
              "ticks": ""
             }
            },
            "type": "scattermapbox"
           }
          ],
          "scatterpolar": [
           {
            "marker": {
             "colorbar": {
              "outlinewidth": 0,
              "ticks": ""
             }
            },
            "type": "scatterpolar"
           }
          ],
          "scatterpolargl": [
           {
            "marker": {
             "colorbar": {
              "outlinewidth": 0,
              "ticks": ""
             }
            },
            "type": "scatterpolargl"
           }
          ],
          "scatterternary": [
           {
            "marker": {
             "colorbar": {
              "outlinewidth": 0,
              "ticks": ""
             }
            },
            "type": "scatterternary"
           }
          ],
          "surface": [
           {
            "colorbar": {
             "outlinewidth": 0,
             "ticks": ""
            },
            "colorscale": [
             [
              0.0,
              "#0d0887"
             ],
             [
              0.1111111111111111,
              "#46039f"
             ],
             [
              0.2222222222222222,
              "#7201a8"
             ],
             [
              0.3333333333333333,
              "#9c179e"
             ],
             [
              0.4444444444444444,
              "#bd3786"
             ],
             [
              0.5555555555555556,
              "#d8576b"
             ],
             [
              0.6666666666666666,
              "#ed7953"
             ],
             [
              0.7777777777777778,
              "#fb9f3a"
             ],
             [
              0.8888888888888888,
              "#fdca26"
             ],
             [
              1.0,
              "#f0f921"
             ]
            ],
            "type": "surface"
           }
          ],
          "table": [
           {
            "cells": {
             "fill": {
              "color": "#506784"
             },
             "line": {
              "color": "rgb(17,17,17)"
             }
            },
            "header": {
             "fill": {
              "color": "#2a3f5f"
             },
             "line": {
              "color": "rgb(17,17,17)"
             }
            },
            "type": "table"
           }
          ]
         },
         "layout": {
          "annotationdefaults": {
           "arrowcolor": "#f2f5fa",
           "arrowhead": 0,
           "arrowwidth": 1
          },
          "autotypenumbers": "strict",
          "coloraxis": {
           "colorbar": {
            "outlinewidth": 0,
            "ticks": ""
           }
          },
          "colorscale": {
           "diverging": [
            [
             0,
             "#8e0152"
            ],
            [
             0.1,
             "#c51b7d"
            ],
            [
             0.2,
             "#de77ae"
            ],
            [
             0.3,
             "#f1b6da"
            ],
            [
             0.4,
             "#fde0ef"
            ],
            [
             0.5,
             "#f7f7f7"
            ],
            [
             0.6,
             "#e6f5d0"
            ],
            [
             0.7,
             "#b8e186"
            ],
            [
             0.8,
             "#7fbc41"
            ],
            [
             0.9,
             "#4d9221"
            ],
            [
             1,
             "#276419"
            ]
           ],
           "sequential": [
            [
             0.0,
             "#0d0887"
            ],
            [
             0.1111111111111111,
             "#46039f"
            ],
            [
             0.2222222222222222,
             "#7201a8"
            ],
            [
             0.3333333333333333,
             "#9c179e"
            ],
            [
             0.4444444444444444,
             "#bd3786"
            ],
            [
             0.5555555555555556,
             "#d8576b"
            ],
            [
             0.6666666666666666,
             "#ed7953"
            ],
            [
             0.7777777777777778,
             "#fb9f3a"
            ],
            [
             0.8888888888888888,
             "#fdca26"
            ],
            [
             1.0,
             "#f0f921"
            ]
           ],
           "sequentialminus": [
            [
             0.0,
             "#0d0887"
            ],
            [
             0.1111111111111111,
             "#46039f"
            ],
            [
             0.2222222222222222,
             "#7201a8"
            ],
            [
             0.3333333333333333,
             "#9c179e"
            ],
            [
             0.4444444444444444,
             "#bd3786"
            ],
            [
             0.5555555555555556,
             "#d8576b"
            ],
            [
             0.6666666666666666,
             "#ed7953"
            ],
            [
             0.7777777777777778,
             "#fb9f3a"
            ],
            [
             0.8888888888888888,
             "#fdca26"
            ],
            [
             1.0,
             "#f0f921"
            ]
           ]
          },
          "colorway": [
           "#636efa",
           "#EF553B",
           "#00cc96",
           "#ab63fa",
           "#FFA15A",
           "#19d3f3",
           "#FF6692",
           "#B6E880",
           "#FF97FF",
           "#FECB52"
          ],
          "font": {
           "color": "#f2f5fa"
          },
          "geo": {
           "bgcolor": "rgb(17,17,17)",
           "lakecolor": "rgb(17,17,17)",
           "landcolor": "rgb(17,17,17)",
           "showlakes": true,
           "showland": true,
           "subunitcolor": "#506784"
          },
          "hoverlabel": {
           "align": "left"
          },
          "hovermode": "closest",
          "mapbox": {
           "style": "dark"
          },
          "paper_bgcolor": "rgb(17,17,17)",
          "plot_bgcolor": "rgb(17,17,17)",
          "polar": {
           "angularaxis": {
            "gridcolor": "#506784",
            "linecolor": "#506784",
            "ticks": ""
           },
           "bgcolor": "rgb(17,17,17)",
           "radialaxis": {
            "gridcolor": "#506784",
            "linecolor": "#506784",
            "ticks": ""
           }
          },
          "scene": {
           "xaxis": {
            "backgroundcolor": "rgb(17,17,17)",
            "gridcolor": "#506784",
            "gridwidth": 2,
            "linecolor": "#506784",
            "showbackground": true,
            "ticks": "",
            "zerolinecolor": "#C8D4E3"
           },
           "yaxis": {
            "backgroundcolor": "rgb(17,17,17)",
            "gridcolor": "#506784",
            "gridwidth": 2,
            "linecolor": "#506784",
            "showbackground": true,
            "ticks": "",
            "zerolinecolor": "#C8D4E3"
           },
           "zaxis": {
            "backgroundcolor": "rgb(17,17,17)",
            "gridcolor": "#506784",
            "gridwidth": 2,
            "linecolor": "#506784",
            "showbackground": true,
            "ticks": "",
            "zerolinecolor": "#C8D4E3"
           }
          },
          "shapedefaults": {
           "line": {
            "color": "#f2f5fa"
           }
          },
          "sliderdefaults": {
           "bgcolor": "#C8D4E3",
           "bordercolor": "rgb(17,17,17)",
           "borderwidth": 1,
           "tickwidth": 0
          },
          "ternary": {
           "aaxis": {
            "gridcolor": "#506784",
            "linecolor": "#506784",
            "ticks": ""
           },
           "baxis": {
            "gridcolor": "#506784",
            "linecolor": "#506784",
            "ticks": ""
           },
           "bgcolor": "rgb(17,17,17)",
           "caxis": {
            "gridcolor": "#506784",
            "linecolor": "#506784",
            "ticks": ""
           }
          },
          "title": {
           "x": 0.05
          },
          "updatemenudefaults": {
           "bgcolor": "#506784",
           "borderwidth": 0
          },
          "xaxis": {
           "automargin": true,
           "gridcolor": "#283442",
           "linecolor": "#506784",
           "ticks": "",
           "title": {
            "standoff": 15
           },
           "zerolinecolor": "#283442",
           "zerolinewidth": 2
          },
          "yaxis": {
           "automargin": true,
           "gridcolor": "#283442",
           "linecolor": "#506784",
           "ticks": "",
           "title": {
            "standoff": 15
           },
           "zerolinecolor": "#283442",
           "zerolinewidth": 2
          }
         }
        },
        "title": {
         "text": "Cleared volume over time for 2025 contracts"
        },
        "width": 800,
        "xaxis": {
         "anchor": "y",
         "domain": [
          0.0,
          0.45
         ],
         "matches": "x3",
         "showticklabels": false
        },
        "xaxis2": {
         "anchor": "y2",
         "domain": [
          0.55,
          1.0
         ],
         "matches": "x3",
         "showticklabels": false
        },
        "xaxis3": {
         "anchor": "y3",
         "domain": [
          0.0,
          0.45
         ]
        },
        "xaxis4": {
         "anchor": "y4",
         "domain": [
          0.55,
          1.0
         ],
         "matches": "x3"
        },
        "yaxis": {
         "anchor": "x",
         "domain": [
          0.625,
          1.0
         ]
        },
        "yaxis2": {
         "anchor": "x2",
         "domain": [
          0.625,
          1.0
         ]
        },
        "yaxis3": {
         "anchor": "x3",
         "domain": [
          0.0,
          0.375
         ]
        },
        "yaxis4": {
         "anchor": "x4",
         "domain": [
          0.0,
          0.375
         ]
        }
       }
      }
     },
     "jetTransient": {
      "display_id": null
     },
     "metadata": {},
     "output_type": "display_data"
    }
   ],
   "source": [
    "plot_df = stats.reset_index()\n",
    "plot_groups = plot_df.groupby(\"Symbol\")\n",
    "colors = {group: next(color_palette) for group in plot_groups.groups}\n",
    "\n",
    "x_col = \"Trade date\"\n",
    "plot_cols = [\"Cleared volume\", \"Open interest\"]\n",
    "subplot_titles = [f\"{family} {col}\" for family in futures_groups for col in plot_cols]\n",
    "\n",
    "fig = make_subplots(\n",
    "    rows=len(futures_groups),\n",
    "    cols=len(plot_cols),\n",
    "    shared_xaxes=\"all\",\n",
    "    subplot_titles=subplot_titles,\n",
    ")\n",
    "\n",
    "for i, (_, group_symbols) in enumerate(futures_groups.items()):\n",
    "    for symbol in group_symbols:\n",
    "        df = plot_groups.get_group(symbol)\n",
    "        fig.add_trace(\n",
    "            go.Scatter(\n",
    "                x=df[x_col],\n",
    "                y=df[plot_cols[0]],\n",
    "                name=symbol,\n",
    "                line=dict(color=colors[symbol]),\n",
    "            ),\n",
    "            row=i + 1,\n",
    "            col=1,\n",
    "        )\n",
    "        fig.add_trace(\n",
    "            go.Scatter(\n",
    "                x=df[x_col],\n",
    "                y=df[plot_cols[1]],\n",
    "                name=symbol,\n",
    "                line=dict(color=colors[symbol]),\n",
    "                showlegend=False,\n",
    "            ),\n",
    "            row=i + 1,\n",
    "            col=2,\n",
    "        )\n",
    "\n",
    "fig.update_layout(\n",
    "    height=600,\n",
    "    width=800,\n",
    "    title_text=\"Cleared volume over time for 2025 contracts\",\n",
    ")\n",
    "fig.show()"
   ]
  },
  {
   "cell_type": "markdown",
   "id": "367876990ade3828",
   "metadata": {},
   "source": [
    "* What do you notice about these graphs?\n",
    "* What is similar and what is different?\n",
    "* What about these products could explain these differences?"
   ]
  },
  {
   "cell_type": "code",
   "execution_count": 9,
   "id": "bf4d73b9609addfd",
   "metadata": {
    "ExecuteTime": {
     "end_time": "2025-10-22T00:07:41.602586Z",
     "start_time": "2025-10-22T00:07:41.564604Z"
    }
   },
   "outputs": [
    {
     "data": {
      "application/vnd.plotly.v1+json": {
       "config": {
        "plotlyServerURL": "https://plot.ly"
       },
       "data": [
        {
         "line": {
          "color": "rgb(141,211,199)"
         },
         "name": "2025-08-22",
         "type": "scatter",
         "x": [
          "2025-09-22T18:30:00.000000000",
          "2025-10-21T18:30:00.000000000",
          "2025-11-20T19:30:00.000000000",
          "2025-12-19T19:30:00.000000000"
         ],
         "xaxis": "x",
         "y": {
          "bdata": "FK5H4XrUT0A9CtejcJ1PQDMzMzMzc09AexSuR+FaT0A=",
          "dtype": "f8"
         },
         "yaxis": "y"
        },
        {
         "marker": {
          "color": "rgb(141,211,199)"
         },
         "name": "2025-08-22",
         "showlegend": false,
         "type": "bar",
         "x": [
          "2025-09-22T18:30:00.000000000",
          "2025-10-21T18:30:00.000000000",
          "2025-11-20T19:30:00.000000000",
          "2025-12-19T19:30:00.000000000"
         ],
         "xaxis": "x4",
         "y": {
          "bdata": "AAAAAAg+C0EAAAAAMMH4QAAAAABQZvhAAAAAAMBc5kA=",
          "dtype": "f8"
         },
         "yaxis": "y4"
        },
        {
         "marker": {
          "color": "rgb(141,211,199)"
         },
         "name": "2025-08-22",
         "showlegend": false,
         "type": "bar",
         "x": [
          "2025-09-22T18:30:00.000000000",
          "2025-10-21T18:30:00.000000000",
          "2025-11-20T19:30:00.000000000",
          "2025-12-19T19:30:00.000000000"
         ],
         "xaxis": "x7",
         "y": {
          "bdata": "AAAAAJQBFEEAAAAAuBMIQQAAAADARQ5BAAAAALB6/UA=",
          "dtype": "f8"
         },
         "yaxis": "y7"
        },
        {
         "line": {
          "color": "rgb(141,211,199)"
         },
         "name": "2025-09-08",
         "type": "scatter",
         "x": [
          "2025-09-22T18:30:00.000000000",
          "2025-10-21T18:30:00.000000000",
          "2025-11-20T19:30:00.000000000",
          "2025-12-19T19:30:00.000000000"
         ],
         "xaxis": "x2",
         "y": {
          "bdata": "4XoUrkchT0CPwvUoXO9OQI/C9Shcz05A4XoUrkfBTkA=",
          "dtype": "f8"
         },
         "yaxis": "y2"
        },
        {
         "marker": {
          "color": "rgb(141,211,199)"
         },
         "name": "2025-09-08",
         "showlegend": false,
         "type": "bar",
         "x": [
          "2025-09-22T18:30:00.000000000",
          "2025-10-21T18:30:00.000000000",
          "2025-11-20T19:30:00.000000000",
          "2025-12-19T19:30:00.000000000"
         ],
         "xaxis": "x5",
         "y": {
          "bdata": "AAAAAED3DEEAAAAA0EIBQQAAAADAMfxAAAAAAMB36UA=",
          "dtype": "f8"
         },
         "yaxis": "y5"
        },
        {
         "marker": {
          "color": "rgb(141,211,199)"
         },
         "name": "2025-09-08",
         "showlegend": false,
         "type": "bar",
         "x": [
          "2025-09-22T18:30:00.000000000",
          "2025-10-21T18:30:00.000000000",
          "2025-11-20T19:30:00.000000000",
          "2025-12-19T19:30:00.000000000"
         ],
         "xaxis": "x8",
         "y": {
          "bdata": "AAAAABjpC0EAAAAAgBgNQQAAAADIuRBBAAAAAGAZAkE=",
          "dtype": "f8"
         },
         "yaxis": "y8"
        },
        {
         "line": {
          "color": "rgb(141,211,199)"
         },
         "name": "2025-09-19",
         "type": "scatter",
         "x": [
          "2025-09-22T18:30:00.000000000",
          "2025-10-21T18:30:00.000000000",
          "2025-11-20T19:30:00.000000000",
          "2025-12-19T19:30:00.000000000"
         ],
         "xaxis": "x3",
         "y": {
          "bdata": "16NwPQpXT0AzMzMzMzNPQD0K16Nw/U5AmpmZmZnZTkA=",
          "dtype": "f8"
         },
         "yaxis": "y3"
        },
        {
         "marker": {
          "color": "rgb(141,211,199)"
         },
         "name": "2025-09-19",
         "showlegend": false,
         "type": "bar",
         "x": [
          "2025-09-22T18:30:00.000000000",
          "2025-10-21T18:30:00.000000000",
          "2025-11-20T19:30:00.000000000",
          "2025-12-19T19:30:00.000000000"
         ],
         "xaxis": "x6",
         "y": {
          "bdata": "AAAAANBH9UAAAAAA2FsQQQAAAADAH/9AAAAAAAAc6kA=",
          "dtype": "f8"
         },
         "yaxis": "y6"
        },
        {
         "marker": {
          "color": "rgb(141,211,199)"
         },
         "name": "2025-09-19",
         "showlegend": false,
         "type": "bar",
         "x": [
          "2025-09-22T18:30:00.000000000",
          "2025-10-21T18:30:00.000000000",
          "2025-11-20T19:30:00.000000000",
          "2025-12-19T19:30:00.000000000"
         ],
         "xaxis": "x9",
         "y": {
          "bdata": "AAAAAIAI0UAAAAAAbFIUQQAAAADYThFBAAAAAMDABEE=",
          "dtype": "f8"
         },
         "yaxis": "y9"
        }
       ],
       "layout": {
        "annotations": [
         {
          "font": {
           "size": 16
          },
          "showarrow": false,
          "text": "2025-08-22",
          "x": 0.14444444444444446,
          "xanchor": "center",
          "xref": "paper",
          "y": 1.0,
          "yanchor": "bottom",
          "yref": "paper"
         },
         {
          "font": {
           "size": 16
          },
          "showarrow": false,
          "text": "2025-09-08",
          "x": 0.5,
          "xanchor": "center",
          "xref": "paper",
          "y": 1.0,
          "yanchor": "bottom",
          "yref": "paper"
         },
         {
          "font": {
           "size": 16
          },
          "showarrow": false,
          "text": "2025-09-19",
          "x": 0.8555555555555556,
          "xanchor": "center",
          "xref": "paper",
          "y": 1.0,
          "yanchor": "bottom",
          "yref": "paper"
         },
         {
          "font": {
           "size": 16
          },
          "showarrow": false,
          "text": "Expiration date",
          "x": 0.5,
          "xanchor": "center",
          "xref": "paper",
          "y": 0,
          "yanchor": "top",
          "yref": "paper",
          "yshift": -30
         }
        ],
        "height": 600,
        "template": {
         "data": {
          "bar": [
           {
            "error_x": {
             "color": "#f2f5fa"
            },
            "error_y": {
             "color": "#f2f5fa"
            },
            "marker": {
             "line": {
              "color": "rgb(17,17,17)",
              "width": 0.5
             },
             "pattern": {
              "fillmode": "overlay",
              "size": 10,
              "solidity": 0.2
             }
            },
            "type": "bar"
           }
          ],
          "barpolar": [
           {
            "marker": {
             "line": {
              "color": "rgb(17,17,17)",
              "width": 0.5
             },
             "pattern": {
              "fillmode": "overlay",
              "size": 10,
              "solidity": 0.2
             }
            },
            "type": "barpolar"
           }
          ],
          "carpet": [
           {
            "aaxis": {
             "endlinecolor": "#A2B1C6",
             "gridcolor": "#506784",
             "linecolor": "#506784",
             "minorgridcolor": "#506784",
             "startlinecolor": "#A2B1C6"
            },
            "baxis": {
             "endlinecolor": "#A2B1C6",
             "gridcolor": "#506784",
             "linecolor": "#506784",
             "minorgridcolor": "#506784",
             "startlinecolor": "#A2B1C6"
            },
            "type": "carpet"
           }
          ],
          "choropleth": [
           {
            "colorbar": {
             "outlinewidth": 0,
             "ticks": ""
            },
            "type": "choropleth"
           }
          ],
          "contour": [
           {
            "colorbar": {
             "outlinewidth": 0,
             "ticks": ""
            },
            "colorscale": [
             [
              0.0,
              "#0d0887"
             ],
             [
              0.1111111111111111,
              "#46039f"
             ],
             [
              0.2222222222222222,
              "#7201a8"
             ],
             [
              0.3333333333333333,
              "#9c179e"
             ],
             [
              0.4444444444444444,
              "#bd3786"
             ],
             [
              0.5555555555555556,
              "#d8576b"
             ],
             [
              0.6666666666666666,
              "#ed7953"
             ],
             [
              0.7777777777777778,
              "#fb9f3a"
             ],
             [
              0.8888888888888888,
              "#fdca26"
             ],
             [
              1.0,
              "#f0f921"
             ]
            ],
            "type": "contour"
           }
          ],
          "contourcarpet": [
           {
            "colorbar": {
             "outlinewidth": 0,
             "ticks": ""
            },
            "type": "contourcarpet"
           }
          ],
          "heatmap": [
           {
            "colorbar": {
             "outlinewidth": 0,
             "ticks": ""
            },
            "colorscale": [
             [
              0.0,
              "#0d0887"
             ],
             [
              0.1111111111111111,
              "#46039f"
             ],
             [
              0.2222222222222222,
              "#7201a8"
             ],
             [
              0.3333333333333333,
              "#9c179e"
             ],
             [
              0.4444444444444444,
              "#bd3786"
             ],
             [
              0.5555555555555556,
              "#d8576b"
             ],
             [
              0.6666666666666666,
              "#ed7953"
             ],
             [
              0.7777777777777778,
              "#fb9f3a"
             ],
             [
              0.8888888888888888,
              "#fdca26"
             ],
             [
              1.0,
              "#f0f921"
             ]
            ],
            "type": "heatmap"
           }
          ],
          "histogram": [
           {
            "marker": {
             "pattern": {
              "fillmode": "overlay",
              "size": 10,
              "solidity": 0.2
             }
            },
            "type": "histogram"
           }
          ],
          "histogram2d": [
           {
            "colorbar": {
             "outlinewidth": 0,
             "ticks": ""
            },
            "colorscale": [
             [
              0.0,
              "#0d0887"
             ],
             [
              0.1111111111111111,
              "#46039f"
             ],
             [
              0.2222222222222222,
              "#7201a8"
             ],
             [
              0.3333333333333333,
              "#9c179e"
             ],
             [
              0.4444444444444444,
              "#bd3786"
             ],
             [
              0.5555555555555556,
              "#d8576b"
             ],
             [
              0.6666666666666666,
              "#ed7953"
             ],
             [
              0.7777777777777778,
              "#fb9f3a"
             ],
             [
              0.8888888888888888,
              "#fdca26"
             ],
             [
              1.0,
              "#f0f921"
             ]
            ],
            "type": "histogram2d"
           }
          ],
          "histogram2dcontour": [
           {
            "colorbar": {
             "outlinewidth": 0,
             "ticks": ""
            },
            "colorscale": [
             [
              0.0,
              "#0d0887"
             ],
             [
              0.1111111111111111,
              "#46039f"
             ],
             [
              0.2222222222222222,
              "#7201a8"
             ],
             [
              0.3333333333333333,
              "#9c179e"
             ],
             [
              0.4444444444444444,
              "#bd3786"
             ],
             [
              0.5555555555555556,
              "#d8576b"
             ],
             [
              0.6666666666666666,
              "#ed7953"
             ],
             [
              0.7777777777777778,
              "#fb9f3a"
             ],
             [
              0.8888888888888888,
              "#fdca26"
             ],
             [
              1.0,
              "#f0f921"
             ]
            ],
            "type": "histogram2dcontour"
           }
          ],
          "mesh3d": [
           {
            "colorbar": {
             "outlinewidth": 0,
             "ticks": ""
            },
            "type": "mesh3d"
           }
          ],
          "parcoords": [
           {
            "line": {
             "colorbar": {
              "outlinewidth": 0,
              "ticks": ""
             }
            },
            "type": "parcoords"
           }
          ],
          "pie": [
           {
            "automargin": true,
            "type": "pie"
           }
          ],
          "scatter": [
           {
            "marker": {
             "line": {
              "color": "#283442"
             }
            },
            "type": "scatter"
           }
          ],
          "scatter3d": [
           {
            "line": {
             "colorbar": {
              "outlinewidth": 0,
              "ticks": ""
             }
            },
            "marker": {
             "colorbar": {
              "outlinewidth": 0,
              "ticks": ""
             }
            },
            "type": "scatter3d"
           }
          ],
          "scattercarpet": [
           {
            "marker": {
             "colorbar": {
              "outlinewidth": 0,
              "ticks": ""
             }
            },
            "type": "scattercarpet"
           }
          ],
          "scattergeo": [
           {
            "marker": {
             "colorbar": {
              "outlinewidth": 0,
              "ticks": ""
             }
            },
            "type": "scattergeo"
           }
          ],
          "scattergl": [
           {
            "marker": {
             "line": {
              "color": "#283442"
             }
            },
            "type": "scattergl"
           }
          ],
          "scattermap": [
           {
            "marker": {
             "colorbar": {
              "outlinewidth": 0,
              "ticks": ""
             }
            },
            "type": "scattermap"
           }
          ],
          "scattermapbox": [
           {
            "marker": {
             "colorbar": {
              "outlinewidth": 0,
              "ticks": ""
             }
            },
            "type": "scattermapbox"
           }
          ],
          "scatterpolar": [
           {
            "marker": {
             "colorbar": {
              "outlinewidth": 0,
              "ticks": ""
             }
            },
            "type": "scatterpolar"
           }
          ],
          "scatterpolargl": [
           {
            "marker": {
             "colorbar": {
              "outlinewidth": 0,
              "ticks": ""
             }
            },
            "type": "scatterpolargl"
           }
          ],
          "scatterternary": [
           {
            "marker": {
             "colorbar": {
              "outlinewidth": 0,
              "ticks": ""
             }
            },
            "type": "scatterternary"
           }
          ],
          "surface": [
           {
            "colorbar": {
             "outlinewidth": 0,
             "ticks": ""
            },
            "colorscale": [
             [
              0.0,
              "#0d0887"
             ],
             [
              0.1111111111111111,
              "#46039f"
             ],
             [
              0.2222222222222222,
              "#7201a8"
             ],
             [
              0.3333333333333333,
              "#9c179e"
             ],
             [
              0.4444444444444444,
              "#bd3786"
             ],
             [
              0.5555555555555556,
              "#d8576b"
             ],
             [
              0.6666666666666666,
              "#ed7953"
             ],
             [
              0.7777777777777778,
              "#fb9f3a"
             ],
             [
              0.8888888888888888,
              "#fdca26"
             ],
             [
              1.0,
              "#f0f921"
             ]
            ],
            "type": "surface"
           }
          ],
          "table": [
           {
            "cells": {
             "fill": {
              "color": "#506784"
             },
             "line": {
              "color": "rgb(17,17,17)"
             }
            },
            "header": {
             "fill": {
              "color": "#2a3f5f"
             },
             "line": {
              "color": "rgb(17,17,17)"
             }
            },
            "type": "table"
           }
          ]
         },
         "layout": {
          "annotationdefaults": {
           "arrowcolor": "#f2f5fa",
           "arrowhead": 0,
           "arrowwidth": 1
          },
          "autotypenumbers": "strict",
          "coloraxis": {
           "colorbar": {
            "outlinewidth": 0,
            "ticks": ""
           }
          },
          "colorscale": {
           "diverging": [
            [
             0,
             "#8e0152"
            ],
            [
             0.1,
             "#c51b7d"
            ],
            [
             0.2,
             "#de77ae"
            ],
            [
             0.3,
             "#f1b6da"
            ],
            [
             0.4,
             "#fde0ef"
            ],
            [
             0.5,
             "#f7f7f7"
            ],
            [
             0.6,
             "#e6f5d0"
            ],
            [
             0.7,
             "#b8e186"
            ],
            [
             0.8,
             "#7fbc41"
            ],
            [
             0.9,
             "#4d9221"
            ],
            [
             1,
             "#276419"
            ]
           ],
           "sequential": [
            [
             0.0,
             "#0d0887"
            ],
            [
             0.1111111111111111,
             "#46039f"
            ],
            [
             0.2222222222222222,
             "#7201a8"
            ],
            [
             0.3333333333333333,
             "#9c179e"
            ],
            [
             0.4444444444444444,
             "#bd3786"
            ],
            [
             0.5555555555555556,
             "#d8576b"
            ],
            [
             0.6666666666666666,
             "#ed7953"
            ],
            [
             0.7777777777777778,
             "#fb9f3a"
            ],
            [
             0.8888888888888888,
             "#fdca26"
            ],
            [
             1.0,
             "#f0f921"
            ]
           ],
           "sequentialminus": [
            [
             0.0,
             "#0d0887"
            ],
            [
             0.1111111111111111,
             "#46039f"
            ],
            [
             0.2222222222222222,
             "#7201a8"
            ],
            [
             0.3333333333333333,
             "#9c179e"
            ],
            [
             0.4444444444444444,
             "#bd3786"
            ],
            [
             0.5555555555555556,
             "#d8576b"
            ],
            [
             0.6666666666666666,
             "#ed7953"
            ],
            [
             0.7777777777777778,
             "#fb9f3a"
            ],
            [
             0.8888888888888888,
             "#fdca26"
            ],
            [
             1.0,
             "#f0f921"
            ]
           ]
          },
          "colorway": [
           "#636efa",
           "#EF553B",
           "#00cc96",
           "#ab63fa",
           "#FFA15A",
           "#19d3f3",
           "#FF6692",
           "#B6E880",
           "#FF97FF",
           "#FECB52"
          ],
          "font": {
           "color": "#f2f5fa"
          },
          "geo": {
           "bgcolor": "rgb(17,17,17)",
           "lakecolor": "rgb(17,17,17)",
           "landcolor": "rgb(17,17,17)",
           "showlakes": true,
           "showland": true,
           "subunitcolor": "#506784"
          },
          "hoverlabel": {
           "align": "left"
          },
          "hovermode": "closest",
          "mapbox": {
           "style": "dark"
          },
          "paper_bgcolor": "rgb(17,17,17)",
          "plot_bgcolor": "rgb(17,17,17)",
          "polar": {
           "angularaxis": {
            "gridcolor": "#506784",
            "linecolor": "#506784",
            "ticks": ""
           },
           "bgcolor": "rgb(17,17,17)",
           "radialaxis": {
            "gridcolor": "#506784",
            "linecolor": "#506784",
            "ticks": ""
           }
          },
          "scene": {
           "xaxis": {
            "backgroundcolor": "rgb(17,17,17)",
            "gridcolor": "#506784",
            "gridwidth": 2,
            "linecolor": "#506784",
            "showbackground": true,
            "ticks": "",
            "zerolinecolor": "#C8D4E3"
           },
           "yaxis": {
            "backgroundcolor": "rgb(17,17,17)",
            "gridcolor": "#506784",
            "gridwidth": 2,
            "linecolor": "#506784",
            "showbackground": true,
            "ticks": "",
            "zerolinecolor": "#C8D4E3"
           },
           "zaxis": {
            "backgroundcolor": "rgb(17,17,17)",
            "gridcolor": "#506784",
            "gridwidth": 2,
            "linecolor": "#506784",
            "showbackground": true,
            "ticks": "",
            "zerolinecolor": "#C8D4E3"
           }
          },
          "shapedefaults": {
           "line": {
            "color": "#f2f5fa"
           }
          },
          "sliderdefaults": {
           "bgcolor": "#C8D4E3",
           "bordercolor": "rgb(17,17,17)",
           "borderwidth": 1,
           "tickwidth": 0
          },
          "ternary": {
           "aaxis": {
            "gridcolor": "#506784",
            "linecolor": "#506784",
            "ticks": ""
           },
           "baxis": {
            "gridcolor": "#506784",
            "linecolor": "#506784",
            "ticks": ""
           },
           "bgcolor": "rgb(17,17,17)",
           "caxis": {
            "gridcolor": "#506784",
            "linecolor": "#506784",
            "ticks": ""
           }
          },
          "title": {
           "x": 0.05
          },
          "updatemenudefaults": {
           "bgcolor": "#506784",
           "borderwidth": 0
          },
          "xaxis": {
           "automargin": true,
           "gridcolor": "#283442",
           "linecolor": "#506784",
           "ticks": "",
           "title": {
            "standoff": 15
           },
           "zerolinecolor": "#283442",
           "zerolinewidth": 2
          },
          "yaxis": {
           "automargin": true,
           "gridcolor": "#283442",
           "linecolor": "#506784",
           "ticks": "",
           "title": {
            "standoff": 15
           },
           "zerolinecolor": "#283442",
           "zerolinewidth": 2
          }
         }
        },
        "title": {
         "text": "Expiration volume and open interest comparison through roll."
        },
        "width": 800,
        "xaxis": {
         "anchor": "y",
         "domain": [
          0.0,
          0.2888888888888889
         ],
         "matches": "x7",
         "showticklabels": false
        },
        "xaxis2": {
         "anchor": "y2",
         "domain": [
          0.35555555555555557,
          0.6444444444444445
         ],
         "matches": "x7",
         "showticklabels": false
        },
        "xaxis3": {
         "anchor": "y3",
         "domain": [
          0.7111111111111111,
          1.0
         ],
         "matches": "x7",
         "showticklabels": false
        },
        "xaxis4": {
         "anchor": "y4",
         "domain": [
          0.0,
          0.2888888888888889
         ],
         "matches": "x7",
         "showticklabels": false
        },
        "xaxis5": {
         "anchor": "y5",
         "domain": [
          0.35555555555555557,
          0.6444444444444445
         ],
         "matches": "x7",
         "showticklabels": false
        },
        "xaxis6": {
         "anchor": "y6",
         "domain": [
          0.7111111111111111,
          1.0
         ],
         "matches": "x7",
         "showticklabels": false
        },
        "xaxis7": {
         "anchor": "y7",
         "domain": [
          0.0,
          0.2888888888888889
         ]
        },
        "xaxis8": {
         "anchor": "y8",
         "domain": [
          0.35555555555555557,
          0.6444444444444445
         ],
         "matches": "x7"
        },
        "xaxis9": {
         "anchor": "y9",
         "domain": [
          0.7111111111111111,
          1.0
         ],
         "matches": "x7"
        },
        "yaxis": {
         "anchor": "x",
         "domain": [
          0.7777777777777778,
          1.0
         ],
         "title": {
          "text": "Settle"
         }
        },
        "yaxis2": {
         "anchor": "x2",
         "domain": [
          0.7777777777777778,
          1.0
         ],
         "matches": "y",
         "showticklabels": false
        },
        "yaxis3": {
         "anchor": "x3",
         "domain": [
          0.7777777777777778,
          1.0
         ],
         "matches": "y",
         "showticklabels": false
        },
        "yaxis4": {
         "anchor": "x4",
         "domain": [
          0.3888888888888889,
          0.6111111111111112
         ],
         "title": {
          "text": "Volume"
         }
        },
        "yaxis5": {
         "anchor": "x5",
         "domain": [
          0.3888888888888889,
          0.6111111111111112
         ],
         "matches": "y4",
         "showticklabels": false
        },
        "yaxis6": {
         "anchor": "x6",
         "domain": [
          0.3888888888888889,
          0.6111111111111112
         ],
         "matches": "y4",
         "showticklabels": false
        },
        "yaxis7": {
         "anchor": "x7",
         "domain": [
          0.0,
          0.22222222222222224
         ],
         "title": {
          "text": "OI"
         }
        },
        "yaxis8": {
         "anchor": "x8",
         "domain": [
          0.0,
          0.22222222222222224
         ],
         "matches": "y7",
         "showticklabels": false
        },
        "yaxis9": {
         "anchor": "x9",
         "domain": [
          0.0,
          0.22222222222222224
         ],
         "matches": "y7",
         "showticklabels": false
        }
       }
      }
     },
     "jetTransient": {
      "display_id": null
     },
     "metadata": {},
     "output_type": "display_data"
    }
   ],
   "source": [
    "product = \"CL\"\n",
    "dates = (\n",
    "    datetime.date(2025, 8, 22),\n",
    "    datetime.date(2025, 9, 8),\n",
    "    datetime.date(2025, 9, 19),\n",
    ")\n",
    "plot_df = stats.reset_index()\n",
    "plot_df = plot_df[plot_df[\"Trade date\"].isin(dates)]\n",
    "plot_df = plot_df[plot_df[\"Symbol\"].isin(futures_groups[product])]\n",
    "plot_groups = plot_df.groupby(\"Trade date\")\n",
    "color = px.defaults.color_discrete_sequence[0]\n",
    "\n",
    "x_col = \"expiration\"\n",
    "plot_cols = [\"Settlement price\", \"Cleared volume\", \"Open interest\"]\n",
    "short_names = (\"Settle\", \"Volume\", \"OI\")\n",
    "subplot_titles = [f\"{date}\" for date in dates]\n",
    "\n",
    "fig = make_subplots(\n",
    "    rows=len(plot_cols),\n",
    "    cols=len(dates),\n",
    "    shared_xaxes=\"all\",\n",
    "    shared_yaxes=True,\n",
    "    subplot_titles=subplot_titles,\n",
    "    x_title=\"Expiration date\",\n",
    ")\n",
    "\n",
    "for i, trade_date in enumerate(dates):\n",
    "    df = plot_groups.get_group(trade_date)\n",
    "    fig.add_trace(\n",
    "        go.Scatter(\n",
    "            x=df[x_col],\n",
    "            y=df[plot_cols[0]],\n",
    "            name=str(trade_date),\n",
    "            line=dict(color=color),\n",
    "        ),\n",
    "        row=1,\n",
    "        col=i + 1,\n",
    "    )\n",
    "    fig.add_trace(\n",
    "        go.Bar(\n",
    "            x=df[x_col],\n",
    "            y=df[plot_cols[1]],\n",
    "            name=str(trade_date),\n",
    "            marker=dict(color=color),\n",
    "            showlegend=False,\n",
    "        ),\n",
    "        row=2,\n",
    "        col=i + 1,\n",
    "    )\n",
    "    fig.add_trace(\n",
    "        go.Bar(\n",
    "            x=df[x_col],\n",
    "            y=df[plot_cols[2]],\n",
    "            name=str(trade_date),\n",
    "            marker=dict(color=color),\n",
    "            showlegend=False,\n",
    "        ),\n",
    "        row=3,\n",
    "        col=i + 1,\n",
    "    )\n",
    "\n",
    "fig.update_layout(\n",
    "    height=600,\n",
    "    width=800,\n",
    "    title_text=\"Expiration volume and open interest comparison through roll.\",\n",
    "    yaxis_title=\"test\",\n",
    ")\n",
    "for i, y_name in enumerate(short_names):\n",
    "    fig.update_yaxes(title_text=y_name, row=i + 1, col=1)\n",
    "fig.show()"
   ]
  },
  {
   "cell_type": "markdown",
   "id": "39d776f7-f4be-4dfc-a368-f455c21e9f02",
   "metadata": {},
   "source": [
    "## Comparing Cleared Volume to the Trade Record\n",
    "\n",
    "Total volume per day includes block trades and other data that does not show up in the electronic record."
   ]
  },
  {
   "cell_type": "code",
   "execution_count": 10,
   "id": "a4ad506f35089269",
   "metadata": {
    "ExecuteTime": {
     "end_time": "2025-10-22T00:07:41.610767Z",
     "start_time": "2025-10-22T00:07:41.608622Z"
    }
   },
   "outputs": [],
   "source": [
    "session_end = get_cme_session_end(yesterday)\n",
    "session_start = session_end - datetime.timedelta(days=1)"
   ]
  },
  {
   "cell_type": "code",
   "execution_count": 11,
   "id": "b00ea56e8d1721d1",
   "metadata": {
    "ExecuteTime": {
     "end_time": "2025-10-22T00:07:44.365965Z",
     "start_time": "2025-10-22T00:07:41.614196Z"
    }
   },
   "outputs": [],
   "source": [
    "leg_symbol = \"CLZ5\"\n",
    "leg_raw_trades = client.timeseries.get_range(\n",
    "    dataset=cme,\n",
    "    schema=\"trades\",\n",
    "    symbols=leg_symbol,\n",
    "    start=session_start,\n",
    "    end=session_end,\n",
    ").to_df()"
   ]
  },
  {
   "cell_type": "code",
   "execution_count": 12,
   "id": "95e1f2ef72c257d8",
   "metadata": {
    "ExecuteTime": {
     "end_time": "2025-10-22T00:07:44.400598Z",
     "start_time": "2025-10-22T00:07:44.397695Z"
    }
   },
   "outputs": [
    {
     "data": {
      "text/plain": [
       "np.uint64(180839)"
      ]
     },
     "execution_count": 12,
     "metadata": {},
     "output_type": "execute_result"
    }
   ],
   "source": [
    "leg_raw_trades[\"size\"].sum()"
   ]
  },
  {
   "cell_type": "code",
   "execution_count": 13,
   "id": "6441b7fd4f602d80",
   "metadata": {
    "ExecuteTime": {
     "end_time": "2025-10-22T00:07:44.408391Z",
     "start_time": "2025-10-22T00:07:44.404830Z"
    }
   },
   "outputs": [
    {
     "data": {
      "text/plain": [
       "Trade date  Symbol\n",
       "2025-10-17  CLZ5     NaN\n",
       "Name: Cleared volume, dtype: float64"
      ]
     },
     "execution_count": 13,
     "metadata": {},
     "output_type": "execute_result"
    }
   ],
   "source": [
    "stats[\n",
    "    (stats.index.get_level_values(0) == yesterday.to_pydatetime().date())\n",
    "    & (stats.index.get_level_values(1) == leg_symbol)\n",
    "][\"Cleared volume\"]"
   ]
  },
  {
   "cell_type": "markdown",
   "id": "874c9063-af2e-4d0e-aba1-5dd7f272cc91",
   "metadata": {},
   "source": [
    "## Listed Calendar Spread Trades\n",
    "\n",
    "Listed calendar spreads are an efficient way to trade one expiration against another. The trade contributes to the cleared volume in its legs, but there is no cleared spread volume."
   ]
  },
  {
   "cell_type": "code",
   "execution_count": 14,
   "id": "96af2b807b79af3b",
   "metadata": {
    "ExecuteTime": {
     "end_time": "2025-10-22T00:07:47.415423Z",
     "start_time": "2025-10-22T00:07:44.412956Z"
    }
   },
   "outputs": [],
   "source": [
    "product = \"CL.FUT\"\n",
    "all_defs = client.timeseries.get_range(\n",
    "    dataset=\"GLBX.MDP3\",\n",
    "    schema=\"definition\",\n",
    "    symbols=product,\n",
    "    stype_in=\"parent\",\n",
    "    start=yesterday.date(),\n",
    ").to_df()"
   ]
  },
  {
   "cell_type": "code",
   "execution_count": 15,
   "id": "2a9e1592a2264349",
   "metadata": {
    "ExecuteTime": {
     "end_time": "2025-10-22T00:07:47.465995Z",
     "start_time": "2025-10-22T00:07:47.462619Z"
    }
   },
   "outputs": [
    {
     "data": {
      "text/plain": [
       "ts_recv\n",
       "2025-10-17 00:00:00+00:00                 CL:C1 HO-CL H7\n",
       "2025-10-17 00:00:00+00:00                      CLH6-CLQ8\n",
       "2025-10-17 00:00:00+00:00                          CLK35\n",
       "2025-10-17 00:00:00+00:00                      CLZ6-CLJ8\n",
       "2025-10-17 00:00:00+00:00                      CLX6-CLJ8\n",
       "                                             ...        \n",
       "2025-10-17 00:00:00+00:00                      CLM7-CLX7\n",
       "2025-10-17 00:00:00+00:00                           CLM9\n",
       "2025-10-17 00:00:00+00:00                 CL:C1 HO-CL N7\n",
       "2025-10-17 00:00:00+00:00                      CLQ6-BZU6\n",
       "2025-10-17 15:06:45.379920566+00:00    UD:CL: GN 2946793\n",
       "Name: symbol, Length: 1867, dtype: object"
      ]
     },
     "execution_count": 15,
     "metadata": {},
     "output_type": "execute_result"
    }
   ],
   "source": [
    "all_defs[\"symbol\"]"
   ]
  },
  {
   "cell_type": "code",
   "execution_count": 16,
   "id": "2ed5213a87339683",
   "metadata": {
    "ExecuteTime": {
     "end_time": "2025-10-22T00:07:47.542946Z",
     "start_time": "2025-10-22T00:07:47.538853Z"
    }
   },
   "outputs": [
    {
     "data": {
      "text/plain": [
       "array(['CLZ5-CLG6', 'CLZ5-BZZ5', 'CLZ5-CLG7', 'CL:BF Z5-H6-M6',\n",
       "       'CL:BZ Z5-Z6', 'CLZ5-CLH8', 'CLZ5-WSZ5', 'CL:BZ Z5-U6',\n",
       "       'CL:BZ Z5-N6', 'CL:BZ Z5-J6', 'CL:SA 02M Z5', 'CLZ5-CLM34',\n",
       "       'CLZ5-MCLZ5', 'CLZ5-CLJ9', 'CLZ5-CLJ8', 'CL:BZ Z5-V6',\n",
       "       'CL:SA 04M Z5', 'CLZ5-CLQ7', 'CLZ5-BZF6', 'CLZ5-CLM31',\n",
       "       'CLZ5-CLU8', 'CL:C1 RB-CL Z5', 'CL:BF Z5-Z6-Z7', 'CLZ5-CLZ30',\n",
       "       'CLX5-CLZ5', 'CL:C1 HO-CL Z5', 'CLZ5-CLQ8', 'CLZ5-CLV6',\n",
       "       'CLZ5-BZM6', 'CLZ5-WTTZ5', 'CLZ5-CLM30', 'CLZ5-CLH9', 'CLZ5-CLN6',\n",
       "       'CLZ5-CLH7', 'CLZ5-CLJ6', 'CLZ5-CLF8', 'CL:BZ Z5-X6', 'CLZ5-CLZ7',\n",
       "       'CLZ5-CLM9', 'CLZ5-CLM7', 'CLZ5-CLJ7', 'CLZ5-CLM8', 'CL:SA 12M Z5',\n",
       "       'CLZ5-CLZ35', 'CLZ5-CLU7', 'CLZ5-CLX7', 'CLZ5-CLF6', 'CLZ5-CLU6',\n",
       "       'CLZ5-CLM33', 'CLZ5-BZZ6', 'CLZ5-CLZ34', 'CLZ5-CLQ6',\n",
       "       'CL:BZ Z5-F7', 'CL:BZ Z5-K6', 'CLZ5-CLG9', 'CLZ5-CLM32',\n",
       "       'CLX5-BZZ5', 'CLZ5-BZG6', 'CL:BZ Z5-H6', 'CL:BF X5-Z5-F6',\n",
       "       'CLZ5-OQDZ5', 'CLZ5-CLN7', 'CLZ5-CLZ31', 'CL:BZ Z5-G6',\n",
       "       'CL:BF Z5-M6-Z6', 'CLZ5-CLG8', 'CL:BZ Z5-M6', 'CLZ5-CLZ32',\n",
       "       'CLZ5-CLX6', 'WS:XS 02M CL-BZ Z5', 'CLZ5-HTTZ5', 'CLZ5-CLK7',\n",
       "       'CLZ5-CLV8', 'CLZ5-CLN8', 'CL:BZ Z5-Q6', 'CLZ5-CLH6', 'CLZ5-CLF9',\n",
       "       'CLZ5-CLX8', 'CLZ5-CLF7', 'CL:BZ Z5-F6', 'CLZ5-CLZ29', 'CLZ5',\n",
       "       'CLZ5-CLZ33', 'CLZ5-CLZ8', 'CLZ5-CLK8', 'CLZ5-CLZ6', 'CLZ5-CLK6',\n",
       "       'CLZ5-CLM6', 'CLZ5-CLV7', 'CL:BF Z5-F6-G6', 'CLZ5-CLM35'],\n",
       "      dtype=object)"
      ]
     },
     "execution_count": 16,
     "metadata": {},
     "output_type": "execute_result"
    }
   ],
   "source": [
    "leg_spreads = all_defs[all_defs[\"symbol\"].str.contains(leg_symbol[2:])]\n",
    "leg_spreads[\"symbol\"].unique()"
   ]
  },
  {
   "cell_type": "code",
   "execution_count": 17,
   "id": "9cd527b82c8f29b8",
   "metadata": {
    "ExecuteTime": {
     "end_time": "2025-10-22T00:07:50.590190Z",
     "start_time": "2025-10-22T00:07:47.592838Z"
    }
   },
   "outputs": [],
   "source": [
    "oct_9 = pd.Timestamp(\"2025-10-09\", tz=tz_chicago)\n",
    "snippet_start = oct_9 + pd.Timedelta(hours=13, minutes=28)\n",
    "snippet_end = oct_9 + pd.Timedelta(hours=13, minutes=30)\n",
    "trade_snippet_raw = client.timeseries.get_range(\n",
    "    dataset=cme,\n",
    "    schema=\"tbbo\",\n",
    "    symbols=product,\n",
    "    stype_in=\"parent\",\n",
    "    start=snippet_start,\n",
    "    end=snippet_end,\n",
    ")"
   ]
  },
  {
   "cell_type": "code",
   "execution_count": 18,
   "id": "a5de149930ad6c4f",
   "metadata": {
    "ExecuteTime": {
     "end_time": "2025-10-22T00:07:50.684867Z",
     "start_time": "2025-10-22T00:07:50.643554Z"
    }
   },
   "outputs": [],
   "source": [
    "trade_snippet = trade_snippet_raw.to_df()\n",
    "trade_snippet[\"local_time\"] = as_ct(trade_snippet[\"ts_event\"])\n",
    "trade_local = trade_snippet.set_index([\"local_time\", \"sequence\"])"
   ]
  },
  {
   "cell_type": "code",
   "execution_count": 19,
   "id": "3688f6e41de0d308",
   "metadata": {
    "ExecuteTime": {
     "end_time": "2025-10-22T00:07:50.733515Z",
     "start_time": "2025-10-22T00:07:50.708469Z"
    }
   },
   "outputs": [
    {
     "data": {
      "application/vnd.plotly.v1+json": {
       "config": {
        "plotlyServerURL": "https://plot.ly"
       },
       "data": [
        {
         "hovertemplate": "symbol=%{x}<br>size=%{y}<extra></extra>",
         "legendgroup": "",
         "marker": {
          "color": "rgb(141,211,199)",
          "pattern": {
           "shape": ""
          }
         },
         "name": "",
         "orientation": "v",
         "showlegend": false,
         "textposition": "auto",
         "type": "bar",
         "x": [
          "CLX5",
          "CLX5-CLZ5",
          "CLZ5",
          "CLX5-CLG6",
          "CLX5-CLF6",
          "CLZ5-CLF6",
          "CLF6",
          "CLZ5-BZZ5",
          "CLZ5-CLG6",
          "CLM7-CLZ7",
          "CLZ5-CLZ6",
          "CLX6-CLZ6",
          "CLZ5-CLH6",
          "CLZ7-CLZ8",
          "CLX5-CLH6",
          "CLZ6-CLM7",
          "CLG6-CLH6",
          "CLF6-CLG6",
          "CLX5-CLZ6",
          "CLK6-CLN6",
          "CLK6-CLM6",
          "CLN6-CLQ6",
          "CLZ6-CLZ7",
          "CLZ6",
          "CLG6",
          "CLM6-CLN6",
          "CLX5-BZZ5",
          "CLZ5-CLM6",
          "CLG6-CLJ6",
          "CLF6-CLH6",
          "CLF6-CLJ6",
          "CLM6",
          "CLJ6-CLK6",
          "CLF6-BZF6",
          "CLH6-CLK6",
          "CLH6-CLJ6",
          "CLH6-CLM6",
          "CLJ6",
          "CLH6",
          "CLM6-CLZ6",
          "CLZ5-CLJ6",
          "CLG6-CLK6",
          "CLX5-CLJ6",
          "CLJ6-CLM6",
          "CL:BF H6-M6-U6",
          "CLJ6-CLN6",
          "CLF6-CLK6",
          "CLM6-CLM7",
          "CLF6-CLN6",
          "CLG6-BZG6",
          "CLZ5-BZF6",
          "CL:C1 RB-CL X5",
          "CL:BF X5-Z5-F6",
          "CLQ6-CLV6",
          "CLN6",
          "CLX5-CLK6",
          "CLZ6-CLF7",
          "CLQ6-CLX6",
          "CLK6",
          "CLG6-CLM6",
          "CL:BZ Z5-F6",
          "CLM6-CLU6",
          "CLV6-CLX6",
          "CLZ7",
          "CLF6-CLM6",
          "CLZ5-CLK6",
          "CLJ6-BZJ6",
          "CLZ8-CLZ29",
          "CLZ7-CLM8",
          "CLN6-CLV6",
          "CLQ6-CLZ6",
          "CLU6",
          "CLU6-CLX6",
          "CLU6-CLZ6",
          "CLZ7-BZZ7",
          "CLX5-CLM6",
          "CLX5-BZF6",
          "CLH6-CLU6",
          "CLZ6-BZZ6",
          "CL:C1 HO-CL X5",
          "CLH6-CLQ6",
          "CLH6-CLN6",
          "CL:BF K6-M6-N6",
          "CL:BF Z5-Z6-Z7",
          "CLZ5-CLN6",
          "CLX5-CLN6",
          "CLG6-CLU6",
          "CLX7-CLZ7",
          "CLX5-MCLX5",
          "CLG6-CLN6",
          "CLF6-CLZ6",
          "CLF6-CLU6",
          "CLX6-CLF7",
          "CL:C1 RB-CL Z5",
          "CLM7-CLN7",
          "CLM7",
          "CLK6-BZK6",
          "CL:BZ Z5-Z6",
          "CLZ8",
          "CL:BF Z5-F6-G6",
          "CL:BZ F6-H6",
          "CLN6-BZN6",
          "CLM7-CLU7",
          "CLN6-CLZ6",
          "CLK6-CLZ6",
          "CLG6-CLZ6",
          "CLM6-CLV6",
          "CLV6",
          "CLX5-CLV6",
          "CL:BF M6-Z6-M7",
          "CLN6-CLX6",
          "CLU7-CLZ7",
          "CL:BF X5-G6-K6",
          "CLK6-CLU6",
          "CLV6-CLZ6",
          "CLV6-CLF7",
          "CL:BZ Z5-H6",
          "CLZ5-CLZ7",
          "CLJ6-CLZ6",
          "CL:BZ Z6-M7",
          "CLQ6"
         ],
         "xaxis": "x",
         "y": {
          "bdata": "YhMAACwOAACYBgAAJwYAAFMFAADjAwAA8AIAAJ8BAACBAQAAfQEAAHwBAABuAQAAbAEAAFQBAAAuAQAAIwEAAB0BAAADAQAA8QAAAPAAAADPAAAAuQAAALAAAACqAAAAhQAAAIQAAACEAAAAgwAAAHgAAAByAAAAbgAAAG0AAABmAAAAXgAAAFwAAABcAAAAVAAAAFIAAABSAAAAUAAAAE4AAABKAAAARQAAAEQAAABBAAAAOwAAADcAAAAwAAAAMAAAACoAAAApAAAAKAAAACgAAAAlAAAAIwAAAB8AAAAfAAAAHQAAABwAAAAcAAAAHAAAABoAAAAZAAAAGAAAABYAAAAWAAAAFQAAABQAAAASAAAADQAAAA0AAAANAAAADQAAAA0AAAANAAAADAAAAAoAAAAJAAAACAAAAAcAAAAFAAAABQAAAAUAAAAFAAAABAAAAAQAAAAEAAAAAwAAAAMAAAADAAAAAwAAAAMAAAADAAAAAwAAAAMAAAADAAAAAwAAAAIAAAACAAAAAgAAAAIAAAACAAAAAgAAAAIAAAACAAAAAgAAAAEAAAABAAAAAQAAAAEAAAABAAAAAQAAAAEAAAABAAAAAQAAAAEAAAABAAAAAQAAAAEAAAABAAAAAQAAAA==",
          "dtype": "u4"
         },
         "yaxis": "y"
        }
       ],
       "layout": {
        "barmode": "relative",
        "legend": {
         "tracegroupgap": 0
        },
        "margin": {
         "t": 60
        },
        "template": {
         "data": {
          "bar": [
           {
            "error_x": {
             "color": "#f2f5fa"
            },
            "error_y": {
             "color": "#f2f5fa"
            },
            "marker": {
             "line": {
              "color": "rgb(17,17,17)",
              "width": 0.5
             },
             "pattern": {
              "fillmode": "overlay",
              "size": 10,
              "solidity": 0.2
             }
            },
            "type": "bar"
           }
          ],
          "barpolar": [
           {
            "marker": {
             "line": {
              "color": "rgb(17,17,17)",
              "width": 0.5
             },
             "pattern": {
              "fillmode": "overlay",
              "size": 10,
              "solidity": 0.2
             }
            },
            "type": "barpolar"
           }
          ],
          "carpet": [
           {
            "aaxis": {
             "endlinecolor": "#A2B1C6",
             "gridcolor": "#506784",
             "linecolor": "#506784",
             "minorgridcolor": "#506784",
             "startlinecolor": "#A2B1C6"
            },
            "baxis": {
             "endlinecolor": "#A2B1C6",
             "gridcolor": "#506784",
             "linecolor": "#506784",
             "minorgridcolor": "#506784",
             "startlinecolor": "#A2B1C6"
            },
            "type": "carpet"
           }
          ],
          "choropleth": [
           {
            "colorbar": {
             "outlinewidth": 0,
             "ticks": ""
            },
            "type": "choropleth"
           }
          ],
          "contour": [
           {
            "colorbar": {
             "outlinewidth": 0,
             "ticks": ""
            },
            "colorscale": [
             [
              0.0,
              "#0d0887"
             ],
             [
              0.1111111111111111,
              "#46039f"
             ],
             [
              0.2222222222222222,
              "#7201a8"
             ],
             [
              0.3333333333333333,
              "#9c179e"
             ],
             [
              0.4444444444444444,
              "#bd3786"
             ],
             [
              0.5555555555555556,
              "#d8576b"
             ],
             [
              0.6666666666666666,
              "#ed7953"
             ],
             [
              0.7777777777777778,
              "#fb9f3a"
             ],
             [
              0.8888888888888888,
              "#fdca26"
             ],
             [
              1.0,
              "#f0f921"
             ]
            ],
            "type": "contour"
           }
          ],
          "contourcarpet": [
           {
            "colorbar": {
             "outlinewidth": 0,
             "ticks": ""
            },
            "type": "contourcarpet"
           }
          ],
          "heatmap": [
           {
            "colorbar": {
             "outlinewidth": 0,
             "ticks": ""
            },
            "colorscale": [
             [
              0.0,
              "#0d0887"
             ],
             [
              0.1111111111111111,
              "#46039f"
             ],
             [
              0.2222222222222222,
              "#7201a8"
             ],
             [
              0.3333333333333333,
              "#9c179e"
             ],
             [
              0.4444444444444444,
              "#bd3786"
             ],
             [
              0.5555555555555556,
              "#d8576b"
             ],
             [
              0.6666666666666666,
              "#ed7953"
             ],
             [
              0.7777777777777778,
              "#fb9f3a"
             ],
             [
              0.8888888888888888,
              "#fdca26"
             ],
             [
              1.0,
              "#f0f921"
             ]
            ],
            "type": "heatmap"
           }
          ],
          "histogram": [
           {
            "marker": {
             "pattern": {
              "fillmode": "overlay",
              "size": 10,
              "solidity": 0.2
             }
            },
            "type": "histogram"
           }
          ],
          "histogram2d": [
           {
            "colorbar": {
             "outlinewidth": 0,
             "ticks": ""
            },
            "colorscale": [
             [
              0.0,
              "#0d0887"
             ],
             [
              0.1111111111111111,
              "#46039f"
             ],
             [
              0.2222222222222222,
              "#7201a8"
             ],
             [
              0.3333333333333333,
              "#9c179e"
             ],
             [
              0.4444444444444444,
              "#bd3786"
             ],
             [
              0.5555555555555556,
              "#d8576b"
             ],
             [
              0.6666666666666666,
              "#ed7953"
             ],
             [
              0.7777777777777778,
              "#fb9f3a"
             ],
             [
              0.8888888888888888,
              "#fdca26"
             ],
             [
              1.0,
              "#f0f921"
             ]
            ],
            "type": "histogram2d"
           }
          ],
          "histogram2dcontour": [
           {
            "colorbar": {
             "outlinewidth": 0,
             "ticks": ""
            },
            "colorscale": [
             [
              0.0,
              "#0d0887"
             ],
             [
              0.1111111111111111,
              "#46039f"
             ],
             [
              0.2222222222222222,
              "#7201a8"
             ],
             [
              0.3333333333333333,
              "#9c179e"
             ],
             [
              0.4444444444444444,
              "#bd3786"
             ],
             [
              0.5555555555555556,
              "#d8576b"
             ],
             [
              0.6666666666666666,
              "#ed7953"
             ],
             [
              0.7777777777777778,
              "#fb9f3a"
             ],
             [
              0.8888888888888888,
              "#fdca26"
             ],
             [
              1.0,
              "#f0f921"
             ]
            ],
            "type": "histogram2dcontour"
           }
          ],
          "mesh3d": [
           {
            "colorbar": {
             "outlinewidth": 0,
             "ticks": ""
            },
            "type": "mesh3d"
           }
          ],
          "parcoords": [
           {
            "line": {
             "colorbar": {
              "outlinewidth": 0,
              "ticks": ""
             }
            },
            "type": "parcoords"
           }
          ],
          "pie": [
           {
            "automargin": true,
            "type": "pie"
           }
          ],
          "scatter": [
           {
            "marker": {
             "line": {
              "color": "#283442"
             }
            },
            "type": "scatter"
           }
          ],
          "scatter3d": [
           {
            "line": {
             "colorbar": {
              "outlinewidth": 0,
              "ticks": ""
             }
            },
            "marker": {
             "colorbar": {
              "outlinewidth": 0,
              "ticks": ""
             }
            },
            "type": "scatter3d"
           }
          ],
          "scattercarpet": [
           {
            "marker": {
             "colorbar": {
              "outlinewidth": 0,
              "ticks": ""
             }
            },
            "type": "scattercarpet"
           }
          ],
          "scattergeo": [
           {
            "marker": {
             "colorbar": {
              "outlinewidth": 0,
              "ticks": ""
             }
            },
            "type": "scattergeo"
           }
          ],
          "scattergl": [
           {
            "marker": {
             "line": {
              "color": "#283442"
             }
            },
            "type": "scattergl"
           }
          ],
          "scattermap": [
           {
            "marker": {
             "colorbar": {
              "outlinewidth": 0,
              "ticks": ""
             }
            },
            "type": "scattermap"
           }
          ],
          "scattermapbox": [
           {
            "marker": {
             "colorbar": {
              "outlinewidth": 0,
              "ticks": ""
             }
            },
            "type": "scattermapbox"
           }
          ],
          "scatterpolar": [
           {
            "marker": {
             "colorbar": {
              "outlinewidth": 0,
              "ticks": ""
             }
            },
            "type": "scatterpolar"
           }
          ],
          "scatterpolargl": [
           {
            "marker": {
             "colorbar": {
              "outlinewidth": 0,
              "ticks": ""
             }
            },
            "type": "scatterpolargl"
           }
          ],
          "scatterternary": [
           {
            "marker": {
             "colorbar": {
              "outlinewidth": 0,
              "ticks": ""
             }
            },
            "type": "scatterternary"
           }
          ],
          "surface": [
           {
            "colorbar": {
             "outlinewidth": 0,
             "ticks": ""
            },
            "colorscale": [
             [
              0.0,
              "#0d0887"
             ],
             [
              0.1111111111111111,
              "#46039f"
             ],
             [
              0.2222222222222222,
              "#7201a8"
             ],
             [
              0.3333333333333333,
              "#9c179e"
             ],
             [
              0.4444444444444444,
              "#bd3786"
             ],
             [
              0.5555555555555556,
              "#d8576b"
             ],
             [
              0.6666666666666666,
              "#ed7953"
             ],
             [
              0.7777777777777778,
              "#fb9f3a"
             ],
             [
              0.8888888888888888,
              "#fdca26"
             ],
             [
              1.0,
              "#f0f921"
             ]
            ],
            "type": "surface"
           }
          ],
          "table": [
           {
            "cells": {
             "fill": {
              "color": "#506784"
             },
             "line": {
              "color": "rgb(17,17,17)"
             }
            },
            "header": {
             "fill": {
              "color": "#2a3f5f"
             },
             "line": {
              "color": "rgb(17,17,17)"
             }
            },
            "type": "table"
           }
          ]
         },
         "layout": {
          "annotationdefaults": {
           "arrowcolor": "#f2f5fa",
           "arrowhead": 0,
           "arrowwidth": 1
          },
          "autotypenumbers": "strict",
          "coloraxis": {
           "colorbar": {
            "outlinewidth": 0,
            "ticks": ""
           }
          },
          "colorscale": {
           "diverging": [
            [
             0,
             "#8e0152"
            ],
            [
             0.1,
             "#c51b7d"
            ],
            [
             0.2,
             "#de77ae"
            ],
            [
             0.3,
             "#f1b6da"
            ],
            [
             0.4,
             "#fde0ef"
            ],
            [
             0.5,
             "#f7f7f7"
            ],
            [
             0.6,
             "#e6f5d0"
            ],
            [
             0.7,
             "#b8e186"
            ],
            [
             0.8,
             "#7fbc41"
            ],
            [
             0.9,
             "#4d9221"
            ],
            [
             1,
             "#276419"
            ]
           ],
           "sequential": [
            [
             0.0,
             "#0d0887"
            ],
            [
             0.1111111111111111,
             "#46039f"
            ],
            [
             0.2222222222222222,
             "#7201a8"
            ],
            [
             0.3333333333333333,
             "#9c179e"
            ],
            [
             0.4444444444444444,
             "#bd3786"
            ],
            [
             0.5555555555555556,
             "#d8576b"
            ],
            [
             0.6666666666666666,
             "#ed7953"
            ],
            [
             0.7777777777777778,
             "#fb9f3a"
            ],
            [
             0.8888888888888888,
             "#fdca26"
            ],
            [
             1.0,
             "#f0f921"
            ]
           ],
           "sequentialminus": [
            [
             0.0,
             "#0d0887"
            ],
            [
             0.1111111111111111,
             "#46039f"
            ],
            [
             0.2222222222222222,
             "#7201a8"
            ],
            [
             0.3333333333333333,
             "#9c179e"
            ],
            [
             0.4444444444444444,
             "#bd3786"
            ],
            [
             0.5555555555555556,
             "#d8576b"
            ],
            [
             0.6666666666666666,
             "#ed7953"
            ],
            [
             0.7777777777777778,
             "#fb9f3a"
            ],
            [
             0.8888888888888888,
             "#fdca26"
            ],
            [
             1.0,
             "#f0f921"
            ]
           ]
          },
          "colorway": [
           "#636efa",
           "#EF553B",
           "#00cc96",
           "#ab63fa",
           "#FFA15A",
           "#19d3f3",
           "#FF6692",
           "#B6E880",
           "#FF97FF",
           "#FECB52"
          ],
          "font": {
           "color": "#f2f5fa"
          },
          "geo": {
           "bgcolor": "rgb(17,17,17)",
           "lakecolor": "rgb(17,17,17)",
           "landcolor": "rgb(17,17,17)",
           "showlakes": true,
           "showland": true,
           "subunitcolor": "#506784"
          },
          "hoverlabel": {
           "align": "left"
          },
          "hovermode": "closest",
          "mapbox": {
           "style": "dark"
          },
          "paper_bgcolor": "rgb(17,17,17)",
          "plot_bgcolor": "rgb(17,17,17)",
          "polar": {
           "angularaxis": {
            "gridcolor": "#506784",
            "linecolor": "#506784",
            "ticks": ""
           },
           "bgcolor": "rgb(17,17,17)",
           "radialaxis": {
            "gridcolor": "#506784",
            "linecolor": "#506784",
            "ticks": ""
           }
          },
          "scene": {
           "xaxis": {
            "backgroundcolor": "rgb(17,17,17)",
            "gridcolor": "#506784",
            "gridwidth": 2,
            "linecolor": "#506784",
            "showbackground": true,
            "ticks": "",
            "zerolinecolor": "#C8D4E3"
           },
           "yaxis": {
            "backgroundcolor": "rgb(17,17,17)",
            "gridcolor": "#506784",
            "gridwidth": 2,
            "linecolor": "#506784",
            "showbackground": true,
            "ticks": "",
            "zerolinecolor": "#C8D4E3"
           },
           "zaxis": {
            "backgroundcolor": "rgb(17,17,17)",
            "gridcolor": "#506784",
            "gridwidth": 2,
            "linecolor": "#506784",
            "showbackground": true,
            "ticks": "",
            "zerolinecolor": "#C8D4E3"
           }
          },
          "shapedefaults": {
           "line": {
            "color": "#f2f5fa"
           }
          },
          "sliderdefaults": {
           "bgcolor": "#C8D4E3",
           "bordercolor": "rgb(17,17,17)",
           "borderwidth": 1,
           "tickwidth": 0
          },
          "ternary": {
           "aaxis": {
            "gridcolor": "#506784",
            "linecolor": "#506784",
            "ticks": ""
           },
           "baxis": {
            "gridcolor": "#506784",
            "linecolor": "#506784",
            "ticks": ""
           },
           "bgcolor": "rgb(17,17,17)",
           "caxis": {
            "gridcolor": "#506784",
            "linecolor": "#506784",
            "ticks": ""
           }
          },
          "title": {
           "x": 0.05
          },
          "updatemenudefaults": {
           "bgcolor": "#506784",
           "borderwidth": 0
          },
          "xaxis": {
           "automargin": true,
           "gridcolor": "#283442",
           "linecolor": "#506784",
           "ticks": "",
           "title": {
            "standoff": 15
           },
           "zerolinecolor": "#283442",
           "zerolinewidth": 2
          },
          "yaxis": {
           "automargin": true,
           "gridcolor": "#283442",
           "linecolor": "#506784",
           "ticks": "",
           "title": {
            "standoff": 15
           },
           "zerolinecolor": "#283442",
           "zerolinewidth": 2
          }
         }
        },
        "xaxis": {
         "anchor": "y",
         "domain": [
          0.0,
          1.0
         ],
         "title": {
          "text": "symbol"
         }
        },
        "yaxis": {
         "anchor": "x",
         "domain": [
          0.0,
          1.0
         ],
         "title": {
          "text": "size"
         }
        }
       }
      }
     },
     "jetTransient": {
      "display_id": null
     },
     "metadata": {},
     "output_type": "display_data"
    }
   ],
   "source": [
    "trade_volume_by_symbol = (\n",
    "    trade_local.groupby(\"symbol\").sum(\"size\").sort_values(\"size\", ascending=False)\n",
    ")\n",
    "fig = px.bar(trade_volume_by_symbol, x=trade_volume_by_symbol.index, y=\"size\")\n",
    "fig.show()"
   ]
  },
  {
   "cell_type": "markdown",
   "id": "c5d852bf-c69a-4186-bea1-7f175d444704",
   "metadata": {},
   "source": "### Implied Trades"
  },
  {
   "cell_type": "code",
   "execution_count": 20,
   "id": "86af08105da86500",
   "metadata": {
    "ExecuteTime": {
     "end_time": "2025-10-22T00:07:50.749410Z",
     "start_time": "2025-10-22T00:07:50.741857Z"
    }
   },
   "outputs": [
    {
     "data": {
      "text/html": [
       "<div>\n",
       "<style scoped>\n",
       "    .dataframe tbody tr th:only-of-type {\n",
       "        vertical-align: middle;\n",
       "    }\n",
       "\n",
       "    .dataframe tbody tr th {\n",
       "        vertical-align: top;\n",
       "    }\n",
       "\n",
       "    .dataframe thead th {\n",
       "        text-align: right;\n",
       "    }\n",
       "</style>\n",
       "<table border=\"1\" class=\"dataframe\">\n",
       "  <thead>\n",
       "    <tr style=\"text-align: right;\">\n",
       "      <th></th>\n",
       "      <th></th>\n",
       "      <th>symbol</th>\n",
       "      <th>bid_ct_00</th>\n",
       "      <th>bid_sz_00</th>\n",
       "      <th>bid_px_00</th>\n",
       "      <th>price</th>\n",
       "      <th>size</th>\n",
       "      <th>side</th>\n",
       "      <th>ask_px_00</th>\n",
       "      <th>ask_sz_00</th>\n",
       "      <th>ask_ct_00</th>\n",
       "      <th>action</th>\n",
       "    </tr>\n",
       "    <tr>\n",
       "      <th>local_time</th>\n",
       "      <th>sequence</th>\n",
       "      <th></th>\n",
       "      <th></th>\n",
       "      <th></th>\n",
       "      <th></th>\n",
       "      <th></th>\n",
       "      <th></th>\n",
       "      <th></th>\n",
       "      <th></th>\n",
       "      <th></th>\n",
       "      <th></th>\n",
       "      <th></th>\n",
       "    </tr>\n",
       "  </thead>\n",
       "  <tbody>\n",
       "    <tr>\n",
       "      <th>2025-10-09 13:28:00.000016967-05:00</th>\n",
       "      <th>145035170</th>\n",
       "      <td>CLX5</td>\n",
       "      <td>12</td>\n",
       "      <td>22</td>\n",
       "      <td>61.51</td>\n",
       "      <td>61.51</td>\n",
       "      <td>15</td>\n",
       "      <td>A</td>\n",
       "      <td>61.52</td>\n",
       "      <td>9</td>\n",
       "      <td>8</td>\n",
       "      <td>T</td>\n",
       "    </tr>\n",
       "    <tr>\n",
       "      <th>2025-10-09 13:28:00.000028353-05:00</th>\n",
       "      <th>145035183</th>\n",
       "      <td>CLX5</td>\n",
       "      <td>2</td>\n",
       "      <td>7</td>\n",
       "      <td>61.51</td>\n",
       "      <td>61.51</td>\n",
       "      <td>1</td>\n",
       "      <td>A</td>\n",
       "      <td>61.52</td>\n",
       "      <td>9</td>\n",
       "      <td>8</td>\n",
       "      <td>T</td>\n",
       "    </tr>\n",
       "    <tr>\n",
       "      <th>2025-10-09 13:28:00.000574535-05:00</th>\n",
       "      <th>145035216</th>\n",
       "      <td>CLX5</td>\n",
       "      <td>2</td>\n",
       "      <td>6</td>\n",
       "      <td>61.51</td>\n",
       "      <td>61.52</td>\n",
       "      <td>1</td>\n",
       "      <td>B</td>\n",
       "      <td>61.52</td>\n",
       "      <td>9</td>\n",
       "      <td>8</td>\n",
       "      <td>T</td>\n",
       "    </tr>\n",
       "    <tr>\n",
       "      <th>2025-10-09 13:28:00.000737645-05:00</th>\n",
       "      <th>145035245</th>\n",
       "      <td>CLZ5</td>\n",
       "      <td>11</td>\n",
       "      <td>11</td>\n",
       "      <td>61.02</td>\n",
       "      <td>61.03</td>\n",
       "      <td>1</td>\n",
       "      <td>B</td>\n",
       "      <td>61.03</td>\n",
       "      <td>8</td>\n",
       "      <td>7</td>\n",
       "      <td>T</td>\n",
       "    </tr>\n",
       "    <tr>\n",
       "      <th>2025-10-09 13:28:00.000916889-05:00</th>\n",
       "      <th>145035263</th>\n",
       "      <td>CLK6-CLN6</td>\n",
       "      <td>40</td>\n",
       "      <td>431</td>\n",
       "      <td>-0.04</td>\n",
       "      <td>-0.04</td>\n",
       "      <td>1</td>\n",
       "      <td>A</td>\n",
       "      <td>-0.03</td>\n",
       "      <td>205</td>\n",
       "      <td>27</td>\n",
       "      <td>T</td>\n",
       "    </tr>\n",
       "    <tr>\n",
       "      <th>...</th>\n",
       "      <th>...</th>\n",
       "      <td>...</td>\n",
       "      <td>...</td>\n",
       "      <td>...</td>\n",
       "      <td>...</td>\n",
       "      <td>...</td>\n",
       "      <td>...</td>\n",
       "      <td>...</td>\n",
       "      <td>...</td>\n",
       "      <td>...</td>\n",
       "      <td>...</td>\n",
       "      <td>...</td>\n",
       "    </tr>\n",
       "    <tr>\n",
       "      <th>2025-10-09 13:29:59.814436763-05:00</th>\n",
       "      <th>145751145</th>\n",
       "      <td>CLM6-CLN6</td>\n",
       "      <td>118</td>\n",
       "      <td>1928</td>\n",
       "      <td>-0.01</td>\n",
       "      <td>0.00</td>\n",
       "      <td>1</td>\n",
       "      <td>B</td>\n",
       "      <td>0.00</td>\n",
       "      <td>478</td>\n",
       "      <td>21</td>\n",
       "      <td>T</td>\n",
       "    </tr>\n",
       "    <tr>\n",
       "      <th>2025-10-09 13:29:59.817849585-05:00</th>\n",
       "      <th>145751252</th>\n",
       "      <td>CLX5-CLF6</td>\n",
       "      <td>38</td>\n",
       "      <td>149</td>\n",
       "      <td>0.75</td>\n",
       "      <td>0.75</td>\n",
       "      <td>1</td>\n",
       "      <td>A</td>\n",
       "      <td>0.76</td>\n",
       "      <td>293</td>\n",
       "      <td>30</td>\n",
       "      <td>T</td>\n",
       "    </tr>\n",
       "    <tr>\n",
       "      <th>2025-10-09 13:29:59.823973597-05:00</th>\n",
       "      <th>145751316</th>\n",
       "      <td>CLF6-CLG6</td>\n",
       "      <td>91</td>\n",
       "      <td>2513</td>\n",
       "      <td>0.16</td>\n",
       "      <td>0.17</td>\n",
       "      <td>1</td>\n",
       "      <td>B</td>\n",
       "      <td>0.17</td>\n",
       "      <td>607</td>\n",
       "      <td>30</td>\n",
       "      <td>T</td>\n",
       "    </tr>\n",
       "    <tr>\n",
       "      <th>2025-10-09 13:29:59.825915515-05:00</th>\n",
       "      <th>145751320</th>\n",
       "      <td>CLF6-CLG6</td>\n",
       "      <td>90</td>\n",
       "      <td>2512</td>\n",
       "      <td>0.16</td>\n",
       "      <td>0.17</td>\n",
       "      <td>1</td>\n",
       "      <td>B</td>\n",
       "      <td>0.17</td>\n",
       "      <td>606</td>\n",
       "      <td>30</td>\n",
       "      <td>T</td>\n",
       "    </tr>\n",
       "    <tr>\n",
       "      <th>2025-10-09 13:29:59.903989873-05:00</th>\n",
       "      <th>145753205</th>\n",
       "      <td>CLX5</td>\n",
       "      <td>24</td>\n",
       "      <td>51</td>\n",
       "      <td>61.55</td>\n",
       "      <td>61.56</td>\n",
       "      <td>2</td>\n",
       "      <td>B</td>\n",
       "      <td>61.56</td>\n",
       "      <td>13</td>\n",
       "      <td>6</td>\n",
       "      <td>T</td>\n",
       "    </tr>\n",
       "  </tbody>\n",
       "</table>\n",
       "<p>5887 rows × 11 columns</p>\n",
       "</div>"
      ],
      "text/plain": [
       "                                                  symbol  bid_ct_00  \\\n",
       "local_time                          sequence                          \n",
       "2025-10-09 13:28:00.000016967-05:00 145035170       CLX5         12   \n",
       "2025-10-09 13:28:00.000028353-05:00 145035183       CLX5          2   \n",
       "2025-10-09 13:28:00.000574535-05:00 145035216       CLX5          2   \n",
       "2025-10-09 13:28:00.000737645-05:00 145035245       CLZ5         11   \n",
       "2025-10-09 13:28:00.000916889-05:00 145035263  CLK6-CLN6         40   \n",
       "...                                                  ...        ...   \n",
       "2025-10-09 13:29:59.814436763-05:00 145751145  CLM6-CLN6        118   \n",
       "2025-10-09 13:29:59.817849585-05:00 145751252  CLX5-CLF6         38   \n",
       "2025-10-09 13:29:59.823973597-05:00 145751316  CLF6-CLG6         91   \n",
       "2025-10-09 13:29:59.825915515-05:00 145751320  CLF6-CLG6         90   \n",
       "2025-10-09 13:29:59.903989873-05:00 145753205       CLX5         24   \n",
       "\n",
       "                                               bid_sz_00  bid_px_00  price  \\\n",
       "local_time                          sequence                                 \n",
       "2025-10-09 13:28:00.000016967-05:00 145035170         22      61.51  61.51   \n",
       "2025-10-09 13:28:00.000028353-05:00 145035183          7      61.51  61.51   \n",
       "2025-10-09 13:28:00.000574535-05:00 145035216          6      61.51  61.52   \n",
       "2025-10-09 13:28:00.000737645-05:00 145035245         11      61.02  61.03   \n",
       "2025-10-09 13:28:00.000916889-05:00 145035263        431      -0.04  -0.04   \n",
       "...                                                  ...        ...    ...   \n",
       "2025-10-09 13:29:59.814436763-05:00 145751145       1928      -0.01   0.00   \n",
       "2025-10-09 13:29:59.817849585-05:00 145751252        149       0.75   0.75   \n",
       "2025-10-09 13:29:59.823973597-05:00 145751316       2513       0.16   0.17   \n",
       "2025-10-09 13:29:59.825915515-05:00 145751320       2512       0.16   0.17   \n",
       "2025-10-09 13:29:59.903989873-05:00 145753205         51      61.55  61.56   \n",
       "\n",
       "                                               size side  ask_px_00  \\\n",
       "local_time                          sequence                          \n",
       "2025-10-09 13:28:00.000016967-05:00 145035170    15    A      61.52   \n",
       "2025-10-09 13:28:00.000028353-05:00 145035183     1    A      61.52   \n",
       "2025-10-09 13:28:00.000574535-05:00 145035216     1    B      61.52   \n",
       "2025-10-09 13:28:00.000737645-05:00 145035245     1    B      61.03   \n",
       "2025-10-09 13:28:00.000916889-05:00 145035263     1    A      -0.03   \n",
       "...                                             ...  ...        ...   \n",
       "2025-10-09 13:29:59.814436763-05:00 145751145     1    B       0.00   \n",
       "2025-10-09 13:29:59.817849585-05:00 145751252     1    A       0.76   \n",
       "2025-10-09 13:29:59.823973597-05:00 145751316     1    B       0.17   \n",
       "2025-10-09 13:29:59.825915515-05:00 145751320     1    B       0.17   \n",
       "2025-10-09 13:29:59.903989873-05:00 145753205     2    B      61.56   \n",
       "\n",
       "                                               ask_sz_00  ask_ct_00 action  \n",
       "local_time                          sequence                                \n",
       "2025-10-09 13:28:00.000016967-05:00 145035170          9          8      T  \n",
       "2025-10-09 13:28:00.000028353-05:00 145035183          9          8      T  \n",
       "2025-10-09 13:28:00.000574535-05:00 145035216          9          8      T  \n",
       "2025-10-09 13:28:00.000737645-05:00 145035245          8          7      T  \n",
       "2025-10-09 13:28:00.000916889-05:00 145035263        205         27      T  \n",
       "...                                                  ...        ...    ...  \n",
       "2025-10-09 13:29:59.814436763-05:00 145751145        478         21      T  \n",
       "2025-10-09 13:29:59.817849585-05:00 145751252        293         30      T  \n",
       "2025-10-09 13:29:59.823973597-05:00 145751316        607         30      T  \n",
       "2025-10-09 13:29:59.825915515-05:00 145751320        606         30      T  \n",
       "2025-10-09 13:29:59.903989873-05:00 145753205         13          6      T  \n",
       "\n",
       "[5887 rows x 11 columns]"
      ]
     },
     "execution_count": 20,
     "metadata": {},
     "output_type": "execute_result"
    }
   ],
   "source": [
    "cols = [\n",
    "    \"symbol\",\n",
    "    \"bid_ct_00\",\n",
    "    \"bid_sz_00\",\n",
    "    \"bid_px_00\",\n",
    "    \"price\",\n",
    "    \"size\",\n",
    "    \"side\",\n",
    "    \"ask_px_00\",\n",
    "    \"ask_sz_00\",\n",
    "    \"ask_ct_00\",\n",
    "    \"action\",\n",
    "]\n",
    "trade_local[cols]"
   ]
  },
  {
   "cell_type": "markdown",
   "id": "366917dd4e645ba5",
   "metadata": {},
   "source": [
    "Side:\n",
    "* `A`: Ask-initiated trade, i.e., sell, typically at the bid price.\n",
    "* `B`: Bid-initiated trade, i.e., buy, typically at the ask price.\n",
    "* `N`: None\n",
    "\n",
    "Implied trades:\n",
    "\n",
    "CME\n",
    "https://cmegroupclientsite.atlassian.net/wiki/spaces/EPICSANDBOX/pages/457422235/MDP+3.0+-+Implied+Book\n",
    "\n",
    "Databento\n",
    "https://databento.com/docs/standards-and-conventions/common-fields-enums-types#side?historical=python&live=python&reference=python"
   ]
  },
  {
   "cell_type": "code",
   "execution_count": 21,
   "id": "5a59cf1a0fe4f442",
   "metadata": {
    "ExecuteTime": {
     "end_time": "2025-10-22T00:07:50.794720Z",
     "start_time": "2025-10-22T00:07:50.787987Z"
    }
   },
   "outputs": [
    {
     "data": {
      "text/html": [
       "<div>\n",
       "<style scoped>\n",
       "    .dataframe tbody tr th:only-of-type {\n",
       "        vertical-align: middle;\n",
       "    }\n",
       "\n",
       "    .dataframe tbody tr th {\n",
       "        vertical-align: top;\n",
       "    }\n",
       "\n",
       "    .dataframe thead th {\n",
       "        text-align: right;\n",
       "    }\n",
       "</style>\n",
       "<table border=\"1\" class=\"dataframe\">\n",
       "  <thead>\n",
       "    <tr style=\"text-align: right;\">\n",
       "      <th></th>\n",
       "      <th></th>\n",
       "      <th>symbol</th>\n",
       "      <th>bid_ct_00</th>\n",
       "      <th>bid_sz_00</th>\n",
       "      <th>bid_px_00</th>\n",
       "      <th>price</th>\n",
       "      <th>size</th>\n",
       "      <th>side</th>\n",
       "      <th>ask_px_00</th>\n",
       "      <th>ask_sz_00</th>\n",
       "      <th>ask_ct_00</th>\n",
       "      <th>action</th>\n",
       "    </tr>\n",
       "    <tr>\n",
       "      <th>local_time</th>\n",
       "      <th>sequence</th>\n",
       "      <th></th>\n",
       "      <th></th>\n",
       "      <th></th>\n",
       "      <th></th>\n",
       "      <th></th>\n",
       "      <th></th>\n",
       "      <th></th>\n",
       "      <th></th>\n",
       "      <th></th>\n",
       "      <th></th>\n",
       "      <th></th>\n",
       "    </tr>\n",
       "  </thead>\n",
       "  <tbody>\n",
       "    <tr>\n",
       "      <th rowspan=\"7\" valign=\"top\">2025-10-09 13:28:00.040593169-05:00</th>\n",
       "      <th>145037981</th>\n",
       "      <td>CLF6</td>\n",
       "      <td>6</td>\n",
       "      <td>14</td>\n",
       "      <td>60.75</td>\n",
       "      <td>60.76</td>\n",
       "      <td>3</td>\n",
       "      <td>B</td>\n",
       "      <td>60.77</td>\n",
       "      <td>3</td>\n",
       "      <td>3</td>\n",
       "      <td>T</td>\n",
       "    </tr>\n",
       "    <tr>\n",
       "      <th>145037981</th>\n",
       "      <td>CLX5</td>\n",
       "      <td>22</td>\n",
       "      <td>36</td>\n",
       "      <td>61.51</td>\n",
       "      <td>61.52</td>\n",
       "      <td>1</td>\n",
       "      <td>N</td>\n",
       "      <td>61.52</td>\n",
       "      <td>10</td>\n",
       "      <td>6</td>\n",
       "      <td>T</td>\n",
       "    </tr>\n",
       "    <tr>\n",
       "      <th>145037981</th>\n",
       "      <td>CLX5-CLF6</td>\n",
       "      <td>1</td>\n",
       "      <td>1</td>\n",
       "      <td>0.76</td>\n",
       "      <td>0.76</td>\n",
       "      <td>1</td>\n",
       "      <td>N</td>\n",
       "      <td>0.77</td>\n",
       "      <td>225</td>\n",
       "      <td>35</td>\n",
       "      <td>T</td>\n",
       "    </tr>\n",
       "    <tr>\n",
       "      <th>145037981</th>\n",
       "      <td>CLF6-CLG6</td>\n",
       "      <td>96</td>\n",
       "      <td>2485</td>\n",
       "      <td>0.16</td>\n",
       "      <td>0.17</td>\n",
       "      <td>1</td>\n",
       "      <td>N</td>\n",
       "      <td>0.17</td>\n",
       "      <td>35</td>\n",
       "      <td>6</td>\n",
       "      <td>T</td>\n",
       "    </tr>\n",
       "    <tr>\n",
       "      <th>145037981</th>\n",
       "      <td>CLG6</td>\n",
       "      <td>2</td>\n",
       "      <td>2</td>\n",
       "      <td>60.57</td>\n",
       "      <td>60.59</td>\n",
       "      <td>1</td>\n",
       "      <td>N</td>\n",
       "      <td>60.59</td>\n",
       "      <td>1</td>\n",
       "      <td>1</td>\n",
       "      <td>T</td>\n",
       "    </tr>\n",
       "    <tr>\n",
       "      <th>145037981</th>\n",
       "      <td>CLF6-CLK6</td>\n",
       "      <td>20</td>\n",
       "      <td>37</td>\n",
       "      <td>0.22</td>\n",
       "      <td>0.23</td>\n",
       "      <td>1</td>\n",
       "      <td>N</td>\n",
       "      <td>0.23</td>\n",
       "      <td>18</td>\n",
       "      <td>6</td>\n",
       "      <td>T</td>\n",
       "    </tr>\n",
       "    <tr>\n",
       "      <th>145037981</th>\n",
       "      <td>CLK6</td>\n",
       "      <td>1</td>\n",
       "      <td>1</td>\n",
       "      <td>60.52</td>\n",
       "      <td>60.53</td>\n",
       "      <td>1</td>\n",
       "      <td>N</td>\n",
       "      <td>60.53</td>\n",
       "      <td>2</td>\n",
       "      <td>2</td>\n",
       "      <td>T</td>\n",
       "    </tr>\n",
       "  </tbody>\n",
       "</table>\n",
       "</div>"
      ],
      "text/plain": [
       "                                                  symbol  bid_ct_00  \\\n",
       "local_time                          sequence                          \n",
       "2025-10-09 13:28:00.040593169-05:00 145037981       CLF6          6   \n",
       "                                    145037981       CLX5         22   \n",
       "                                    145037981  CLX5-CLF6          1   \n",
       "                                    145037981  CLF6-CLG6         96   \n",
       "                                    145037981       CLG6          2   \n",
       "                                    145037981  CLF6-CLK6         20   \n",
       "                                    145037981       CLK6          1   \n",
       "\n",
       "                                               bid_sz_00  bid_px_00  price  \\\n",
       "local_time                          sequence                                 \n",
       "2025-10-09 13:28:00.040593169-05:00 145037981         14      60.75  60.76   \n",
       "                                    145037981         36      61.51  61.52   \n",
       "                                    145037981          1       0.76   0.76   \n",
       "                                    145037981       2485       0.16   0.17   \n",
       "                                    145037981          2      60.57  60.59   \n",
       "                                    145037981         37       0.22   0.23   \n",
       "                                    145037981          1      60.52  60.53   \n",
       "\n",
       "                                               size side  ask_px_00  \\\n",
       "local_time                          sequence                          \n",
       "2025-10-09 13:28:00.040593169-05:00 145037981     3    B      60.77   \n",
       "                                    145037981     1    N      61.52   \n",
       "                                    145037981     1    N       0.77   \n",
       "                                    145037981     1    N       0.17   \n",
       "                                    145037981     1    N      60.59   \n",
       "                                    145037981     1    N       0.23   \n",
       "                                    145037981     1    N      60.53   \n",
       "\n",
       "                                               ask_sz_00  ask_ct_00 action  \n",
       "local_time                          sequence                                \n",
       "2025-10-09 13:28:00.040593169-05:00 145037981          3          3      T  \n",
       "                                    145037981         10          6      T  \n",
       "                                    145037981        225         35      T  \n",
       "                                    145037981         35          6      T  \n",
       "                                    145037981          1          1      T  \n",
       "                                    145037981         18          6      T  \n",
       "                                    145037981          2          2      T  "
      ]
     },
     "execution_count": 21,
     "metadata": {},
     "output_type": "execute_result"
    }
   ],
   "source": [
    "multileg_match_time = snippet_start + pd.Timedelta(nanoseconds=40593169)\n",
    "trade_local[trade_local.index.get_level_values(0) == multileg_match_time][cols]"
   ]
  },
  {
   "cell_type": "markdown",
   "id": "1ddfa43af7805832",
   "metadata": {},
   "source": [
    "In this example, one trade in `CLF6` of size `3` triggered 6 other implied trades in calendars and other legs.\n",
    "The implied trade in each leg will show up in the volume total for the day whether we analyze the\n",
    "trade log or get the cleared volume statistic for the day.\n",
    "\n",
    "Who gets filled? Matching algorithms vary by market. Some examples:\n",
    "https://databento.com/blog/cme-matching-algorithms-explained\n",
    "https://cmegroupclientsite.atlassian.net/wiki/spaces/EPICSANDBOX/pages/457087723/Complex+Match+Example\n",
    "\n",
    "Which spreads are prioritized for implied trading?\n",
    "https://cmegroupclientsite.atlassian.net/wiki/spaces/EPICSANDBOX/pages/457096650/Futures+Implied+Order+Matching+Priority\n",
    "\n",
    "But not all spread trades convert to implied trades. In those cases, the legs have cleared volume that is not\n",
    "in the trade volume. For example, consider trades in `CLX5-CLZ5` and its legs. Look through these trades\n",
    "and notice that most trades in the spread do not generate implied trades in the legs. In those cases,\n",
    "cleared volume for the legs increases with every trade, but you would need to break out the volume per\n",
    "leg of the spread to generate a (fairly) accurate volume from the trade log. (What's still missing?)"
   ]
  },
  {
   "cell_type": "code",
   "execution_count": 22,
   "id": "993595ce5696d2a7",
   "metadata": {
    "ExecuteTime": {
     "end_time": "2025-10-22T00:07:50.884243Z",
     "start_time": "2025-10-22T00:07:50.875324Z"
    }
   },
   "outputs": [
    {
     "data": {
      "text/html": [
       "<div>\n",
       "<style scoped>\n",
       "    .dataframe tbody tr th:only-of-type {\n",
       "        vertical-align: middle;\n",
       "    }\n",
       "\n",
       "    .dataframe tbody tr th {\n",
       "        vertical-align: top;\n",
       "    }\n",
       "\n",
       "    .dataframe thead th {\n",
       "        text-align: right;\n",
       "    }\n",
       "</style>\n",
       "<table border=\"1\" class=\"dataframe\">\n",
       "  <thead>\n",
       "    <tr style=\"text-align: right;\">\n",
       "      <th></th>\n",
       "      <th></th>\n",
       "      <th>symbol</th>\n",
       "      <th>bid_ct_00</th>\n",
       "      <th>bid_sz_00</th>\n",
       "      <th>bid_px_00</th>\n",
       "      <th>price</th>\n",
       "      <th>size</th>\n",
       "      <th>side</th>\n",
       "      <th>ask_px_00</th>\n",
       "      <th>ask_sz_00</th>\n",
       "      <th>ask_ct_00</th>\n",
       "      <th>action</th>\n",
       "    </tr>\n",
       "    <tr>\n",
       "      <th>local_time</th>\n",
       "      <th>sequence</th>\n",
       "      <th></th>\n",
       "      <th></th>\n",
       "      <th></th>\n",
       "      <th></th>\n",
       "      <th></th>\n",
       "      <th></th>\n",
       "      <th></th>\n",
       "      <th></th>\n",
       "      <th></th>\n",
       "      <th></th>\n",
       "      <th></th>\n",
       "    </tr>\n",
       "  </thead>\n",
       "  <tbody>\n",
       "    <tr>\n",
       "      <th>2025-10-09 13:28:00.000016967-05:00</th>\n",
       "      <th>145035170</th>\n",
       "      <td>CLX5</td>\n",
       "      <td>12</td>\n",
       "      <td>22</td>\n",
       "      <td>61.51</td>\n",
       "      <td>61.51</td>\n",
       "      <td>15</td>\n",
       "      <td>A</td>\n",
       "      <td>61.52</td>\n",
       "      <td>9</td>\n",
       "      <td>8</td>\n",
       "      <td>T</td>\n",
       "    </tr>\n",
       "    <tr>\n",
       "      <th>2025-10-09 13:28:00.000028353-05:00</th>\n",
       "      <th>145035183</th>\n",
       "      <td>CLX5</td>\n",
       "      <td>2</td>\n",
       "      <td>7</td>\n",
       "      <td>61.51</td>\n",
       "      <td>61.51</td>\n",
       "      <td>1</td>\n",
       "      <td>A</td>\n",
       "      <td>61.52</td>\n",
       "      <td>9</td>\n",
       "      <td>8</td>\n",
       "      <td>T</td>\n",
       "    </tr>\n",
       "    <tr>\n",
       "      <th>2025-10-09 13:28:00.000574535-05:00</th>\n",
       "      <th>145035216</th>\n",
       "      <td>CLX5</td>\n",
       "      <td>2</td>\n",
       "      <td>6</td>\n",
       "      <td>61.51</td>\n",
       "      <td>61.52</td>\n",
       "      <td>1</td>\n",
       "      <td>B</td>\n",
       "      <td>61.52</td>\n",
       "      <td>9</td>\n",
       "      <td>8</td>\n",
       "      <td>T</td>\n",
       "    </tr>\n",
       "    <tr>\n",
       "      <th>2025-10-09 13:28:00.000737645-05:00</th>\n",
       "      <th>145035245</th>\n",
       "      <td>CLZ5</td>\n",
       "      <td>11</td>\n",
       "      <td>11</td>\n",
       "      <td>61.02</td>\n",
       "      <td>61.03</td>\n",
       "      <td>1</td>\n",
       "      <td>B</td>\n",
       "      <td>61.03</td>\n",
       "      <td>8</td>\n",
       "      <td>7</td>\n",
       "      <td>T</td>\n",
       "    </tr>\n",
       "    <tr>\n",
       "      <th>2025-10-09 13:28:00.001041155-05:00</th>\n",
       "      <th>145035281</th>\n",
       "      <td>CLX5</td>\n",
       "      <td>2</td>\n",
       "      <td>6</td>\n",
       "      <td>61.51</td>\n",
       "      <td>61.51</td>\n",
       "      <td>1</td>\n",
       "      <td>N</td>\n",
       "      <td>61.52</td>\n",
       "      <td>11</td>\n",
       "      <td>10</td>\n",
       "      <td>T</td>\n",
       "    </tr>\n",
       "    <tr>\n",
       "      <th>...</th>\n",
       "      <th>...</th>\n",
       "      <td>...</td>\n",
       "      <td>...</td>\n",
       "      <td>...</td>\n",
       "      <td>...</td>\n",
       "      <td>...</td>\n",
       "      <td>...</td>\n",
       "      <td>...</td>\n",
       "      <td>...</td>\n",
       "      <td>...</td>\n",
       "      <td>...</td>\n",
       "      <td>...</td>\n",
       "    </tr>\n",
       "    <tr>\n",
       "      <th>2025-10-09 13:29:59.730954601-05:00</th>\n",
       "      <th>145749094</th>\n",
       "      <td>CLX5</td>\n",
       "      <td>1</td>\n",
       "      <td>2</td>\n",
       "      <td>61.56</td>\n",
       "      <td>61.56</td>\n",
       "      <td>1</td>\n",
       "      <td>A</td>\n",
       "      <td>61.57</td>\n",
       "      <td>56</td>\n",
       "      <td>20</td>\n",
       "      <td>T</td>\n",
       "    </tr>\n",
       "    <tr>\n",
       "      <th>2025-10-09 13:29:59.732685479-05:00</th>\n",
       "      <th>145749159</th>\n",
       "      <td>CLX5</td>\n",
       "      <td>2</td>\n",
       "      <td>2</td>\n",
       "      <td>61.56</td>\n",
       "      <td>61.56</td>\n",
       "      <td>1</td>\n",
       "      <td>A</td>\n",
       "      <td>61.57</td>\n",
       "      <td>56</td>\n",
       "      <td>20</td>\n",
       "      <td>T</td>\n",
       "    </tr>\n",
       "    <tr>\n",
       "      <th>2025-10-09 13:29:59.732707675-05:00</th>\n",
       "      <th>145749166</th>\n",
       "      <td>CLX5</td>\n",
       "      <td>1</td>\n",
       "      <td>1</td>\n",
       "      <td>61.56</td>\n",
       "      <td>61.56</td>\n",
       "      <td>1</td>\n",
       "      <td>A</td>\n",
       "      <td>61.57</td>\n",
       "      <td>56</td>\n",
       "      <td>20</td>\n",
       "      <td>T</td>\n",
       "    </tr>\n",
       "    <tr>\n",
       "      <th>2025-10-09 13:29:59.812387255-05:00</th>\n",
       "      <th>145751113</th>\n",
       "      <td>CLZ5</td>\n",
       "      <td>8</td>\n",
       "      <td>11</td>\n",
       "      <td>61.07</td>\n",
       "      <td>61.08</td>\n",
       "      <td>4</td>\n",
       "      <td>B</td>\n",
       "      <td>61.08</td>\n",
       "      <td>14</td>\n",
       "      <td>7</td>\n",
       "      <td>T</td>\n",
       "    </tr>\n",
       "    <tr>\n",
       "      <th>2025-10-09 13:29:59.903989873-05:00</th>\n",
       "      <th>145753205</th>\n",
       "      <td>CLX5</td>\n",
       "      <td>24</td>\n",
       "      <td>51</td>\n",
       "      <td>61.55</td>\n",
       "      <td>61.56</td>\n",
       "      <td>2</td>\n",
       "      <td>B</td>\n",
       "      <td>61.56</td>\n",
       "      <td>13</td>\n",
       "      <td>6</td>\n",
       "      <td>T</td>\n",
       "    </tr>\n",
       "  </tbody>\n",
       "</table>\n",
       "<p>2126 rows × 11 columns</p>\n",
       "</div>"
      ],
      "text/plain": [
       "                                              symbol  bid_ct_00  bid_sz_00  \\\n",
       "local_time                          sequence                                 \n",
       "2025-10-09 13:28:00.000016967-05:00 145035170   CLX5         12         22   \n",
       "2025-10-09 13:28:00.000028353-05:00 145035183   CLX5          2          7   \n",
       "2025-10-09 13:28:00.000574535-05:00 145035216   CLX5          2          6   \n",
       "2025-10-09 13:28:00.000737645-05:00 145035245   CLZ5         11         11   \n",
       "2025-10-09 13:28:00.001041155-05:00 145035281   CLX5          2          6   \n",
       "...                                              ...        ...        ...   \n",
       "2025-10-09 13:29:59.730954601-05:00 145749094   CLX5          1          2   \n",
       "2025-10-09 13:29:59.732685479-05:00 145749159   CLX5          2          2   \n",
       "2025-10-09 13:29:59.732707675-05:00 145749166   CLX5          1          1   \n",
       "2025-10-09 13:29:59.812387255-05:00 145751113   CLZ5          8         11   \n",
       "2025-10-09 13:29:59.903989873-05:00 145753205   CLX5         24         51   \n",
       "\n",
       "                                               bid_px_00  price  size side  \\\n",
       "local_time                          sequence                                 \n",
       "2025-10-09 13:28:00.000016967-05:00 145035170      61.51  61.51    15    A   \n",
       "2025-10-09 13:28:00.000028353-05:00 145035183      61.51  61.51     1    A   \n",
       "2025-10-09 13:28:00.000574535-05:00 145035216      61.51  61.52     1    B   \n",
       "2025-10-09 13:28:00.000737645-05:00 145035245      61.02  61.03     1    B   \n",
       "2025-10-09 13:28:00.001041155-05:00 145035281      61.51  61.51     1    N   \n",
       "...                                                  ...    ...   ...  ...   \n",
       "2025-10-09 13:29:59.730954601-05:00 145749094      61.56  61.56     1    A   \n",
       "2025-10-09 13:29:59.732685479-05:00 145749159      61.56  61.56     1    A   \n",
       "2025-10-09 13:29:59.732707675-05:00 145749166      61.56  61.56     1    A   \n",
       "2025-10-09 13:29:59.812387255-05:00 145751113      61.07  61.08     4    B   \n",
       "2025-10-09 13:29:59.903989873-05:00 145753205      61.55  61.56     2    B   \n",
       "\n",
       "                                               ask_px_00  ask_sz_00  \\\n",
       "local_time                          sequence                          \n",
       "2025-10-09 13:28:00.000016967-05:00 145035170      61.52          9   \n",
       "2025-10-09 13:28:00.000028353-05:00 145035183      61.52          9   \n",
       "2025-10-09 13:28:00.000574535-05:00 145035216      61.52          9   \n",
       "2025-10-09 13:28:00.000737645-05:00 145035245      61.03          8   \n",
       "2025-10-09 13:28:00.001041155-05:00 145035281      61.52         11   \n",
       "...                                                  ...        ...   \n",
       "2025-10-09 13:29:59.730954601-05:00 145749094      61.57         56   \n",
       "2025-10-09 13:29:59.732685479-05:00 145749159      61.57         56   \n",
       "2025-10-09 13:29:59.732707675-05:00 145749166      61.57         56   \n",
       "2025-10-09 13:29:59.812387255-05:00 145751113      61.08         14   \n",
       "2025-10-09 13:29:59.903989873-05:00 145753205      61.56         13   \n",
       "\n",
       "                                               ask_ct_00 action  \n",
       "local_time                          sequence                     \n",
       "2025-10-09 13:28:00.000016967-05:00 145035170          8      T  \n",
       "2025-10-09 13:28:00.000028353-05:00 145035183          8      T  \n",
       "2025-10-09 13:28:00.000574535-05:00 145035216          8      T  \n",
       "2025-10-09 13:28:00.000737645-05:00 145035245          7      T  \n",
       "2025-10-09 13:28:00.001041155-05:00 145035281         10      T  \n",
       "...                                                  ...    ...  \n",
       "2025-10-09 13:29:59.730954601-05:00 145749094         20      T  \n",
       "2025-10-09 13:29:59.732685479-05:00 145749159         20      T  \n",
       "2025-10-09 13:29:59.732707675-05:00 145749166         20      T  \n",
       "2025-10-09 13:29:59.812387255-05:00 145751113          7      T  \n",
       "2025-10-09 13:29:59.903989873-05:00 145753205          6      T  \n",
       "\n",
       "[2126 rows x 11 columns]"
      ]
     },
     "execution_count": 22,
     "metadata": {},
     "output_type": "execute_result"
    }
   ],
   "source": [
    "pattern = \"|\".join((r\"CLX5-CLZ5\", r\"CLZ5$\", r\"CLX5$\"))\n",
    "trade_local[trade_local[\"symbol\"].str.match(pattern)][cols]"
   ]
  },
  {
   "cell_type": "markdown",
   "id": "397aec21-8ae2-4b3d-93ed-cd729c091792",
   "metadata": {},
   "source": [
    "## Settling Back Month Futures\n",
    "\n",
    "Recall how we could calculate the settlement price from the trade record. We were doing that for the front month.\n",
    "The settlement of the back months are calculated differently:\n",
    "https://cmegroupclientsite.atlassian.net/wiki/spaces/EPICSANDBOX/pages/457218849/NYMEX+Crude+Oil\n",
    "https://cmegroupclientsite.atlassian.net/wiki/spaces/EPICSANDBOX/pages/457087813/CL+HO+and+RBOB+Settlement+Examples\n",
    "\n",
    "On October 9, `CLX5` is the active month (will be until 2 days before expiration).\n",
    "* `CLZ5` will settle based on `CLX5` settlement and `CLX5-CLZ5` vwap during settlement window.\n",
    "* `CLF6` will settle based on `CLX5`, `CLX5-CLF6`, `CLZ5`, `CLZ5-CLF6`.\n",
    "* etc."
   ]
  },
  {
   "cell_type": "code",
   "execution_count": 23,
   "id": "f2045ebc-713f-4495-97d2-35cec8fc20b3",
   "metadata": {
    "ExecuteTime": {
     "end_time": "2025-10-22T00:07:50.978770Z",
     "start_time": "2025-10-22T00:07:50.909294Z"
    }
   },
   "outputs": [
    {
     "data": {
      "application/vnd.plotly.v1+json": {
       "config": {
        "plotlyServerURL": "https://plot.ly"
       },
       "data": [
        {
         "mode": "lines",
         "name": "CLX5",
         "type": "scatter",
         "x": [
          "2025-10-09T13:28:00.000016967-05:00",
          "2025-10-09T13:28:00.000028353-05:00",
          "2025-10-09T13:28:00.000574535-05:00",
          "2025-10-09T13:28:00.001041155-05:00",
          "2025-10-09T13:28:00.001473883-05:00",
          "2025-10-09T13:28:00.003334541-05:00",
          "2025-10-09T13:28:00.029495657-05:00",
          "2025-10-09T13:28:00.040531483-05:00",
          "2025-10-09T13:28:00.040548109-05:00",
          "2025-10-09T13:28:00.040587141-05:00",
          "2025-10-09T13:28:00.040593169-05:00",
          "2025-10-09T13:28:00.041118323-05:00",
          "2025-10-09T13:28:00.041118505-05:00",
          "2025-10-09T13:28:00.041242523-05:00",
          "2025-10-09T13:28:00.044374943-05:00",
          "2025-10-09T13:28:00.054795417-05:00",
          "2025-10-09T13:28:00.055930625-05:00",
          "2025-10-09T13:28:00.056377369-05:00",
          "2025-10-09T13:28:00.056377549-05:00",
          "2025-10-09T13:28:00.056377735-05:00",
          "2025-10-09T13:28:00.057107743-05:00",
          "2025-10-09T13:28:00.060384541-05:00",
          "2025-10-09T13:28:00.073167357-05:00",
          "2025-10-09T13:28:00.073749013-05:00",
          "2025-10-09T13:28:00.074490273-05:00",
          "2025-10-09T13:28:00.080145059-05:00",
          "2025-10-09T13:28:00.092520257-05:00",
          "2025-10-09T13:28:00.154144451-05:00",
          "2025-10-09T13:28:00.154147831-05:00",
          "2025-10-09T13:28:00.154150289-05:00",
          "2025-10-09T13:28:00.156455301-05:00",
          "2025-10-09T13:28:00.199566405-05:00",
          "2025-10-09T13:28:00.199827053-05:00",
          "2025-10-09T13:28:00.200287909-05:00",
          "2025-10-09T13:28:00.206196353-05:00",
          "2025-10-09T13:28:00.270341839-05:00",
          "2025-10-09T13:28:00.270560113-05:00",
          "2025-10-09T13:28:00.389088565-05:00",
          "2025-10-09T13:28:00.434491819-05:00",
          "2025-10-09T13:28:00.538166115-05:00",
          "2025-10-09T13:28:00.538412267-05:00",
          "2025-10-09T13:28:00.538412459-05:00",
          "2025-10-09T13:28:00.670993769-05:00",
          "2025-10-09T13:28:00.671244455-05:00",
          "2025-10-09T13:28:00.671266571-05:00",
          "2025-10-09T13:28:00.671319625-05:00",
          "2025-10-09T13:28:00.876797467-05:00",
          "2025-10-09T13:28:01.001584249-05:00",
          "2025-10-09T13:28:01.001887901-05:00",
          "2025-10-09T13:28:01.032461959-05:00",
          "2025-10-09T13:28:01.037884281-05:00",
          "2025-10-09T13:28:01.043801593-05:00",
          "2025-10-09T13:28:01.117719161-05:00",
          "2025-10-09T13:28:01.464384839-05:00",
          "2025-10-09T13:28:01.505825943-05:00",
          "2025-10-09T13:28:01.552373005-05:00",
          "2025-10-09T13:28:01.562821435-05:00",
          "2025-10-09T13:28:01.597109703-05:00",
          "2025-10-09T13:28:01.706741247-05:00",
          "2025-10-09T13:28:01.707628959-05:00",
          "2025-10-09T13:28:01.712975577-05:00",
          "2025-10-09T13:28:01.723897151-05:00",
          "2025-10-09T13:28:01.839016243-05:00",
          "2025-10-09T13:28:01.839626653-05:00",
          "2025-10-09T13:28:02.832906431-05:00",
          "2025-10-09T13:28:02.834587317-05:00",
          "2025-10-09T13:28:02.834605517-05:00",
          "2025-10-09T13:28:02.834740315-05:00",
          "2025-10-09T13:28:02.834747457-05:00",
          "2025-10-09T13:28:03.083598325-05:00",
          "2025-10-09T13:28:03.086855729-05:00",
          "2025-10-09T13:28:03.102572521-05:00",
          "2025-10-09T13:28:03.105492387-05:00",
          "2025-10-09T13:28:03.105884837-05:00",
          "2025-10-09T13:28:03.106345347-05:00",
          "2025-10-09T13:28:03.106792125-05:00",
          "2025-10-09T13:28:03.200652897-05:00",
          "2025-10-09T13:28:03.891276673-05:00",
          "2025-10-09T13:28:03.891277173-05:00",
          "2025-10-09T13:28:03.891277977-05:00",
          "2025-10-09T13:28:03.891279105-05:00",
          "2025-10-09T13:28:03.891299109-05:00",
          "2025-10-09T13:28:03.892769665-05:00",
          "2025-10-09T13:28:03.894107289-05:00",
          "2025-10-09T13:28:03.894242797-05:00",
          "2025-10-09T13:28:03.894246155-05:00",
          "2025-10-09T13:28:03.894816359-05:00",
          "2025-10-09T13:28:03.896310989-05:00",
          "2025-10-09T13:28:03.899417999-05:00",
          "2025-10-09T13:28:03.903210761-05:00",
          "2025-10-09T13:28:03.904201591-05:00",
          "2025-10-09T13:28:04.001130093-05:00",
          "2025-10-09T13:28:04.001525729-05:00",
          "2025-10-09T13:28:04.002302805-05:00",
          "2025-10-09T13:28:04.577106029-05:00",
          "2025-10-09T13:28:04.593669867-05:00",
          "2025-10-09T13:28:04.595198101-05:00",
          "2025-10-09T13:28:04.595198869-05:00",
          "2025-10-09T13:28:04.604478145-05:00",
          "2025-10-09T13:28:04.604509019-05:00",
          "2025-10-09T13:28:04.604534169-05:00",
          "2025-10-09T13:28:04.623296179-05:00",
          "2025-10-09T13:28:04.632680925-05:00",
          "2025-10-09T13:28:05.282561953-05:00",
          "2025-10-09T13:28:05.283186079-05:00",
          "2025-10-09T13:28:05.395709919-05:00",
          "2025-10-09T13:28:05.398409207-05:00",
          "2025-10-09T13:28:05.398466515-05:00",
          "2025-10-09T13:28:05.398473195-05:00",
          "2025-10-09T13:28:05.398477015-05:00",
          "2025-10-09T13:28:05.398498193-05:00",
          "2025-10-09T13:28:05.398506065-05:00",
          "2025-10-09T13:28:05.399182411-05:00",
          "2025-10-09T13:28:05.399554511-05:00",
          "2025-10-09T13:28:05.435522667-05:00",
          "2025-10-09T13:28:05.436320949-05:00",
          "2025-10-09T13:28:05.614077809-05:00",
          "2025-10-09T13:28:05.614078711-05:00",
          "2025-10-09T13:28:05.614364759-05:00",
          "2025-10-09T13:28:05.614924013-05:00",
          "2025-10-09T13:28:05.616055649-05:00",
          "2025-10-09T13:28:05.618743357-05:00",
          "2025-10-09T13:28:05.618955989-05:00",
          "2025-10-09T13:28:06.006283627-05:00",
          "2025-10-09T13:28:06.006768739-05:00",
          "2025-10-09T13:28:06.097289189-05:00",
          "2025-10-09T13:28:06.183199527-05:00",
          "2025-10-09T13:28:06.196226229-05:00",
          "2025-10-09T13:28:06.510054999-05:00",
          "2025-10-09T13:28:06.620178119-05:00",
          "2025-10-09T13:28:06.740657435-05:00",
          "2025-10-09T13:28:06.891621473-05:00",
          "2025-10-09T13:28:06.972015625-05:00",
          "2025-10-09T13:28:06.972565143-05:00",
          "2025-10-09T13:28:06.972568791-05:00",
          "2025-10-09T13:28:06.972575357-05:00",
          "2025-10-09T13:28:06.972579799-05:00",
          "2025-10-09T13:28:06.974627707-05:00",
          "2025-10-09T13:28:07.058065021-05:00",
          "2025-10-09T13:28:07.058942097-05:00",
          "2025-10-09T13:28:07.163372475-05:00",
          "2025-10-09T13:28:07.177861443-05:00",
          "2025-10-09T13:28:07.366872501-05:00",
          "2025-10-09T13:28:07.367259595-05:00",
          "2025-10-09T13:28:07.367261669-05:00",
          "2025-10-09T13:28:07.471638405-05:00",
          "2025-10-09T13:28:07.473156883-05:00",
          "2025-10-09T13:28:07.473719361-05:00",
          "2025-10-09T13:28:07.814035011-05:00",
          "2025-10-09T13:28:07.859364521-05:00",
          "2025-10-09T13:28:08.009327399-05:00",
          "2025-10-09T13:28:08.009341453-05:00",
          "2025-10-09T13:28:08.228109627-05:00",
          "2025-10-09T13:28:09.324179239-05:00",
          "2025-10-09T13:28:09.324179771-05:00",
          "2025-10-09T13:28:09.324180097-05:00",
          "2025-10-09T13:28:09.324182531-05:00",
          "2025-10-09T13:28:09.324183013-05:00",
          "2025-10-09T13:28:09.324194493-05:00",
          "2025-10-09T13:28:09.324194671-05:00",
          "2025-10-09T13:28:09.324198869-05:00",
          "2025-10-09T13:28:09.324618391-05:00",
          "2025-10-09T13:28:09.324625091-05:00",
          "2025-10-09T13:28:09.324632445-05:00",
          "2025-10-09T13:28:09.328335307-05:00",
          "2025-10-09T13:28:09.332030933-05:00",
          "2025-10-09T13:28:09.334098011-05:00",
          "2025-10-09T13:28:09.341225909-05:00",
          "2025-10-09T13:28:09.766034197-05:00",
          "2025-10-09T13:28:09.766042547-05:00",
          "2025-10-09T13:28:09.866540537-05:00",
          "2025-10-09T13:28:09.866757815-05:00",
          "2025-10-09T13:28:09.866836741-05:00",
          "2025-10-09T13:28:09.875483369-05:00",
          "2025-10-09T13:28:10.006218451-05:00",
          "2025-10-09T13:28:10.017823207-05:00",
          "2025-10-09T13:28:10.020430299-05:00",
          "2025-10-09T13:28:10.054279347-05:00",
          "2025-10-09T13:28:10.054594981-05:00",
          "2025-10-09T13:28:10.065437031-05:00",
          "2025-10-09T13:28:10.120197451-05:00",
          "2025-10-09T13:28:10.385276075-05:00",
          "2025-10-09T13:28:10.456042445-05:00",
          "2025-10-09T13:28:10.560784385-05:00",
          "2025-10-09T13:28:10.592345395-05:00",
          "2025-10-09T13:28:10.947144829-05:00",
          "2025-10-09T13:28:10.947263153-05:00",
          "2025-10-09T13:28:10.947457161-05:00",
          "2025-10-09T13:28:10.955393285-05:00",
          "2025-10-09T13:28:10.955856175-05:00",
          "2025-10-09T13:28:11.216938877-05:00",
          "2025-10-09T13:28:11.217608065-05:00",
          "2025-10-09T13:28:11.217787079-05:00",
          "2025-10-09T13:28:11.218012685-05:00",
          "2025-10-09T13:28:11.313196829-05:00",
          "2025-10-09T13:28:11.313272761-05:00",
          "2025-10-09T13:28:11.314056167-05:00",
          "2025-10-09T13:28:11.314129967-05:00",
          "2025-10-09T13:28:11.315128523-05:00",
          "2025-10-09T13:28:11.315216599-05:00",
          "2025-10-09T13:28:11.318004335-05:00",
          "2025-10-09T13:28:11.328268549-05:00",
          "2025-10-09T13:28:11.328337435-05:00",
          "2025-10-09T13:28:11.328338261-05:00",
          "2025-10-09T13:28:11.328609025-05:00",
          "2025-10-09T13:28:11.335714671-05:00",
          "2025-10-09T13:28:11.339375719-05:00",
          "2025-10-09T13:28:11.353789177-05:00",
          "2025-10-09T13:28:11.410091655-05:00",
          "2025-10-09T13:28:11.417601019-05:00",
          "2025-10-09T13:28:11.418908597-05:00",
          "2025-10-09T13:28:11.421743947-05:00",
          "2025-10-09T13:28:11.426577093-05:00",
          "2025-10-09T13:28:11.426876515-05:00",
          "2025-10-09T13:28:11.436240787-05:00",
          "2025-10-09T13:28:11.436492873-05:00",
          "2025-10-09T13:28:11.445173135-05:00",
          "2025-10-09T13:28:11.449247619-05:00",
          "2025-10-09T13:28:11.449491409-05:00",
          "2025-10-09T13:28:11.469614905-05:00",
          "2025-10-09T13:28:11.470456309-05:00",
          "2025-10-09T13:28:11.475492035-05:00",
          "2025-10-09T13:28:11.580427063-05:00",
          "2025-10-09T13:28:11.580480169-05:00",
          "2025-10-09T13:28:11.580921921-05:00",
          "2025-10-09T13:28:11.797343361-05:00",
          "2025-10-09T13:28:11.811760083-05:00",
          "2025-10-09T13:28:11.812527877-05:00",
          "2025-10-09T13:28:11.825575755-05:00",
          "2025-10-09T13:28:11.827152505-05:00",
          "2025-10-09T13:28:12.165298691-05:00",
          "2025-10-09T13:28:12.632265773-05:00",
          "2025-10-09T13:28:12.633179083-05:00",
          "2025-10-09T13:28:12.633198743-05:00",
          "2025-10-09T13:28:12.633199099-05:00",
          "2025-10-09T13:28:12.636282087-05:00",
          "2025-10-09T13:28:12.639758441-05:00",
          "2025-10-09T13:28:13.104256291-05:00",
          "2025-10-09T13:28:13.104769675-05:00",
          "2025-10-09T13:28:13.106141033-05:00",
          "2025-10-09T13:28:13.268225085-05:00",
          "2025-10-09T13:28:13.268562011-05:00",
          "2025-10-09T13:28:13.317434283-05:00",
          "2025-10-09T13:28:14.136496949-05:00",
          "2025-10-09T13:28:14.136535589-05:00",
          "2025-10-09T13:28:14.189325839-05:00",
          "2025-10-09T13:28:14.281039773-05:00",
          "2025-10-09T13:28:14.281777097-05:00",
          "2025-10-09T13:28:14.282143819-05:00",
          "2025-10-09T13:28:14.680631983-05:00",
          "2025-10-09T13:28:14.681213219-05:00",
          "2025-10-09T13:28:14.682152901-05:00",
          "2025-10-09T13:28:14.682203893-05:00",
          "2025-10-09T13:28:14.683151545-05:00",
          "2025-10-09T13:28:14.683244221-05:00",
          "2025-10-09T13:28:14.685635495-05:00",
          "2025-10-09T13:28:14.685636455-05:00",
          "2025-10-09T13:28:14.686772833-05:00",
          "2025-10-09T13:28:14.686836421-05:00",
          "2025-10-09T13:28:14.701888037-05:00",
          "2025-10-09T13:28:14.914380313-05:00",
          "2025-10-09T13:28:14.994603631-05:00",
          "2025-10-09T13:28:15.000186169-05:00",
          "2025-10-09T13:28:15.000809813-05:00",
          "2025-10-09T13:28:15.004058599-05:00",
          "2025-10-09T13:28:15.007525505-05:00",
          "2025-10-09T13:28:15.013954611-05:00",
          "2025-10-09T13:28:15.032345115-05:00",
          "2025-10-09T13:28:15.041166991-05:00",
          "2025-10-09T13:28:15.075236025-05:00",
          "2025-10-09T13:28:15.085185583-05:00",
          "2025-10-09T13:28:15.238906867-05:00",
          "2025-10-09T13:28:15.337617663-05:00",
          "2025-10-09T13:28:15.369845689-05:00",
          "2025-10-09T13:28:15.370318005-05:00",
          "2025-10-09T13:28:15.370318181-05:00",
          "2025-10-09T13:28:15.370722343-05:00",
          "2025-10-09T13:28:15.372399331-05:00",
          "2025-10-09T13:28:15.375045357-05:00",
          "2025-10-09T13:28:15.698810781-05:00",
          "2025-10-09T13:28:15.901155669-05:00",
          "2025-10-09T13:28:16.036015689-05:00",
          "2025-10-09T13:28:16.037103455-05:00",
          "2025-10-09T13:28:16.103091829-05:00",
          "2025-10-09T13:28:16.117792581-05:00",
          "2025-10-09T13:28:16.117793599-05:00",
          "2025-10-09T13:28:16.126037333-05:00",
          "2025-10-09T13:28:16.383907287-05:00",
          "2025-10-09T13:28:16.384801585-05:00",
          "2025-10-09T13:28:16.384802275-05:00",
          "2025-10-09T13:28:16.385112649-05:00",
          "2025-10-09T13:28:16.385137589-05:00",
          "2025-10-09T13:28:16.385634661-05:00",
          "2025-10-09T13:28:16.473115347-05:00",
          "2025-10-09T13:28:16.716703149-05:00",
          "2025-10-09T13:28:16.719073799-05:00",
          "2025-10-09T13:28:18.005308671-05:00",
          "2025-10-09T13:28:18.282032867-05:00",
          "2025-10-09T13:28:18.282033043-05:00",
          "2025-10-09T13:28:18.282053355-05:00",
          "2025-10-09T13:28:18.282837409-05:00",
          "2025-10-09T13:28:18.283859245-05:00",
          "2025-10-09T13:28:18.285294707-05:00",
          "2025-10-09T13:28:18.285791471-05:00",
          "2025-10-09T13:28:18.291718879-05:00",
          "2025-10-09T13:28:18.295222301-05:00",
          "2025-10-09T13:28:18.305028711-05:00",
          "2025-10-09T13:28:18.429118159-05:00",
          "2025-10-09T13:28:18.429385027-05:00",
          "2025-10-09T13:28:18.505020169-05:00",
          "2025-10-09T13:28:18.505030325-05:00",
          "2025-10-09T13:28:19.459980863-05:00",
          "2025-10-09T13:28:19.459981055-05:00",
          "2025-10-09T13:28:19.460691807-05:00",
          "2025-10-09T13:28:19.461416729-05:00",
          "2025-10-09T13:28:19.461495215-05:00",
          "2025-10-09T13:28:19.461656411-05:00",
          "2025-10-09T13:28:19.461795587-05:00",
          "2025-10-09T13:28:19.461796777-05:00",
          "2025-10-09T13:28:19.465696047-05:00",
          "2025-10-09T13:28:19.466595241-05:00",
          "2025-10-09T13:28:19.468491425-05:00",
          "2025-10-09T13:28:19.471219951-05:00",
          "2025-10-09T13:28:19.471285113-05:00",
          "2025-10-09T13:28:19.641750693-05:00",
          "2025-10-09T13:28:19.642880023-05:00",
          "2025-10-09T13:28:20.939514903-05:00",
          "2025-10-09T13:28:22.874677251-05:00",
          "2025-10-09T13:28:22.874687849-05:00",
          "2025-10-09T13:28:22.874693975-05:00",
          "2025-10-09T13:28:22.893428755-05:00",
          "2025-10-09T13:28:22.893436803-05:00",
          "2025-10-09T13:28:22.893436981-05:00",
          "2025-10-09T13:28:22.893439407-05:00",
          "2025-10-09T13:28:22.893446261-05:00",
          "2025-10-09T13:28:22.893446617-05:00",
          "2025-10-09T13:28:22.893459889-05:00",
          "2025-10-09T13:28:22.893460245-05:00",
          "2025-10-09T13:28:22.893460421-05:00",
          "2025-10-09T13:28:22.893460777-05:00",
          "2025-10-09T13:28:22.893461131-05:00",
          "2025-10-09T13:28:22.893464411-05:00",
          "2025-10-09T13:28:22.896129465-05:00",
          "2025-10-09T13:28:22.896194321-05:00",
          "2025-10-09T13:28:22.896615589-05:00",
          "2025-10-09T13:28:22.896646863-05:00",
          "2025-10-09T13:28:22.897193405-05:00",
          "2025-10-09T13:28:22.913445507-05:00",
          "2025-10-09T13:28:23.077355825-05:00",
          "2025-10-09T13:28:23.120237711-05:00",
          "2025-10-09T13:28:23.249005689-05:00",
          "2025-10-09T13:28:23.250244587-05:00",
          "2025-10-09T13:28:23.250324131-05:00",
          "2025-10-09T13:28:23.250875339-05:00",
          "2025-10-09T13:28:23.251646645-05:00",
          "2025-10-09T13:28:23.384805851-05:00",
          "2025-10-09T13:28:23.384915477-05:00",
          "2025-10-09T13:28:23.388394883-05:00",
          "2025-10-09T13:28:23.851731113-05:00",
          "2025-10-09T13:28:23.852376741-05:00",
          "2025-10-09T13:28:23.858513635-05:00",
          "2025-10-09T13:28:23.858862291-05:00",
          "2025-10-09T13:28:23.858867897-05:00",
          "2025-10-09T13:28:23.858920695-05:00",
          "2025-10-09T13:28:23.858949725-05:00",
          "2025-10-09T13:28:23.859357611-05:00",
          "2025-10-09T13:28:23.860184231-05:00",
          "2025-10-09T13:28:23.860484237-05:00",
          "2025-10-09T13:28:23.860782899-05:00",
          "2025-10-09T13:28:23.862783527-05:00",
          "2025-10-09T13:28:23.877659531-05:00",
          "2025-10-09T13:28:23.889673575-05:00",
          "2025-10-09T13:28:23.889673749-05:00",
          "2025-10-09T13:28:23.891318809-05:00",
          "2025-10-09T13:28:24.239294619-05:00",
          "2025-10-09T13:28:24.494074549-05:00",
          "2025-10-09T13:28:24.659260691-05:00",
          "2025-10-09T13:28:24.765203655-05:00",
          "2025-10-09T13:28:24.765274905-05:00",
          "2025-10-09T13:28:25.920956391-05:00",
          "2025-10-09T13:28:25.922167781-05:00",
          "2025-10-09T13:28:25.928783713-05:00",
          "2025-10-09T13:28:25.957039069-05:00",
          "2025-10-09T13:28:26.317421047-05:00",
          "2025-10-09T13:28:26.317568227-05:00",
          "2025-10-09T13:28:26.317602537-05:00",
          "2025-10-09T13:28:26.317602713-05:00",
          "2025-10-09T13:28:26.317602901-05:00",
          "2025-10-09T13:28:26.317839867-05:00",
          "2025-10-09T13:28:26.317987441-05:00",
          "2025-10-09T13:28:26.317988247-05:00",
          "2025-10-09T13:28:26.318235089-05:00",
          "2025-10-09T13:28:26.318639579-05:00",
          "2025-10-09T13:28:26.318639771-05:00",
          "2025-10-09T13:28:26.318817497-05:00",
          "2025-10-09T13:28:26.319257025-05:00",
          "2025-10-09T13:28:26.319371835-05:00",
          "2025-10-09T13:28:26.322322321-05:00",
          "2025-10-09T13:28:26.324537003-05:00",
          "2025-10-09T13:28:27.859334183-05:00",
          "2025-10-09T13:28:27.859966775-05:00",
          "2025-10-09T13:28:27.860814457-05:00",
          "2025-10-09T13:28:27.861166703-05:00",
          "2025-10-09T13:28:27.861173577-05:00",
          "2025-10-09T13:28:27.861419575-05:00",
          "2025-10-09T13:28:27.861834065-05:00",
          "2025-10-09T13:28:27.861879453-05:00",
          "2025-10-09T13:28:29.151921181-05:00",
          "2025-10-09T13:28:30.003559747-05:00",
          "2025-10-09T13:28:30.248448847-05:00",
          "2025-10-09T13:28:30.256633753-05:00",
          "2025-10-09T13:28:33.447877733-05:00",
          "2025-10-09T13:28:33.448382977-05:00",
          "2025-10-09T13:28:33.811805445-05:00",
          "2025-10-09T13:28:33.812097655-05:00",
          "2025-10-09T13:28:35.031763993-05:00",
          "2025-10-09T13:28:35.402924349-05:00",
          "2025-10-09T13:28:36.449848429-05:00",
          "2025-10-09T13:28:36.474398425-05:00",
          "2025-10-09T13:28:37.405766705-05:00",
          "2025-10-09T13:28:37.421021891-05:00",
          "2025-10-09T13:28:38.043448099-05:00",
          "2025-10-09T13:28:38.082688003-05:00",
          "2025-10-09T13:28:38.082761497-05:00",
          "2025-10-09T13:28:38.086279071-05:00",
          "2025-10-09T13:28:38.086560049-05:00",
          "2025-10-09T13:28:38.086669735-05:00",
          "2025-10-09T13:28:38.086895843-05:00",
          "2025-10-09T13:28:38.086899259-05:00",
          "2025-10-09T13:28:38.086899439-05:00",
          "2025-10-09T13:28:38.086900987-05:00",
          "2025-10-09T13:28:38.086920807-05:00",
          "2025-10-09T13:28:38.086981585-05:00",
          "2025-10-09T13:28:38.087001419-05:00",
          "2025-10-09T13:28:38.087370159-05:00",
          "2025-10-09T13:28:38.087370351-05:00",
          "2025-10-09T13:28:38.087370541-05:00",
          "2025-10-09T13:28:38.087903473-05:00",
          "2025-10-09T13:28:38.091369343-05:00",
          "2025-10-09T13:28:38.091605567-05:00",
          "2025-10-09T13:28:38.092584661-05:00",
          "2025-10-09T13:28:38.092587285-05:00",
          "2025-10-09T13:28:38.092655089-05:00",
          "2025-10-09T13:28:38.092879373-05:00",
          "2025-10-09T13:28:38.092880141-05:00",
          "2025-10-09T13:28:38.092942789-05:00",
          "2025-10-09T13:28:38.092952869-05:00",
          "2025-10-09T13:28:38.093051667-05:00",
          "2025-10-09T13:28:38.102446119-05:00",
          "2025-10-09T13:28:38.103416427-05:00",
          "2025-10-09T13:28:38.103816421-05:00",
          "2025-10-09T13:28:38.104145647-05:00",
          "2025-10-09T13:28:38.104258847-05:00",
          "2025-10-09T13:28:38.104372659-05:00",
          "2025-10-09T13:28:38.105323535-05:00",
          "2025-10-09T13:28:38.105350779-05:00",
          "2025-10-09T13:28:38.105357979-05:00",
          "2025-10-09T13:28:38.108357041-05:00",
          "2025-10-09T13:28:38.113214619-05:00",
          "2025-10-09T13:28:38.113428709-05:00",
          "2025-10-09T13:28:38.119727991-05:00",
          "2025-10-09T13:28:38.122689075-05:00",
          "2025-10-09T13:28:38.128045369-05:00",
          "2025-10-09T13:28:38.153355191-05:00",
          "2025-10-09T13:28:38.627671809-05:00",
          "2025-10-09T13:28:38.849711581-05:00",
          "2025-10-09T13:28:39.950658611-05:00",
          "2025-10-09T13:28:39.952591391-05:00",
          "2025-10-09T13:28:39.952613717-05:00",
          "2025-10-09T13:28:39.952627119-05:00",
          "2025-10-09T13:28:39.962501783-05:00",
          "2025-10-09T13:28:40.154091809-05:00",
          "2025-10-09T13:28:40.173905337-05:00",
          "2025-10-09T13:28:40.174219319-05:00",
          "2025-10-09T13:28:40.174317311-05:00",
          "2025-10-09T13:28:40.224315557-05:00",
          "2025-10-09T13:28:40.337815425-05:00",
          "2025-10-09T13:28:40.397652719-05:00",
          "2025-10-09T13:28:40.399513059-05:00",
          "2025-10-09T13:28:40.403348819-05:00",
          "2025-10-09T13:28:40.404086759-05:00",
          "2025-10-09T13:28:40.407047305-05:00",
          "2025-10-09T13:28:40.407473507-05:00",
          "2025-10-09T13:28:40.537031549-05:00",
          "2025-10-09T13:28:40.537542573-05:00",
          "2025-10-09T13:28:40.538514895-05:00",
          "2025-10-09T13:28:40.543933799-05:00",
          "2025-10-09T13:28:40.547104059-05:00",
          "2025-10-09T13:28:40.833426879-05:00",
          "2025-10-09T13:28:40.940062493-05:00",
          "2025-10-09T13:28:40.990980551-05:00",
          "2025-10-09T13:28:41.050334103-05:00",
          "2025-10-09T13:28:41.050334103-05:00",
          "2025-10-09T13:28:41.068358037-05:00",
          "2025-10-09T13:28:41.420623191-05:00",
          "2025-10-09T13:28:41.425487353-05:00",
          "2025-10-09T13:28:41.425771539-05:00",
          "2025-10-09T13:28:41.565094847-05:00",
          "2025-10-09T13:28:41.671603857-05:00",
          "2025-10-09T13:28:41.687362831-05:00",
          "2025-10-09T13:28:42.030920589-05:00",
          "2025-10-09T13:28:42.044397013-05:00",
          "2025-10-09T13:28:42.179391351-05:00",
          "2025-10-09T13:28:42.601666101-05:00",
          "2025-10-09T13:28:42.601977309-05:00",
          "2025-10-09T13:28:42.628715561-05:00",
          "2025-10-09T13:28:42.646237321-05:00",
          "2025-10-09T13:28:42.646486241-05:00",
          "2025-10-09T13:28:42.893867989-05:00",
          "2025-10-09T13:28:42.914585643-05:00",
          "2025-10-09T13:28:42.914585643-05:00",
          "2025-10-09T13:28:43.547608661-05:00",
          "2025-10-09T13:28:44.115244929-05:00",
          "2025-10-09T13:28:44.115599213-05:00",
          "2025-10-09T13:28:44.454183333-05:00",
          "2025-10-09T13:28:44.625316259-05:00",
          "2025-10-09T13:28:44.625317147-05:00",
          "2025-10-09T13:28:44.626597741-05:00",
          "2025-10-09T13:28:44.633591571-05:00",
          "2025-10-09T13:28:44.634349169-05:00",
          "2025-10-09T13:28:44.635235633-05:00",
          "2025-10-09T13:28:44.635690861-05:00",
          "2025-10-09T13:28:44.635778065-05:00",
          "2025-10-09T13:28:44.641130867-05:00",
          "2025-10-09T13:28:44.644290375-05:00",
          "2025-10-09T13:28:45.193759187-05:00",
          "2025-10-09T13:28:45.208594623-05:00",
          "2025-10-09T13:28:45.464853405-05:00",
          "2025-10-09T13:28:45.521373351-05:00",
          "2025-10-09T13:28:46.005925483-05:00",
          "2025-10-09T13:28:47.823018405-05:00",
          "2025-10-09T13:28:48.201948411-05:00",
          "2025-10-09T13:28:50.280101421-05:00",
          "2025-10-09T13:28:50.615809219-05:00",
          "2025-10-09T13:28:50.736525417-05:00",
          "2025-10-09T13:28:50.804113463-05:00",
          "2025-10-09T13:28:50.833623887-05:00",
          "2025-10-09T13:28:51.056484611-05:00",
          "2025-10-09T13:28:51.448368119-05:00",
          "2025-10-09T13:28:52.748442017-05:00",
          "2025-10-09T13:28:53.847288047-05:00",
          "2025-10-09T13:28:53.848060449-05:00",
          "2025-10-09T13:28:54.934661677-05:00",
          "2025-10-09T13:28:55.160050023-05:00",
          "2025-10-09T13:28:55.849166045-05:00",
          "2025-10-09T13:28:56.339147105-05:00",
          "2025-10-09T13:28:56.477689599-05:00",
          "2025-10-09T13:28:56.547927531-05:00",
          "2025-10-09T13:28:57.042242205-05:00",
          "2025-10-09T13:28:57.448672947-05:00",
          "2025-10-09T13:28:57.698524087-05:00",
          "2025-10-09T13:28:59.006396309-05:00",
          "2025-10-09T13:28:59.530888887-05:00",
          "2025-10-09T13:29:00.002413477-05:00",
          "2025-10-09T13:29:00.004062185-05:00",
          "2025-10-09T13:29:00.006245259-05:00",
          "2025-10-09T13:29:00.010928417-05:00",
          "2025-10-09T13:29:00.011778959-05:00",
          "2025-10-09T13:29:00.012733541-05:00",
          "2025-10-09T13:29:00.013675643-05:00",
          "2025-10-09T13:29:00.015071689-05:00",
          "2025-10-09T13:29:00.016859207-05:00",
          "2025-10-09T13:29:00.020401451-05:00",
          "2025-10-09T13:29:00.020439255-05:00",
          "2025-10-09T13:29:00.020443153-05:00",
          "2025-10-09T13:29:00.020671411-05:00",
          "2025-10-09T13:29:00.028146583-05:00",
          "2025-10-09T13:29:00.028917333-05:00",
          "2025-10-09T13:29:00.031845453-05:00",
          "2025-10-09T13:29:00.032274535-05:00",
          "2025-10-09T13:29:00.034851139-05:00",
          "2025-10-09T13:29:00.036312559-05:00",
          "2025-10-09T13:29:00.045437551-05:00",
          "2025-10-09T13:29:00.062433315-05:00",
          "2025-10-09T13:29:00.071519621-05:00",
          "2025-10-09T13:29:00.085926167-05:00",
          "2025-10-09T13:29:00.090889685-05:00",
          "2025-10-09T13:29:00.090954041-05:00",
          "2025-10-09T13:29:00.091223769-05:00",
          "2025-10-09T13:29:00.102233833-05:00",
          "2025-10-09T13:29:00.115991985-05:00",
          "2025-10-09T13:29:00.116455835-05:00",
          "2025-10-09T13:29:00.116553597-05:00",
          "2025-10-09T13:29:00.152231211-05:00",
          "2025-10-09T13:29:00.204150811-05:00",
          "2025-10-09T13:29:00.235550163-05:00",
          "2025-10-09T13:29:00.236543585-05:00",
          "2025-10-09T13:29:00.296356417-05:00",
          "2025-10-09T13:29:00.296356417-05:00",
          "2025-10-09T13:29:00.436541439-05:00",
          "2025-10-09T13:29:02.032600339-05:00",
          "2025-10-09T13:29:02.489905521-05:00",
          "2025-10-09T13:29:02.490508125-05:00",
          "2025-10-09T13:29:02.722759787-05:00",
          "2025-10-09T13:29:02.743490937-05:00",
          "2025-10-09T13:29:02.744328863-05:00",
          "2025-10-09T13:29:02.744354227-05:00",
          "2025-10-09T13:29:02.744355207-05:00",
          "2025-10-09T13:29:02.744593125-05:00",
          "2025-10-09T13:29:02.744598671-05:00",
          "2025-10-09T13:29:02.745151299-05:00",
          "2025-10-09T13:29:02.746372633-05:00",
          "2025-10-09T13:29:02.749717761-05:00",
          "2025-10-09T13:29:02.753269239-05:00",
          "2025-10-09T13:29:02.753291991-05:00",
          "2025-10-09T13:29:02.865596211-05:00",
          "2025-10-09T13:29:04.583561851-05:00",
          "2025-10-09T13:29:04.583829295-05:00",
          "2025-10-09T13:29:04.905668159-05:00",
          "2025-10-09T13:29:05.519474751-05:00",
          "2025-10-09T13:29:05.593643521-05:00",
          "2025-10-09T13:29:06.237359707-05:00",
          "2025-10-09T13:29:07.374646027-05:00",
          "2025-10-09T13:29:08.368864825-05:00",
          "2025-10-09T13:29:08.368896371-05:00",
          "2025-10-09T13:29:08.368944655-05:00",
          "2025-10-09T13:29:08.368945557-05:00",
          "2025-10-09T13:29:08.370122793-05:00",
          "2025-10-09T13:29:08.370381711-05:00",
          "2025-10-09T13:29:08.371964299-05:00",
          "2025-10-09T13:29:08.381578983-05:00",
          "2025-10-09T13:29:08.382911675-05:00",
          "2025-10-09T13:29:08.382912001-05:00",
          "2025-10-09T13:29:08.382913313-05:00",
          "2025-10-09T13:29:08.382923673-05:00",
          "2025-10-09T13:29:08.382940301-05:00",
          "2025-10-09T13:29:08.383498631-05:00",
          "2025-10-09T13:29:08.383613537-05:00",
          "2025-10-09T13:29:08.384153299-05:00",
          "2025-10-09T13:29:08.384417139-05:00",
          "2025-10-09T13:29:08.384468957-05:00",
          "2025-10-09T13:29:08.384469135-05:00",
          "2025-10-09T13:29:08.384537881-05:00",
          "2025-10-09T13:29:08.385892575-05:00",
          "2025-10-09T13:29:08.385921527-05:00",
          "2025-10-09T13:29:08.385979201-05:00",
          "2025-10-09T13:29:08.386185879-05:00",
          "2025-10-09T13:29:08.386216637-05:00",
          "2025-10-09T13:29:08.388612863-05:00",
          "2025-10-09T13:29:08.390835471-05:00",
          "2025-10-09T13:29:08.393050441-05:00",
          "2025-10-09T13:29:08.397433855-05:00",
          "2025-10-09T13:29:08.399240613-05:00",
          "2025-10-09T13:29:08.399315027-05:00",
          "2025-10-09T13:29:08.402044911-05:00",
          "2025-10-09T13:29:08.402048393-05:00",
          "2025-10-09T13:29:08.402050947-05:00",
          "2025-10-09T13:29:08.402056879-05:00",
          "2025-10-09T13:29:08.402210587-05:00",
          "2025-10-09T13:29:08.402252997-05:00",
          "2025-10-09T13:29:08.403778467-05:00",
          "2025-10-09T13:29:08.403803905-05:00",
          "2025-10-09T13:29:08.404726251-05:00",
          "2025-10-09T13:29:08.406594349-05:00",
          "2025-10-09T13:29:08.409186233-05:00",
          "2025-10-09T13:29:08.410477223-05:00",
          "2025-10-09T13:29:08.413621163-05:00",
          "2025-10-09T13:29:08.414291443-05:00",
          "2025-10-09T13:29:08.414307091-05:00",
          "2025-10-09T13:29:08.417891099-05:00",
          "2025-10-09T13:29:08.417897333-05:00",
          "2025-10-09T13:29:08.417901517-05:00",
          "2025-10-09T13:29:08.418624271-05:00",
          "2025-10-09T13:29:08.423078799-05:00",
          "2025-10-09T13:29:08.424726125-05:00",
          "2025-10-09T13:29:08.431363599-05:00",
          "2025-10-09T13:29:08.448472675-05:00",
          "2025-10-09T13:29:08.449067025-05:00",
          "2025-10-09T13:29:08.451692737-05:00",
          "2025-10-09T13:29:08.455519935-05:00",
          "2025-10-09T13:29:08.459001051-05:00",
          "2025-10-09T13:29:08.459348363-05:00",
          "2025-10-09T13:29:08.459348541-05:00",
          "2025-10-09T13:29:08.459518813-05:00",
          "2025-10-09T13:29:08.459613815-05:00",
          "2025-10-09T13:29:08.460497777-05:00",
          "2025-10-09T13:29:08.460500101-05:00",
          "2025-10-09T13:29:08.460895851-05:00",
          "2025-10-09T13:29:08.466838105-05:00",
          "2025-10-09T13:29:08.485262457-05:00",
          "2025-10-09T13:29:08.487832207-05:00",
          "2025-10-09T13:29:08.488760217-05:00",
          "2025-10-09T13:29:08.518194363-05:00",
          "2025-10-09T13:29:08.598204993-05:00",
          "2025-10-09T13:29:09.447955111-05:00",
          "2025-10-09T13:29:09.798872939-05:00",
          "2025-10-09T13:29:09.799206735-05:00",
          "2025-10-09T13:29:10.608275711-05:00",
          "2025-10-09T13:29:11.344309839-05:00",
          "2025-10-09T13:29:11.345206055-05:00",
          "2025-10-09T13:29:11.345207655-05:00",
          "2025-10-09T13:29:11.345231095-05:00",
          "2025-10-09T13:29:11.345389157-05:00",
          "2025-10-09T13:29:11.345395723-05:00",
          "2025-10-09T13:29:11.345890485-05:00",
          "2025-10-09T13:29:11.346684679-05:00",
          "2025-10-09T13:29:11.346853093-05:00",
          "2025-10-09T13:29:11.351978881-05:00",
          "2025-10-09T13:29:11.357431057-05:00",
          "2025-10-09T13:29:11.357812373-05:00",
          "2025-10-09T13:29:11.359318989-05:00",
          "2025-10-09T13:29:11.363295709-05:00",
          "2025-10-09T13:29:11.363406603-05:00",
          "2025-10-09T13:29:11.363455869-05:00",
          "2025-10-09T13:29:11.363456111-05:00",
          "2025-10-09T13:29:11.363461071-05:00",
          "2025-10-09T13:29:11.363461247-05:00",
          "2025-10-09T13:29:11.363461427-05:00",
          "2025-10-09T13:29:11.363960211-05:00",
          "2025-10-09T13:29:11.367926833-05:00",
          "2025-10-09T13:29:11.368321377-05:00",
          "2025-10-09T13:29:11.369021107-05:00",
          "2025-10-09T13:29:11.371719627-05:00",
          "2025-10-09T13:29:11.377318117-05:00",
          "2025-10-09T13:29:11.377332633-05:00",
          "2025-10-09T13:29:11.382136587-05:00",
          "2025-10-09T13:29:11.383563373-05:00",
          "2025-10-09T13:29:11.384442233-05:00",
          "2025-10-09T13:29:11.395845973-05:00",
          "2025-10-09T13:29:11.448113287-05:00",
          "2025-10-09T13:29:11.452482919-05:00",
          "2025-10-09T13:29:11.452877999-05:00",
          "2025-10-09T13:29:13.264556181-05:00",
          "2025-10-09T13:29:13.442756297-05:00",
          "2025-10-09T13:29:13.619280187-05:00",
          "2025-10-09T13:29:14.662828663-05:00",
          "2025-10-09T13:29:14.986565081-05:00",
          "2025-10-09T13:29:15.584289859-05:00",
          "2025-10-09T13:29:15.803783569-05:00",
          "2025-10-09T13:29:15.869548907-05:00",
          "2025-10-09T13:29:15.884292569-05:00",
          "2025-10-09T13:29:16.084165207-05:00",
          "2025-10-09T13:29:16.264262273-05:00",
          "2025-10-09T13:29:16.798979769-05:00",
          "2025-10-09T13:29:17.448549377-05:00",
          "2025-10-09T13:29:17.466670575-05:00",
          "2025-10-09T13:29:18.308775205-05:00",
          "2025-10-09T13:29:19.091675291-05:00",
          "2025-10-09T13:29:19.420803901-05:00",
          "2025-10-09T13:29:19.581789647-05:00",
          "2025-10-09T13:29:20.000649535-05:00",
          "2025-10-09T13:29:20.558157511-05:00",
          "2025-10-09T13:29:20.789406245-05:00",
          "2025-10-09T13:29:20.823748791-05:00",
          "2025-10-09T13:29:20.873688457-05:00",
          "2025-10-09T13:29:21.226185855-05:00",
          "2025-10-09T13:29:21.226570971-05:00",
          "2025-10-09T13:29:21.226571719-05:00",
          "2025-10-09T13:29:21.226975631-05:00",
          "2025-10-09T13:29:21.227539069-05:00",
          "2025-10-09T13:29:21.227556579-05:00",
          "2025-10-09T13:29:21.227920575-05:00",
          "2025-10-09T13:29:21.228214457-05:00",
          "2025-10-09T13:29:21.228421731-05:00",
          "2025-10-09T13:29:21.228874619-05:00",
          "2025-10-09T13:29:21.228885947-05:00",
          "2025-10-09T13:29:21.229593609-05:00",
          "2025-10-09T13:29:21.230308145-05:00",
          "2025-10-09T13:29:21.231474455-05:00",
          "2025-10-09T13:29:21.233083457-05:00",
          "2025-10-09T13:29:21.233084149-05:00",
          "2025-10-09T13:29:21.233419501-05:00",
          "2025-10-09T13:29:21.247385311-05:00",
          "2025-10-09T13:29:21.257151421-05:00",
          "2025-10-09T13:29:21.259685651-05:00",
          "2025-10-09T13:29:21.259685651-05:00",
          "2025-10-09T13:29:21.259685651-05:00",
          "2025-10-09T13:29:21.265433053-05:00",
          "2025-10-09T13:29:21.280447155-05:00",
          "2025-10-09T13:29:21.283656197-05:00",
          "2025-10-09T13:29:21.286305853-05:00",
          "2025-10-09T13:29:21.320610423-05:00",
          "2025-10-09T13:29:21.330827903-05:00",
          "2025-10-09T13:29:21.339028035-05:00",
          "2025-10-09T13:29:21.341640291-05:00",
          "2025-10-09T13:29:21.447556511-05:00",
          "2025-10-09T13:29:21.534793741-05:00",
          "2025-10-09T13:29:21.534793921-05:00",
          "2025-10-09T13:29:21.534794095-05:00",
          "2025-10-09T13:29:21.539149893-05:00",
          "2025-10-09T13:29:21.540169331-05:00",
          "2025-10-09T13:29:21.540782763-05:00",
          "2025-10-09T13:29:21.543151515-05:00",
          "2025-10-09T13:29:21.543156161-05:00",
          "2025-10-09T13:29:21.543987985-05:00",
          "2025-10-09T13:29:21.547436615-05:00",
          "2025-10-09T13:29:21.547645539-05:00",
          "2025-10-09T13:29:21.554268345-05:00",
          "2025-10-09T13:29:21.554639445-05:00",
          "2025-10-09T13:29:21.561820753-05:00",
          "2025-10-09T13:29:21.565930083-05:00",
          "2025-10-09T13:29:21.571187541-05:00",
          "2025-10-09T13:29:21.571556549-05:00",
          "2025-10-09T13:29:21.573547713-05:00",
          "2025-10-09T13:29:21.635246573-05:00",
          "2025-10-09T13:29:21.759890385-05:00",
          "2025-10-09T13:29:21.760855981-05:00",
          "2025-10-09T13:29:21.761536147-05:00",
          "2025-10-09T13:29:21.763790837-05:00",
          "2025-10-09T13:29:21.764851707-05:00",
          "2025-10-09T13:29:21.765199903-05:00",
          "2025-10-09T13:29:21.765260829-05:00",
          "2025-10-09T13:29:21.765485049-05:00",
          "2025-10-09T13:29:21.765969713-05:00",
          "2025-10-09T13:29:21.766080511-05:00",
          "2025-10-09T13:29:21.767371115-05:00",
          "2025-10-09T13:29:21.768292349-05:00",
          "2025-10-09T13:29:21.770635895-05:00",
          "2025-10-09T13:29:21.776187273-05:00",
          "2025-10-09T13:29:21.777240519-05:00",
          "2025-10-09T13:29:22.242538687-05:00",
          "2025-10-09T13:29:23.020991617-05:00",
          "2025-10-09T13:29:23.382391531-05:00",
          "2025-10-09T13:29:23.472526239-05:00",
          "2025-10-09T13:29:23.472698033-05:00",
          "2025-10-09T13:29:23.472740193-05:00",
          "2025-10-09T13:29:23.474684609-05:00",
          "2025-10-09T13:29:23.476981729-05:00",
          "2025-10-09T13:29:23.482087493-05:00",
          "2025-10-09T13:29:23.489719157-05:00",
          "2025-10-09T13:29:24.933734965-05:00",
          "2025-10-09T13:29:25.509275545-05:00",
          "2025-10-09T13:29:25.787954967-05:00",
          "2025-10-09T13:29:26.154239459-05:00",
          "2025-10-09T13:29:26.556441801-05:00",
          "2025-10-09T13:29:26.557290653-05:00",
          "2025-10-09T13:29:26.751351821-05:00",
          "2025-10-09T13:29:26.751608381-05:00",
          "2025-10-09T13:29:27.094657517-05:00",
          "2025-10-09T13:29:27.145349851-05:00",
          "2025-10-09T13:29:27.339553747-05:00",
          "2025-10-09T13:29:28.591768833-05:00",
          "2025-10-09T13:29:28.684597319-05:00",
          "2025-10-09T13:29:29.403320315-05:00",
          "2025-10-09T13:29:29.565097723-05:00",
          "2025-10-09T13:29:29.565097723-05:00",
          "2025-10-09T13:29:29.566590249-05:00",
          "2025-10-09T13:29:29.566593227-05:00",
          "2025-10-09T13:29:29.566599301-05:00",
          "2025-10-09T13:29:29.566599985-05:00",
          "2025-10-09T13:29:29.568196755-05:00",
          "2025-10-09T13:29:29.568225901-05:00",
          "2025-10-09T13:29:29.569399965-05:00",
          "2025-10-09T13:29:29.569541923-05:00",
          "2025-10-09T13:29:29.569906113-05:00",
          "2025-10-09T13:29:29.570409361-05:00",
          "2025-10-09T13:29:29.570555735-05:00",
          "2025-10-09T13:29:29.572528255-05:00",
          "2025-10-09T13:29:29.582481213-05:00",
          "2025-10-09T13:29:29.584031679-05:00",
          "2025-10-09T13:29:29.585747297-05:00",
          "2025-10-09T13:29:29.585748045-05:00",
          "2025-10-09T13:29:29.593113417-05:00",
          "2025-10-09T13:29:29.612798347-05:00",
          "2025-10-09T13:29:29.616208693-05:00",
          "2025-10-09T13:29:29.665084057-05:00",
          "2025-10-09T13:29:29.776286267-05:00",
          "2025-10-09T13:29:29.776694999-05:00",
          "2025-10-09T13:29:29.776912735-05:00",
          "2025-10-09T13:29:29.788107993-05:00",
          "2025-10-09T13:29:29.788736017-05:00",
          "2025-10-09T13:29:29.790510939-05:00",
          "2025-10-09T13:29:29.790655451-05:00",
          "2025-10-09T13:29:29.823667189-05:00",
          "2025-10-09T13:29:31.078471325-05:00",
          "2025-10-09T13:29:31.685820713-05:00",
          "2025-10-09T13:29:31.686825653-05:00",
          "2025-10-09T13:29:31.690450741-05:00",
          "2025-10-09T13:29:31.884472741-05:00",
          "2025-10-09T13:29:32.020667063-05:00",
          "2025-10-09T13:29:32.329306089-05:00",
          "2025-10-09T13:29:33.564670953-05:00",
          "2025-10-09T13:29:33.820099907-05:00",
          "2025-10-09T13:29:34.510176365-05:00",
          "2025-10-09T13:29:34.749765363-05:00",
          "2025-10-09T13:29:34.750532583-05:00",
          "2025-10-09T13:29:34.750544099-05:00",
          "2025-10-09T13:29:34.750590467-05:00",
          "2025-10-09T13:29:34.750792671-05:00",
          "2025-10-09T13:29:34.752209263-05:00",
          "2025-10-09T13:29:34.753040261-05:00",
          "2025-10-09T13:29:34.753047075-05:00",
          "2025-10-09T13:29:34.753048287-05:00",
          "2025-10-09T13:29:34.754399501-05:00",
          "2025-10-09T13:29:34.758238679-05:00",
          "2025-10-09T13:29:34.768348263-05:00",
          "2025-10-09T13:29:34.770135069-05:00",
          "2025-10-09T13:29:34.782070991-05:00",
          "2025-10-09T13:29:34.783204721-05:00",
          "2025-10-09T13:29:34.783438201-05:00",
          "2025-10-09T13:29:34.790675555-05:00",
          "2025-10-09T13:29:34.847603269-05:00",
          "2025-10-09T13:29:34.848076355-05:00",
          "2025-10-09T13:29:34.890069511-05:00",
          "2025-10-09T13:29:34.890302129-05:00",
          "2025-10-09T13:29:34.977104631-05:00",
          "2025-10-09T13:29:35.139200839-05:00",
          "2025-10-09T13:29:35.140028553-05:00",
          "2025-10-09T13:29:35.144188297-05:00",
          "2025-10-09T13:29:35.144457125-05:00",
          "2025-10-09T13:29:35.253680877-05:00",
          "2025-10-09T13:29:35.396209703-05:00",
          "2025-10-09T13:29:35.396210029-05:00",
          "2025-10-09T13:29:35.396325925-05:00",
          "2025-10-09T13:29:35.397447077-05:00",
          "2025-10-09T13:29:35.397447807-05:00",
          "2025-10-09T13:29:35.398261255-05:00",
          "2025-10-09T13:29:35.407974205-05:00",
          "2025-10-09T13:29:35.408863375-05:00",
          "2025-10-09T13:29:35.410523005-05:00",
          "2025-10-09T13:29:35.428560515-05:00",
          "2025-10-09T13:29:35.430231109-05:00",
          "2025-10-09T13:29:35.430232453-05:00",
          "2025-10-09T13:29:35.430242401-05:00",
          "2025-10-09T13:29:35.431447857-05:00",
          "2025-10-09T13:29:35.440559987-05:00",
          "2025-10-09T13:29:35.440865061-05:00",
          "2025-10-09T13:29:35.445289659-05:00",
          "2025-10-09T13:29:35.446274575-05:00",
          "2025-10-09T13:29:35.447454729-05:00",
          "2025-10-09T13:29:35.447455517-05:00",
          "2025-10-09T13:29:35.447455785-05:00",
          "2025-10-09T13:29:35.447457033-05:00",
          "2025-10-09T13:29:35.447621377-05:00",
          "2025-10-09T13:29:35.455527589-05:00",
          "2025-10-09T13:29:35.455533829-05:00",
          "2025-10-09T13:29:35.455592443-05:00",
          "2025-10-09T13:29:35.456679115-05:00",
          "2025-10-09T13:29:35.458051681-05:00",
          "2025-10-09T13:29:35.459574771-05:00",
          "2025-10-09T13:29:35.460743403-05:00",
          "2025-10-09T13:29:35.477506529-05:00",
          "2025-10-09T13:29:35.477958343-05:00",
          "2025-10-09T13:29:35.491519685-05:00",
          "2025-10-09T13:29:35.492243763-05:00",
          "2025-10-09T13:29:35.492356807-05:00",
          "2025-10-09T13:29:35.500542001-05:00",
          "2025-10-09T13:29:35.578575789-05:00",
          "2025-10-09T13:29:35.579192369-05:00",
          "2025-10-09T13:29:35.579438581-05:00",
          "2025-10-09T13:29:35.581351661-05:00",
          "2025-10-09T13:29:35.582187821-05:00",
          "2025-10-09T13:29:35.582678589-05:00",
          "2025-10-09T13:29:35.584964653-05:00",
          "2025-10-09T13:29:35.610828293-05:00",
          "2025-10-09T13:29:35.859835459-05:00",
          "2025-10-09T13:29:36.002699279-05:00",
          "2025-10-09T13:29:36.003058943-05:00",
          "2025-10-09T13:29:36.003059117-05:00",
          "2025-10-09T13:29:36.077925111-05:00",
          "2025-10-09T13:29:36.090330665-05:00",
          "2025-10-09T13:29:36.534699165-05:00",
          "2025-10-09T13:29:36.956495355-05:00",
          "2025-10-09T13:29:37.411207323-05:00",
          "2025-10-09T13:29:37.567939901-05:00",
          "2025-10-09T13:29:38.214033331-05:00",
          "2025-10-09T13:29:38.607404485-05:00",
          "2025-10-09T13:29:38.939286045-05:00",
          "2025-10-09T13:29:39.697418981-05:00",
          "2025-10-09T13:29:39.847623905-05:00",
          "2025-10-09T13:29:40.282051875-05:00",
          "2025-10-09T13:29:41.031555329-05:00",
          "2025-10-09T13:29:41.083064529-05:00",
          "2025-10-09T13:29:41.447708947-05:00",
          "2025-10-09T13:29:41.510000447-05:00",
          "2025-10-09T13:29:42.184599019-05:00",
          "2025-10-09T13:29:42.260118583-05:00",
          "2025-10-09T13:29:43.005316339-05:00",
          "2025-10-09T13:29:43.005318105-05:00",
          "2025-10-09T13:29:43.005393691-05:00",
          "2025-10-09T13:29:43.005397723-05:00",
          "2025-10-09T13:29:43.005441939-05:00",
          "2025-10-09T13:29:43.005535613-05:00",
          "2025-10-09T13:29:43.005564143-05:00",
          "2025-10-09T13:29:43.012049023-05:00",
          "2025-10-09T13:29:43.012473535-05:00",
          "2025-10-09T13:29:43.013222013-05:00",
          "2025-10-09T13:29:43.022279041-05:00",
          "2025-10-09T13:29:43.043894063-05:00",
          "2025-10-09T13:29:43.261694831-05:00",
          "2025-10-09T13:29:43.504342701-05:00",
          "2025-10-09T13:29:43.591753549-05:00",
          "2025-10-09T13:29:43.690510443-05:00",
          "2025-10-09T13:29:43.984085393-05:00",
          "2025-10-09T13:29:44.879652689-05:00",
          "2025-10-09T13:29:44.954690487-05:00",
          "2025-10-09T13:29:45.000435101-05:00",
          "2025-10-09T13:29:45.001114999-05:00",
          "2025-10-09T13:29:45.181332541-05:00",
          "2025-10-09T13:29:45.420491697-05:00",
          "2025-10-09T13:29:45.447926903-05:00",
          "2025-10-09T13:29:46.107844189-05:00",
          "2025-10-09T13:29:46.151420737-05:00",
          "2025-10-09T13:29:46.248524947-05:00",
          "2025-10-09T13:29:46.334112759-05:00",
          "2025-10-09T13:29:46.364940225-05:00",
          "2025-10-09T13:29:46.833021481-05:00",
          "2025-10-09T13:29:47.005853739-05:00",
          "2025-10-09T13:29:47.007162967-05:00",
          "2025-10-09T13:29:47.007757047-05:00",
          "2025-10-09T13:29:47.007763997-05:00",
          "2025-10-09T13:29:47.008053213-05:00",
          "2025-10-09T13:29:47.422854955-05:00",
          "2025-10-09T13:29:48.185234395-05:00",
          "2025-10-09T13:29:48.349574503-05:00",
          "2025-10-09T13:29:48.349576467-05:00",
          "2025-10-09T13:29:48.596360789-05:00",
          "2025-10-09T13:29:48.704563745-05:00",
          "2025-10-09T13:29:48.769806825-05:00",
          "2025-10-09T13:29:49.447894953-05:00",
          "2025-10-09T13:29:49.613332507-05:00",
          "2025-10-09T13:29:49.731840395-05:00",
          "2025-10-09T13:29:49.794448451-05:00",
          "2025-10-09T13:29:49.931310117-05:00",
          "2025-10-09T13:29:50.458053431-05:00",
          "2025-10-09T13:29:50.938526383-05:00",
          "2025-10-09T13:29:51.005133603-05:00",
          "2025-10-09T13:29:51.006400171-05:00",
          "2025-10-09T13:29:51.105093553-05:00",
          "2025-10-09T13:29:51.234731787-05:00",
          "2025-10-09T13:29:52.062263981-05:00",
          "2025-10-09T13:29:52.391382383-05:00",
          "2025-10-09T13:29:52.698727253-05:00",
          "2025-10-09T13:29:52.907425739-05:00",
          "2025-10-09T13:29:53.071779691-05:00",
          "2025-10-09T13:29:53.447943907-05:00",
          "2025-10-09T13:29:53.456760163-05:00",
          "2025-10-09T13:29:53.456760341-05:00",
          "2025-10-09T13:29:53.456768107-05:00",
          "2025-10-09T13:29:53.456776881-05:00",
          "2025-10-09T13:29:53.456779263-05:00",
          "2025-10-09T13:29:53.456930821-05:00",
          "2025-10-09T13:29:53.457039371-05:00",
          "2025-10-09T13:29:53.457089615-05:00",
          "2025-10-09T13:29:53.457136041-05:00",
          "2025-10-09T13:29:53.457136731-05:00",
          "2025-10-09T13:29:53.457136909-05:00",
          "2025-10-09T13:29:53.457626059-05:00",
          "2025-10-09T13:29:53.457637387-05:00",
          "2025-10-09T13:29:53.457682775-05:00",
          "2025-10-09T13:29:53.460479727-05:00",
          "2025-10-09T13:29:53.476789963-05:00",
          "2025-10-09T13:29:53.482560635-05:00",
          "2025-10-09T13:29:54.005204963-05:00",
          "2025-10-09T13:29:54.005205587-05:00",
          "2025-10-09T13:29:54.005206091-05:00",
          "2025-10-09T13:29:54.005206745-05:00",
          "2025-10-09T13:29:54.005239349-05:00",
          "2025-10-09T13:29:54.005240181-05:00",
          "2025-10-09T13:29:54.005240803-05:00",
          "2025-10-09T13:29:54.005246737-05:00",
          "2025-10-09T13:29:54.005303203-05:00",
          "2025-10-09T13:29:54.005311863-05:00",
          "2025-10-09T13:29:54.005314733-05:00",
          "2025-10-09T13:29:54.005317355-05:00",
          "2025-10-09T13:29:54.005331427-05:00",
          "2025-10-09T13:29:54.009361695-05:00",
          "2025-10-09T13:29:54.014741029-05:00",
          "2025-10-09T13:29:54.018499589-05:00",
          "2025-10-09T13:29:54.019359655-05:00",
          "2025-10-09T13:29:54.024868889-05:00",
          "2025-10-09T13:29:54.025966395-05:00",
          "2025-10-09T13:29:54.026728749-05:00",
          "2025-10-09T13:29:54.035022989-05:00",
          "2025-10-09T13:29:54.035023167-05:00",
          "2025-10-09T13:29:54.035023345-05:00",
          "2025-10-09T13:29:54.037906901-05:00",
          "2025-10-09T13:29:54.037908609-05:00",
          "2025-10-09T13:29:54.047743049-05:00",
          "2025-10-09T13:29:54.048324439-05:00",
          "2025-10-09T13:29:54.048954245-05:00",
          "2025-10-09T13:29:54.053741249-05:00",
          "2025-10-09T13:29:54.064755035-05:00",
          "2025-10-09T13:29:54.068377051-05:00",
          "2025-10-09T13:29:54.070804803-05:00",
          "2025-10-09T13:29:54.080164871-05:00",
          "2025-10-09T13:29:54.085173353-05:00",
          "2025-10-09T13:29:54.090509335-05:00",
          "2025-10-09T13:29:54.091930437-05:00",
          "2025-10-09T13:29:54.093012867-05:00",
          "2025-10-09T13:29:54.099692463-05:00",
          "2025-10-09T13:29:54.101441641-05:00",
          "2025-10-09T13:29:54.124582265-05:00",
          "2025-10-09T13:29:55.033384737-05:00",
          "2025-10-09T13:29:55.041207257-05:00",
          "2025-10-09T13:29:55.043160467-05:00",
          "2025-10-09T13:29:55.043295533-05:00",
          "2025-10-09T13:29:55.043295725-05:00",
          "2025-10-09T13:29:55.071820233-05:00",
          "2025-10-09T13:29:55.089146069-05:00",
          "2025-10-09T13:29:55.090432123-05:00",
          "2025-10-09T13:29:55.118382943-05:00",
          "2025-10-09T13:29:55.447678511-05:00",
          "2025-10-09T13:29:55.516704785-05:00",
          "2025-10-09T13:29:55.583420039-05:00",
          "2025-10-09T13:29:55.778128753-05:00",
          "2025-10-09T13:29:56.006223993-05:00",
          "2025-10-09T13:29:56.006237879-05:00",
          "2025-10-09T13:29:56.006240549-05:00",
          "2025-10-09T13:29:56.006244707-05:00",
          "2025-10-09T13:29:56.006250255-05:00",
          "2025-10-09T13:29:56.006250907-05:00",
          "2025-10-09T13:29:56.006256609-05:00",
          "2025-10-09T13:29:56.006260197-05:00",
          "2025-10-09T13:29:56.006263665-05:00",
          "2025-10-09T13:29:56.006273467-05:00",
          "2025-10-09T13:29:56.006281953-05:00",
          "2025-10-09T13:29:56.006282453-05:00",
          "2025-10-09T13:29:56.006285445-05:00",
          "2025-10-09T13:29:56.017809353-05:00",
          "2025-10-09T13:29:56.018457825-05:00",
          "2025-10-09T13:29:56.020173077-05:00",
          "2025-10-09T13:29:56.027781319-05:00",
          "2025-10-09T13:29:56.027964227-05:00",
          "2025-10-09T13:29:56.034103137-05:00",
          "2025-10-09T13:29:56.034202821-05:00",
          "2025-10-09T13:29:56.035352293-05:00",
          "2025-10-09T13:29:56.049523539-05:00",
          "2025-10-09T13:29:56.055346349-05:00",
          "2025-10-09T13:29:56.241789463-05:00",
          "2025-10-09T13:29:57.030278385-05:00",
          "2025-10-09T13:29:57.030933957-05:00",
          "2025-10-09T13:29:57.030941809-05:00",
          "2025-10-09T13:29:57.030962431-05:00",
          "2025-10-09T13:29:57.031537427-05:00",
          "2025-10-09T13:29:57.269200561-05:00",
          "2025-10-09T13:29:57.614904395-05:00",
          "2025-10-09T13:29:57.758243623-05:00",
          "2025-10-09T13:29:58.001555359-05:00",
          "2025-10-09T13:29:58.001555359-05:00",
          "2025-10-09T13:29:58.015821657-05:00",
          "2025-10-09T13:29:58.020144865-05:00",
          "2025-10-09T13:29:58.020922525-05:00",
          "2025-10-09T13:29:58.020924301-05:00",
          "2025-10-09T13:29:58.020924481-05:00",
          "2025-10-09T13:29:58.020924655-05:00",
          "2025-10-09T13:29:58.020926077-05:00",
          "2025-10-09T13:29:58.020926787-05:00",
          "2025-10-09T13:29:58.020926967-05:00",
          "2025-10-09T13:29:58.020926967-05:00",
          "2025-10-09T13:29:58.020926967-05:00",
          "2025-10-09T13:29:58.020926967-05:00",
          "2025-10-09T13:29:58.020926967-05:00",
          "2025-10-09T13:29:58.023119215-05:00",
          "2025-10-09T13:29:58.031428381-05:00",
          "2025-10-09T13:29:58.031438125-05:00",
          "2025-10-09T13:29:58.031449327-05:00",
          "2025-10-09T13:29:58.031457119-05:00",
          "2025-10-09T13:29:58.031458157-05:00",
          "2025-10-09T13:29:58.031581665-05:00",
          "2025-10-09T13:29:58.031614035-05:00",
          "2025-10-09T13:29:58.031699757-05:00",
          "2025-10-09T13:29:58.033676753-05:00",
          "2025-10-09T13:29:58.038651445-05:00",
          "2025-10-09T13:29:58.045949505-05:00",
          "2025-10-09T13:29:58.045953441-05:00",
          "2025-10-09T13:29:58.046014839-05:00",
          "2025-10-09T13:29:58.053849265-05:00",
          "2025-10-09T13:29:58.061917325-05:00",
          "2025-10-09T13:29:58.065543643-05:00",
          "2025-10-09T13:29:58.067946705-05:00",
          "2025-10-09T13:29:58.070753065-05:00",
          "2025-10-09T13:29:58.071224537-05:00",
          "2025-10-09T13:29:58.074676219-05:00",
          "2025-10-09T13:29:58.075497407-05:00",
          "2025-10-09T13:29:58.075852243-05:00",
          "2025-10-09T13:29:58.075852243-05:00",
          "2025-10-09T13:29:58.077144921-05:00",
          "2025-10-09T13:29:58.077505127-05:00",
          "2025-10-09T13:29:58.078043309-05:00",
          "2025-10-09T13:29:58.088998461-05:00",
          "2025-10-09T13:29:58.089979979-05:00",
          "2025-10-09T13:29:58.090039477-05:00",
          "2025-10-09T13:29:58.090040169-05:00",
          "2025-10-09T13:29:58.093894015-05:00",
          "2025-10-09T13:29:58.120955913-05:00",
          "2025-10-09T13:29:58.121810103-05:00",
          "2025-10-09T13:29:58.140539705-05:00",
          "2025-10-09T13:29:58.149358411-05:00",
          "2025-10-09T13:29:58.155587059-05:00",
          "2025-10-09T13:29:58.155681519-05:00",
          "2025-10-09T13:29:58.161631239-05:00",
          "2025-10-09T13:29:58.161682673-05:00",
          "2025-10-09T13:29:58.170232863-05:00",
          "2025-10-09T13:29:58.170403351-05:00",
          "2025-10-09T13:29:58.175280263-05:00",
          "2025-10-09T13:29:58.190736369-05:00",
          "2025-10-09T13:29:58.190971887-05:00",
          "2025-10-09T13:29:58.191880505-05:00",
          "2025-10-09T13:29:58.192276871-05:00",
          "2025-10-09T13:29:58.192627121-05:00",
          "2025-10-09T13:29:58.193380957-05:00",
          "2025-10-09T13:29:58.193620081-05:00",
          "2025-10-09T13:29:58.201488163-05:00",
          "2025-10-09T13:29:58.218991743-05:00",
          "2025-10-09T13:29:58.219717317-05:00",
          "2025-10-09T13:29:58.222290427-05:00",
          "2025-10-09T13:29:58.224554439-05:00",
          "2025-10-09T13:29:58.227761551-05:00",
          "2025-10-09T13:29:58.227781711-05:00",
          "2025-10-09T13:29:58.236944271-05:00",
          "2025-10-09T13:29:58.238427257-05:00",
          "2025-10-09T13:29:58.238972207-05:00",
          "2025-10-09T13:29:58.239225635-05:00",
          "2025-10-09T13:29:58.240056231-05:00",
          "2025-10-09T13:29:58.240751315-05:00",
          "2025-10-09T13:29:58.241189075-05:00",
          "2025-10-09T13:29:58.261221953-05:00",
          "2025-10-09T13:29:58.261223219-05:00",
          "2025-10-09T13:29:58.261225811-05:00",
          "2025-10-09T13:29:58.261885649-05:00",
          "2025-10-09T13:29:58.266682287-05:00",
          "2025-10-09T13:29:58.267124925-05:00",
          "2025-10-09T13:29:58.271352327-05:00",
          "2025-10-09T13:29:58.272192445-05:00",
          "2025-10-09T13:29:58.273770653-05:00",
          "2025-10-09T13:29:58.275799069-05:00",
          "2025-10-09T13:29:58.275806533-05:00",
          "2025-10-09T13:29:58.279424671-05:00",
          "2025-10-09T13:29:58.280291377-05:00",
          "2025-10-09T13:29:58.281355317-05:00",
          "2025-10-09T13:29:58.281582579-05:00",
          "2025-10-09T13:29:58.282144863-05:00",
          "2025-10-09T13:29:58.307784277-05:00",
          "2025-10-09T13:29:58.308023441-05:00",
          "2025-10-09T13:29:58.308426355-05:00",
          "2025-10-09T13:29:58.308665825-05:00",
          "2025-10-09T13:29:58.308830459-05:00",
          "2025-10-09T13:29:58.308987045-05:00",
          "2025-10-09T13:29:58.318769359-05:00",
          "2025-10-09T13:29:58.338909099-05:00",
          "2025-10-09T13:29:58.338909281-05:00",
          "2025-10-09T13:29:58.517356573-05:00",
          "2025-10-09T13:29:58.548422647-05:00",
          "2025-10-09T13:29:58.858432819-05:00",
          "2025-10-09T13:29:58.858432819-05:00",
          "2025-10-09T13:29:58.886372523-05:00",
          "2025-10-09T13:29:59.170248095-05:00",
          "2025-10-09T13:29:59.170929023-05:00",
          "2025-10-09T13:29:59.170929269-05:00",
          "2025-10-09T13:29:59.170961613-05:00",
          "2025-10-09T13:29:59.170982137-05:00",
          "2025-10-09T13:29:59.172355415-05:00",
          "2025-10-09T13:29:59.172509661-05:00",
          "2025-10-09T13:29:59.174027371-05:00",
          "2025-10-09T13:29:59.174245789-05:00",
          "2025-10-09T13:29:59.175892243-05:00",
          "2025-10-09T13:29:59.175892243-05:00",
          "2025-10-09T13:29:59.175892243-05:00",
          "2025-10-09T13:29:59.175892243-05:00",
          "2025-10-09T13:29:59.175892243-05:00",
          "2025-10-09T13:29:59.176436483-05:00",
          "2025-10-09T13:29:59.176437999-05:00",
          "2025-10-09T13:29:59.180043697-05:00",
          "2025-10-09T13:29:59.201836549-05:00",
          "2025-10-09T13:29:59.201836905-05:00",
          "2025-10-09T13:29:59.201837081-05:00",
          "2025-10-09T13:29:59.201857103-05:00",
          "2025-10-09T13:29:59.204990693-05:00",
          "2025-10-09T13:29:59.205298225-05:00",
          "2025-10-09T13:29:59.208851489-05:00",
          "2025-10-09T13:29:59.209558211-05:00",
          "2025-10-09T13:29:59.209854471-05:00",
          "2025-10-09T13:29:59.215797013-05:00",
          "2025-10-09T13:29:59.217621413-05:00",
          "2025-10-09T13:29:59.218333721-05:00",
          "2025-10-09T13:29:59.219131157-05:00",
          "2025-10-09T13:29:59.220003567-05:00",
          "2025-10-09T13:29:59.223745963-05:00",
          "2025-10-09T13:29:59.224338295-05:00",
          "2025-10-09T13:29:59.224576631-05:00",
          "2025-10-09T13:29:59.228931827-05:00",
          "2025-10-09T13:29:59.229244791-05:00",
          "2025-10-09T13:29:59.234279001-05:00",
          "2025-10-09T13:29:59.234508087-05:00",
          "2025-10-09T13:29:59.234519085-05:00",
          "2025-10-09T13:29:59.235135131-05:00",
          "2025-10-09T13:29:59.240587461-05:00",
          "2025-10-09T13:29:59.504159911-05:00",
          "2025-10-09T13:29:59.506286063-05:00",
          "2025-10-09T13:29:59.510155729-05:00",
          "2025-10-09T13:29:59.528278597-05:00",
          "2025-10-09T13:29:59.726188293-05:00",
          "2025-10-09T13:29:59.727986237-05:00",
          "2025-10-09T13:29:59.727987023-05:00",
          "2025-10-09T13:29:59.727987829-05:00",
          "2025-10-09T13:29:59.728760789-05:00",
          "2025-10-09T13:29:59.730954601-05:00",
          "2025-10-09T13:29:59.732685479-05:00",
          "2025-10-09T13:29:59.732707675-05:00",
          "2025-10-09T13:29:59.903989873-05:00"
         ],
         "xaxis": "x",
         "y": {
          "bdata": "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",
          "dtype": "f8"
         },
         "yaxis": "y"
        },
        {
         "mode": "lines",
         "name": "CLX5-CLZ5",
         "type": "scatter",
         "x": [
          "2025-10-09T13:28:00.267199321-05:00",
          "2025-10-09T13:28:00.832909853-05:00",
          "2025-10-09T13:28:01.411551359-05:00",
          "2025-10-09T13:28:02.120101733-05:00",
          "2025-10-09T13:28:03.412121709-05:00",
          "2025-10-09T13:28:05.411908457-05:00",
          "2025-10-09T13:28:06.505201471-05:00",
          "2025-10-09T13:28:07.412294415-05:00",
          "2025-10-09T13:28:07.772842595-05:00",
          "2025-10-09T13:28:07.813644019-05:00",
          "2025-10-09T13:28:08.008783487-05:00",
          "2025-10-09T13:28:09.411660825-05:00",
          "2025-10-09T13:28:10.565338907-05:00",
          "2025-10-09T13:28:11.353789177-05:00",
          "2025-10-09T13:28:11.411437613-05:00",
          "2025-10-09T13:28:12.689438323-05:00",
          "2025-10-09T13:28:13.412297109-05:00",
          "2025-10-09T13:28:14.504862007-05:00",
          "2025-10-09T13:28:15.292862979-05:00",
          "2025-10-09T13:28:15.411715643-05:00",
          "2025-10-09T13:28:16.398575805-05:00",
          "2025-10-09T13:28:17.411551195-05:00",
          "2025-10-09T13:28:17.813625013-05:00",
          "2025-10-09T13:28:18.281526855-05:00",
          "2025-10-09T13:28:18.281991223-05:00",
          "2025-10-09T13:28:18.282027243-05:00",
          "2025-10-09T13:28:18.282032157-05:00",
          "2025-10-09T13:28:18.282053355-05:00",
          "2025-10-09T13:28:18.287558959-05:00",
          "2025-10-09T13:28:18.376201625-05:00",
          "2025-10-09T13:28:18.428774457-05:00",
          "2025-10-09T13:28:19.411947153-05:00",
          "2025-10-09T13:28:19.642880023-05:00",
          "2025-10-09T13:28:20.972891153-05:00",
          "2025-10-09T13:28:21.412156861-05:00",
          "2025-10-09T13:28:22.893460421-05:00",
          "2025-10-09T13:28:22.893460777-05:00",
          "2025-10-09T13:28:22.894661133-05:00",
          "2025-10-09T13:28:23.248593499-05:00",
          "2025-10-09T13:28:23.532861045-05:00",
          "2025-10-09T13:28:23.688433881-05:00",
          "2025-10-09T13:28:23.853088647-05:00",
          "2025-10-09T13:28:23.853324739-05:00",
          "2025-10-09T13:28:25.411741227-05:00",
          "2025-10-09T13:28:25.505805523-05:00",
          "2025-10-09T13:28:27.255797717-05:00",
          "2025-10-09T13:28:27.411944335-05:00",
          "2025-10-09T13:28:27.526328073-05:00",
          "2025-10-09T13:28:27.859334183-05:00",
          "2025-10-09T13:28:28.125397049-05:00",
          "2025-10-09T13:28:29.411595665-05:00",
          "2025-10-09T13:28:30.432944245-05:00",
          "2025-10-09T13:28:31.411930607-05:00",
          "2025-10-09T13:28:33.412253935-05:00",
          "2025-10-09T13:28:33.811474799-05:00",
          "2025-10-09T13:28:35.411521655-05:00",
          "2025-10-09T13:28:35.610841831-05:00",
          "2025-10-09T13:28:37.103115545-05:00",
          "2025-10-09T13:28:37.411908609-05:00",
          "2025-10-09T13:28:37.416353369-05:00",
          "2025-10-09T13:28:37.426726287-05:00",
          "2025-10-09T13:28:38.092952869-05:00",
          "2025-10-09T13:28:38.093051667-05:00",
          "2025-10-09T13:28:38.093378151-05:00",
          "2025-10-09T13:28:38.093694167-05:00",
          "2025-10-09T13:28:38.106096301-05:00",
          "2025-10-09T13:28:38.131692095-05:00",
          "2025-10-09T13:28:38.505597271-05:00",
          "2025-10-09T13:28:38.685594139-05:00",
          "2025-10-09T13:28:39.411724883-05:00",
          "2025-10-09T13:28:39.632918509-05:00",
          "2025-10-09T13:28:40.545174505-05:00",
          "2025-10-09T13:28:41.411916623-05:00",
          "2025-10-09T13:28:43.411928241-05:00",
          "2025-10-09T13:28:43.512908245-05:00",
          "2025-10-09T13:28:43.566239597-05:00",
          "2025-10-09T13:28:43.602191585-05:00",
          "2025-10-09T13:28:43.919256473-05:00",
          "2025-10-09T13:28:45.412329857-05:00",
          "2025-10-09T13:28:46.150504537-05:00",
          "2025-10-09T13:28:47.003701037-05:00",
          "2025-10-09T13:28:47.411706971-05:00",
          "2025-10-09T13:28:49.247243903-05:00",
          "2025-10-09T13:28:49.412110893-05:00",
          "2025-10-09T13:28:49.906502479-05:00",
          "2025-10-09T13:28:49.963751957-05:00",
          "2025-10-09T13:28:50.506317773-05:00",
          "2025-10-09T13:28:51.411702593-05:00",
          "2025-10-09T13:28:52.212852789-05:00",
          "2025-10-09T13:28:52.677780529-05:00",
          "2025-10-09T13:28:52.682002615-05:00",
          "2025-10-09T13:28:53.412073875-05:00",
          "2025-10-09T13:28:54.128991525-05:00",
          "2025-10-09T13:28:55.072955023-05:00",
          "2025-10-09T13:28:55.411845403-05:00",
          "2025-10-09T13:28:56.003833755-05:00",
          "2025-10-09T13:28:57.167479033-05:00",
          "2025-10-09T13:28:57.412013641-05:00",
          "2025-10-09T13:28:57.852869345-05:00",
          "2025-10-09T13:28:58.239888051-05:00",
          "2025-10-09T13:28:59.412217959-05:00",
          "2025-10-09T13:28:59.811506729-05:00",
          "2025-10-09T13:29:00.010798341-05:00",
          "2025-10-09T13:29:00.671008417-05:00",
          "2025-10-09T13:29:01.411824235-05:00",
          "2025-10-09T13:29:01.505588755-05:00",
          "2025-10-09T13:29:02.287914161-05:00",
          "2025-10-09T13:29:02.366529935-05:00",
          "2025-10-09T13:29:02.580127737-05:00",
          "2025-10-09T13:29:02.580185143-05:00",
          "2025-10-09T13:29:02.580252955-05:00",
          "2025-10-09T13:29:02.580327659-05:00",
          "2025-10-09T13:29:02.580426747-05:00",
          "2025-10-09T13:29:02.580454143-05:00",
          "2025-10-09T13:29:02.580495729-05:00",
          "2025-10-09T13:29:02.580564923-05:00",
          "2025-10-09T13:29:03.411824169-05:00",
          "2025-10-09T13:29:03.503812249-05:00",
          "2025-10-09T13:29:03.912810087-05:00",
          "2025-10-09T13:29:04.683982619-05:00",
          "2025-10-09T13:29:05.411429711-05:00",
          "2025-10-09T13:29:07.003965263-05:00",
          "2025-10-09T13:29:07.112841819-05:00",
          "2025-10-09T13:29:07.411810769-05:00",
          "2025-10-09T13:29:08.661594203-05:00",
          "2025-10-09T13:29:09.412413811-05:00",
          "2025-10-09T13:29:09.565309995-05:00",
          "2025-10-09T13:29:10.392693753-05:00",
          "2025-10-09T13:29:11.026570031-05:00",
          "2025-10-09T13:29:11.411615217-05:00",
          "2025-10-09T13:29:11.505497273-05:00",
          "2025-10-09T13:29:12.016638851-05:00",
          "2025-10-09T13:29:13.352643415-05:00",
          "2025-10-09T13:29:13.412205737-05:00",
          "2025-10-09T13:29:13.772896935-05:00",
          "2025-10-09T13:29:14.066617301-05:00",
          "2025-10-09T13:29:14.433765961-05:00",
          "2025-10-09T13:29:15.411773539-05:00",
          "2025-10-09T13:29:17.003650235-05:00",
          "2025-10-09T13:29:17.412356881-05:00",
          "2025-10-09T13:29:17.766581703-05:00",
          "2025-10-09T13:29:18.467428849-05:00",
          "2025-10-09T13:29:19.411756569-05:00",
          "2025-10-09T13:29:20.124451531-05:00",
          "2025-10-09T13:29:20.212819303-05:00",
          "2025-10-09T13:29:20.550768525-05:00",
          "2025-10-09T13:29:21.412143501-05:00",
          "2025-10-09T13:29:23.411753527-05:00",
          "2025-10-09T13:29:23.505585453-05:00",
          "2025-10-09T13:29:23.626935911-05:00",
          "2025-10-09T13:29:24.386534699-05:00",
          "2025-10-09T13:29:25.412175613-05:00",
          "2025-10-09T13:29:25.813120183-05:00",
          "2025-10-09T13:29:26.232848091-05:00",
          "2025-10-09T13:29:26.455784805-05:00",
          "2025-10-09T13:29:26.911667963-05:00",
          "2025-10-09T13:29:27.003761697-05:00",
          "2025-10-09T13:29:27.411390087-05:00",
          "2025-10-09T13:29:28.406482407-05:00",
          "2025-10-09T13:29:28.957638315-05:00",
          "2025-10-09T13:29:29.412218987-05:00",
          "2025-10-09T13:29:29.565097723-05:00",
          "2025-10-09T13:29:29.569399965-05:00",
          "2025-10-09T13:29:29.569906113-05:00",
          "2025-10-09T13:29:30.530967439-05:00",
          "2025-10-09T13:29:30.688965899-05:00",
          "2025-10-09T13:29:31.412257559-05:00",
          "2025-10-09T13:29:32.366476649-05:00",
          "2025-10-09T13:29:32.557150161-05:00",
          "2025-10-09T13:29:33.054432253-05:00",
          "2025-10-09T13:29:33.411466259-05:00",
          "2025-10-09T13:29:33.566523825-05:00",
          "2025-10-09T13:29:34.504711209-05:00",
          "2025-10-09T13:29:34.749765363-05:00",
          "2025-10-09T13:29:35.396306129-05:00",
          "2025-10-09T13:29:35.411487265-05:00",
          "2025-10-09T13:29:35.897819313-05:00",
          "2025-10-09T13:29:36.003058943-05:00",
          "2025-10-09T13:29:36.003964847-05:00",
          "2025-10-09T13:29:37.206526259-05:00",
          "2025-10-09T13:29:37.411935335-05:00",
          "2025-10-09T13:29:39.279902879-05:00",
          "2025-10-09T13:29:39.411932597-05:00",
          "2025-10-09T13:29:40.226529995-05:00",
          "2025-10-09T13:29:41.411732611-05:00",
          "2025-10-09T13:29:41.821061065-05:00",
          "2025-10-09T13:29:41.986511731-05:00",
          "2025-10-09T13:29:43.151758461-05:00",
          "2025-10-09T13:29:43.166506751-05:00",
          "2025-10-09T13:29:43.411925137-05:00",
          "2025-10-09T13:29:43.890305649-05:00",
          "2025-10-09T13:29:44.040832621-05:00",
          "2025-10-09T13:29:44.583074241-05:00",
          "2025-10-09T13:29:45.412250669-05:00",
          "2025-10-09T13:29:45.505293513-05:00",
          "2025-10-09T13:29:45.746453585-05:00",
          "2025-10-09T13:29:46.706713015-05:00",
          "2025-10-09T13:29:47.005044265-05:00",
          "2025-10-09T13:29:47.005363621-05:00",
          "2025-10-09T13:29:47.005400291-05:00",
          "2025-10-09T13:29:47.412304847-05:00",
          "2025-10-09T13:29:47.560059941-05:00",
          "2025-10-09T13:29:48.026455937-05:00",
          "2025-10-09T13:29:49.412316253-05:00",
          "2025-10-09T13:29:49.562972859-05:00",
          "2025-10-09T13:29:50.446774889-05:00",
          "2025-10-09T13:29:50.447144433-05:00",
          "2025-10-09T13:29:50.447148119-05:00",
          "2025-10-09T13:29:50.447666555-05:00",
          "2025-10-09T13:29:50.447667859-05:00",
          "2025-10-09T13:29:51.004418645-05:00",
          "2025-10-09T13:29:51.005026739-05:00",
          "2025-10-09T13:29:51.005109219-05:00",
          "2025-10-09T13:29:51.005110447-05:00",
          "2025-10-09T13:29:51.005117743-05:00",
          "2025-10-09T13:29:51.005120199-05:00",
          "2025-10-09T13:29:51.411498319-05:00",
          "2025-10-09T13:29:51.939999297-05:00",
          "2025-10-09T13:29:53.057610025-05:00",
          "2025-10-09T13:29:53.057636501-05:00",
          "2025-10-09T13:29:53.057736433-05:00",
          "2025-10-09T13:29:53.057789807-05:00",
          "2025-10-09T13:29:53.057842853-05:00",
          "2025-10-09T13:29:53.057911087-05:00",
          "2025-10-09T13:29:53.057962463-05:00",
          "2025-10-09T13:29:53.411897863-05:00",
          "2025-10-09T13:29:54.003629461-05:00",
          "2025-10-09T13:29:54.059394861-05:00",
          "2025-10-09T13:29:55.004035971-05:00",
          "2025-10-09T13:29:55.024427661-05:00",
          "2025-10-09T13:29:55.168576769-05:00",
          "2025-10-09T13:29:55.412061085-05:00",
          "2025-10-09T13:29:55.517840895-05:00",
          "2025-10-09T13:29:55.758067021-05:00",
          "2025-10-09T13:29:56.003762755-05:00",
          "2025-10-09T13:29:56.006259841-05:00",
          "2025-10-09T13:29:56.006260197-05:00",
          "2025-10-09T13:29:56.006263665-05:00",
          "2025-10-09T13:29:56.006273467-05:00",
          "2025-10-09T13:29:56.006282453-05:00",
          "2025-10-09T13:29:56.006285445-05:00",
          "2025-10-09T13:29:56.007434573-05:00",
          "2025-10-09T13:29:57.006411129-05:00",
          "2025-10-09T13:29:57.008377507-05:00",
          "2025-10-09T13:29:57.030278385-05:00",
          "2025-10-09T13:29:57.030962431-05:00",
          "2025-10-09T13:29:57.411853937-05:00",
          "2025-10-09T13:29:58.005856161-05:00",
          "2025-10-09T13:29:58.012534723-05:00",
          "2025-10-09T13:29:58.013491665-05:00",
          "2025-10-09T13:29:58.015527487-05:00",
          "2025-10-09T13:29:58.020926787-05:00",
          "2025-10-09T13:29:58.021274389-05:00",
          "2025-10-09T13:29:58.102655843-05:00",
          "2025-10-09T13:29:58.858432819-05:00",
          "2025-10-09T13:29:58.885877223-05:00",
          "2025-10-09T13:29:59.400343329-05:00",
          "2025-10-09T13:29:59.411446045-05:00",
          "2025-10-09T13:29:59.518059561-05:00",
          "2025-10-09T13:29:59.673509311-05:00"
         ],
         "xaxis": "x2",
         "y": {
          "bdata": "uB6F61G43j+4HoXrUbjeP7gehetRuN4/XI/C9Shc3z+4HoXrUbjeP7gehetRuN4/uB6F61G43j+4HoXrUbjeP7gehetRuN4/XI/C9Shc3z+4HoXrUbjeP7gehetRuN4/uB6F61G43j9cj8L1KFzfP7gehetRuN4/XI/C9Shc3z+4HoXrUbjeP7gehetRuN4/uB6F61G43j+4HoXrUbjeP7gehetRuN4/uB6F61G43j+4HoXrUbjeP7gehetRuN4/uB6F61G43j+4HoXrUbjeP7gehetRuN4/uB6F61G43j+4HoXrUbjeP1yPwvUoXN8/uB6F61G43j+4HoXrUbjeP7gehetRuN4/uB6F61G43j+4HoXrUbjeP7gehetRuN4/uB6F61G43j+4HoXrUbjeP1yPwvUoXN8/uB6F61G43j9cj8L1KFzfP7gehetRuN4/uB6F61G43j+4HoXrUbjeP7gehetRuN4/uB6F61G43j+4HoXrUbjeP7gehetRuN4/uB6F61G43j9cj8L1KFzfP7gehetRuN4/uB6F61G43j+4HoXrUbjeP7gehetRuN4/XI/C9Shc3z+4HoXrUbjeP7gehetRuN4/uB6F61G43j+4HoXrUbjeP7gehetRuN4/uB6F61G43j+4HoXrUbjeP7gehetRuN4/uB6F61G43j+4HoXrUbjeP7gehetRuN4/uB6F61G43j+4HoXrUbjeP1yPwvUoXN8/uB6F61G43j+4HoXrUbjeP7gehetRuN4/uB6F61G43j+4HoXrUbjeP7gehetRuN4/XI/C9Shc3z+4HoXrUbjeP7gehetRuN4/uB6F61G43j+4HoXrUbjeP7gehetRuN4/uB6F61G43j9cj8L1KFzfP7gehetRuN4/uB6F61G43j+4HoXrUbjeP7gehetRuN4/uB6F61G43j+4HoXrUbjeP7gehetRuN4/uB6F61G43j+4HoXrUbjeP1yPwvUoXN8/uB6F61G43j+4HoXrUbjeP7gehetRuN4/uB6F61G43j+4HoXrUbjeP7gehetRuN4/uB6F61G43j+4HoXrUbjeP1yPwvUoXN8/uB6F61G43j+4HoXrUbjeP7gehetRuN4/uB6F61G43j9cj8L1KFzfP7gehetRuN4/uB6F61G43j+4HoXrUbjeP7gehetRuN4/uB6F61G43j+4HoXrUbjeP7gehetRuN4/uB6F61G43j+4HoXrUbjeP7gehetRuN4/uB6F61G43j+4HoXrUbjeP1yPwvUoXN8/uB6F61G43j+4HoXrUbjeP7gehetRuN4/uB6F61G43j+4HoXrUbjeP7gehetRuN4/XI/C9Shc3z+4HoXrUbjeP7gehetRuN4/uB6F61G43j+4HoXrUbjeP7gehetRuN4/XI/C9Shc3z+4HoXrUbjeP7gehetRuN4/uB6F61G43j9cj8L1KFzfP7gehetRuN4/uB6F61G43j+4HoXrUbjeP7gehetRuN4/uB6F61G43j+4HoXrUbjeP1yPwvUoXN8/uB6F61G43j+4HoXrUbjeP7gehetRuN4/uB6F61G43j+4HoXrUbjeP7gehetRuN4/uB6F61G43j+4HoXrUbjeP1yPwvUoXN8/uB6F61G43j+4HoXrUbjeP1yPwvUoXN8/uB6F61G43j+4HoXrUbjeP7gehetRuN4/uB6F61G43j+4HoXrUbjeP7gehetRuN4/uB6F61G43j+4HoXrUbjeP7gehetRuN4/XI/C9Shc3z+4HoXrUbjeP7gehetRuN4/uB6F61G43j9cj8L1KFzfP7gehetRuN4/uB6F61G43j+4HoXrUbjeP7gehetRuN4/uB6F61G43j+4HoXrUbjeP7gehetRuN4/uB6F61G43j+4HoXrUbjeP7gehetRuN4/uB6F61G43j+4HoXrUbjeP7gehetRuN4/uB6F61G43j+4HoXrUbjeP7gehetRuN4/uB6F61G43j9cj8L1KFzfP7gehetRuN4/uB6F61G43j+4HoXrUbjeP1yPwvUoXN8/uB6F61G43j+4HoXrUbjeP7gehetRuN4/uB6F61G43j+4HoXrUbjeP7gehetRuN4/uB6F61G43j+4HoXrUbjeP7gehetRuN4/uB6F61G43j+4HoXrUbjeP7gehetRuN4/uB6F61G43j+4HoXrUbjeP7gehetRuN4/uB6F61G43j+4HoXrUbjeP7gehetRuN4/uB6F61G43j+4HoXrUbjeP7gehetRuN4/uB6F61G43j+4HoXrUbjeP7gehetRuN4/uB6F61G43j+4HoXrUbjeP7gehetRuN4/uB6F61G43j+4HoXrUbjeP7gehetRuN4/uB6F61G43j+4HoXrUbjeP7gehetRuN4/uB6F61G43j+4HoXrUbjeP7gehetRuN4/uB6F61G43j9cj8L1KFzfP1yPwvUoXN8/uB6F61G43j+4HoXrUbjeP1yPwvUoXN8/uB6F61G43j9cj8L1KFzfP7gehetRuN4/uB6F61G43j+4HoXrUbjeP7gehetRuN4/uB6F61G43j+4HoXrUbjeP7gehetRuN4/uB6F61G43j+4HoXrUbjeP7gehetRuN4/uB6F61G43j+4HoXrUbjeP1yPwvUoXN8/XI/C9Shc3z9cj8L1KFzfP7gehetRuN4/uB6F61G43j+4HoXrUbjeP7gehetRuN4/uB6F61G43j+4HoXrUbjeP7gehetRuN4/uB6F61G43j+4HoXrUbjePw==",
          "dtype": "f8"
         },
         "yaxis": "y2"
        },
        {
         "mode": "lines",
         "name": "CLX5-CLF6",
         "type": "scatter",
         "x": [
          "2025-10-09T13:28:00.007805527-05:00",
          "2025-10-09T13:28:00.040548109-05:00",
          "2025-10-09T13:28:00.040587141-05:00",
          "2025-10-09T13:28:00.040593169-05:00",
          "2025-10-09T13:28:00.054795417-05:00",
          "2025-10-09T13:28:00.876430189-05:00",
          "2025-10-09T13:28:00.876797467-05:00",
          "2025-10-09T13:28:00.876803189-05:00",
          "2025-10-09T13:28:01.015220389-05:00",
          "2025-10-09T13:28:03.469619029-05:00",
          "2025-10-09T13:28:03.472304031-05:00",
          "2025-10-09T13:28:04.823767825-05:00",
          "2025-10-09T13:28:04.826212569-05:00",
          "2025-10-09T13:28:05.395709211-05:00",
          "2025-10-09T13:28:05.397921739-05:00",
          "2025-10-09T13:28:05.397948177-05:00",
          "2025-10-09T13:28:05.397948887-05:00",
          "2025-10-09T13:28:05.398506065-05:00",
          "2025-10-09T13:28:05.399036959-05:00",
          "2025-10-09T13:28:05.460582959-05:00",
          "2025-10-09T13:28:05.478029209-05:00",
          "2025-10-09T13:28:05.608238483-05:00",
          "2025-10-09T13:28:05.608944089-05:00",
          "2025-10-09T13:28:06.097289189-05:00",
          "2025-10-09T13:28:06.121344365-05:00",
          "2025-10-09T13:28:06.192226009-05:00",
          "2025-10-09T13:28:07.460940749-05:00",
          "2025-10-09T13:28:08.350564785-05:00",
          "2025-10-09T13:28:09.460824559-05:00",
          "2025-10-09T13:28:11.187889675-05:00",
          "2025-10-09T13:28:11.313344925-05:00",
          "2025-10-09T13:28:11.320854201-05:00",
          "2025-10-09T13:28:11.460514333-05:00",
          "2025-10-09T13:28:12.165298691-05:00",
          "2025-10-09T13:28:12.631664039-05:00",
          "2025-10-09T13:28:12.633179083-05:00",
          "2025-10-09T13:28:13.106141033-05:00",
          "2025-10-09T13:28:14.281039773-05:00",
          "2025-10-09T13:28:14.914380313-05:00",
          "2025-10-09T13:28:15.003118761-05:00",
          "2025-10-09T13:28:15.005037237-05:00",
          "2025-10-09T13:28:15.007525505-05:00",
          "2025-10-09T13:28:15.361277605-05:00",
          "2025-10-09T13:28:15.372399331-05:00",
          "2025-10-09T13:28:15.375045357-05:00",
          "2025-10-09T13:28:16.126037333-05:00",
          "2025-10-09T13:28:16.132342295-05:00",
          "2025-10-09T13:28:16.384568719-05:00",
          "2025-10-09T13:28:19.020835149-05:00",
          "2025-10-09T13:28:19.023436691-05:00",
          "2025-10-09T13:28:21.654917063-05:00",
          "2025-10-09T13:28:23.384246713-05:00",
          "2025-10-09T13:28:23.386967311-05:00",
          "2025-10-09T13:28:23.461179335-05:00",
          "2025-10-09T13:28:24.287987549-05:00",
          "2025-10-09T13:28:25.002237195-05:00",
          "2025-10-09T13:28:25.461262717-05:00",
          "2025-10-09T13:28:26.999167715-05:00",
          "2025-10-09T13:28:27.001899085-05:00",
          "2025-10-09T13:28:27.460596815-05:00",
          "2025-10-09T13:28:27.469592865-05:00",
          "2025-10-09T13:28:29.460680105-05:00",
          "2025-10-09T13:28:29.463127881-05:00",
          "2025-10-09T13:28:29.649716199-05:00",
          "2025-10-09T13:28:29.967593569-05:00",
          "2025-10-09T13:28:29.970352757-05:00",
          "2025-10-09T13:28:32.390962545-05:00",
          "2025-10-09T13:28:32.393489691-05:00",
          "2025-10-09T13:28:33.460880513-05:00",
          "2025-10-09T13:28:33.463353827-05:00",
          "2025-10-09T13:28:33.470086029-05:00",
          "2025-10-09T13:28:35.127782261-05:00",
          "2025-10-09T13:28:35.130666241-05:00",
          "2025-10-09T13:28:35.461161277-05:00",
          "2025-10-09T13:28:37.461251243-05:00",
          "2025-10-09T13:28:37.463862617-05:00",
          "2025-10-09T13:28:37.953426741-05:00",
          "2025-10-09T13:28:38.081510921-05:00",
          "2025-10-09T13:28:40.669758525-05:00",
          "2025-10-09T13:28:43.135351105-05:00",
          "2025-10-09T13:28:43.293906607-05:00",
          "2025-10-09T13:28:43.470171659-05:00",
          "2025-10-09T13:28:44.625317147-05:00",
          "2025-10-09T13:28:45.461065027-05:00",
          "2025-10-09T13:28:45.463310253-05:00",
          "2025-10-09T13:28:45.973645619-05:00",
          "2025-10-09T13:28:45.976233647-05:00",
          "2025-10-09T13:28:47.461353371-05:00",
          "2025-10-09T13:28:47.464060855-05:00",
          "2025-10-09T13:28:48.641789019-05:00",
          "2025-10-09T13:28:48.644292185-05:00",
          "2025-10-09T13:28:49.059887965-05:00",
          "2025-10-09T13:28:51.241945059-05:00",
          "2025-10-09T13:28:51.244342705-05:00",
          "2025-10-09T13:28:51.460764819-05:00",
          "2025-10-09T13:28:51.470171771-05:00",
          "2025-10-09T13:28:53.460863167-05:00",
          "2025-10-09T13:28:53.463417309-05:00",
          "2025-10-09T13:28:54.084683817-05:00",
          "2025-10-09T13:28:54.654993309-05:00",
          "2025-10-09T13:28:56.696932065-05:00",
          "2025-10-09T13:28:57.460670169-05:00",
          "2025-10-09T13:28:57.469476131-05:00",
          "2025-10-09T13:28:59.293976841-05:00",
          "2025-10-09T13:28:59.300359965-05:00",
          "2025-10-09T13:28:59.461366371-05:00",
          "2025-10-09T13:28:59.923288293-05:00",
          "2025-10-09T13:29:00.004062185-05:00",
          "2025-10-09T13:29:00.005465817-05:00",
          "2025-10-09T13:29:00.009050297-05:00",
          "2025-10-09T13:29:01.016491523-05:00",
          "2025-10-09T13:29:01.018525655-05:00",
          "2025-10-09T13:29:02.120845257-05:00",
          "2025-10-09T13:29:02.123482395-05:00",
          "2025-10-09T13:29:03.021409305-05:00",
          "2025-10-09T13:29:03.460610811-05:00",
          "2025-10-09T13:29:03.463051043-05:00",
          "2025-10-09T13:29:03.469817093-05:00",
          "2025-10-09T13:29:04.423624223-05:00",
          "2025-10-09T13:29:04.780930395-05:00",
          "2025-10-09T13:29:04.783233373-05:00",
          "2025-10-09T13:29:05.026345687-05:00",
          "2025-10-09T13:29:05.460922979-05:00",
          "2025-10-09T13:29:05.519056689-05:00",
          "2025-10-09T13:29:07.030921775-05:00",
          "2025-10-09T13:29:07.034103689-05:00",
          "2025-10-09T13:29:07.460989075-05:00",
          "2025-10-09T13:29:07.578928727-05:00",
          "2025-10-09T13:29:08.459613815-05:00",
          "2025-10-09T13:29:08.468179703-05:00",
          "2025-10-09T13:29:09.035642693-05:00",
          "2025-10-09T13:29:09.461355929-05:00",
          "2025-10-09T13:29:09.469964925-05:00",
          "2025-10-09T13:29:10.002085553-05:00",
          "2025-10-09T13:29:10.003297901-05:00",
          "2025-10-09T13:29:10.003660403-05:00",
          "2025-10-09T13:29:10.343055685-05:00",
          "2025-10-09T13:29:11.040193233-05:00",
          "2025-10-09T13:29:11.042698797-05:00",
          "2025-10-09T13:29:11.371347547-05:00",
          "2025-10-09T13:29:13.044169215-05:00",
          "2025-10-09T13:29:13.046482787-05:00",
          "2025-10-09T13:29:13.055941059-05:00",
          "2025-10-09T13:29:13.460561187-05:00",
          "2025-10-09T13:29:15.003412607-05:00",
          "2025-10-09T13:29:15.460860575-05:00",
          "2025-10-09T13:29:15.776916753-05:00",
          "2025-10-09T13:29:16.054669817-05:00",
          "2025-10-09T13:29:17.371683339-05:00",
          "2025-10-09T13:29:17.470154109-05:00",
          "2025-10-09T13:29:18.058875317-05:00",
          "2025-10-09T13:29:18.447013661-05:00",
          "2025-10-09T13:29:19.461030159-05:00",
          "2025-10-09T13:29:20.063615097-05:00",
          "2025-10-09T13:29:21.225689863-05:00",
          "2025-10-09T13:29:21.461165275-05:00",
          "2025-10-09T13:29:21.540782763-05:00",
          "2025-10-09T13:29:22.068078645-05:00",
          "2025-10-09T13:29:22.968203047-05:00",
          "2025-10-09T13:29:23.934316895-05:00",
          "2025-10-09T13:29:24.072253115-05:00",
          "2025-10-09T13:29:25.460578119-05:00",
          "2025-10-09T13:29:25.463124043-05:00",
          "2025-10-09T13:29:25.469588955-05:00",
          "2025-10-09T13:29:26.076427801-05:00",
          "2025-10-09T13:29:26.750989745-05:00",
          "2025-10-09T13:29:27.460866941-05:00",
          "2025-10-09T13:29:28.080860707-05:00",
          "2025-10-09T13:29:29.387956421-05:00",
          "2025-10-09T13:29:29.460956655-05:00",
          "2025-10-09T13:29:29.565097723-05:00",
          "2025-10-09T13:29:29.568280925-05:00",
          "2025-10-09T13:29:30.821323463-05:00",
          "2025-10-09T13:29:31.086701043-05:00",
          "2025-10-09T13:29:31.461257907-05:00",
          "2025-10-09T13:29:32.005152705-05:00",
          "2025-10-09T13:29:33.091221231-05:00",
          "2025-10-09T13:29:33.461344797-05:00",
          "2025-10-09T13:29:34.490034437-05:00",
          "2025-10-09T13:29:34.644905963-05:00",
          "2025-10-09T13:29:35.095728253-05:00",
          "2025-10-09T13:29:35.469835413-05:00",
          "2025-10-09T13:29:35.488997049-05:00",
          "2025-10-09T13:29:37.100405817-05:00",
          "2025-10-09T13:29:37.102945481-05:00",
          "2025-10-09T13:29:37.427866755-05:00",
          "2025-10-09T13:29:37.460739911-05:00",
          "2025-10-09T13:29:39.104889421-05:00",
          "2025-10-09T13:29:39.107406217-05:00",
          "2025-10-09T13:29:39.461030017-05:00",
          "2025-10-09T13:29:40.003366787-05:00",
          "2025-10-09T13:29:40.279907615-05:00",
          "2025-10-09T13:29:41.016218047-05:00",
          "2025-10-09T13:29:41.019140543-05:00",
          "2025-10-09T13:29:41.074059607-05:00",
          "2025-10-09T13:29:41.109313649-05:00",
          "2025-10-09T13:29:42.923812283-05:00",
          "2025-10-09T13:29:42.926423773-05:00",
          "2025-10-09T13:29:43.113815153-05:00",
          "2025-10-09T13:29:43.460606049-05:00",
          "2025-10-09T13:29:43.470011523-05:00",
          "2025-10-09T13:29:45.460918835-05:00",
          "2025-10-09T13:29:45.463295173-05:00",
          "2025-10-09T13:29:45.642857831-05:00",
          "2025-10-09T13:29:46.125642245-05:00",
          "2025-10-09T13:29:46.339993171-05:00",
          "2025-10-09T13:29:46.343358207-05:00",
          "2025-10-09T13:29:48.130211867-05:00",
          "2025-10-09T13:29:48.132528053-05:00",
          "2025-10-09T13:29:48.349573871-05:00",
          "2025-10-09T13:29:48.431906291-05:00",
          "2025-10-09T13:29:49.041877263-05:00",
          "2025-10-09T13:29:49.042488063-05:00",
          "2025-10-09T13:29:49.044807321-05:00",
          "2025-10-09T13:29:49.461104893-05:00",
          "2025-10-09T13:29:50.001388123-05:00",
          "2025-10-09T13:29:50.060265073-05:00",
          "2025-10-09T13:29:50.060942823-05:00",
          "2025-10-09T13:29:50.062303697-05:00",
          "2025-10-09T13:29:50.071857753-05:00",
          "2025-10-09T13:29:50.073937155-05:00",
          "2025-10-09T13:29:50.074709459-05:00",
          "2025-10-09T13:29:50.078271901-05:00",
          "2025-10-09T13:29:50.078958751-05:00",
          "2025-10-09T13:29:50.135014635-05:00",
          "2025-10-09T13:29:50.447665325-05:00",
          "2025-10-09T13:29:50.447862597-05:00",
          "2025-10-09T13:29:50.450464487-05:00",
          "2025-10-09T13:29:51.005026029-05:00",
          "2025-10-09T13:29:51.007437077-05:00",
          "2025-10-09T13:29:51.007442377-05:00",
          "2025-10-09T13:29:51.012776247-05:00",
          "2025-10-09T13:29:51.014199597-05:00",
          "2025-10-09T13:29:51.022395503-05:00",
          "2025-10-09T13:29:51.022409539-05:00",
          "2025-10-09T13:29:51.025025709-05:00",
          "2025-10-09T13:29:51.142198011-05:00",
          "2025-10-09T13:29:52.012489061-05:00",
          "2025-10-09T13:29:52.015101009-05:00",
          "2025-10-09T13:29:52.139374751-05:00",
          "2025-10-09T13:29:53.024360375-05:00",
          "2025-10-09T13:29:53.470364121-05:00",
          "2025-10-09T13:29:53.482685793-05:00",
          "2025-10-09T13:29:53.809006105-05:00",
          "2025-10-09T13:29:54.005314733-05:00",
          "2025-10-09T13:29:54.015111439-05:00",
          "2025-10-09T13:29:54.144438241-05:00",
          "2025-10-09T13:29:55.048711153-05:00",
          "2025-10-09T13:29:55.081678019-05:00",
          "2025-10-09T13:29:55.117235217-05:00",
          "2025-10-09T13:29:56.006281953-05:00",
          "2025-10-09T13:29:56.149549355-05:00",
          "2025-10-09T13:29:56.641929945-05:00",
          "2025-10-09T13:29:57.001813815-05:00",
          "2025-10-09T13:29:57.005437195-05:00",
          "2025-10-09T13:29:57.222921671-05:00",
          "2025-10-09T13:29:58.013118299-05:00",
          "2025-10-09T13:29:58.020924655-05:00",
          "2025-10-09T13:29:58.154448989-05:00",
          "2025-10-09T13:29:58.170403351-05:00",
          "2025-10-09T13:29:58.175280263-05:00",
          "2025-10-09T13:29:58.280291377-05:00",
          "2025-10-09T13:29:58.338909281-05:00",
          "2025-10-09T13:29:58.856590949-05:00",
          "2025-10-09T13:29:59.179658157-05:00",
          "2025-10-09T13:29:59.455778275-05:00",
          "2025-10-09T13:29:59.467985959-05:00",
          "2025-10-09T13:29:59.539027149-05:00",
          "2025-10-09T13:29:59.817849585-05:00"
         ],
         "xaxis": "x3",
         "y": {
          "bdata": "pHA9Ctej6D9SuB6F61HoP1K4HoXrUeg/UrgehetR6D9SuB6F61HoP1K4HoXrUeg/UrgehetR6D9SuB6F61HoP1K4HoXrUeg/UrgehetR6D9SuB6F61HoPwAAAAAAAOg/UrgehetR6D9SuB6F61HoP1K4HoXrUeg/UrgehetR6D9SuB6F61HoP1K4HoXrUeg/UrgehetR6D+kcD0K16PoP6RwPQrXo+g/UrgehetR6D9SuB6F61HoP1K4HoXrUeg/UrgehetR6D9SuB6F61HoP6RwPQrXo+g/pHA9Ctej6D+kcD0K16PoP6RwPQrXo+g/UrgehetR6D9SuB6F61HoP6RwPQrXo+g/UrgehetR6D9SuB6F61HoP1K4HoXrUeg/UrgehetR6D9SuB6F61HoP1K4HoXrUeg/UrgehetR6D9SuB6F61HoP1K4HoXrUeg/pHA9Ctej6D9SuB6F61HoP1K4HoXrUeg/UrgehetR6D+kcD0K16PoP1K4HoXrUeg/UrgehetR6D9SuB6F61HoP1K4HoXrUeg/AAAAAAAA6D9SuB6F61HoP1K4HoXrUeg/UrgehetR6D9SuB6F61HoP1K4HoXrUeg/UrgehetR6D9SuB6F61HoP1K4HoXrUeg/UrgehetR6D9SuB6F61HoP1K4HoXrUeg/UrgehetR6D8AAAAAAADoP1K4HoXrUeg/UrgehetR6D9SuB6F61HoP1K4HoXrUeg/UrgehetR6D9SuB6F61HoP1K4HoXrUeg/UrgehetR6D9SuB6F61HoP1K4HoXrUeg/UrgehetR6D9SuB6F61HoPwAAAAAAAOg/UrgehetR6D8AAAAAAADoP1K4HoXrUeg/UrgehetR6D9SuB6F61HoP1K4HoXrUeg/UrgehetR6D9SuB6F61HoP1K4HoXrUeg/UrgehetR6D9SuB6F61HoP1K4HoXrUeg/UrgehetR6D8AAAAAAADoP1K4HoXrUeg/UrgehetR6D9SuB6F61HoP1K4HoXrUeg/UrgehetR6D9SuB6F61HoP1K4HoXrUeg/AAAAAAAA6D9SuB6F61HoP1K4HoXrUeg/UrgehetR6D9SuB6F61HoP1K4HoXrUeg/UrgehetR6D8AAAAAAADoP1K4HoXrUeg/AAAAAAAA6D9SuB6F61HoPwAAAAAAAOg/UrgehetR6D9SuB6F61HoP1K4HoXrUeg/AAAAAAAA6D9SuB6F61HoP1K4HoXrUeg/UrgehetR6D8AAAAAAADoP1K4HoXrUeg/UrgehetR6D8AAAAAAADoP1K4HoXrUeg/AAAAAAAA6D8AAAAAAADoP1K4HoXrUeg/UrgehetR6D9SuB6F61HoP1K4HoXrUeg/UrgehetR6D8AAAAAAADoP1K4HoXrUeg/UrgehetR6D9SuB6F61HoP1K4HoXrUeg/UrgehetR6D9SuB6F61HoPwAAAAAAAOg/UrgehetR6D8AAAAAAADoPwAAAAAAAOg/UrgehetR6D9SuB6F61HoP1K4HoXrUeg/UrgehetR6D9SuB6F61HoP1K4HoXrUeg/AAAAAAAA6D8AAAAAAADoP1K4HoXrUeg/AAAAAAAA6D9SuB6F61HoP1K4HoXrUeg/AAAAAAAA6D9SuB6F61HoP1K4HoXrUeg/UrgehetR6D8AAAAAAADoPwAAAAAAAOg/UrgehetR6D8AAAAAAADoP1K4HoXrUeg/UrgehetR6D9SuB6F61HoPwAAAAAAAOg/UrgehetR6D9SuB6F61HoPwAAAAAAAOg/UrgehetR6D9SuB6F61HoPwAAAAAAAOg/AAAAAAAA6D9SuB6F61HoPwAAAAAAAOg/UrgehetR6D9SuB6F61HoPwAAAAAAAOg/UrgehetR6D8AAAAAAADoP1K4HoXrUeg/AAAAAAAA6D9SuB6F61HoP1K4HoXrUeg/AAAAAAAA6D9SuB6F61HoP1K4HoXrUeg/UrgehetR6D8AAAAAAADoP1K4HoXrUeg/UrgehetR6D8AAAAAAADoP1K4HoXrUeg/AAAAAAAA6D9SuB6F61HoPwAAAAAAAOg/AAAAAAAA6D9SuB6F61HoP1K4HoXrUeg/AAAAAAAA6D9SuB6F61HoP1K4HoXrUeg/UrgehetR6D9SuB6F61HoP1K4HoXrUeg/AAAAAAAA6D8AAAAAAADoP1K4HoXrUeg/AAAAAAAA6D9SuB6F61HoPwAAAAAAAOg/UrgehetR6D8AAAAAAADoPwAAAAAAAOg/UrgehetR6D9SuB6F61HoPwAAAAAAAOg/UrgehetR6D8AAAAAAADoPwAAAAAAAOg/AAAAAAAA6D8AAAAAAADoPwAAAAAAAOg/AAAAAAAA6D8AAAAAAADoPwAAAAAAAOg/AAAAAAAA6D8AAAAAAADoP1K4HoXrUeg/AAAAAAAA6D8AAAAAAADoPwAAAAAAAOg/AAAAAAAA6D8AAAAAAADoPwAAAAAAAOg/AAAAAAAA6D8AAAAAAADoP1K4HoXrUeg/AAAAAAAA6D9SuB6F61HoPwAAAAAAAOg/UrgehetR6D9SuB6F61HoP1K4HoXrUeg/UrgehetR6D8AAAAAAADoPwAAAAAAAOg/AAAAAAAA6D8AAAAAAADoPwAAAAAAAOg/UrgehetR6D8AAAAAAADoPwAAAAAAAOg/UrgehetR6D9SuB6F61HoP1K4HoXrUeg/UrgehetR6D8AAAAAAADoPwAAAAAAAOg/AAAAAAAA6D9SuB6F61HoP1K4HoXrUeg/UrgehetR6D9SuB6F61HoPwAAAAAAAOg/AAAAAAAA6D9SuB6F61HoP1K4HoXrUeg/AAAAAAAA6D8AAAAAAADoPw==",
          "dtype": "f8"
         },
         "yaxis": "y3"
        },
        {
         "mode": "lines",
         "name": "CLZ5-CLF6",
         "type": "scatter",
         "x": [
          "2025-10-09T13:28:00.092405579-05:00",
          "2025-10-09T13:28:00.137170289-05:00",
          "2025-10-09T13:28:00.382271561-05:00",
          "2025-10-09T13:28:03.456216387-05:00",
          "2025-10-09T13:28:04.802749417-05:00",
          "2025-10-09T13:28:05.409305647-05:00",
          "2025-10-09T13:28:05.455463849-05:00",
          "2025-10-09T13:28:07.409491551-05:00",
          "2025-10-09T13:28:07.456284821-05:00",
          "2025-10-09T13:28:08.803605793-05:00",
          "2025-10-09T13:28:09.409259319-05:00",
          "2025-10-09T13:28:09.455500231-05:00",
          "2025-10-09T13:28:11.313270451-05:00",
          "2025-10-09T13:28:11.409234929-05:00",
          "2025-10-09T13:28:11.455785045-05:00",
          "2025-10-09T13:28:13.408892887-05:00",
          "2025-10-09T13:28:13.456015539-05:00",
          "2025-10-09T13:28:14.803613811-05:00",
          "2025-10-09T13:28:15.408912357-05:00",
          "2025-10-09T13:28:15.456454701-05:00",
          "2025-10-09T13:28:17.455888759-05:00",
          "2025-10-09T13:28:17.482704507-05:00",
          "2025-10-09T13:28:19.456327397-05:00",
          "2025-10-09T13:28:21.408553639-05:00",
          "2025-10-09T13:28:22.804000081-05:00",
          "2025-10-09T13:28:23.456224379-05:00",
          "2025-10-09T13:28:23.851173339-05:00",
          "2025-10-09T13:28:23.851968285-05:00",
          "2025-10-09T13:28:23.851998903-05:00",
          "2025-10-09T13:28:25.455438787-05:00",
          "2025-10-09T13:28:27.408940859-05:00",
          "2025-10-09T13:28:29.409193601-05:00",
          "2025-10-09T13:28:29.455596535-05:00",
          "2025-10-09T13:28:30.095573225-05:00",
          "2025-10-09T13:28:30.502346189-05:00",
          "2025-10-09T13:28:30.804883379-05:00",
          "2025-10-09T13:28:31.455937121-05:00",
          "2025-10-09T13:28:35.408917713-05:00",
          "2025-10-09T13:28:35.455742911-05:00",
          "2025-10-09T13:28:37.409105975-05:00",
          "2025-10-09T13:28:37.456301509-05:00",
          "2025-10-09T13:28:39.803979187-05:00",
          "2025-10-09T13:28:40.226160921-05:00",
          "2025-10-09T13:28:41.408712361-05:00",
          "2025-10-09T13:28:41.456145235-05:00",
          "2025-10-09T13:28:41.482683397-05:00",
          "2025-10-09T13:28:43.408925533-05:00",
          "2025-10-09T13:28:43.455793335-05:00",
          "2025-10-09T13:28:45.455856605-05:00",
          "2025-10-09T13:28:47.408703341-05:00",
          "2025-10-09T13:28:47.802731255-05:00",
          "2025-10-09T13:28:49.456779951-05:00",
          "2025-10-09T13:28:51.456618339-05:00",
          "2025-10-09T13:28:53.408870477-05:00",
          "2025-10-09T13:28:55.408641355-05:00",
          "2025-10-09T13:28:55.456535947-05:00",
          "2025-10-09T13:28:55.803925927-05:00",
          "2025-10-09T13:28:57.455881575-05:00",
          "2025-10-09T13:28:59.408815505-05:00",
          "2025-10-09T13:29:00.111941903-05:00",
          "2025-10-09T13:29:01.408821927-05:00",
          "2025-10-09T13:29:01.455702845-05:00",
          "2025-10-09T13:29:03.456186693-05:00",
          "2025-10-09T13:29:03.804053677-05:00",
          "2025-10-09T13:29:05.409028549-05:00",
          "2025-10-09T13:29:05.455791699-05:00",
          "2025-10-09T13:29:05.482741989-05:00",
          "2025-10-09T13:29:07.409208093-05:00",
          "2025-10-09T13:29:09.456090061-05:00",
          "2025-10-09T13:29:09.803031743-05:00",
          "2025-10-09T13:29:11.408611701-05:00",
          "2025-10-09T13:29:11.455446655-05:00",
          "2025-10-09T13:29:13.408596393-05:00",
          "2025-10-09T13:29:13.455714899-05:00",
          "2025-10-09T13:29:15.408970541-05:00",
          "2025-10-09T13:29:15.456319051-05:00",
          "2025-10-09T13:29:17.408553049-05:00",
          "2025-10-09T13:29:17.455889867-05:00",
          "2025-10-09T13:29:17.804846807-05:00",
          "2025-10-09T13:29:19.408553055-05:00",
          "2025-10-09T13:29:19.456258671-05:00",
          "2025-10-09T13:29:21.456445835-05:00",
          "2025-10-09T13:29:21.642467529-05:00",
          "2025-10-09T13:29:21.645917963-05:00",
          "2025-10-09T13:29:23.455657881-05:00",
          "2025-10-09T13:29:25.409173115-05:00",
          "2025-10-09T13:29:25.482791369-05:00",
          "2025-10-09T13:29:25.803741855-05:00",
          "2025-10-09T13:29:27.455787939-05:00",
          "2025-10-09T13:29:29.456177159-05:00",
          "2025-10-09T13:29:29.568718543-05:00",
          "2025-10-09T13:29:31.409053777-05:00",
          "2025-10-09T13:29:31.455767469-05:00",
          "2025-10-09T13:29:33.456145607-05:00",
          "2025-10-09T13:29:33.804010459-05:00",
          "2025-10-09T13:29:34.750532229-05:00",
          "2025-10-09T13:29:35.408683613-05:00",
          "2025-10-09T13:29:35.455977349-05:00",
          "2025-10-09T13:29:37.456297667-05:00",
          "2025-10-09T13:29:39.408928985-05:00",
          "2025-10-09T13:29:39.455475299-05:00",
          "2025-10-09T13:29:41.456047715-05:00",
          "2025-10-09T13:29:41.804021067-05:00",
          "2025-10-09T13:29:43.408521433-05:00",
          "2025-10-09T13:29:43.455617457-05:00",
          "2025-10-09T13:29:43.483020697-05:00",
          "2025-10-09T13:29:45.409247211-05:00",
          "2025-10-09T13:29:47.455922561-05:00",
          "2025-10-09T13:29:48.348661275-05:00",
          "2025-10-09T13:29:50.803710827-05:00",
          "2025-10-09T13:29:52.402269913-05:00",
          "2025-10-09T13:29:53.409295571-05:00",
          "2025-10-09T13:29:53.456361623-05:00",
          "2025-10-09T13:29:55.029690073-05:00",
          "2025-10-09T13:29:55.409059087-05:00",
          "2025-10-09T13:29:55.455777117-05:00",
          "2025-10-09T13:29:57.815936081-05:00",
          "2025-10-09T13:29:58.303395217-05:00",
          "2025-10-09T13:29:58.855890967-05:00",
          "2025-10-09T13:29:59.405446885-05:00",
          "2025-10-09T13:29:59.409042927-05:00",
          "2025-10-09T13:29:59.409456417-05:00",
          "2025-10-09T13:29:59.479225049-05:00"
         ],
         "xaxis": "x4",
         "y": {
          "bdata": "7FG4HoXr0T/sUbgehevRP+xRuB6F69E/7FG4HoXr0T/sUbgehevRP+xRuB6F69E/7FG4HoXr0T/sUbgehevRP+xRuB6F69E/7FG4HoXr0T/sUbgehevRP+xRuB6F69E/7FG4HoXr0T/sUbgehevRP+xRuB6F69E/7FG4HoXr0T/sUbgehevRP+xRuB6F69E/7FG4HoXr0T/sUbgehevRP+xRuB6F69E/7FG4HoXr0T/sUbgehevRP+xRuB6F69E/7FG4HoXr0T/sUbgehevRP0jhehSuR9E/SOF6FK5H0T9I4XoUrkfRP+xRuB6F69E/7FG4HoXr0T/sUbgehevRP+xRuB6F69E/SOF6FK5H0T9I4XoUrkfRP+xRuB6F69E/7FG4HoXr0T/sUbgehevRP+xRuB6F69E/7FG4HoXr0T/sUbgehevRP+xRuB6F69E/SOF6FK5H0T/sUbgehevRP+xRuB6F69E/7FG4HoXr0T/sUbgehevRP+xRuB6F69E/7FG4HoXr0T/sUbgehevRP+xRuB6F69E/7FG4HoXr0T/sUbgehevRP+xRuB6F69E/7FG4HoXr0T/sUbgehevRP+xRuB6F69E/7FG4HoXr0T/sUbgehevRP+xRuB6F69E/7FG4HoXr0T/sUbgehevRP+xRuB6F69E/7FG4HoXr0T/sUbgehevRP+xRuB6F69E/7FG4HoXr0T/sUbgehevRP+xRuB6F69E/7FG4HoXr0T/sUbgehevRP+xRuB6F69E/7FG4HoXr0T/sUbgehevRP+xRuB6F69E/7FG4HoXr0T/sUbgehevRP+xRuB6F69E/7FG4HoXr0T/sUbgehevRP+xRuB6F69E/7FG4HoXr0T9I4XoUrkfRP0jhehSuR9E/7FG4HoXr0T/sUbgehevRP+xRuB6F69E/7FG4HoXr0T/sUbgehevRP+xRuB6F69E/SOF6FK5H0T/sUbgehevRP+xRuB6F69E/7FG4HoXr0T/sUbgehevRP0jhehSuR9E/7FG4HoXr0T/sUbgehevRP+xRuB6F69E/7FG4HoXr0T/sUbgehevRP+xRuB6F69E/7FG4HoXr0T/sUbgehevRP+xRuB6F69E/7FG4HoXr0T/sUbgehevRP+xRuB6F69E/SOF6FK5H0T/sUbgehevRP+xRuB6F69E/7FG4HoXr0T/sUbgehevRP+xRuB6F69E/7FG4HoXr0T/sUbgehevRP+xRuB6F69E/7FG4HoXr0T/sUbgehevRP+xRuB6F69E/7FG4HoXr0T9I4XoUrkfRP+xRuB6F69E/",
          "dtype": "f8"
         },
         "yaxis": "y4"
        }
       ],
       "layout": {
        "annotations": [
         {
          "font": {
           "size": 16
          },
          "showarrow": false,
          "text": "CLX5",
          "x": 0.10625,
          "xanchor": "center",
          "xref": "paper",
          "y": 1.0,
          "yanchor": "bottom",
          "yref": "paper"
         },
         {
          "font": {
           "size": 16
          },
          "showarrow": false,
          "text": "CLX5-CLZ5",
          "x": 0.36875,
          "xanchor": "center",
          "xref": "paper",
          "y": 1.0,
          "yanchor": "bottom",
          "yref": "paper"
         },
         {
          "font": {
           "size": 16
          },
          "showarrow": false,
          "text": "CLX5-CLF6",
          "x": 0.6312500000000001,
          "xanchor": "center",
          "xref": "paper",
          "y": 1.0,
          "yanchor": "bottom",
          "yref": "paper"
         },
         {
          "font": {
           "size": 16
          },
          "showarrow": false,
          "text": "CLZ5-CLF6",
          "x": 0.89375,
          "xanchor": "center",
          "xref": "paper",
          "y": 1.0,
          "yanchor": "bottom",
          "yref": "paper"
         }
        ],
        "height": 300,
        "showlegend": false,
        "template": {
         "data": {
          "bar": [
           {
            "error_x": {
             "color": "#f2f5fa"
            },
            "error_y": {
             "color": "#f2f5fa"
            },
            "marker": {
             "line": {
              "color": "rgb(17,17,17)",
              "width": 0.5
             },
             "pattern": {
              "fillmode": "overlay",
              "size": 10,
              "solidity": 0.2
             }
            },
            "type": "bar"
           }
          ],
          "barpolar": [
           {
            "marker": {
             "line": {
              "color": "rgb(17,17,17)",
              "width": 0.5
             },
             "pattern": {
              "fillmode": "overlay",
              "size": 10,
              "solidity": 0.2
             }
            },
            "type": "barpolar"
           }
          ],
          "carpet": [
           {
            "aaxis": {
             "endlinecolor": "#A2B1C6",
             "gridcolor": "#506784",
             "linecolor": "#506784",
             "minorgridcolor": "#506784",
             "startlinecolor": "#A2B1C6"
            },
            "baxis": {
             "endlinecolor": "#A2B1C6",
             "gridcolor": "#506784",
             "linecolor": "#506784",
             "minorgridcolor": "#506784",
             "startlinecolor": "#A2B1C6"
            },
            "type": "carpet"
           }
          ],
          "choropleth": [
           {
            "colorbar": {
             "outlinewidth": 0,
             "ticks": ""
            },
            "type": "choropleth"
           }
          ],
          "contour": [
           {
            "colorbar": {
             "outlinewidth": 0,
             "ticks": ""
            },
            "colorscale": [
             [
              0.0,
              "#0d0887"
             ],
             [
              0.1111111111111111,
              "#46039f"
             ],
             [
              0.2222222222222222,
              "#7201a8"
             ],
             [
              0.3333333333333333,
              "#9c179e"
             ],
             [
              0.4444444444444444,
              "#bd3786"
             ],
             [
              0.5555555555555556,
              "#d8576b"
             ],
             [
              0.6666666666666666,
              "#ed7953"
             ],
             [
              0.7777777777777778,
              "#fb9f3a"
             ],
             [
              0.8888888888888888,
              "#fdca26"
             ],
             [
              1.0,
              "#f0f921"
             ]
            ],
            "type": "contour"
           }
          ],
          "contourcarpet": [
           {
            "colorbar": {
             "outlinewidth": 0,
             "ticks": ""
            },
            "type": "contourcarpet"
           }
          ],
          "heatmap": [
           {
            "colorbar": {
             "outlinewidth": 0,
             "ticks": ""
            },
            "colorscale": [
             [
              0.0,
              "#0d0887"
             ],
             [
              0.1111111111111111,
              "#46039f"
             ],
             [
              0.2222222222222222,
              "#7201a8"
             ],
             [
              0.3333333333333333,
              "#9c179e"
             ],
             [
              0.4444444444444444,
              "#bd3786"
             ],
             [
              0.5555555555555556,
              "#d8576b"
             ],
             [
              0.6666666666666666,
              "#ed7953"
             ],
             [
              0.7777777777777778,
              "#fb9f3a"
             ],
             [
              0.8888888888888888,
              "#fdca26"
             ],
             [
              1.0,
              "#f0f921"
             ]
            ],
            "type": "heatmap"
           }
          ],
          "histogram": [
           {
            "marker": {
             "pattern": {
              "fillmode": "overlay",
              "size": 10,
              "solidity": 0.2
             }
            },
            "type": "histogram"
           }
          ],
          "histogram2d": [
           {
            "colorbar": {
             "outlinewidth": 0,
             "ticks": ""
            },
            "colorscale": [
             [
              0.0,
              "#0d0887"
             ],
             [
              0.1111111111111111,
              "#46039f"
             ],
             [
              0.2222222222222222,
              "#7201a8"
             ],
             [
              0.3333333333333333,
              "#9c179e"
             ],
             [
              0.4444444444444444,
              "#bd3786"
             ],
             [
              0.5555555555555556,
              "#d8576b"
             ],
             [
              0.6666666666666666,
              "#ed7953"
             ],
             [
              0.7777777777777778,
              "#fb9f3a"
             ],
             [
              0.8888888888888888,
              "#fdca26"
             ],
             [
              1.0,
              "#f0f921"
             ]
            ],
            "type": "histogram2d"
           }
          ],
          "histogram2dcontour": [
           {
            "colorbar": {
             "outlinewidth": 0,
             "ticks": ""
            },
            "colorscale": [
             [
              0.0,
              "#0d0887"
             ],
             [
              0.1111111111111111,
              "#46039f"
             ],
             [
              0.2222222222222222,
              "#7201a8"
             ],
             [
              0.3333333333333333,
              "#9c179e"
             ],
             [
              0.4444444444444444,
              "#bd3786"
             ],
             [
              0.5555555555555556,
              "#d8576b"
             ],
             [
              0.6666666666666666,
              "#ed7953"
             ],
             [
              0.7777777777777778,
              "#fb9f3a"
             ],
             [
              0.8888888888888888,
              "#fdca26"
             ],
             [
              1.0,
              "#f0f921"
             ]
            ],
            "type": "histogram2dcontour"
           }
          ],
          "mesh3d": [
           {
            "colorbar": {
             "outlinewidth": 0,
             "ticks": ""
            },
            "type": "mesh3d"
           }
          ],
          "parcoords": [
           {
            "line": {
             "colorbar": {
              "outlinewidth": 0,
              "ticks": ""
             }
            },
            "type": "parcoords"
           }
          ],
          "pie": [
           {
            "automargin": true,
            "type": "pie"
           }
          ],
          "scatter": [
           {
            "marker": {
             "line": {
              "color": "#283442"
             }
            },
            "type": "scatter"
           }
          ],
          "scatter3d": [
           {
            "line": {
             "colorbar": {
              "outlinewidth": 0,
              "ticks": ""
             }
            },
            "marker": {
             "colorbar": {
              "outlinewidth": 0,
              "ticks": ""
             }
            },
            "type": "scatter3d"
           }
          ],
          "scattercarpet": [
           {
            "marker": {
             "colorbar": {
              "outlinewidth": 0,
              "ticks": ""
             }
            },
            "type": "scattercarpet"
           }
          ],
          "scattergeo": [
           {
            "marker": {
             "colorbar": {
              "outlinewidth": 0,
              "ticks": ""
             }
            },
            "type": "scattergeo"
           }
          ],
          "scattergl": [
           {
            "marker": {
             "line": {
              "color": "#283442"
             }
            },
            "type": "scattergl"
           }
          ],
          "scattermap": [
           {
            "marker": {
             "colorbar": {
              "outlinewidth": 0,
              "ticks": ""
             }
            },
            "type": "scattermap"
           }
          ],
          "scattermapbox": [
           {
            "marker": {
             "colorbar": {
              "outlinewidth": 0,
              "ticks": ""
             }
            },
            "type": "scattermapbox"
           }
          ],
          "scatterpolar": [
           {
            "marker": {
             "colorbar": {
              "outlinewidth": 0,
              "ticks": ""
             }
            },
            "type": "scatterpolar"
           }
          ],
          "scatterpolargl": [
           {
            "marker": {
             "colorbar": {
              "outlinewidth": 0,
              "ticks": ""
             }
            },
            "type": "scatterpolargl"
           }
          ],
          "scatterternary": [
           {
            "marker": {
             "colorbar": {
              "outlinewidth": 0,
              "ticks": ""
             }
            },
            "type": "scatterternary"
           }
          ],
          "surface": [
           {
            "colorbar": {
             "outlinewidth": 0,
             "ticks": ""
            },
            "colorscale": [
             [
              0.0,
              "#0d0887"
             ],
             [
              0.1111111111111111,
              "#46039f"
             ],
             [
              0.2222222222222222,
              "#7201a8"
             ],
             [
              0.3333333333333333,
              "#9c179e"
             ],
             [
              0.4444444444444444,
              "#bd3786"
             ],
             [
              0.5555555555555556,
              "#d8576b"
             ],
             [
              0.6666666666666666,
              "#ed7953"
             ],
             [
              0.7777777777777778,
              "#fb9f3a"
             ],
             [
              0.8888888888888888,
              "#fdca26"
             ],
             [
              1.0,
              "#f0f921"
             ]
            ],
            "type": "surface"
           }
          ],
          "table": [
           {
            "cells": {
             "fill": {
              "color": "#506784"
             },
             "line": {
              "color": "rgb(17,17,17)"
             }
            },
            "header": {
             "fill": {
              "color": "#2a3f5f"
             },
             "line": {
              "color": "rgb(17,17,17)"
             }
            },
            "type": "table"
           }
          ]
         },
         "layout": {
          "annotationdefaults": {
           "arrowcolor": "#f2f5fa",
           "arrowhead": 0,
           "arrowwidth": 1
          },
          "autotypenumbers": "strict",
          "coloraxis": {
           "colorbar": {
            "outlinewidth": 0,
            "ticks": ""
           }
          },
          "colorscale": {
           "diverging": [
            [
             0,
             "#8e0152"
            ],
            [
             0.1,
             "#c51b7d"
            ],
            [
             0.2,
             "#de77ae"
            ],
            [
             0.3,
             "#f1b6da"
            ],
            [
             0.4,
             "#fde0ef"
            ],
            [
             0.5,
             "#f7f7f7"
            ],
            [
             0.6,
             "#e6f5d0"
            ],
            [
             0.7,
             "#b8e186"
            ],
            [
             0.8,
             "#7fbc41"
            ],
            [
             0.9,
             "#4d9221"
            ],
            [
             1,
             "#276419"
            ]
           ],
           "sequential": [
            [
             0.0,
             "#0d0887"
            ],
            [
             0.1111111111111111,
             "#46039f"
            ],
            [
             0.2222222222222222,
             "#7201a8"
            ],
            [
             0.3333333333333333,
             "#9c179e"
            ],
            [
             0.4444444444444444,
             "#bd3786"
            ],
            [
             0.5555555555555556,
             "#d8576b"
            ],
            [
             0.6666666666666666,
             "#ed7953"
            ],
            [
             0.7777777777777778,
             "#fb9f3a"
            ],
            [
             0.8888888888888888,
             "#fdca26"
            ],
            [
             1.0,
             "#f0f921"
            ]
           ],
           "sequentialminus": [
            [
             0.0,
             "#0d0887"
            ],
            [
             0.1111111111111111,
             "#46039f"
            ],
            [
             0.2222222222222222,
             "#7201a8"
            ],
            [
             0.3333333333333333,
             "#9c179e"
            ],
            [
             0.4444444444444444,
             "#bd3786"
            ],
            [
             0.5555555555555556,
             "#d8576b"
            ],
            [
             0.6666666666666666,
             "#ed7953"
            ],
            [
             0.7777777777777778,
             "#fb9f3a"
            ],
            [
             0.8888888888888888,
             "#fdca26"
            ],
            [
             1.0,
             "#f0f921"
            ]
           ]
          },
          "colorway": [
           "#636efa",
           "#EF553B",
           "#00cc96",
           "#ab63fa",
           "#FFA15A",
           "#19d3f3",
           "#FF6692",
           "#B6E880",
           "#FF97FF",
           "#FECB52"
          ],
          "font": {
           "color": "#f2f5fa"
          },
          "geo": {
           "bgcolor": "rgb(17,17,17)",
           "lakecolor": "rgb(17,17,17)",
           "landcolor": "rgb(17,17,17)",
           "showlakes": true,
           "showland": true,
           "subunitcolor": "#506784"
          },
          "hoverlabel": {
           "align": "left"
          },
          "hovermode": "closest",
          "mapbox": {
           "style": "dark"
          },
          "paper_bgcolor": "rgb(17,17,17)",
          "plot_bgcolor": "rgb(17,17,17)",
          "polar": {
           "angularaxis": {
            "gridcolor": "#506784",
            "linecolor": "#506784",
            "ticks": ""
           },
           "bgcolor": "rgb(17,17,17)",
           "radialaxis": {
            "gridcolor": "#506784",
            "linecolor": "#506784",
            "ticks": ""
           }
          },
          "scene": {
           "xaxis": {
            "backgroundcolor": "rgb(17,17,17)",
            "gridcolor": "#506784",
            "gridwidth": 2,
            "linecolor": "#506784",
            "showbackground": true,
            "ticks": "",
            "zerolinecolor": "#C8D4E3"
           },
           "yaxis": {
            "backgroundcolor": "rgb(17,17,17)",
            "gridcolor": "#506784",
            "gridwidth": 2,
            "linecolor": "#506784",
            "showbackground": true,
            "ticks": "",
            "zerolinecolor": "#C8D4E3"
           },
           "zaxis": {
            "backgroundcolor": "rgb(17,17,17)",
            "gridcolor": "#506784",
            "gridwidth": 2,
            "linecolor": "#506784",
            "showbackground": true,
            "ticks": "",
            "zerolinecolor": "#C8D4E3"
           }
          },
          "shapedefaults": {
           "line": {
            "color": "#f2f5fa"
           }
          },
          "sliderdefaults": {
           "bgcolor": "#C8D4E3",
           "bordercolor": "rgb(17,17,17)",
           "borderwidth": 1,
           "tickwidth": 0
          },
          "ternary": {
           "aaxis": {
            "gridcolor": "#506784",
            "linecolor": "#506784",
            "ticks": ""
           },
           "baxis": {
            "gridcolor": "#506784",
            "linecolor": "#506784",
            "ticks": ""
           },
           "bgcolor": "rgb(17,17,17)",
           "caxis": {
            "gridcolor": "#506784",
            "linecolor": "#506784",
            "ticks": ""
           }
          },
          "title": {
           "x": 0.05
          },
          "updatemenudefaults": {
           "bgcolor": "#506784",
           "borderwidth": 0
          },
          "xaxis": {
           "automargin": true,
           "gridcolor": "#283442",
           "linecolor": "#506784",
           "ticks": "",
           "title": {
            "standoff": 15
           },
           "zerolinecolor": "#283442",
           "zerolinewidth": 2
          },
          "yaxis": {
           "automargin": true,
           "gridcolor": "#283442",
           "linecolor": "#506784",
           "ticks": "",
           "title": {
            "standoff": 15
           },
           "zerolinecolor": "#283442",
           "zerolinewidth": 2
          }
         }
        },
        "title": {
         "text": "Crude price activity during settlement window"
        },
        "width": 900,
        "xaxis": {
         "anchor": "y",
         "domain": [
          0.0,
          0.2125
         ]
        },
        "xaxis2": {
         "anchor": "y2",
         "domain": [
          0.2625,
          0.475
         ],
         "matches": "x"
        },
        "xaxis3": {
         "anchor": "y3",
         "domain": [
          0.525,
          0.7375
         ],
         "matches": "x"
        },
        "xaxis4": {
         "anchor": "y4",
         "domain": [
          0.7875,
          1.0
         ],
         "matches": "x"
        },
        "yaxis": {
         "anchor": "x",
         "domain": [
          0.0,
          1.0
         ],
         "title": {
          "text": "Trade price"
         }
        },
        "yaxis2": {
         "anchor": "x2",
         "domain": [
          0.0,
          1.0
         ]
        },
        "yaxis3": {
         "anchor": "x3",
         "domain": [
          0.0,
          1.0
         ]
        },
        "yaxis4": {
         "anchor": "x4",
         "domain": [
          0.0,
          1.0
         ]
        }
       }
      }
     },
     "jetTransient": {
      "display_id": null
     },
     "metadata": {},
     "output_type": "display_data"
    },
    {
     "data": {
      "application/vnd.plotly.v1+json": {
       "config": {
        "plotlyServerURL": "https://plot.ly"
       },
       "data": [
        {
         "type": "bar",
         "x": [
          "2025-10-09T13:28:00-05:00",
          "2025-10-09T13:28:05-05:00",
          "2025-10-09T13:28:10-05:00",
          "2025-10-09T13:28:15-05:00",
          "2025-10-09T13:28:20-05:00",
          "2025-10-09T13:28:25-05:00",
          "2025-10-09T13:28:30-05:00",
          "2025-10-09T13:28:35-05:00",
          "2025-10-09T13:28:40-05:00",
          "2025-10-09T13:28:45-05:00",
          "2025-10-09T13:28:50-05:00",
          "2025-10-09T13:28:55-05:00",
          "2025-10-09T13:29:00-05:00",
          "2025-10-09T13:29:05-05:00",
          "2025-10-09T13:29:10-05:00",
          "2025-10-09T13:29:15-05:00",
          "2025-10-09T13:29:20-05:00",
          "2025-10-09T13:29:25-05:00",
          "2025-10-09T13:29:30-05:00",
          "2025-10-09T13:29:35-05:00",
          "2025-10-09T13:29:40-05:00",
          "2025-10-09T13:29:45-05:00",
          "2025-10-09T13:29:50-05:00",
          "2025-10-09T13:29:55-05:00"
         ],
         "xaxis": "x",
         "y": {
          "bdata": "FQEAAMQAAABFAQAAoAAAAJUAAACGAAAAGAAAAKYAAAD0AAAADwAAAB0AAAAcAAAAjgAAAEgBAABvAAAAEgAAAIEBAACuAQAAmgAAAMcAAAAhAAAAKAAAAC8BAAAwBAAA",
          "dtype": "u4"
         },
         "yaxis": "y"
        },
        {
         "type": "bar",
         "x": [
          "2025-10-09T13:28:00-05:00",
          "2025-10-09T13:28:05-05:00",
          "2025-10-09T13:28:10-05:00",
          "2025-10-09T13:28:15-05:00",
          "2025-10-09T13:28:20-05:00",
          "2025-10-09T13:28:25-05:00",
          "2025-10-09T13:28:30-05:00",
          "2025-10-09T13:28:35-05:00",
          "2025-10-09T13:28:40-05:00",
          "2025-10-09T13:28:45-05:00",
          "2025-10-09T13:28:50-05:00",
          "2025-10-09T13:28:55-05:00",
          "2025-10-09T13:29:00-05:00",
          "2025-10-09T13:29:05-05:00",
          "2025-10-09T13:29:10-05:00",
          "2025-10-09T13:29:15-05:00",
          "2025-10-09T13:29:20-05:00",
          "2025-10-09T13:29:25-05:00",
          "2025-10-09T13:29:30-05:00",
          "2025-10-09T13:29:35-05:00",
          "2025-10-09T13:29:40-05:00",
          "2025-10-09T13:29:45-05:00",
          "2025-10-09T13:29:50-05:00",
          "2025-10-09T13:29:55-05:00"
         ],
         "xaxis": "x2",
         "y": {
          "bdata": "IQAAAEMAAAAmAAAAOAEAAD0AAAA1AAAAHAAAAKAAAAA2AAAAIwAAAC8AAAAlAAAAXwAAADoAAAAxAAAALQAAADIAAAC+AAAAVAAAADkAAABCAAAANQEAAFIDAABSAwAA",
          "dtype": "u4"
         },
         "yaxis": "y2"
        },
        {
         "type": "bar",
         "x": [
          "2025-10-09T13:28:00-05:00",
          "2025-10-09T13:28:05-05:00",
          "2025-10-09T13:28:10-05:00",
          "2025-10-09T13:28:15-05:00",
          "2025-10-09T13:28:20-05:00",
          "2025-10-09T13:28:25-05:00",
          "2025-10-09T13:28:30-05:00",
          "2025-10-09T13:28:35-05:00",
          "2025-10-09T13:28:40-05:00",
          "2025-10-09T13:28:45-05:00",
          "2025-10-09T13:28:50-05:00",
          "2025-10-09T13:28:55-05:00",
          "2025-10-09T13:29:00-05:00",
          "2025-10-09T13:29:05-05:00",
          "2025-10-09T13:29:10-05:00",
          "2025-10-09T13:29:15-05:00",
          "2025-10-09T13:29:20-05:00",
          "2025-10-09T13:29:25-05:00",
          "2025-10-09T13:29:30-05:00",
          "2025-10-09T13:29:35-05:00",
          "2025-10-09T13:29:40-05:00",
          "2025-10-09T13:29:45-05:00",
          "2025-10-09T13:29:50-05:00",
          "2025-10-09T13:29:55-05:00"
         ],
         "xaxis": "x3",
         "y": {
          "bdata": "LAAAAHEAAABKAAAATgAAACoAAAA3AAAAEQAAACAAAAAcAAAAPgAAACkAAAAeAAAAPgAAADAAAAA5AAAAKwAAACUAAABbAAAAKAAAADsAAAA0AAAAQAAAAHcAAABLAAAA",
          "dtype": "u4"
         },
         "yaxis": "y3"
        },
        {
         "type": "bar",
         "x": [
          "2025-10-09T13:28:00-05:00",
          "2025-10-09T13:28:05-05:00",
          "2025-10-09T13:28:10-05:00",
          "2025-10-09T13:28:15-05:00",
          "2025-10-09T13:28:20-05:00",
          "2025-10-09T13:28:25-05:00",
          "2025-10-09T13:28:30-05:00",
          "2025-10-09T13:28:35-05:00",
          "2025-10-09T13:28:40-05:00",
          "2025-10-09T13:28:45-05:00",
          "2025-10-09T13:28:50-05:00",
          "2025-10-09T13:28:55-05:00",
          "2025-10-09T13:29:00-05:00",
          "2025-10-09T13:29:05-05:00",
          "2025-10-09T13:29:10-05:00",
          "2025-10-09T13:29:15-05:00",
          "2025-10-09T13:29:20-05:00",
          "2025-10-09T13:29:25-05:00",
          "2025-10-09T13:29:30-05:00",
          "2025-10-09T13:29:35-05:00",
          "2025-10-09T13:29:40-05:00",
          "2025-10-09T13:29:45-05:00",
          "2025-10-09T13:29:50-05:00",
          "2025-10-09T13:29:55-05:00"
         ],
         "xaxis": "x4",
         "y": {
          "bdata": "CgAAAAsAAAAJAAAABgAAANABAAAFAAAACgAAAAkAAAAGAAAACAAAAAIAAAAIAAAACAAAAAkAAAAEAAAACgAAAAUAAAAJAAAACwAAAAUAAAAIAAAA/QAAAAcAAAB2AAAA",
          "dtype": "u4"
         },
         "yaxis": "y4"
        }
       ],
       "layout": {
        "annotations": [
         {
          "font": {
           "size": 16
          },
          "showarrow": false,
          "text": "CLX5",
          "x": 0.10625,
          "xanchor": "center",
          "xref": "paper",
          "y": 1.0,
          "yanchor": "bottom",
          "yref": "paper"
         },
         {
          "font": {
           "size": 16
          },
          "showarrow": false,
          "text": "CLX5-CLZ5",
          "x": 0.36875,
          "xanchor": "center",
          "xref": "paper",
          "y": 1.0,
          "yanchor": "bottom",
          "yref": "paper"
         },
         {
          "font": {
           "size": 16
          },
          "showarrow": false,
          "text": "CLX5-CLF6",
          "x": 0.6312500000000001,
          "xanchor": "center",
          "xref": "paper",
          "y": 1.0,
          "yanchor": "bottom",
          "yref": "paper"
         },
         {
          "font": {
           "size": 16
          },
          "showarrow": false,
          "text": "CLZ5-CLF6",
          "x": 0.89375,
          "xanchor": "center",
          "xref": "paper",
          "y": 1.0,
          "yanchor": "bottom",
          "yref": "paper"
         }
        ],
        "height": 300,
        "showlegend": false,
        "template": {
         "data": {
          "bar": [
           {
            "error_x": {
             "color": "#f2f5fa"
            },
            "error_y": {
             "color": "#f2f5fa"
            },
            "marker": {
             "line": {
              "color": "rgb(17,17,17)",
              "width": 0.5
             },
             "pattern": {
              "fillmode": "overlay",
              "size": 10,
              "solidity": 0.2
             }
            },
            "type": "bar"
           }
          ],
          "barpolar": [
           {
            "marker": {
             "line": {
              "color": "rgb(17,17,17)",
              "width": 0.5
             },
             "pattern": {
              "fillmode": "overlay",
              "size": 10,
              "solidity": 0.2
             }
            },
            "type": "barpolar"
           }
          ],
          "carpet": [
           {
            "aaxis": {
             "endlinecolor": "#A2B1C6",
             "gridcolor": "#506784",
             "linecolor": "#506784",
             "minorgridcolor": "#506784",
             "startlinecolor": "#A2B1C6"
            },
            "baxis": {
             "endlinecolor": "#A2B1C6",
             "gridcolor": "#506784",
             "linecolor": "#506784",
             "minorgridcolor": "#506784",
             "startlinecolor": "#A2B1C6"
            },
            "type": "carpet"
           }
          ],
          "choropleth": [
           {
            "colorbar": {
             "outlinewidth": 0,
             "ticks": ""
            },
            "type": "choropleth"
           }
          ],
          "contour": [
           {
            "colorbar": {
             "outlinewidth": 0,
             "ticks": ""
            },
            "colorscale": [
             [
              0.0,
              "#0d0887"
             ],
             [
              0.1111111111111111,
              "#46039f"
             ],
             [
              0.2222222222222222,
              "#7201a8"
             ],
             [
              0.3333333333333333,
              "#9c179e"
             ],
             [
              0.4444444444444444,
              "#bd3786"
             ],
             [
              0.5555555555555556,
              "#d8576b"
             ],
             [
              0.6666666666666666,
              "#ed7953"
             ],
             [
              0.7777777777777778,
              "#fb9f3a"
             ],
             [
              0.8888888888888888,
              "#fdca26"
             ],
             [
              1.0,
              "#f0f921"
             ]
            ],
            "type": "contour"
           }
          ],
          "contourcarpet": [
           {
            "colorbar": {
             "outlinewidth": 0,
             "ticks": ""
            },
            "type": "contourcarpet"
           }
          ],
          "heatmap": [
           {
            "colorbar": {
             "outlinewidth": 0,
             "ticks": ""
            },
            "colorscale": [
             [
              0.0,
              "#0d0887"
             ],
             [
              0.1111111111111111,
              "#46039f"
             ],
             [
              0.2222222222222222,
              "#7201a8"
             ],
             [
              0.3333333333333333,
              "#9c179e"
             ],
             [
              0.4444444444444444,
              "#bd3786"
             ],
             [
              0.5555555555555556,
              "#d8576b"
             ],
             [
              0.6666666666666666,
              "#ed7953"
             ],
             [
              0.7777777777777778,
              "#fb9f3a"
             ],
             [
              0.8888888888888888,
              "#fdca26"
             ],
             [
              1.0,
              "#f0f921"
             ]
            ],
            "type": "heatmap"
           }
          ],
          "histogram": [
           {
            "marker": {
             "pattern": {
              "fillmode": "overlay",
              "size": 10,
              "solidity": 0.2
             }
            },
            "type": "histogram"
           }
          ],
          "histogram2d": [
           {
            "colorbar": {
             "outlinewidth": 0,
             "ticks": ""
            },
            "colorscale": [
             [
              0.0,
              "#0d0887"
             ],
             [
              0.1111111111111111,
              "#46039f"
             ],
             [
              0.2222222222222222,
              "#7201a8"
             ],
             [
              0.3333333333333333,
              "#9c179e"
             ],
             [
              0.4444444444444444,
              "#bd3786"
             ],
             [
              0.5555555555555556,
              "#d8576b"
             ],
             [
              0.6666666666666666,
              "#ed7953"
             ],
             [
              0.7777777777777778,
              "#fb9f3a"
             ],
             [
              0.8888888888888888,
              "#fdca26"
             ],
             [
              1.0,
              "#f0f921"
             ]
            ],
            "type": "histogram2d"
           }
          ],
          "histogram2dcontour": [
           {
            "colorbar": {
             "outlinewidth": 0,
             "ticks": ""
            },
            "colorscale": [
             [
              0.0,
              "#0d0887"
             ],
             [
              0.1111111111111111,
              "#46039f"
             ],
             [
              0.2222222222222222,
              "#7201a8"
             ],
             [
              0.3333333333333333,
              "#9c179e"
             ],
             [
              0.4444444444444444,
              "#bd3786"
             ],
             [
              0.5555555555555556,
              "#d8576b"
             ],
             [
              0.6666666666666666,
              "#ed7953"
             ],
             [
              0.7777777777777778,
              "#fb9f3a"
             ],
             [
              0.8888888888888888,
              "#fdca26"
             ],
             [
              1.0,
              "#f0f921"
             ]
            ],
            "type": "histogram2dcontour"
           }
          ],
          "mesh3d": [
           {
            "colorbar": {
             "outlinewidth": 0,
             "ticks": ""
            },
            "type": "mesh3d"
           }
          ],
          "parcoords": [
           {
            "line": {
             "colorbar": {
              "outlinewidth": 0,
              "ticks": ""
             }
            },
            "type": "parcoords"
           }
          ],
          "pie": [
           {
            "automargin": true,
            "type": "pie"
           }
          ],
          "scatter": [
           {
            "marker": {
             "line": {
              "color": "#283442"
             }
            },
            "type": "scatter"
           }
          ],
          "scatter3d": [
           {
            "line": {
             "colorbar": {
              "outlinewidth": 0,
              "ticks": ""
             }
            },
            "marker": {
             "colorbar": {
              "outlinewidth": 0,
              "ticks": ""
             }
            },
            "type": "scatter3d"
           }
          ],
          "scattercarpet": [
           {
            "marker": {
             "colorbar": {
              "outlinewidth": 0,
              "ticks": ""
             }
            },
            "type": "scattercarpet"
           }
          ],
          "scattergeo": [
           {
            "marker": {
             "colorbar": {
              "outlinewidth": 0,
              "ticks": ""
             }
            },
            "type": "scattergeo"
           }
          ],
          "scattergl": [
           {
            "marker": {
             "line": {
              "color": "#283442"
             }
            },
            "type": "scattergl"
           }
          ],
          "scattermap": [
           {
            "marker": {
             "colorbar": {
              "outlinewidth": 0,
              "ticks": ""
             }
            },
            "type": "scattermap"
           }
          ],
          "scattermapbox": [
           {
            "marker": {
             "colorbar": {
              "outlinewidth": 0,
              "ticks": ""
             }
            },
            "type": "scattermapbox"
           }
          ],
          "scatterpolar": [
           {
            "marker": {
             "colorbar": {
              "outlinewidth": 0,
              "ticks": ""
             }
            },
            "type": "scatterpolar"
           }
          ],
          "scatterpolargl": [
           {
            "marker": {
             "colorbar": {
              "outlinewidth": 0,
              "ticks": ""
             }
            },
            "type": "scatterpolargl"
           }
          ],
          "scatterternary": [
           {
            "marker": {
             "colorbar": {
              "outlinewidth": 0,
              "ticks": ""
             }
            },
            "type": "scatterternary"
           }
          ],
          "surface": [
           {
            "colorbar": {
             "outlinewidth": 0,
             "ticks": ""
            },
            "colorscale": [
             [
              0.0,
              "#0d0887"
             ],
             [
              0.1111111111111111,
              "#46039f"
             ],
             [
              0.2222222222222222,
              "#7201a8"
             ],
             [
              0.3333333333333333,
              "#9c179e"
             ],
             [
              0.4444444444444444,
              "#bd3786"
             ],
             [
              0.5555555555555556,
              "#d8576b"
             ],
             [
              0.6666666666666666,
              "#ed7953"
             ],
             [
              0.7777777777777778,
              "#fb9f3a"
             ],
             [
              0.8888888888888888,
              "#fdca26"
             ],
             [
              1.0,
              "#f0f921"
             ]
            ],
            "type": "surface"
           }
          ],
          "table": [
           {
            "cells": {
             "fill": {
              "color": "#506784"
             },
             "line": {
              "color": "rgb(17,17,17)"
             }
            },
            "header": {
             "fill": {
              "color": "#2a3f5f"
             },
             "line": {
              "color": "rgb(17,17,17)"
             }
            },
            "type": "table"
           }
          ]
         },
         "layout": {
          "annotationdefaults": {
           "arrowcolor": "#f2f5fa",
           "arrowhead": 0,
           "arrowwidth": 1
          },
          "autotypenumbers": "strict",
          "coloraxis": {
           "colorbar": {
            "outlinewidth": 0,
            "ticks": ""
           }
          },
          "colorscale": {
           "diverging": [
            [
             0,
             "#8e0152"
            ],
            [
             0.1,
             "#c51b7d"
            ],
            [
             0.2,
             "#de77ae"
            ],
            [
             0.3,
             "#f1b6da"
            ],
            [
             0.4,
             "#fde0ef"
            ],
            [
             0.5,
             "#f7f7f7"
            ],
            [
             0.6,
             "#e6f5d0"
            ],
            [
             0.7,
             "#b8e186"
            ],
            [
             0.8,
             "#7fbc41"
            ],
            [
             0.9,
             "#4d9221"
            ],
            [
             1,
             "#276419"
            ]
           ],
           "sequential": [
            [
             0.0,
             "#0d0887"
            ],
            [
             0.1111111111111111,
             "#46039f"
            ],
            [
             0.2222222222222222,
             "#7201a8"
            ],
            [
             0.3333333333333333,
             "#9c179e"
            ],
            [
             0.4444444444444444,
             "#bd3786"
            ],
            [
             0.5555555555555556,
             "#d8576b"
            ],
            [
             0.6666666666666666,
             "#ed7953"
            ],
            [
             0.7777777777777778,
             "#fb9f3a"
            ],
            [
             0.8888888888888888,
             "#fdca26"
            ],
            [
             1.0,
             "#f0f921"
            ]
           ],
           "sequentialminus": [
            [
             0.0,
             "#0d0887"
            ],
            [
             0.1111111111111111,
             "#46039f"
            ],
            [
             0.2222222222222222,
             "#7201a8"
            ],
            [
             0.3333333333333333,
             "#9c179e"
            ],
            [
             0.4444444444444444,
             "#bd3786"
            ],
            [
             0.5555555555555556,
             "#d8576b"
            ],
            [
             0.6666666666666666,
             "#ed7953"
            ],
            [
             0.7777777777777778,
             "#fb9f3a"
            ],
            [
             0.8888888888888888,
             "#fdca26"
            ],
            [
             1.0,
             "#f0f921"
            ]
           ]
          },
          "colorway": [
           "#636efa",
           "#EF553B",
           "#00cc96",
           "#ab63fa",
           "#FFA15A",
           "#19d3f3",
           "#FF6692",
           "#B6E880",
           "#FF97FF",
           "#FECB52"
          ],
          "font": {
           "color": "#f2f5fa"
          },
          "geo": {
           "bgcolor": "rgb(17,17,17)",
           "lakecolor": "rgb(17,17,17)",
           "landcolor": "rgb(17,17,17)",
           "showlakes": true,
           "showland": true,
           "subunitcolor": "#506784"
          },
          "hoverlabel": {
           "align": "left"
          },
          "hovermode": "closest",
          "mapbox": {
           "style": "dark"
          },
          "paper_bgcolor": "rgb(17,17,17)",
          "plot_bgcolor": "rgb(17,17,17)",
          "polar": {
           "angularaxis": {
            "gridcolor": "#506784",
            "linecolor": "#506784",
            "ticks": ""
           },
           "bgcolor": "rgb(17,17,17)",
           "radialaxis": {
            "gridcolor": "#506784",
            "linecolor": "#506784",
            "ticks": ""
           }
          },
          "scene": {
           "xaxis": {
            "backgroundcolor": "rgb(17,17,17)",
            "gridcolor": "#506784",
            "gridwidth": 2,
            "linecolor": "#506784",
            "showbackground": true,
            "ticks": "",
            "zerolinecolor": "#C8D4E3"
           },
           "yaxis": {
            "backgroundcolor": "rgb(17,17,17)",
            "gridcolor": "#506784",
            "gridwidth": 2,
            "linecolor": "#506784",
            "showbackground": true,
            "ticks": "",
            "zerolinecolor": "#C8D4E3"
           },
           "zaxis": {
            "backgroundcolor": "rgb(17,17,17)",
            "gridcolor": "#506784",
            "gridwidth": 2,
            "linecolor": "#506784",
            "showbackground": true,
            "ticks": "",
            "zerolinecolor": "#C8D4E3"
           }
          },
          "shapedefaults": {
           "line": {
            "color": "#f2f5fa"
           }
          },
          "sliderdefaults": {
           "bgcolor": "#C8D4E3",
           "bordercolor": "rgb(17,17,17)",
           "borderwidth": 1,
           "tickwidth": 0
          },
          "ternary": {
           "aaxis": {
            "gridcolor": "#506784",
            "linecolor": "#506784",
            "ticks": ""
           },
           "baxis": {
            "gridcolor": "#506784",
            "linecolor": "#506784",
            "ticks": ""
           },
           "bgcolor": "rgb(17,17,17)",
           "caxis": {
            "gridcolor": "#506784",
            "linecolor": "#506784",
            "ticks": ""
           }
          },
          "title": {
           "x": 0.05
          },
          "updatemenudefaults": {
           "bgcolor": "#506784",
           "borderwidth": 0
          },
          "xaxis": {
           "automargin": true,
           "gridcolor": "#283442",
           "linecolor": "#506784",
           "ticks": "",
           "title": {
            "standoff": 15
           },
           "zerolinecolor": "#283442",
           "zerolinewidth": 2
          },
          "yaxis": {
           "automargin": true,
           "gridcolor": "#283442",
           "linecolor": "#506784",
           "ticks": "",
           "title": {
            "standoff": 15
           },
           "zerolinecolor": "#283442",
           "zerolinewidth": 2
          }
         }
        },
        "width": 900,
        "xaxis": {
         "anchor": "y",
         "domain": [
          0.0,
          0.2125
         ]
        },
        "xaxis2": {
         "anchor": "y2",
         "domain": [
          0.2625,
          0.475
         ],
         "matches": "x"
        },
        "xaxis3": {
         "anchor": "y3",
         "domain": [
          0.525,
          0.7375
         ],
         "matches": "x"
        },
        "xaxis4": {
         "anchor": "y4",
         "domain": [
          0.7875,
          1.0
         ],
         "matches": "x"
        },
        "yaxis": {
         "anchor": "x",
         "domain": [
          0.0,
          1.0
         ],
         "title": {
          "text": "Volume/5Second"
         }
        },
        "yaxis2": {
         "anchor": "x2",
         "domain": [
          0.0,
          1.0
         ],
         "matches": "y",
         "showticklabels": false
        },
        "yaxis3": {
         "anchor": "x3",
         "domain": [
          0.0,
          1.0
         ],
         "matches": "y",
         "showticklabels": false
        },
        "yaxis4": {
         "anchor": "x4",
         "domain": [
          0.0,
          1.0
         ],
         "matches": "y",
         "showticklabels": false
        }
       }
      }
     },
     "jetTransient": {
      "display_id": null
     },
     "metadata": {},
     "output_type": "display_data"
    }
   ],
   "source": [
    "vwap_contracts = (\"CLX5\", \"CLX5-CLZ5\", \"CLX5-CLF6\", \"CLZ5-CLF6\")\n",
    "\n",
    "price_fig = make_subplots(\n",
    "    rows=1,\n",
    "    cols=len(vwap_contracts),\n",
    "    shared_xaxes=\"all\",\n",
    "    subplot_titles=vwap_contracts,\n",
    ")\n",
    "vol_fig = make_subplots(\n",
    "    rows=1,\n",
    "    cols=len(vwap_contracts),\n",
    "    shared_xaxes=\"all\",\n",
    "    shared_yaxes=True,\n",
    "    subplot_titles=vwap_contracts,\n",
    ")\n",
    "\n",
    "for i, contract in enumerate(vwap_contracts):\n",
    "    settlement_window = trade_local[trade_local[\"symbol\"] == contract]\n",
    "    settlement_window = settlement_window.reset_index().set_index(\"local_time\")\n",
    "    settle_secs = make_ohlcv(settlement_window, \"5s\", index_name=\"local_time\")\n",
    "    price_fig.add_trace(\n",
    "        go.Scatter(\n",
    "            x=as_ct(settlement_window.index),\n",
    "            y=settlement_window[\"price\"],\n",
    "            mode=\"lines\",\n",
    "            name=contract,\n",
    "        ),\n",
    "        row=1,\n",
    "        col=1 + i,\n",
    "    )\n",
    "    vol_fig.add_trace(\n",
    "        go.Bar(x=as_ct(settle_secs.index), y=settle_secs[\"volume\"]),\n",
    "        row=1,\n",
    "        col=1 + i,\n",
    "    )\n",
    "\n",
    "price_fig.update_yaxes(title_text=\"Trade price\", row=1, col=1)\n",
    "vol_fig.update_yaxes(title_text=\"Volume/5Second\", row=1, col=1)\n",
    "\n",
    "price_fig.update_layout(\n",
    "    height=300,\n",
    "    width=900,\n",
    "    title_text=\"Crude price activity during settlement window\",\n",
    "    showlegend=False,\n",
    ")\n",
    "vol_fig.update_layout(\n",
    "    height=300,\n",
    "    width=900,\n",
    "    showlegend=False,\n",
    ")\n",
    "price_fig.show()\n",
    "vol_fig.show()"
   ]
  },
  {
   "cell_type": "code",
   "execution_count": 24,
   "id": "1e54aa5b4b0840f6",
   "metadata": {
    "ExecuteTime": {
     "end_time": "2025-10-22T00:07:51.025474Z",
     "start_time": "2025-10-22T00:07:51.007101Z"
    }
   },
   "outputs": [
    {
     "name": "stdout",
     "output_type": "stream",
     "text": [
      "Calculated vwaps during settlement window\n",
      "CLX5: 61.51\n",
      "CLX5-CLZ5: 0.48\n",
      "CLX5-CLF6: 0.76\n",
      "CLZ5-CLF6: 0.27\n"
     ]
    }
   ],
   "source": [
    "def calc_vwap(price, volume):\n",
    "    return (price * volume).sum() / volume.sum()\n",
    "\n",
    "\n",
    "settle_vwap = {\n",
    "    contract: round(calc_vwap(df[\"price\"], df[\"size\"]), 2)\n",
    "    for contract, df in trade_local.groupby(\"symbol\")\n",
    "}\n",
    "settle_size = {\n",
    "    contract: df[\"size\"].sum() for contract, df in trade_local.groupby(\"symbol\")\n",
    "}\n",
    "print(\"Calculated vwaps during settlement window\")\n",
    "print(\"\\n\".join(f\"{contract}: {settle_vwap[contract]}\" for contract in vwap_contracts))"
   ]
  },
  {
   "cell_type": "code",
   "execution_count": 25,
   "id": "e08fcdbab9ad2bfa",
   "metadata": {
    "ExecuteTime": {
     "end_time": "2025-10-22T00:07:51.032729Z",
     "start_time": "2025-10-22T00:07:51.029526Z"
    }
   },
   "outputs": [
    {
     "name": "stdout",
     "output_type": "stream",
     "text": [
      "CLZ5: 61.03\n",
      "CLF6: 60.76\n"
     ]
    }
   ],
   "source": [
    "est_clz5_settle = settle_vwap[\"CLX5\"] - settle_vwap[\"CLX5-CLZ5\"]\n",
    "est_clf6_df = pd.DataFrame(\n",
    "    [\n",
    "        {\n",
    "            \"spread\": \"CLZ5-CLF6\",\n",
    "            \"leg_settle\": est_clz5_settle,\n",
    "            \"spread_vwap\": settle_vwap[\"CLZ5-CLF6\"],\n",
    "            \"spread_volume\": settle_size[\"CLZ5-CLF6\"],\n",
    "            \"month_count\": 1,\n",
    "        },\n",
    "        {\n",
    "            \"spread\": \"CLX5-CLF6\",\n",
    "            \"leg_settle\": settle_vwap[\"CLX5\"],\n",
    "            \"spread_vwap\": settle_vwap[\"CLX5-CLF6\"],\n",
    "            \"spread_volume\": settle_size[\"CLX5-CLF6\"],\n",
    "            \"month_count\": 2,\n",
    "        },\n",
    "    ],\n",
    ")\n",
    "est_clf6_df[\"unweighted_settle\"] = (\n",
    "    est_clf6_df[\"leg_settle\"] - est_clf6_df[\"spread_vwap\"]\n",
    ")\n",
    "est_clf6_df[\"weighted_volume\"] = (\n",
    "    est_clf6_df[\"spread_volume\"] / est_clf6_df[\"month_count\"]\n",
    ")\n",
    "est_clf6_settle = calc_vwap(\n",
    "    est_clf6_df[\"unweighted_settle\"],\n",
    "    est_clf6_df[\"weighted_volume\"],\n",
    ")\n",
    "\n",
    "back_month_est = {\n",
    "    \"CLZ5\": round(est_clz5_settle, 2),\n",
    "    \"CLF6\": round(est_clf6_settle, 2),\n",
    "}\n",
    "print(\"\\n\".join(f\"{k}: {v}\" for k, v in back_month_est.items()))"
   ]
  },
  {
   "cell_type": "code",
   "execution_count": 26,
   "id": "368e8b148b29c8fc",
   "metadata": {
    "ExecuteTime": {
     "end_time": "2025-10-22T00:07:51.043247Z",
     "start_time": "2025-10-22T00:07:51.038472Z"
    }
   },
   "outputs": [
    {
     "data": {
      "text/html": [
       "<div>\n",
       "<style scoped>\n",
       "    .dataframe tbody tr th:only-of-type {\n",
       "        vertical-align: middle;\n",
       "    }\n",
       "\n",
       "    .dataframe tbody tr th {\n",
       "        vertical-align: top;\n",
       "    }\n",
       "\n",
       "    .dataframe thead th {\n",
       "        text-align: right;\n",
       "    }\n",
       "</style>\n",
       "<table border=\"1\" class=\"dataframe\">\n",
       "  <thead>\n",
       "    <tr style=\"text-align: right;\">\n",
       "      <th></th>\n",
       "      <th></th>\n",
       "      <th>Settlement price</th>\n",
       "      <th>Cleared volume</th>\n",
       "      <th>Open interest</th>\n",
       "      <th>expiration</th>\n",
       "    </tr>\n",
       "    <tr>\n",
       "      <th>Trade date</th>\n",
       "      <th>Symbol</th>\n",
       "      <th></th>\n",
       "      <th></th>\n",
       "      <th></th>\n",
       "      <th></th>\n",
       "    </tr>\n",
       "  </thead>\n",
       "  <tbody>\n",
       "    <tr>\n",
       "      <th rowspan=\"3\" valign=\"top\">2025-10-09</th>\n",
       "      <th>CLX5</th>\n",
       "      <td>61.51</td>\n",
       "      <td>259171.0</td>\n",
       "      <td>198468.0</td>\n",
       "      <td>2025-10-21 18:30:00+00:00</td>\n",
       "    </tr>\n",
       "    <tr>\n",
       "      <th>CLZ5</th>\n",
       "      <td>61.03</td>\n",
       "      <td>195801.0</td>\n",
       "      <td>349937.0</td>\n",
       "      <td>2025-11-20 19:30:00+00:00</td>\n",
       "    </tr>\n",
       "    <tr>\n",
       "      <th>CLF6</th>\n",
       "      <td>60.76</td>\n",
       "      <td>104419.0</td>\n",
       "      <td>218947.0</td>\n",
       "      <td>2025-12-19 19:30:00+00:00</td>\n",
       "    </tr>\n",
       "  </tbody>\n",
       "</table>\n",
       "</div>"
      ],
      "text/plain": [
       "                   Settlement price  Cleared volume  Open interest  \\\n",
       "Trade date Symbol                                                    \n",
       "2025-10-09 CLX5               61.51        259171.0       198468.0   \n",
       "           CLZ5               61.03        195801.0       349937.0   \n",
       "           CLF6               60.76        104419.0       218947.0   \n",
       "\n",
       "                                 expiration  \n",
       "Trade date Symbol                            \n",
       "2025-10-09 CLX5   2025-10-21 18:30:00+00:00  \n",
       "           CLZ5   2025-11-20 19:30:00+00:00  \n",
       "           CLF6   2025-12-19 19:30:00+00:00  "
      ]
     },
     "execution_count": 26,
     "metadata": {},
     "output_type": "execute_result"
    }
   ],
   "source": [
    "stats[\n",
    "    (stats.index.get_level_values(0) == oct_9.date())\n",
    "    & (stats.index.get_level_values(1).isin((\"CLX5\", \"CLZ5\", \"CLF6\")))\n",
    "]"
   ]
  }
 ],
 "metadata": {
  "kernelspec": {
   "display_name": "Python (finm37000-2025-09-17)",
   "language": "python",
   "name": "finm37000-2025-09-17"
  },
  "language_info": {
   "codemirror_mode": {
    "name": "ipython",
    "version": 3
   },
   "file_extension": ".py",
   "mimetype": "text/x-python",
   "name": "python",
   "nbconvert_exporter": "python",
   "pygments_lexer": "ipython3",
   "version": "3.12.10"
  }
 },
 "nbformat": 4,
 "nbformat_minor": 5
}
